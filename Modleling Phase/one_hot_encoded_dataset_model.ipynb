{
 "cells": [
  {
   "cell_type": "code",
   "execution_count": 1,
   "id": "90e7e0d1",
   "metadata": {},
   "outputs": [],
   "source": [
    "import numpy as np\n",
    "import pandas as pd\n",
    "import seaborn as sns\n",
    "import matplotlib.pyplot as plt\n",
    "\n",
    "from sklearn.datasets import load_diabetes\n",
    "from sklearn.model_selection import cross_val_score\n",
    "\n",
    "from sklearn.tree import DecisionTreeRegressor\n",
    "from sklearn.ensemble import RandomForestRegressor\n",
    "\n",
    "from sklearn import metrics\n",
    "from sklearn.metrics import mean_squared_error\n",
    "\n",
    "from sklearn.svm import SVR\n",
    "from sklearn.ensemble import BaggingRegressor\n",
    "from sklearn.datasets import make_regression\n"
   ]
  },
  {
   "cell_type": "code",
   "execution_count": 2,
   "id": "adb53423",
   "metadata": {},
   "outputs": [],
   "source": [
    "data = pd.read_csv('one_hot_encoded_dataset.csv')"
   ]
  },
  {
   "cell_type": "code",
   "execution_count": 3,
   "id": "8dc1363d",
   "metadata": {},
   "outputs": [
    {
     "name": "stdout",
     "output_type": "stream",
     "text": [
      "<class 'pandas.core.frame.DataFrame'>\n",
      "RangeIndex: 240197 entries, 0 to 240196\n",
      "Data columns (total 34 columns):\n",
      " #   Column                       Non-Null Count   Dtype  \n",
      "---  ------                       --------------   -----  \n",
      " 0   type                         240197 non-null  int64  \n",
      " 1   flight_month                 240197 non-null  int64  \n",
      " 2   num_of_stops                 240197 non-null  int64  \n",
      " 3   formatted_price              240197 non-null  int64  \n",
      " 4   distance_bet_2_countries     240197 non-null  float64\n",
      " 5   one_stop_in                  240197 non-null  int64  \n",
      " 6   airline_Air India            240197 non-null  int64  \n",
      " 7   airline_Indigo               240197 non-null  int64  \n",
      " 8   airline_Other_airline        240197 non-null  int64  \n",
      " 9   airline_Vistara              240197 non-null  int64  \n",
      " 10  source_Bangalore             240197 non-null  int64  \n",
      " 11  source_Chennai               240197 non-null  int64  \n",
      " 12  source_Delhi                 240197 non-null  int64  \n",
      " 13  source_Hyderabad             240197 non-null  int64  \n",
      " 14  source_Kolkata               240197 non-null  int64  \n",
      " 15  source_Mumbai                240197 non-null  int64  \n",
      " 16  destination_Bangalore        240197 non-null  int64  \n",
      " 17  destination_Chennai          240197 non-null  int64  \n",
      " 18  destination_Delhi            240197 non-null  int64  \n",
      " 19  destination_Hyderabad        240197 non-null  int64  \n",
      " 20  destination_Kolkata          240197 non-null  int64  \n",
      " 21  destination_Mumbai           240197 non-null  int64  \n",
      " 22  week_day_of_flight_Saturday  240197 non-null  int64  \n",
      " 23  week_day_of_flight_Sunday    240197 non-null  int64  \n",
      " 24  week_day_of_flight_Thursday  240197 non-null  int64  \n",
      " 25  week_day_of_flight_Tuesday   240197 non-null  int64  \n",
      " 26  dep_time_Afternoon           240197 non-null  int64  \n",
      " 27  dep_time_Early morning       240197 non-null  int64  \n",
      " 28  dep_time_Evening             240197 non-null  int64  \n",
      " 29  dep_time_Morning             240197 non-null  int64  \n",
      " 30  arr_time_Afternoon           240197 non-null  int64  \n",
      " 31  arr_time_Early morning       240197 non-null  int64  \n",
      " 32  arr_time_Evening             240197 non-null  int64  \n",
      " 33  arr_time_Morning             240197 non-null  int64  \n",
      "dtypes: float64(1), int64(33)\n",
      "memory usage: 62.3 MB\n"
     ]
    }
   ],
   "source": [
    "data.info()"
   ]
  },
  {
   "cell_type": "code",
   "execution_count": 4,
   "id": "83938f5f",
   "metadata": {},
   "outputs": [],
   "source": [
    "y_train = data['formatted_price'][:192167]\n",
    "y_test = data['formatted_price'][192167:]\n",
    "data.drop(columns=['formatted_price'],axis=1,inplace=True)\n",
    "x_train = data[:192167]\n",
    "x_test = data[192167:]"
   ]
  },
  {
   "cell_type": "code",
   "execution_count": 5,
   "id": "41102a22",
   "metadata": {},
   "outputs": [],
   "source": [
    "models = {\n",
    "    \"BR\": BaggingRegressor(),\n",
    "    \"DT\": DecisionTreeRegressor(),\n",
    "    \"RF\": RandomForestRegressor()\n",
    "}"
   ]
  },
  {
   "cell_type": "code",
   "execution_count": 6,
   "id": "15b82511",
   "metadata": {},
   "outputs": [
    {
     "name": "stdout",
     "output_type": "stream",
     "text": [
      "Using model: BR\n",
      "Training Score: 0.9615218927466288\n",
      "Test Score: 0.9688049185259483\n",
      "RMSE: 4007.2468308929183\n",
      "------------------------------\n",
      "Using model: DT\n",
      "Training Score: 0.9619845843983685\n",
      "Test Score: 0.9689515700725175\n",
      "RMSE: 3997.8164780944803\n",
      "------------------------------\n",
      "Using model: RF\n",
      "Training Score: 0.9618421719915268\n",
      "Test Score: 0.9691204486550703\n",
      "RMSE: 3986.9291941038778\n",
      "------------------------------\n"
     ]
    }
   ],
   "source": [
    "for name, model in models.items():\n",
    "    print(f'Using model: {name}')\n",
    "    model.fit(x_train, y_train)\n",
    "    print(f'Training Score: {model.score(x_train, y_train)}')\n",
    "    print(f'Test Score: {model.score(x_test, y_test)}')  \n",
    "    print(f'RMSE: {np.sqrt(mean_squared_error(y_test, model.predict(x_test)))}')\n",
    "    print('-'*30)"
   ]
  },
  {
   "cell_type": "code",
   "execution_count": null,
   "id": "d9cb005b",
   "metadata": {},
   "outputs": [],
   "source": []
  }
 ],
 "metadata": {
  "kernelspec": {
   "display_name": "Python 3 (ipykernel)",
   "language": "python",
   "name": "python3"
  },
  "language_info": {
   "codemirror_mode": {
    "name": "ipython",
    "version": 3
   },
   "file_extension": ".py",
   "mimetype": "text/x-python",
   "name": "python",
   "nbconvert_exporter": "python",
   "pygments_lexer": "ipython3",
   "version": "3.9.7"
  }
 },
 "nbformat": 4,
 "nbformat_minor": 5
}
