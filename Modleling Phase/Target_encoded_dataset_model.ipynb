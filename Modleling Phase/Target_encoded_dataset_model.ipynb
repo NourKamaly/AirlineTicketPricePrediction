{
 "cells": [
  {
   "cell_type": "code",
   "execution_count": 1,
   "id": "a6f98a80",
   "metadata": {},
   "outputs": [],
   "source": [
    "import numpy as np\n",
    "import pandas as pd\n",
    "import seaborn as sns\n",
    "import matplotlib.pyplot as plt\n",
    "\n",
    "from sklearn.datasets import load_diabetes\n",
    "from sklearn.model_selection import cross_val_score\n",
    "\n",
    "from sklearn.tree import DecisionTreeRegressor\n",
    "from sklearn.ensemble import RandomForestRegressor\n",
    "\n",
    "from sklearn import metrics\n",
    "from sklearn.metrics import mean_squared_error\n",
    "\n",
    "from sklearn.svm import SVR\n",
    "from sklearn.ensemble import BaggingRegressor\n",
    "from sklearn.datasets import make_regression\n"
   ]
  },
  {
   "cell_type": "code",
   "execution_count": 2,
   "id": "f688e945",
   "metadata": {},
   "outputs": [],
   "source": [
    "data = pd.read_csv('target_encoded_dataset.csv')"
   ]
  },
  {
   "cell_type": "code",
   "execution_count": 4,
   "id": "01738d72",
   "metadata": {},
   "outputs": [
    {
     "name": "stdout",
     "output_type": "stream",
     "text": [
      "<class 'pandas.core.frame.DataFrame'>\n",
      "RangeIndex: 240197 entries, 0 to 240196\n",
      "Data columns (total 11 columns):\n",
      " #   Column                    Non-Null Count   Dtype  \n",
      "---  ------                    --------------   -----  \n",
      " 0   airline                   240197 non-null  int64  \n",
      " 1   dep_time                  240197 non-null  int64  \n",
      " 2   arr_time                  240197 non-null  int64  \n",
      " 3   type                      240197 non-null  int64  \n",
      " 4   source                    240197 non-null  int64  \n",
      " 5   destination               240197 non-null  int64  \n",
      " 6   flight_month              240197 non-null  int64  \n",
      " 7   num_of_stops              240197 non-null  int64  \n",
      " 8   formatted_price           240197 non-null  int64  \n",
      " 9   week_day_of_flight        240197 non-null  int64  \n",
      " 10  distance_bet_2_countries  240197 non-null  float64\n",
      "dtypes: float64(1), int64(10)\n",
      "memory usage: 20.2 MB\n"
     ]
    }
   ],
   "source": [
    "data.info()"
   ]
  },
  {
   "cell_type": "code",
   "execution_count": 5,
   "id": "8875260f",
   "metadata": {},
   "outputs": [],
   "source": [
    "y_train = data['formatted_price'][:192167]\n",
    "y_test = data['formatted_price'][192167:]\n",
    "data.drop(columns=['formatted_price'],axis=1,inplace=True)\n",
    "x_train = data[:192167]\n",
    "x_test = data[192167:]"
   ]
  },
  {
   "cell_type": "code",
   "execution_count": 6,
   "id": "c81ae615",
   "metadata": {},
   "outputs": [],
   "source": [
    "y_train = np.log(y_train)\n",
    "y_test = np.log(y_test)"
   ]
  },
  {
   "cell_type": "code",
   "execution_count": 7,
   "id": "37071b11",
   "metadata": {},
   "outputs": [],
   "source": [
    "models = {\n",
    "    \"BR\": BaggingRegressor(),\n",
    "    \"DT\": DecisionTreeRegressor(),\n",
    "    \"RF\": RandomForestRegressor()\n",
    "}"
   ]
  },
  {
   "cell_type": "code",
   "execution_count": 8,
   "id": "5f1e07ba",
   "metadata": {},
   "outputs": [
    {
     "name": "stdout",
     "output_type": "stream",
     "text": [
      "Using model: BR\n",
      "Training Score: 0.9382232478461574\n",
      "Test Score: 0.9542010578222355\n",
      "RMSE: 0.25394210395572236\n",
      "------------------------------\n",
      "Using model: DT\n",
      "Training Score: 0.9391284604189614\n",
      "Test Score: 0.9541167270420332\n",
      "RMSE: 0.25417579152293746\n",
      "------------------------------\n",
      "Using model: RF\n",
      "Training Score: 0.9388258417777183\n",
      "Test Score: 0.9545821456530896\n",
      "RMSE: 0.25288338518656983\n",
      "------------------------------\n"
     ]
    }
   ],
   "source": [
    "for name, model in models.items():\n",
    "    print(f'Using model: {name}')\n",
    "    model.fit(x_train, y_train)\n",
    "    print(f'Training Score: {model.score(x_train, y_train)}')\n",
    "    print(f'Test Score: {model.score(x_test, y_test)}')  \n",
    "    print(f'RMSE: {np.sqrt(mean_squared_error(y_test, model.predict(x_test)))}')\n",
    "    print('-'*30)"
   ]
  }
 ],
 "metadata": {
  "kernelspec": {
   "display_name": "Python 3 (ipykernel)",
   "language": "python",
   "name": "python3"
  },
  "language_info": {
   "codemirror_mode": {
    "name": "ipython",
    "version": 3
   },
   "file_extension": ".py",
   "mimetype": "text/x-python",
   "name": "python",
   "nbconvert_exporter": "python",
   "pygments_lexer": "ipython3",
   "version": "3.9.7"
  }
 },
 "nbformat": 4,
 "nbformat_minor": 5
}
