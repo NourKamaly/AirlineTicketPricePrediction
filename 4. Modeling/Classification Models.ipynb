{
  "cells": [
    {
      "cell_type": "code",
      "execution_count": null,
      "metadata": {
        "colab": {
          "base_uri": "https://localhost:8080/"
        },
        "id": "PqYHB6iHqHad",
        "outputId": "ca2e2c58-c88b-40e9-be9a-1aa8b908e065"
      },
      "outputs": [
        {
          "name": "stdout",
          "output_type": "stream",
          "text": [
            "Mounted at /content/drive/\n"
          ]
        }
      ],
      "source": [
        "from google.colab import drive\n",
        "drive.mount('/content/drive/')"
      ]
    },
    {
      "cell_type": "markdown",
      "metadata": {
        "id": "UTFz6fZJZ1IO"
      },
      "source": [
        "# Import Libraries"
      ]
    },
    {
      "cell_type": "code",
      "execution_count": null,
      "metadata": {
        "id": "TWo4NAjBriOT"
      },
      "outputs": [],
      "source": [
        "import numpy as np\n",
        "import pandas as pd\n",
        "\n",
        "\n",
        "from scipy import stats \n",
        "from scipy.interpolate import make_interp_spline\n",
        "import seaborn as sns\n",
        "import matplotlib.pyplot as plt\n",
        "\n",
        "\n",
        "#Models\n",
        "from sklearn.ensemble import BaggingClassifier,GradientBoostingClassifier, RandomForestClassifier,AdaBoostClassifier,HistGradientBoostingClassifier,ExtraTreesClassifier\n",
        "from sklearn import tree\n",
        "from sklearn.linear_model import SGDClassifier,RidgeClassifier\n",
        "from xgboost import XGBClassifier\n",
        "from sklearn.neighbors import KNeighborsClassifier\n",
        "from sklearn.naive_bayes import MultinomialNB,GaussianNB,GaussianNB\n",
        "from sklearn.tree import DecisionTreeClassifier\n",
        "\n",
        "#Evaluation Models\n",
        "from sklearn.metrics import accuracy_score,precision_score,recall_score,make_scorer,classification_report,accuracy_score,confusion_matrix,f1_score,plot_confusion_matrix\n",
        "\n",
        "import time\n",
        "\n",
        "import warnings\n",
        "warnings.filterwarnings(\"ignore\")\n",
        "\n",
        "import joblib"
      ]
    },
    {
      "cell_type": "code",
      "execution_count": null,
      "metadata": {
        "colab": {
          "base_uri": "https://localhost:8080/"
        },
        "id": "RxuQU4ddCw2F",
        "outputId": "d7a052c0-a530-4f94-e570-55833811fbdd"
      },
      "outputs": [
        {
          "name": "stdout",
          "output_type": "stream",
          "text": [
            "Looking in indexes: https://pypi.org/simple, https://us-python.pkg.dev/colab-wheels/public/simple/\n",
            "Requirement already satisfied: imbalanced-learn in /usr/local/lib/python3.7/dist-packages (0.8.1)\n",
            "Requirement already satisfied: numpy>=1.13.3 in /usr/local/lib/python3.7/dist-packages (from imbalanced-learn) (1.21.6)\n",
            "Requirement already satisfied: scikit-learn>=0.24 in /usr/local/lib/python3.7/dist-packages (from imbalanced-learn) (1.0.2)\n",
            "Requirement already satisfied: scipy>=0.19.1 in /usr/local/lib/python3.7/dist-packages (from imbalanced-learn) (1.4.1)\n",
            "Requirement already satisfied: joblib>=0.11 in /usr/local/lib/python3.7/dist-packages (from imbalanced-learn) (1.1.0)\n",
            "Requirement already satisfied: threadpoolctl>=2.0.0 in /usr/local/lib/python3.7/dist-packages (from scikit-learn>=0.24->imbalanced-learn) (3.1.0)\n"
          ]
        }
      ],
      "source": [
        "pip install imbalanced-learn"
      ]
    },
    {
      "cell_type": "markdown",
      "metadata": {
        "id": "YD56x52_Z6gy"
      },
      "source": [
        "# **Load Data**"
      ]
    },
    {
      "cell_type": "code",
      "execution_count": null,
      "metadata": {
        "colab": {
          "base_uri": "https://localhost:8080/",
          "height": 317
        },
        "id": "fKP2B3VHqIUx",
        "outputId": "58de7cf8-64d4-4323-bd8e-f918d62e4c23"
      },
      "outputs": [
        {
          "data": {
            "text/html": [
              "\n",
              "  <div id=\"df-3cf9f09b-2d24-4aec-a95b-5f8d277ff28f\">\n",
              "    <div class=\"colab-df-container\">\n",
              "      <div>\n",
              "<style scoped>\n",
              "    .dataframe tbody tr th:only-of-type {\n",
              "        vertical-align: middle;\n",
              "    }\n",
              "\n",
              "    .dataframe tbody tr th {\n",
              "        vertical-align: top;\n",
              "    }\n",
              "\n",
              "    .dataframe thead th {\n",
              "        text-align: right;\n",
              "    }\n",
              "</style>\n",
              "<table border=\"1\" class=\"dataframe\">\n",
              "  <thead>\n",
              "    <tr style=\"text-align: right;\">\n",
              "      <th></th>\n",
              "      <th>num_code</th>\n",
              "      <th>dep_time</th>\n",
              "      <th>arr_time</th>\n",
              "      <th>type</th>\n",
              "      <th>TicketCategory</th>\n",
              "      <th>flight_month</th>\n",
              "      <th>num_of_hours_taken</th>\n",
              "      <th>num_of_minutes_taken</th>\n",
              "      <th>num_of_stops</th>\n",
              "      <th>distance_between_2_cities</th>\n",
              "      <th>...</th>\n",
              "      <th>week_day_of_flight_Sunday</th>\n",
              "      <th>week_day_of_flight_Tuesday</th>\n",
              "      <th>week_day_of_flight_Wednesday</th>\n",
              "      <th>departure_time_of_the_day_Afternoon</th>\n",
              "      <th>departure_time_of_the_day_Early morning</th>\n",
              "      <th>departure_time_of_the_day_Evening</th>\n",
              "      <th>departure_time_of_the_day_Morning</th>\n",
              "      <th>arrival_time_of_the_day_Afternoon</th>\n",
              "      <th>arrival_time_of_the_day_Early morning</th>\n",
              "      <th>arrival_time_of_the_day_Evening</th>\n",
              "    </tr>\n",
              "  </thead>\n",
              "  <tbody>\n",
              "    <tr>\n",
              "      <th>0</th>\n",
              "      <td>764</td>\n",
              "      <td>4</td>\n",
              "      <td>6</td>\n",
              "      <td>0</td>\n",
              "      <td>1</td>\n",
              "      <td>2</td>\n",
              "      <td>2</td>\n",
              "      <td>6.0</td>\n",
              "      <td>0</td>\n",
              "      <td>0.653497</td>\n",
              "      <td>...</td>\n",
              "      <td>0</td>\n",
              "      <td>0</td>\n",
              "      <td>0</td>\n",
              "      <td>0</td>\n",
              "      <td>1</td>\n",
              "      <td>0</td>\n",
              "      <td>0</td>\n",
              "      <td>0</td>\n",
              "      <td>0</td>\n",
              "      <td>0</td>\n",
              "    </tr>\n",
              "    <tr>\n",
              "      <th>1</th>\n",
              "      <td>764</td>\n",
              "      <td>4</td>\n",
              "      <td>14</td>\n",
              "      <td>0</td>\n",
              "      <td>1</td>\n",
              "      <td>2</td>\n",
              "      <td>10</td>\n",
              "      <td>12.0</td>\n",
              "      <td>1</td>\n",
              "      <td>0.985014</td>\n",
              "      <td>...</td>\n",
              "      <td>0</td>\n",
              "      <td>0</td>\n",
              "      <td>0</td>\n",
              "      <td>0</td>\n",
              "      <td>1</td>\n",
              "      <td>0</td>\n",
              "      <td>0</td>\n",
              "      <td>1</td>\n",
              "      <td>0</td>\n",
              "      <td>0</td>\n",
              "    </tr>\n",
              "    <tr>\n",
              "      <th>2</th>\n",
              "      <td>548</td>\n",
              "      <td>4</td>\n",
              "      <td>16</td>\n",
              "      <td>0</td>\n",
              "      <td>1</td>\n",
              "      <td>2</td>\n",
              "      <td>11</td>\n",
              "      <td>18.0</td>\n",
              "      <td>1</td>\n",
              "      <td>0.985014</td>\n",
              "      <td>...</td>\n",
              "      <td>0</td>\n",
              "      <td>0</td>\n",
              "      <td>0</td>\n",
              "      <td>0</td>\n",
              "      <td>1</td>\n",
              "      <td>0</td>\n",
              "      <td>0</td>\n",
              "      <td>1</td>\n",
              "      <td>0</td>\n",
              "      <td>0</td>\n",
              "    </tr>\n",
              "    <tr>\n",
              "      <th>3</th>\n",
              "      <td>548</td>\n",
              "      <td>4</td>\n",
              "      <td>12</td>\n",
              "      <td>0</td>\n",
              "      <td>1</td>\n",
              "      <td>2</td>\n",
              "      <td>7</td>\n",
              "      <td>21.0</td>\n",
              "      <td>1</td>\n",
              "      <td>0.985014</td>\n",
              "      <td>...</td>\n",
              "      <td>0</td>\n",
              "      <td>0</td>\n",
              "      <td>0</td>\n",
              "      <td>0</td>\n",
              "      <td>1</td>\n",
              "      <td>0</td>\n",
              "      <td>0</td>\n",
              "      <td>1</td>\n",
              "      <td>0</td>\n",
              "      <td>0</td>\n",
              "    </tr>\n",
              "    <tr>\n",
              "      <th>4</th>\n",
              "      <td>548</td>\n",
              "      <td>4</td>\n",
              "      <td>19</td>\n",
              "      <td>0</td>\n",
              "      <td>1</td>\n",
              "      <td>2</td>\n",
              "      <td>14</td>\n",
              "      <td>12.0</td>\n",
              "      <td>1</td>\n",
              "      <td>0.985014</td>\n",
              "      <td>...</td>\n",
              "      <td>0</td>\n",
              "      <td>0</td>\n",
              "      <td>0</td>\n",
              "      <td>0</td>\n",
              "      <td>1</td>\n",
              "      <td>0</td>\n",
              "      <td>0</td>\n",
              "      <td>0</td>\n",
              "      <td>0</td>\n",
              "      <td>1</td>\n",
              "    </tr>\n",
              "  </tbody>\n",
              "</table>\n",
              "<p>5 rows × 33 columns</p>\n",
              "</div>\n",
              "      <button class=\"colab-df-convert\" onclick=\"convertToInteractive('df-3cf9f09b-2d24-4aec-a95b-5f8d277ff28f')\"\n",
              "              title=\"Convert this dataframe to an interactive table.\"\n",
              "              style=\"display:none;\">\n",
              "        \n",
              "  <svg xmlns=\"http://www.w3.org/2000/svg\" height=\"24px\"viewBox=\"0 0 24 24\"\n",
              "       width=\"24px\">\n",
              "    <path d=\"M0 0h24v24H0V0z\" fill=\"none\"/>\n",
              "    <path d=\"M18.56 5.44l.94 2.06.94-2.06 2.06-.94-2.06-.94-.94-2.06-.94 2.06-2.06.94zm-11 1L8.5 8.5l.94-2.06 2.06-.94-2.06-.94L8.5 2.5l-.94 2.06-2.06.94zm10 10l.94 2.06.94-2.06 2.06-.94-2.06-.94-.94-2.06-.94 2.06-2.06.94z\"/><path d=\"M17.41 7.96l-1.37-1.37c-.4-.4-.92-.59-1.43-.59-.52 0-1.04.2-1.43.59L10.3 9.45l-7.72 7.72c-.78.78-.78 2.05 0 2.83L4 21.41c.39.39.9.59 1.41.59.51 0 1.02-.2 1.41-.59l7.78-7.78 2.81-2.81c.8-.78.8-2.07 0-2.86zM5.41 20L4 18.59l7.72-7.72 1.47 1.35L5.41 20z\"/>\n",
              "  </svg>\n",
              "      </button>\n",
              "      \n",
              "  <style>\n",
              "    .colab-df-container {\n",
              "      display:flex;\n",
              "      flex-wrap:wrap;\n",
              "      gap: 12px;\n",
              "    }\n",
              "\n",
              "    .colab-df-convert {\n",
              "      background-color: #E8F0FE;\n",
              "      border: none;\n",
              "      border-radius: 50%;\n",
              "      cursor: pointer;\n",
              "      display: none;\n",
              "      fill: #1967D2;\n",
              "      height: 32px;\n",
              "      padding: 0 0 0 0;\n",
              "      width: 32px;\n",
              "    }\n",
              "\n",
              "    .colab-df-convert:hover {\n",
              "      background-color: #E2EBFA;\n",
              "      box-shadow: 0px 1px 2px rgba(60, 64, 67, 0.3), 0px 1px 3px 1px rgba(60, 64, 67, 0.15);\n",
              "      fill: #174EA6;\n",
              "    }\n",
              "\n",
              "    [theme=dark] .colab-df-convert {\n",
              "      background-color: #3B4455;\n",
              "      fill: #D2E3FC;\n",
              "    }\n",
              "\n",
              "    [theme=dark] .colab-df-convert:hover {\n",
              "      background-color: #434B5C;\n",
              "      box-shadow: 0px 1px 3px 1px rgba(0, 0, 0, 0.15);\n",
              "      filter: drop-shadow(0px 1px 2px rgba(0, 0, 0, 0.3));\n",
              "      fill: #FFFFFF;\n",
              "    }\n",
              "  </style>\n",
              "\n",
              "      <script>\n",
              "        const buttonEl =\n",
              "          document.querySelector('#df-3cf9f09b-2d24-4aec-a95b-5f8d277ff28f button.colab-df-convert');\n",
              "        buttonEl.style.display =\n",
              "          google.colab.kernel.accessAllowed ? 'block' : 'none';\n",
              "\n",
              "        async function convertToInteractive(key) {\n",
              "          const element = document.querySelector('#df-3cf9f09b-2d24-4aec-a95b-5f8d277ff28f');\n",
              "          const dataTable =\n",
              "            await google.colab.kernel.invokeFunction('convertToInteractive',\n",
              "                                                     [key], {});\n",
              "          if (!dataTable) return;\n",
              "\n",
              "          const docLinkHtml = 'Like what you see? Visit the ' +\n",
              "            '<a target=\"_blank\" href=https://colab.research.google.com/notebooks/data_table.ipynb>data table notebook</a>'\n",
              "            + ' to learn more about interactive tables.';\n",
              "          element.innerHTML = '';\n",
              "          dataTable['output_type'] = 'display_data';\n",
              "          await google.colab.output.renderOutput(dataTable, element);\n",
              "          const docLink = document.createElement('div');\n",
              "          docLink.innerHTML = docLinkHtml;\n",
              "          element.appendChild(docLink);\n",
              "        }\n",
              "      </script>\n",
              "    </div>\n",
              "  </div>\n",
              "  "
            ],
            "text/plain": [
              "   num_code  dep_time  arr_time  type  TicketCategory  flight_month  \\\n",
              "0       764         4         6     0               1             2   \n",
              "1       764         4        14     0               1             2   \n",
              "2       548         4        16     0               1             2   \n",
              "3       548         4        12     0               1             2   \n",
              "4       548         4        19     0               1             2   \n",
              "\n",
              "   num_of_hours_taken  num_of_minutes_taken  num_of_stops  \\\n",
              "0                   2                   6.0             0   \n",
              "1                  10                  12.0             1   \n",
              "2                  11                  18.0             1   \n",
              "3                   7                  21.0             1   \n",
              "4                  14                  12.0             1   \n",
              "\n",
              "   distance_between_2_cities  ...  week_day_of_flight_Sunday  \\\n",
              "0                   0.653497  ...                          0   \n",
              "1                   0.985014  ...                          0   \n",
              "2                   0.985014  ...                          0   \n",
              "3                   0.985014  ...                          0   \n",
              "4                   0.985014  ...                          0   \n",
              "\n",
              "   week_day_of_flight_Tuesday  week_day_of_flight_Wednesday  \\\n",
              "0                           0                             0   \n",
              "1                           0                             0   \n",
              "2                           0                             0   \n",
              "3                           0                             0   \n",
              "4                           0                             0   \n",
              "\n",
              "   departure_time_of_the_day_Afternoon  \\\n",
              "0                                    0   \n",
              "1                                    0   \n",
              "2                                    0   \n",
              "3                                    0   \n",
              "4                                    0   \n",
              "\n",
              "   departure_time_of_the_day_Early morning  departure_time_of_the_day_Evening  \\\n",
              "0                                        1                                  0   \n",
              "1                                        1                                  0   \n",
              "2                                        1                                  0   \n",
              "3                                        1                                  0   \n",
              "4                                        1                                  0   \n",
              "\n",
              "   departure_time_of_the_day_Morning  arrival_time_of_the_day_Afternoon  \\\n",
              "0                                  0                                  0   \n",
              "1                                  0                                  1   \n",
              "2                                  0                                  1   \n",
              "3                                  0                                  1   \n",
              "4                                  0                                  0   \n",
              "\n",
              "   arrival_time_of_the_day_Early morning  arrival_time_of_the_day_Evening  \n",
              "0                                      0                                0  \n",
              "1                                      0                                0  \n",
              "2                                      0                                0  \n",
              "3                                      0                                0  \n",
              "4                                      0                                1  \n",
              "\n",
              "[5 rows x 33 columns]"
            ]
          },
          "execution_count": 5,
          "metadata": {},
          "output_type": "execute_result"
        }
      ],
      "source": [
        "dataset = pd.read_csv('/content/drive/MyDrive/one_hot_encoded_dataset(classification).csv')\n",
        "dataset.head()"
      ]
    },
    {
      "cell_type": "markdown",
      "metadata": {
        "id": "iafOSPi2aA5c"
      },
      "source": [
        "# **Spliting the Dataset**"
      ]
    },
    {
      "cell_type": "code",
      "execution_count": null,
      "metadata": {
        "id": "IqarBxtcqQuT"
      },
      "outputs": [],
      "source": [
        "y_train = dataset['TicketCategory'][:192167]\n",
        "y_test = dataset['TicketCategory'][192167:]\n",
        "\n",
        "dataset.drop(columns=['TicketCategory'],axis=1,inplace=True)\n",
        "\n",
        "x_train = dataset[:192167]\n",
        "x_test = dataset[192167:]"
      ]
    },
    {
      "cell_type": "markdown",
      "metadata": {
        "id": "5Mn6WKjGbbe3"
      },
      "source": [
        "**KNN Imputer**"
      ]
    },
    {
      "cell_type": "code",
      "execution_count": null,
      "metadata": {
        "colab": {
          "base_uri": "https://localhost:8080/"
        },
        "id": "rBEnrYjibbsl",
        "outputId": "5fcf5a4f-7e8e-4517-a5f7-e7ae86b96e88"
      },
      "outputs": [
        {
          "data": {
            "text/plain": [
              "array([[764.,   4.,   6., ...,   0.,   0.,   0.],\n",
              "       [764.,   4.,  14., ...,   1.,   0.,   0.],\n",
              "       [548.,   4.,  16., ...,   1.,   0.,   0.],\n",
              "       ...,\n",
              "       [853.,  16.,  17., ...,   1.,   0.,   0.],\n",
              "       [133.,  16.,  22., ...,   0.,   0.,   1.],\n",
              "       [687.,  16.,   8., ...,   0.,   0.,   0.]])"
            ]
          },
          "execution_count": 7,
          "metadata": {},
          "output_type": "execute_result"
        }
      ],
      "source": [
        "from sklearn.impute import KNNImputer\n",
        "imputer = KNNImputer()\n",
        "imputer.fit_transform(x_train)"
      ]
    },
    {
      "cell_type": "code",
      "execution_count": null,
      "metadata": {
        "colab": {
          "base_uri": "https://localhost:8080/"
        },
        "id": "0mn4hgA8DMsG",
        "outputId": "18657420-d7aa-4a6d-fa45-7cfff0db6f1c"
      },
      "outputs": [
        {
          "data": {
            "text/plain": [
              "1    89872\n",
              "0    46013\n",
              "3    38311\n",
              "2    17971\n",
              "Name: TicketCategory, dtype: int64"
            ]
          },
          "execution_count": 8,
          "metadata": {},
          "output_type": "execute_result"
        }
      ],
      "source": [
        "y_train.value_counts()"
      ]
    },
    {
      "cell_type": "markdown",
      "metadata": {
        "id": "Jcm6pl9CaEE3"
      },
      "source": [
        "**Imbalanced Learn**"
      ]
    },
    {
      "cell_type": "code",
      "execution_count": null,
      "metadata": {
        "id": "8LP6dD1DDemR"
      },
      "outputs": [],
      "source": [
        "from imblearn.over_sampling import SMOTE\n",
        "sm = SMOTE(random_state=27)\n",
        "x_train, y_train = sm.fit_resample(x_train, y_train)"
      ]
    },
    {
      "cell_type": "code",
      "execution_count": null,
      "metadata": {
        "colab": {
          "base_uri": "https://localhost:8080/"
        },
        "id": "0uHnXCluD6CN",
        "outputId": "c50f56a2-fe24-475b-db3a-e8e12243b4d7"
      },
      "outputs": [
        {
          "data": {
            "text/plain": [
              "1    89872\n",
              "2    89872\n",
              "0    89872\n",
              "3    89872\n",
              "Name: TicketCategory, dtype: int64"
            ]
          },
          "execution_count": 10,
          "metadata": {},
          "output_type": "execute_result"
        }
      ],
      "source": [
        "y_train.value_counts()"
      ]
    },
    {
      "cell_type": "markdown",
      "metadata": {
        "id": "E6gamslAa59O"
      },
      "source": [
        "# **Modeling**"
      ]
    },
    {
      "cell_type": "code",
      "execution_count": null,
      "metadata": {
        "id": "CNfO5Jfk8QiU"
      },
      "outputs": [],
      "source": [
        "models = {\n",
        "    \"AdaBoost\" : AdaBoostClassifier(DecisionTreeClassifier(),algorithm=\"SAMME.R\",n_estimators=100),\n",
        "    \"GradientBoosting\"      : GradientBoostingClassifier(),\n",
        "    \"BaggingClassifier\"  : BaggingClassifier(tree.DecisionTreeClassifier(random_state=1)),\n",
        "    \"RandomForest\"      : RandomForestClassifier(n_estimators=100),\n",
        "    \"eXtremeGradientBoosting\"     : XGBClassifier(objective= 'binary:logistic'),\n",
        "    #\"KNN\"                : KNeighborsClassifier(n_neighbors = 30, weights = 'distance'),\n",
        "    \"DecisionTree\"      : DecisionTreeClassifier(),\n",
        "    \"HistGradientBoosting\"         : HistGradientBoostingClassifier(),\n",
        "    \"ExtraTreeClassifier\"       : ExtraTreesClassifier(n_estimators=100)\n",
        "}"
      ]
    },
    {
      "cell_type": "code",
      "execution_count": null,
      "metadata": {
        "colab": {
          "base_uri": "https://localhost:8080/"
        },
        "id": "dOjMkhsirLcT",
        "outputId": "87d27a6d-4771-4328-ec3f-c1b9c85eff00"
      },
      "outputs": [
        {
          "name": "stdout",
          "output_type": "stream",
          "text": [
            "Using model: GB-Classifier\n",
            "Time: 279.78395061699985\n",
            "Training Score: 0.7142658447569877\n",
            "Test Score: 0.6652653927813164\n",
            "confusion_matrix:\n",
            " [[18893   236     0     0]\n",
            " [11242  2488   734     4]\n",
            " [    0     0  2580  1933]\n",
            " [    0     0  1617  7373]]\n",
            "accuracy_score: 0.6652653927813164\n",
            "precision_score: 0.7364807238169289\n",
            "recall_score: 0.6652653927813164\n",
            "f1_score: 0.6652653927813164\n",
            "----------------------------------------\n",
            "              precision    recall  f1-score   support\n",
            "\n",
            "           0       0.63      0.99      0.77     19129\n",
            "           1       0.91      0.17      0.29     14468\n",
            "           2       0.52      0.57      0.55      4513\n",
            "           3       0.79      0.82      0.81      8990\n",
            "\n",
            "    accuracy                           0.67     47100\n",
            "   macro avg       0.71      0.64      0.60     47100\n",
            "weighted avg       0.74      0.67      0.61     47100\n",
            "\n",
            "--------------------------------------------------------------------------------\n",
            "--------------------------------------------------------------------------------\n",
            "Using model: BaggingClassifier\n",
            "Time: 16.214169840000068\n",
            "Training Score: 0.9635036496350365\n",
            "Test Score: 0.9164755838641189\n",
            "confusion_matrix:\n",
            " [[16654  2475     0     0]\n",
            " [ 1058 13337    61    12]\n",
            " [    0    34  4339   140]\n",
            " [    0     4   150  8836]]\n",
            "accuracy_score: 0.9164755838641189\n",
            "precision_score: 0.9193663309149217\n",
            "recall_score: 0.9164755838641189\n",
            "f1_score: 0.9164755838641189\n",
            "----------------------------------------\n",
            "              precision    recall  f1-score   support\n",
            "\n",
            "           0       0.94      0.87      0.90     19129\n",
            "           1       0.84      0.92      0.88     14468\n",
            "           2       0.95      0.96      0.96      4513\n",
            "           3       0.98      0.98      0.98      8990\n",
            "\n",
            "    accuracy                           0.92     47100\n",
            "   macro avg       0.93      0.93      0.93     47100\n",
            "weighted avg       0.92      0.92      0.92     47100\n",
            "\n",
            "--------------------------------------------------------------------------------\n",
            "--------------------------------------------------------------------------------\n",
            "Using model: RF-Classifier\n",
            "Time: 44.35876800400001\n",
            "Training Score: 0.9643632054477479\n",
            "Test Score: 0.9206581740976646\n",
            "confusion_matrix:\n",
            " [[16786  2343     0     0]\n",
            " [ 1007 13387    62    12]\n",
            " [    0    14  4340   159]\n",
            " [    0     1   139  8850]]\n",
            "accuracy_score: 0.9206581740976646\n",
            "precision_score: 0.9231520499248969\n",
            "recall_score: 0.9206581740976646\n",
            "f1_score: 0.9206581740976646\n",
            "----------------------------------------\n",
            "              precision    recall  f1-score   support\n",
            "\n",
            "           0       0.94      0.88      0.91     19129\n",
            "           1       0.85      0.93      0.89     14468\n",
            "           2       0.96      0.96      0.96      4513\n",
            "           3       0.98      0.98      0.98      8990\n",
            "\n",
            "    accuracy                           0.92     47100\n",
            "   macro avg       0.93      0.94      0.93     47100\n",
            "weighted avg       0.92      0.92      0.92     47100\n",
            "\n",
            "--------------------------------------------------------------------------------\n",
            "--------------------------------------------------------------------------------\n",
            "Using model: XGB-Classifier\n",
            "Time: 130.20262461099992\n",
            "Training Score: 0.7017619503293573\n",
            "Test Score: 0.6239702760084925\n",
            "confusion_matrix:\n",
            " [[19129     0     0     0]\n",
            " [13488   307   669     4]\n",
            " [    0     0  2580  1933]\n",
            " [    0     0  1617  7373]]\n",
            "accuracy_score: 0.6239702760084925\n",
            "precision_score: 0.7473261539950979\n",
            "recall_score: 0.6239702760084925\n",
            "f1_score: 0.6239702760084925\n",
            "----------------------------------------\n",
            "              precision    recall  f1-score   support\n",
            "\n",
            "           0       0.59      1.00      0.74     19129\n",
            "           1       1.00      0.02      0.04     14468\n",
            "           2       0.53      0.57      0.55      4513\n",
            "           3       0.79      0.82      0.81      8990\n",
            "\n",
            "    accuracy                           0.62     47100\n",
            "   macro avg       0.73      0.60      0.53     47100\n",
            "weighted avg       0.75      0.62      0.52     47100\n",
            "\n",
            "--------------------------------------------------------------------------------\n",
            "--------------------------------------------------------------------------------\n",
            "Using model: DT-Classifier\n",
            "Time: 2.2165090490002513\n",
            "Training Score: 0.9643632054477479\n",
            "Test Score: 0.9155201698513801\n",
            "confusion_matrix:\n",
            " [[16778  2351     0     0]\n",
            " [ 1197 13200    57    14]\n",
            " [    0    27  4313   173]\n",
            " [    0     4   156  8830]]\n",
            "accuracy_score: 0.9155201698513801\n",
            "precision_score: 0.9175290813949848\n",
            "recall_score: 0.9155201698513801\n",
            "f1_score: 0.9155201698513801\n",
            "----------------------------------------\n",
            "              precision    recall  f1-score   support\n",
            "\n",
            "           0       0.93      0.88      0.90     19129\n",
            "           1       0.85      0.91      0.88     14468\n",
            "           2       0.95      0.96      0.95      4513\n",
            "           3       0.98      0.98      0.98      8990\n",
            "\n",
            "    accuracy                           0.92     47100\n",
            "   macro avg       0.93      0.93      0.93     47100\n",
            "weighted avg       0.92      0.92      0.92     47100\n",
            "\n",
            "--------------------------------------------------------------------------------\n",
            "--------------------------------------------------------------------------------\n",
            "Using model: AdaBoostClassifier\n",
            "Time: 298.6741559930001\n",
            "Training Score: 0.9643632054477479\n",
            "Test Score: 0.9114649681528663\n",
            "confusion_matrix:\n",
            " [[16378  2751     0     0]\n",
            " [  982 13402    67    17]\n",
            " [    0    13  4306   194]\n",
            " [    0     1   145  8844]]\n",
            "accuracy_score: 0.9114649681528663\n",
            "precision_score: 0.9155468811032024\n",
            "recall_score: 0.9114649681528663\n",
            "f1_score: 0.9114649681528663\n",
            "----------------------------------------\n",
            "              precision    recall  f1-score   support\n",
            "\n",
            "           0       0.94      0.86      0.90     19129\n",
            "           1       0.83      0.93      0.87     14468\n",
            "           2       0.95      0.95      0.95      4513\n",
            "           3       0.98      0.98      0.98      8990\n",
            "\n",
            "    accuracy                           0.91     47100\n",
            "   macro avg       0.93      0.93      0.93     47100\n",
            "weighted avg       0.92      0.91      0.91     47100\n",
            "\n",
            "--------------------------------------------------------------------------------\n",
            "--------------------------------------------------------------------------------\n",
            "Using model: HGBoosting\n",
            "Time: 64.71637649900003\n",
            "Training Score: 0.9388658314046644\n",
            "Test Score: 0.913651804670913\n",
            "confusion_matrix:\n",
            " [[17356  1773     0     0]\n",
            " [ 1875 12507    73    13]\n",
            " [    0    22  4365   126]\n",
            " [    0     1   184  8805]]\n",
            "accuracy_score: 0.913651804670913\n",
            "precision_score: 0.9135365616529042\n",
            "recall_score: 0.913651804670913\n",
            "f1_score: 0.913651804670913\n",
            "----------------------------------------\n",
            "              precision    recall  f1-score   support\n",
            "\n",
            "           0       0.90      0.91      0.90     19129\n",
            "           1       0.87      0.86      0.87     14468\n",
            "           2       0.94      0.97      0.96      4513\n",
            "           3       0.98      0.98      0.98      8990\n",
            "\n",
            "    accuracy                           0.91     47100\n",
            "   macro avg       0.93      0.93      0.93     47100\n",
            "weighted avg       0.91      0.91      0.91     47100\n",
            "\n",
            "--------------------------------------------------------------------------------\n",
            "--------------------------------------------------------------------------------\n",
            "Using model: ETClassifier\n",
            "Time: 47.285130606000166\n",
            "Training Score: 0.9643632054477479\n",
            "Test Score: 0.9174946921443736\n",
            "confusion_matrix:\n",
            " [[16863  2266     0     0]\n",
            " [ 1165 13225    60    18]\n",
            " [    0    15  4313   185]\n",
            " [    0     1   176  8813]]\n",
            "accuracy_score: 0.9174946921443736\n",
            "precision_score: 0.9192824445361637\n",
            "recall_score: 0.9174946921443736\n",
            "f1_score: 0.9174946921443736\n",
            "----------------------------------------\n",
            "              precision    recall  f1-score   support\n",
            "\n",
            "           0       0.94      0.88      0.91     19129\n",
            "           1       0.85      0.91      0.88     14468\n",
            "           2       0.95      0.96      0.95      4513\n",
            "           3       0.98      0.98      0.98      8990\n",
            "\n",
            "    accuracy                           0.92     47100\n",
            "   macro avg       0.93      0.93      0.93     47100\n",
            "weighted avg       0.92      0.92      0.92     47100\n",
            "\n",
            "--------------------------------------------------------------------------------\n",
            "--------------------------------------------------------------------------------\n"
          ]
        }
      ],
      "source": [
        "for name, model in models.items():\n",
        "    \n",
        "    start = time.process_time()\n",
        "    print(f'Using model: {name}')\n",
        "    model.fit(x_train, y_train)\n",
        "    print(f'Time: {time.process_time() - start}')\n",
        "\n",
        "    print(f'Training Score: {model.score(x_train, y_train)}')\n",
        "    print(f'Test Score: {model.score(x_test, y_test)}') \n",
        "    \n",
        "    y_pred = model.predict(x_test)\n",
        "    joblib.dump(model, f'{name}.h5')\n",
        "    print(f'confusion_matrix:\\n {confusion_matrix(y_test, y_pred)}')\n",
        "    print(f'accuracy_score: {accuracy_score(y_test, y_pred)}')\n",
        "    print(f'precision_score: {precision_score(y_test, y_pred,average=\"weighted\")}')\n",
        "    print(f'recall_score: {recall_score(y_test, y_pred,average=\"weighted\")}')\n",
        "    print(f'f1_score: {recall_score(y_test, y_pred,average=\"weighted\")}')\n",
        "\n",
        "    print('-'*40)\n",
        "\n",
        "    print(classification_report(y_test, y_pred))\n",
        "\n",
        "    print('-'*80)\n",
        "    # compare_orgin_predict(y_test,y_pred)\n",
        "    print('-'*80)"
      ]
    },
    {
      "cell_type": "code",
      "execution_count": null,
      "metadata": {},
      "outputs": [],
      "source": [
        "from sklearn.ensemble import StackingClassifier\n",
        "from sklearn.linear_model import LogisticRegression"
      ]
    },
    {
      "cell_type": "code",
      "execution_count": null,
      "metadata": {},
      "outputs": [],
      "source": [
        "classifiersStack = [(\"RF\",RandomForestClassifier()),(\"BC\",BaggingClassifier(tree.DecisionTreeClassifier())),(\"ETC\",ExtraTreesClassifier())]\n",
        "\n",
        "classifier = StackingClassifier(estimators=classifiersStack,final_estimator=LogisticRegression()).fit(x_train,y_train)\n",
        "\n",
        "print(accuracy_score(classifier.predict(x_train),y_train))\n",
        "print(accuracy_score(classifier.predict(x_test),y_test))"
      ]
    },
    {
      "cell_type": "code",
      "execution_count": null,
      "metadata": {},
      "outputs": [],
      "source": [
        "joblib.dump(classifiersStack, 'StackingClassifier.h5')"
      ]
    },
    {
      "cell_type": "markdown",
      "metadata": {
        "id": "LV7Gx72_uRGH"
      },
      "source": [
        "# Final Models"
      ]
    },
    {
      "cell_type": "code",
      "execution_count": null,
      "metadata": {
        "id": "YQoQLHFzm8PR"
      },
      "outputs": [],
      "source": [
        "'''models = {\n",
        "    \"Bagging-Classifier\"  : BaggingClassifier(tree.DecisionTreeClassifier(random_state=1)),\n",
        "    \"Random-Forest-Classifier\"      : RandomForestClassifier(n_estimators=100),\n",
        "    \"Decision-Tree-Classifier\"      : DecisionTreeClassifier(),\n",
        "    \"Ada-Boost-Classifier\" : AdaBoostClassifier(DecisionTreeClassifier(),algorithm=\"SAMME\",n_estimators=100),\n",
        "    \"Extra-Trees-Classifier\"       : ExtraTreesClassifier(n_estimators=100)\n",
        "}'''"
      ]
    },
    {
      "cell_type": "code",
      "execution_count": null,
      "metadata": {
        "colab": {
          "base_uri": "https://localhost:8080/"
        },
        "id": "lXgLmoxhnYAP",
        "outputId": "f017cf9a-31c5-4ad1-ebd7-dff35f6e19a2"
      },
      "outputs": [
        {
          "name": "stdout",
          "output_type": "stream",
          "text": [
            "Using model: Bagging-Classifier\n",
            "Time: 16.950640380000095\n",
            "Training Score: 0.9635926651237315\n",
            "Test Score: 0.9161571125265393\n",
            "confusion_matrix:\n",
            " [[16623  2506     0     0]\n",
            " [ 1040 13353    63    12]\n",
            " [    0    35  4344   134]\n",
            " [    0     4   155  8831]]\n",
            "accuracy_score: 0.9161571125265393\n",
            "precision_score: 0.9192299474970436\n",
            "recall_score: 0.9161571125265393\n",
            "f1_score: 0.9161571125265393\n",
            "--------------------------------------------------------------------------------\n",
            "--------------------------------------------------------------------------------\n",
            "Using model: Random-Forest-Classifier\n",
            "Time: 42.741678181\n",
            "Training Score: 0.9643576419797044\n",
            "Test Score: 0.9202335456475584\n",
            "confusion_matrix:\n",
            " [[16773  2356     0     0]\n",
            " [  995 13394    66    13]\n",
            " [    0    14  4330   169]\n",
            " [    0     1   143  8846]]\n",
            "accuracy_score: 0.9202335456475584\n",
            "precision_score: 0.9227985572560078\n",
            "recall_score: 0.9202335456475584\n",
            "f1_score: 0.9202335456475584\n",
            "--------------------------------------------------------------------------------\n",
            "--------------------------------------------------------------------------------\n",
            "Using model: Decision-Tree-Classifier\n",
            "Time: 2.2600788849999844\n",
            "Training Score: 0.9643632054477479\n",
            "Test Score: 0.9154352441613588\n",
            "confusion_matrix:\n",
            " [[16790  2339     0     0]\n",
            " [ 1210 13188    56    14]\n",
            " [    0    32  4309   172]\n",
            " [    0     8   152  8830]]\n",
            "accuracy_score: 0.9154352441613588\n",
            "precision_score: 0.9174050842604212\n",
            "recall_score: 0.9154352441613588\n",
            "f1_score: 0.9154352441613588\n",
            "--------------------------------------------------------------------------------\n",
            "--------------------------------------------------------------------------------\n",
            "Using model: Ada-Boost-Classifier\n",
            "Time: 298.60168275399997\n",
            "Training Score: 0.9643632054477479\n",
            "Test Score: 0.9117622080679405\n",
            "confusion_matrix:\n",
            " [[16383  2746     0     0]\n",
            " [  960 13424    66    18]\n",
            " [    0    12  4297   204]\n",
            " [    0     1   149  8840]]\n",
            "accuracy_score: 0.9117622080679405\n",
            "precision_score: 0.9159074427955091\n",
            "recall_score: 0.9117622080679405\n",
            "f1_score: 0.9117622080679405\n",
            "--------------------------------------------------------------------------------\n",
            "--------------------------------------------------------------------------------\n",
            "Using model: Extra-Trees-Classifier\n",
            "Time: 47.99720393100006\n",
            "Training Score: 0.9643632054477479\n",
            "Test Score: 0.9179830148619957\n",
            "confusion_matrix:\n",
            " [[16887  2242     0     0]\n",
            " [ 1179 13214    57    18]\n",
            " [    0    16  4321   176]\n",
            " [    0     2   173  8815]]\n",
            "accuracy_score: 0.9179830148619957\n",
            "precision_score: 0.9196790916713846\n",
            "recall_score: 0.9179830148619957\n",
            "f1_score: 0.9179830148619957\n",
            "--------------------------------------------------------------------------------\n",
            "--------------------------------------------------------------------------------\n"
          ]
        },
        {
          "data": {
            "text/plain": [
              "['imputer.h5']"
            ]
          },
          "execution_count": 16,
          "metadata": {},
          "output_type": "execute_result"
        }
      ],
      "source": [
        "'''import joblib\n",
        "\n",
        "for name, model in models.items():\n",
        "    \n",
        "    start = time.process_time()\n",
        "    print(f'Using model: {name}')\n",
        "    model.fit(x_train, y_train)\n",
        "    print(f'Time: {time.process_time() - start}')\n",
        "\n",
        "    print(f'Training Score: {model.score(x_train, y_train)}')\n",
        "    print(f'Test Score: {model.score(x_test, y_test)}') \n",
        "    \n",
        "    y_pred = model.predict(x_test)\n",
        "    \n",
        "    print(f'confusion_matrix:\\n {confusion_matrix(y_test, y_pred)}')\n",
        "    print(f'accuracy_score: {accuracy_score(y_test, y_pred)}')\n",
        "    print(f'precision_score: {precision_score(y_test, y_pred,average=\"weighted\")}')\n",
        "    print(f'recall_score: {recall_score(y_test, y_pred,average=\"weighted\")}')\n",
        "    print(f'f1_score: {recall_score(y_test, y_pred,average=\"weighted\")}')\n",
        "    joblib.dump(model, f'{name}.h5')\n",
        "    \n",
        "    print('-'*80)\n",
        "    print('-'*80)\n",
        "\n",
        "joblib.dump(imputer, 'imputer.h5')'''"
      ]
    }
  ],
  "metadata": {
    "accelerator": "GPU",
    "colab": {
      "collapsed_sections": [],
      "name": "Classification-Model.ipynb",
      "provenance": []
    },
    "kernelspec": {
      "display_name": "Python 3",
      "name": "python3"
    },
    "language_info": {
      "name": "python"
    }
  },
  "nbformat": 4,
  "nbformat_minor": 0
}
