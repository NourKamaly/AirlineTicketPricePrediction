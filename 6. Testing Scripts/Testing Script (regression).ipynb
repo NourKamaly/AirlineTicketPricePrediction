{
  "nbformat": 4,
  "nbformat_minor": 0,
  "metadata": {
    "colab": {
      "name": "Testing Script (regression).ipynb",
      "provenance": []
    },
    "kernelspec": {
      "name": "python3",
      "display_name": "Python 3"
    },
    "language_info": {
      "name": "python"
    }
  },
  "cells": [
    {
      "cell_type": "code",
      "execution_count": 137,
      "metadata": {
        "colab": {
          "base_uri": "https://localhost:8080/"
        },
        "id": "HLURwKam3p8A",
        "outputId": "5f689bf1-8d04-48de-f6cf-7352ab4d90bd"
      },
      "outputs": [
        {
          "output_type": "stream",
          "name": "stdout",
          "text": [
            "Drive already mounted at /content/drive/; to attempt to forcibly remount, call drive.mount(\"/content/drive/\", force_remount=True).\n"
          ]
        }
      ],
      "source": [
        "from google.colab import drive\n",
        "drive.mount('/content/drive/')"
      ]
    },
    {
      "cell_type": "code",
      "execution_count": 138,
      "metadata": {
        "id": "v9w8j_Bc6R3T"
      },
      "outputs": [],
      "source": [
        "import numpy as np\n",
        "import pandas as pd\n",
        "import ast\n",
        "import warnings\n",
        "warnings.filterwarnings(\"ignore\")"
      ]
    },
    {
      "cell_type": "code",
      "execution_count": 139,
      "metadata": {
        "colab": {
          "base_uri": "https://localhost:8080/",
          "height": 206
        },
        "id": "t_8-QaAi6gYQ",
        "outputId": "52ba9308-1355-4af4-aa57-7757011ecdd7"
      },
      "outputs": [
        {
          "output_type": "execute_result",
          "data": {
            "text/plain": [
              "         date   airline ch_code  num_code dep_time time_taken  \\\n",
              "0    5/3/2022   Vistara      UK       812     9:45    10h 10m   \n",
              "1  18-03-2022   Vistara      UK       975     5:45    06h 30m   \n",
              "2    9/3/2022  GO FIRST      G8      7537    14:30    08h 10m   \n",
              "3  15-03-2022  GO FIRST      G8       287    10:40    09h 40m   \n",
              "4  22-03-2022   Vistara      UK       826    12:30    07h 25m   \n",
              "\n",
              "                                                stop arr_time      type  \\\n",
              "0  1-stop\\n\\t\\t\\t\\t\\t\\t\\t\\t\\t\\t\\t\\t\\n\\t\\t\\t\\t\\t\\t...    19:55  business   \n",
              "1  1-stop\\n\\t\\t\\t\\t\\t\\t\\t\\t\\t\\t\\t\\t\\n\\t\\t\\t\\t\\t\\t...    12:15  business   \n",
              "2  1-stop\\n\\t\\t\\t\\t\\t\\t\\t\\t\\t\\t\\t\\t\\n\\t\\t\\t\\t\\t\\t...    22:40   economy   \n",
              "3  1-stop\\n\\t\\t\\t\\t\\t\\t\\t\\t\\t\\t\\t\\t\\n\\t\\t\\t\\t\\t\\t...    20:20   economy   \n",
              "4  1-stop\\n\\t\\t\\t\\t\\t\\t\\t\\t\\t\\t\\t\\t\\n\\t\\t\\t\\t\\t\\t...    19:55   economy   \n",
              "\n",
              "                                               route   price  \n",
              "0  {'source': 'Bangalore', 'destination': 'Hydera...  56,588  \n",
              "1    {'source': 'Delhi', 'destination': 'Hyderabad'}  59,649  \n",
              "2   {'source': 'Mumbai', 'destination': 'Hyderabad'}   3,916  \n",
              "3       {'source': 'Mumbai', 'destination': 'Delhi'}   6,031  \n",
              "4    {'source': 'Chennai', 'destination': 'Kolkata'}   7,081  "
            ],
            "text/html": [
              "\n",
              "  <div id=\"df-9db1cf72-63d9-4cdc-9061-294753b62423\">\n",
              "    <div class=\"colab-df-container\">\n",
              "      <div>\n",
              "<style scoped>\n",
              "    .dataframe tbody tr th:only-of-type {\n",
              "        vertical-align: middle;\n",
              "    }\n",
              "\n",
              "    .dataframe tbody tr th {\n",
              "        vertical-align: top;\n",
              "    }\n",
              "\n",
              "    .dataframe thead th {\n",
              "        text-align: right;\n",
              "    }\n",
              "</style>\n",
              "<table border=\"1\" class=\"dataframe\">\n",
              "  <thead>\n",
              "    <tr style=\"text-align: right;\">\n",
              "      <th></th>\n",
              "      <th>date</th>\n",
              "      <th>airline</th>\n",
              "      <th>ch_code</th>\n",
              "      <th>num_code</th>\n",
              "      <th>dep_time</th>\n",
              "      <th>time_taken</th>\n",
              "      <th>stop</th>\n",
              "      <th>arr_time</th>\n",
              "      <th>type</th>\n",
              "      <th>route</th>\n",
              "      <th>price</th>\n",
              "    </tr>\n",
              "  </thead>\n",
              "  <tbody>\n",
              "    <tr>\n",
              "      <th>0</th>\n",
              "      <td>5/3/2022</td>\n",
              "      <td>Vistara</td>\n",
              "      <td>UK</td>\n",
              "      <td>812</td>\n",
              "      <td>9:45</td>\n",
              "      <td>10h 10m</td>\n",
              "      <td>1-stop\\n\\t\\t\\t\\t\\t\\t\\t\\t\\t\\t\\t\\t\\n\\t\\t\\t\\t\\t\\t...</td>\n",
              "      <td>19:55</td>\n",
              "      <td>business</td>\n",
              "      <td>{'source': 'Bangalore', 'destination': 'Hydera...</td>\n",
              "      <td>56,588</td>\n",
              "    </tr>\n",
              "    <tr>\n",
              "      <th>1</th>\n",
              "      <td>18-03-2022</td>\n",
              "      <td>Vistara</td>\n",
              "      <td>UK</td>\n",
              "      <td>975</td>\n",
              "      <td>5:45</td>\n",
              "      <td>06h 30m</td>\n",
              "      <td>1-stop\\n\\t\\t\\t\\t\\t\\t\\t\\t\\t\\t\\t\\t\\n\\t\\t\\t\\t\\t\\t...</td>\n",
              "      <td>12:15</td>\n",
              "      <td>business</td>\n",
              "      <td>{'source': 'Delhi', 'destination': 'Hyderabad'}</td>\n",
              "      <td>59,649</td>\n",
              "    </tr>\n",
              "    <tr>\n",
              "      <th>2</th>\n",
              "      <td>9/3/2022</td>\n",
              "      <td>GO FIRST</td>\n",
              "      <td>G8</td>\n",
              "      <td>7537</td>\n",
              "      <td>14:30</td>\n",
              "      <td>08h 10m</td>\n",
              "      <td>1-stop\\n\\t\\t\\t\\t\\t\\t\\t\\t\\t\\t\\t\\t\\n\\t\\t\\t\\t\\t\\t...</td>\n",
              "      <td>22:40</td>\n",
              "      <td>economy</td>\n",
              "      <td>{'source': 'Mumbai', 'destination': 'Hyderabad'}</td>\n",
              "      <td>3,916</td>\n",
              "    </tr>\n",
              "    <tr>\n",
              "      <th>3</th>\n",
              "      <td>15-03-2022</td>\n",
              "      <td>GO FIRST</td>\n",
              "      <td>G8</td>\n",
              "      <td>287</td>\n",
              "      <td>10:40</td>\n",
              "      <td>09h 40m</td>\n",
              "      <td>1-stop\\n\\t\\t\\t\\t\\t\\t\\t\\t\\t\\t\\t\\t\\n\\t\\t\\t\\t\\t\\t...</td>\n",
              "      <td>20:20</td>\n",
              "      <td>economy</td>\n",
              "      <td>{'source': 'Mumbai', 'destination': 'Delhi'}</td>\n",
              "      <td>6,031</td>\n",
              "    </tr>\n",
              "    <tr>\n",
              "      <th>4</th>\n",
              "      <td>22-03-2022</td>\n",
              "      <td>Vistara</td>\n",
              "      <td>UK</td>\n",
              "      <td>826</td>\n",
              "      <td>12:30</td>\n",
              "      <td>07h 25m</td>\n",
              "      <td>1-stop\\n\\t\\t\\t\\t\\t\\t\\t\\t\\t\\t\\t\\t\\n\\t\\t\\t\\t\\t\\t...</td>\n",
              "      <td>19:55</td>\n",
              "      <td>economy</td>\n",
              "      <td>{'source': 'Chennai', 'destination': 'Kolkata'}</td>\n",
              "      <td>7,081</td>\n",
              "    </tr>\n",
              "  </tbody>\n",
              "</table>\n",
              "</div>\n",
              "      <button class=\"colab-df-convert\" onclick=\"convertToInteractive('df-9db1cf72-63d9-4cdc-9061-294753b62423')\"\n",
              "              title=\"Convert this dataframe to an interactive table.\"\n",
              "              style=\"display:none;\">\n",
              "        \n",
              "  <svg xmlns=\"http://www.w3.org/2000/svg\" height=\"24px\"viewBox=\"0 0 24 24\"\n",
              "       width=\"24px\">\n",
              "    <path d=\"M0 0h24v24H0V0z\" fill=\"none\"/>\n",
              "    <path d=\"M18.56 5.44l.94 2.06.94-2.06 2.06-.94-2.06-.94-.94-2.06-.94 2.06-2.06.94zm-11 1L8.5 8.5l.94-2.06 2.06-.94-2.06-.94L8.5 2.5l-.94 2.06-2.06.94zm10 10l.94 2.06.94-2.06 2.06-.94-2.06-.94-.94-2.06-.94 2.06-2.06.94z\"/><path d=\"M17.41 7.96l-1.37-1.37c-.4-.4-.92-.59-1.43-.59-.52 0-1.04.2-1.43.59L10.3 9.45l-7.72 7.72c-.78.78-.78 2.05 0 2.83L4 21.41c.39.39.9.59 1.41.59.51 0 1.02-.2 1.41-.59l7.78-7.78 2.81-2.81c.8-.78.8-2.07 0-2.86zM5.41 20L4 18.59l7.72-7.72 1.47 1.35L5.41 20z\"/>\n",
              "  </svg>\n",
              "      </button>\n",
              "      \n",
              "  <style>\n",
              "    .colab-df-container {\n",
              "      display:flex;\n",
              "      flex-wrap:wrap;\n",
              "      gap: 12px;\n",
              "    }\n",
              "\n",
              "    .colab-df-convert {\n",
              "      background-color: #E8F0FE;\n",
              "      border: none;\n",
              "      border-radius: 50%;\n",
              "      cursor: pointer;\n",
              "      display: none;\n",
              "      fill: #1967D2;\n",
              "      height: 32px;\n",
              "      padding: 0 0 0 0;\n",
              "      width: 32px;\n",
              "    }\n",
              "\n",
              "    .colab-df-convert:hover {\n",
              "      background-color: #E2EBFA;\n",
              "      box-shadow: 0px 1px 2px rgba(60, 64, 67, 0.3), 0px 1px 3px 1px rgba(60, 64, 67, 0.15);\n",
              "      fill: #174EA6;\n",
              "    }\n",
              "\n",
              "    [theme=dark] .colab-df-convert {\n",
              "      background-color: #3B4455;\n",
              "      fill: #D2E3FC;\n",
              "    }\n",
              "\n",
              "    [theme=dark] .colab-df-convert:hover {\n",
              "      background-color: #434B5C;\n",
              "      box-shadow: 0px 1px 3px 1px rgba(0, 0, 0, 0.15);\n",
              "      filter: drop-shadow(0px 1px 2px rgba(0, 0, 0, 0.3));\n",
              "      fill: #FFFFFF;\n",
              "    }\n",
              "  </style>\n",
              "\n",
              "      <script>\n",
              "        const buttonEl =\n",
              "          document.querySelector('#df-9db1cf72-63d9-4cdc-9061-294753b62423 button.colab-df-convert');\n",
              "        buttonEl.style.display =\n",
              "          google.colab.kernel.accessAllowed ? 'block' : 'none';\n",
              "\n",
              "        async function convertToInteractive(key) {\n",
              "          const element = document.querySelector('#df-9db1cf72-63d9-4cdc-9061-294753b62423');\n",
              "          const dataTable =\n",
              "            await google.colab.kernel.invokeFunction('convertToInteractive',\n",
              "                                                     [key], {});\n",
              "          if (!dataTable) return;\n",
              "\n",
              "          const docLinkHtml = 'Like what you see? Visit the ' +\n",
              "            '<a target=\"_blank\" href=https://colab.research.google.com/notebooks/data_table.ipynb>data table notebook</a>'\n",
              "            + ' to learn more about interactive tables.';\n",
              "          element.innerHTML = '';\n",
              "          dataTable['output_type'] = 'display_data';\n",
              "          await google.colab.output.renderOutput(dataTable, element);\n",
              "          const docLink = document.createElement('div');\n",
              "          docLink.innerHTML = docLinkHtml;\n",
              "          element.appendChild(docLink);\n",
              "        }\n",
              "      </script>\n",
              "    </div>\n",
              "  </div>\n",
              "  "
            ]
          },
          "metadata": {},
          "execution_count": 139
        }
      ],
      "source": [
        "dataset = pd.read_csv('/content/drive/MyDrive/Deep_learning/airline-price-prediction.csv')\n",
        "#dataset = pd.read_csv('airline-price-prediction.csv')\n",
        "dataset.head()"
      ]
    },
    {
      "cell_type": "code",
      "execution_count": 140,
      "metadata": {
        "id": "U1mIcmkfEN7f"
      },
      "outputs": [],
      "source": [
        "dataset['full_information_timestamp'] = 0\n",
        "dataset['flight_day'] = 0\n",
        "dataset['flight_month'] = 0\n",
        "dataset['week_day_of_flight'] = 0\n",
        "dataset['num_of_hours_taken'] =0\n",
        "dataset['num_of_stops'] = 0\n",
        "dataset['distance_between_2_cities'] = 0\n",
        "dataset['source'] = 0\n",
        "dataset['destination'] = 0\n",
        "dataset['formatted_price'] =0"
      ]
    },
    {
      "cell_type": "code",
      "execution_count": 141,
      "metadata": {
        "id": "Uy9qGwpguHsv"
      },
      "outputs": [],
      "source": [
        "def format_date(date):\n",
        "    dashed_date = date.replace('/','-')\n",
        "    return dashed_date"
      ]
    },
    {
      "cell_type": "code",
      "execution_count": 142,
      "metadata": {
        "id": "H9NGiAqifb8Q"
      },
      "outputs": [],
      "source": [
        "dataset['full_information_timestamp'] = dataset.date.apply(lambda date:format_date(date))"
      ]
    },
    {
      "cell_type": "code",
      "execution_count": 143,
      "metadata": {
        "id": "lX47ozhcfb8S"
      },
      "outputs": [],
      "source": [
        "def extract_day_month(date):\n",
        "  splitted_date = date.split('-')\n",
        "  day = int(splitted_date[0])\n",
        "  month =int(splitted_date[1])\n",
        "  if splitted_date[1]== '2' or splitted_date[1]== '02':\n",
        "      new_date_format = 'February ' + splitted_date[0] + ', '+ splitted_date[2]\n",
        "  else :\n",
        "      new_date_format = 'March ' + splitted_date[0] + ', '+ splitted_date[2]\n",
        "  return day,month,new_date_format"
      ]
    },
    {
      "cell_type": "code",
      "source": [
        "dataset[['flight_day', 'flight_month','full_information_timestamp']] = pd.DataFrame(dataset.full_information_timestamp.apply(lambda date: extract_day_month(date)).tolist(), index=dataset.index)"
      ],
      "metadata": {
        "id": "TAN-vOgWecSM"
      },
      "execution_count": 144,
      "outputs": []
    },
    {
      "cell_type": "code",
      "execution_count": 145,
      "metadata": {
        "id": "X8Eg-gi1fb8U"
      },
      "outputs": [],
      "source": [
        "dataset['full_information_timestamp'] = pd.to_datetime(dataset['full_information_timestamp'])"
      ]
    },
    {
      "cell_type": "code",
      "source": [
        "dataset.sort_values(by ='full_information_timestamp',inplace =True,kind = 'mergesort',ascending = True)"
      ],
      "metadata": {
        "id": "Os7aB3a4cYGX"
      },
      "execution_count": 148,
      "outputs": []
    },
    {
      "cell_type": "code",
      "execution_count": 149,
      "metadata": {
        "id": "32LMFLy5fb8V"
      },
      "outputs": [],
      "source": [
        "def extract_weekday(day):\n",
        "    return day.day_name()"
      ]
    },
    {
      "cell_type": "code",
      "execution_count": 150,
      "metadata": {
        "id": "sEMHSxhtfb8V"
      },
      "outputs": [],
      "source": [
        "dataset['week_day_of_flight'] = dataset.full_information_timestamp.apply(lambda date:extract_weekday(date))"
      ]
    },
    {
      "cell_type": "code",
      "execution_count": 151,
      "metadata": {
        "id": "EbomB5hTZtaL"
      },
      "outputs": [],
      "source": [
        "dataset['full_information_timestamp'] = pd.to_datetime(dataset['full_information_timestamp'])"
      ]
    },
    {
      "cell_type": "code",
      "execution_count": 152,
      "metadata": {
        "id": "-8d_0pD-ZtaL"
      },
      "outputs": [],
      "source": [
        "def extract_weekday(day):\n",
        "    return day.day_name()"
      ]
    },
    {
      "cell_type": "code",
      "execution_count": 153,
      "metadata": {
        "id": "RtblEu8XZtaM"
      },
      "outputs": [],
      "source": [
        "dataset['week_day_of_flight'] = dataset.full_information_timestamp.apply(lambda date:extract_weekday(date))"
      ]
    },
    {
      "cell_type": "code",
      "execution_count": 154,
      "metadata": {
        "id": "GG8buB7HzQ7X"
      },
      "outputs": [],
      "source": [
        "def remove_low_frequency_airlines():\n",
        "    high_frequency_airlines =['Vistara','Air India','Indigo']\n",
        "    dataset ['airline'] = [airline if airline in high_frequency_airlines else 'Other_airline' for airline in dataset['airline']]\n",
        "   "
      ]
    },
    {
      "cell_type": "code",
      "execution_count": 155,
      "metadata": {
        "id": "F58Px55Z28FJ"
      },
      "outputs": [],
      "source": [
        "remove_low_frequency_airlines()"
      ]
    },
    {
      "cell_type": "code",
      "execution_count": 156,
      "metadata": {
        "id": "BBcFlL34bFv-"
      },
      "outputs": [],
      "source": [
        "def calculate_time_taken(time_taken):\n",
        "      time = time_taken.split(' ')\n",
        "      float_hour = time[0].split('.')\n",
        "      hours = 0\n",
        "      if(len(float_hour)>1):\n",
        "          time[0] = float_hour[0] + 'h'\n",
        "          time[1]= float_hour[1][:-1] + time[1]\n",
        "      if time[1][:-1] != '' : \n",
        "          if int(time[1][:-1]) >= 40 :\n",
        "              hours = int(time[0][:-1]) + 1\n",
        "          else :\n",
        "              hours = int(time[0][:-1]) \n",
        "      else :\n",
        "          hours = int(time[0][:-1])\n",
        "      return hours"
      ]
    },
    {
      "cell_type": "code",
      "source": [
        "dataset['num_of_hours_taken'] = dataset.time_taken.apply(lambda time_taken: calculate_time_taken(time_taken))"
      ],
      "metadata": {
        "id": "x97dc14Yrd4T"
      },
      "execution_count": 157,
      "outputs": []
    },
    {
      "cell_type": "code",
      "execution_count": 158,
      "metadata": {
        "id": "ATLAMvTuqwD8"
      },
      "outputs": [],
      "source": [
        "def categorize_time(time):\n",
        "    hours = time.split(':')\n",
        "    hours[0] = int(hours[0])\n",
        "    if hours[0] <6:\n",
        "        return 'Early morning'\n",
        "    elif 6<= hours[0] < 12 :\n",
        "        return 'Morning'\n",
        "    elif 12<= hours[0] < 18:\n",
        "        return 'Afternoon'\n",
        "    else:\n",
        "        return 'Evening'"
      ]
    },
    {
      "cell_type": "code",
      "execution_count": 159,
      "metadata": {
        "id": "IKVx6zS7r-gL"
      },
      "outputs": [],
      "source": [
        "dataset['dep_time'] = dataset.dep_time.apply(lambda time: categorize_time(time))"
      ]
    },
    {
      "cell_type": "code",
      "execution_count": 160,
      "metadata": {
        "id": "YJm59-GhsfCs"
      },
      "outputs": [],
      "source": [
        "dataset['arr_time'] = dataset.arr_time.apply(lambda time: categorize_time(time))"
      ]
    },
    {
      "cell_type": "code",
      "execution_count": 161,
      "metadata": {
        "id": "8NBTiTgCfb8b"
      },
      "outputs": [],
      "source": [
        "def split_num_of_stops(stop):\n",
        "    if stop[:8] == 'non-stop':\n",
        "        stop_count = 0\n",
        "    elif stop[:6] == '1-stop':\n",
        "        stop_count = 1\n",
        "    else:\n",
        "        stop_count = 2\n",
        "    return stop_count"
      ]
    },
    {
      "cell_type": "code",
      "execution_count": 162,
      "metadata": {
        "id": "OdIkh5alv-_j"
      },
      "outputs": [],
      "source": [
        "dataset['num_of_stops']= dataset.stop.apply(lambda stop:split_num_of_stops(stop))"
      ]
    },
    {
      "cell_type": "code",
      "execution_count": 163,
      "metadata": {
        "id": "ZJTkqXWjIAcV"
      },
      "outputs": [],
      "source": [
        "dataset['type'] = [1 if kind_of_trip == 'business' else 0 for kind_of_trip in dataset['type']]"
      ]
    },
    {
      "cell_type": "code",
      "source": [
        "def split_route(route):\n",
        "    path = ast.literal_eval(route)\n",
        "    source = path['source']\n",
        "    destination = path['destination']\n",
        "    return source,destination"
      ],
      "metadata": {
        "id": "lRZ7CJuPlNTK"
      },
      "execution_count": 164,
      "outputs": []
    },
    {
      "cell_type": "code",
      "source": [
        "dataset[['source', 'destination']] = pd.DataFrame(dataset.route.apply(lambda route: split_route(route)).tolist(), index=dataset.index)"
      ],
      "metadata": {
        "id": "YgZW24AtlNTK"
      },
      "execution_count": 165,
      "outputs": []
    },
    {
      "cell_type": "code",
      "source": [
        "distances = dict()\n",
        "distances['Mumbai','Kolkata'] = 2167\n",
        "distances['Mumbai','Hyderabad'] = 721\n",
        "distances['Mumbai','Chennai'] = 1344\n",
        "distances['Mumbai','Bangalore'] = 995\n",
        "distances['Mumbai','Delhi'] = 1439\n",
        "distances['Delhi','Bangalore'] = 2169\n",
        "distances['Delhi','Kolkata'] = 1554\n",
        "distances['Delhi','Hyderabad'] = 1579\n",
        "distances['Delhi','Chennai'] = 2202\n",
        "distances['Bangalore','Kolkata']= 1560\n",
        "distances['Bangalore','Hyderabad'] = 569\n",
        "distances['Bangalore','Chennai'] = 348\n",
        "distances['Kolkata','Hyderabad'] = 1489\n",
        "distances['Kolkata','Chennai'] = 1663\n",
        "distances['Hyderabad','Chennai'] = 628"
      ],
      "metadata": {
        "id": "JGYWIWZjlNTL"
      },
      "execution_count": 166,
      "outputs": []
    },
    {
      "cell_type": "code",
      "source": [
        "def calculate_distance(source,destination):\n",
        "    try :\n",
        "        dist = distances[source,destination]\n",
        "    except :\n",
        "        dist = distances[destination,source]\n",
        "    return dist"
      ],
      "metadata": {
        "id": "1VbJhtjQlNTM"
      },
      "execution_count": 167,
      "outputs": []
    },
    {
      "cell_type": "code",
      "source": [
        "dataset['distance_between_2_cities'] = dataset.apply(lambda dataFrame: calculate_distance(dataFrame['source'], dataFrame['destination']), axis=1)\n",
        "dataset['distance_between_2_cities'] = dataset['distance_between_2_cities']/2202"
      ],
      "metadata": {
        "id": "oSvmO26glNTM"
      },
      "execution_count": 168,
      "outputs": []
    },
    {
      "cell_type": "code",
      "execution_count": 169,
      "metadata": {
        "id": "TBhdRY5FoKlZ"
      },
      "outputs": [],
      "source": [
        "def fix_price_format(price):\n",
        "    number = price.split(',')\n",
        "    cost = number[0] + number[1]\n",
        "    cost=int(cost)\n",
        "    return cost"
      ]
    },
    {
      "cell_type": "code",
      "execution_count": 170,
      "metadata": {
        "id": "-4UzTD-TopP5"
      },
      "outputs": [],
      "source": [
        "dataset['formatted_price'] = dataset.price.apply(lambda price:fix_price_format(price))"
      ]
    },
    {
      "cell_type": "code",
      "source": [
        "dataset.sort_values(by ='full_information_timestamp',inplace =True,kind = 'mergesort',ascending = True)"
      ],
      "metadata": {
        "id": "TwuV5YuVJtjJ"
      },
      "execution_count": 171,
      "outputs": []
    },
    {
      "cell_type": "code",
      "execution_count": 172,
      "metadata": {
        "id": "YS7S44DqonKX"
      },
      "outputs": [],
      "source": [
        "dataset.drop(columns=['date','ch_code','time_taken','stop','route','price','full_information_timestamp','num_code','flight_day'],axis = 1,inplace=True)"
      ]
    },
    {
      "cell_type": "code",
      "execution_count": 173,
      "metadata": {
        "id": "DEO690DfHZbH"
      },
      "outputs": [],
      "source": [
        "def arranging_dep_time_by_price(time):\n",
        "    if time =='Early morning':\n",
        "        return 1\n",
        "    elif time == 'Afternoon':\n",
        "        return 2\n",
        "    elif time == 'Morning':\n",
        "        return 3\n",
        "    else :\n",
        "        return 4"
      ]
    },
    {
      "cell_type": "code",
      "execution_count": 174,
      "metadata": {
        "id": "TcQUhpg0Ih3R"
      },
      "outputs": [],
      "source": [
        "dataset['dep_time'] = dataset.dep_time.apply(lambda time: arranging_dep_time_by_price(time))"
      ]
    },
    {
      "cell_type": "code",
      "execution_count": 175,
      "metadata": {
        "id": "u3Y9sUkxI2Ze"
      },
      "outputs": [],
      "source": [
        "dataset['arr_time'] = dataset.arr_time.apply(lambda time: arranging_dep_time_by_price(time))"
      ]
    },
    {
      "cell_type": "code",
      "execution_count": 176,
      "metadata": {
        "id": "w-o0lxWxJu4B"
      },
      "outputs": [],
      "source": [
        "def arranging_day_by_price(day):\n",
        "    if day =='Tuesday' :\n",
        "        return 1\n",
        "    elif day =='Thursday' :\n",
        "        return 2\n",
        "    elif day =='Wednesday' :\n",
        "        return 3\n",
        "    elif day =='Friday' :\n",
        "        return 4\n",
        "    elif day =='Monday' :\n",
        "        return 5\n",
        "    elif day =='Saturday' :\n",
        "        return 6\n",
        "    else :\n",
        "        return 7"
      ]
    },
    {
      "cell_type": "code",
      "execution_count": 177,
      "metadata": {
        "id": "GTGV7eNMLpwI"
      },
      "outputs": [],
      "source": [
        "dataset['week_day_of_flight'] = dataset.week_day_of_flight.apply(lambda day: arranging_day_by_price(day))"
      ]
    },
    {
      "cell_type": "code",
      "execution_count": 178,
      "metadata": {
        "id": "JHdBuLG2KFnN"
      },
      "outputs": [],
      "source": [
        "def arranging_airline_by_price(airline):\n",
        "    if airline == 'Other_airline' :\n",
        "        return 1\n",
        "    elif airline == 'Indigo' :\n",
        "        return 2\n",
        "    elif airline == 'Air India' :\n",
        "        return 3\n",
        "    else :\n",
        "        return 4"
      ]
    },
    {
      "cell_type": "code",
      "execution_count": 179,
      "metadata": {
        "id": "QYFUSW3mKgcv"
      },
      "outputs": [],
      "source": [
        "dataset['airline'] = dataset.airline.apply(lambda airline: arranging_airline_by_price(airline))"
      ]
    },
    {
      "cell_type": "code",
      "execution_count": 180,
      "metadata": {
        "id": "jH8plHdZMusB"
      },
      "outputs": [],
      "source": [
        "def arranging_source_by_price(source):\n",
        "    if source == 'Delhi' :\n",
        "        return 1\n",
        "    elif source == 'Hyderabad' :\n",
        "        return 2\n",
        "    elif source == 'Mumbai' :\n",
        "        return 3\n",
        "    elif source == 'Bangalore' :\n",
        "        return 4\n",
        "    elif source == 'Kolkata' :\n",
        "        return 5\n",
        "    else :\n",
        "        return 6"
      ]
    },
    {
      "cell_type": "code",
      "execution_count": 181,
      "metadata": {
        "id": "PGW3g5N4NQbD"
      },
      "outputs": [],
      "source": [
        "dataset['source'] = dataset.source.apply(lambda source: arranging_source_by_price(source))"
      ]
    },
    {
      "cell_type": "code",
      "execution_count": 182,
      "metadata": {
        "id": "RSVWceProvCu"
      },
      "outputs": [],
      "source": [
        "def arranging_destination_by_price(source):\n",
        "    if source == 'Delhi' :\n",
        "        return 1\n",
        "    elif source == 'Hyderabad' :\n",
        "        return 2\n",
        "    elif source == 'Mumbai' :\n",
        "        return 3\n",
        "    elif source == 'Bangalore' :\n",
        "        return 4\n",
        "    elif source == 'Chennai' :\n",
        "        return 5\n",
        "    else :\n",
        "        return 6"
      ]
    },
    {
      "cell_type": "code",
      "execution_count": 183,
      "metadata": {
        "id": "KguyMBp2Nij_"
      },
      "outputs": [],
      "source": [
        "dataset['destination'] = dataset.destination.apply(lambda destination: arranging_destination_by_price(destination))"
      ]
    },
    {
      "cell_type": "code",
      "source": [
        "dataset"
      ],
      "metadata": {
        "colab": {
          "base_uri": "https://localhost:8080/",
          "height": 424
        },
        "id": "A3qlUhCgbC-0",
        "outputId": "efbec5a8-5b20-4637-a178-112f2c62ab93"
      },
      "execution_count": 184,
      "outputs": [
        {
          "output_type": "execute_result",
          "data": {
            "text/plain": [
              "        airline  dep_time  arr_time  type  flight_month  week_day_of_flight  \\\n",
              "6760          1         1         3     0             2                   4   \n",
              "167590        1         1         2     0             2                   4   \n",
              "5914          1         1         2     0             2                   4   \n",
              "94844         1         1         2     0             2                   4   \n",
              "96663         1         1         4     0             2                   4   \n",
              "...         ...       ...       ...   ...           ...                 ...   \n",
              "132751        1         4         3     0             3                   2   \n",
              "133933        2         4         3     0             3                   2   \n",
              "154207        1         4         1     0             3                   2   \n",
              "154583        1         4         1     0             3                   2   \n",
              "183172        2         4         3     0             3                   2   \n",
              "\n",
              "        num_of_hours_taken  num_of_stops  distance_between_2_cities  source  \\\n",
              "6760                     2             0                   0.653497       1   \n",
              "167590                  10             1                   0.985014       1   \n",
              "5914                    11             1                   0.985014       1   \n",
              "94844                    7             1                   0.985014       1   \n",
              "96663                   14             1                   0.985014       1   \n",
              "...                    ...           ...                        ...     ...   \n",
              "132751                   8             1                   0.984105       3   \n",
              "133933                   8             1                   0.676203       5   \n",
              "154207                   3             0                   0.985014       4   \n",
              "154583                   2             0                   0.653497       3   \n",
              "183172                   6             1                   0.708447       5   \n",
              "\n",
              "        destination  formatted_price  \n",
              "6760              3             5956  \n",
              "167590            4             7423  \n",
              "5914              4            21343  \n",
              "94844             4             7423  \n",
              "96663             4            21343  \n",
              "...             ...              ...  \n",
              "132751            6             5817  \n",
              "133933            2             3401  \n",
              "154207            1             4500  \n",
              "154583            1             2339  \n",
              "183172            4             3860  \n",
              "\n",
              "[240208 rows x 12 columns]"
            ],
            "text/html": [
              "\n",
              "  <div id=\"df-28db33b5-6237-4bcb-b998-b9bf373abf11\">\n",
              "    <div class=\"colab-df-container\">\n",
              "      <div>\n",
              "<style scoped>\n",
              "    .dataframe tbody tr th:only-of-type {\n",
              "        vertical-align: middle;\n",
              "    }\n",
              "\n",
              "    .dataframe tbody tr th {\n",
              "        vertical-align: top;\n",
              "    }\n",
              "\n",
              "    .dataframe thead th {\n",
              "        text-align: right;\n",
              "    }\n",
              "</style>\n",
              "<table border=\"1\" class=\"dataframe\">\n",
              "  <thead>\n",
              "    <tr style=\"text-align: right;\">\n",
              "      <th></th>\n",
              "      <th>airline</th>\n",
              "      <th>dep_time</th>\n",
              "      <th>arr_time</th>\n",
              "      <th>type</th>\n",
              "      <th>flight_month</th>\n",
              "      <th>week_day_of_flight</th>\n",
              "      <th>num_of_hours_taken</th>\n",
              "      <th>num_of_stops</th>\n",
              "      <th>distance_between_2_cities</th>\n",
              "      <th>source</th>\n",
              "      <th>destination</th>\n",
              "      <th>formatted_price</th>\n",
              "    </tr>\n",
              "  </thead>\n",
              "  <tbody>\n",
              "    <tr>\n",
              "      <th>6760</th>\n",
              "      <td>1</td>\n",
              "      <td>1</td>\n",
              "      <td>3</td>\n",
              "      <td>0</td>\n",
              "      <td>2</td>\n",
              "      <td>4</td>\n",
              "      <td>2</td>\n",
              "      <td>0</td>\n",
              "      <td>0.653497</td>\n",
              "      <td>1</td>\n",
              "      <td>3</td>\n",
              "      <td>5956</td>\n",
              "    </tr>\n",
              "    <tr>\n",
              "      <th>167590</th>\n",
              "      <td>1</td>\n",
              "      <td>1</td>\n",
              "      <td>2</td>\n",
              "      <td>0</td>\n",
              "      <td>2</td>\n",
              "      <td>4</td>\n",
              "      <td>10</td>\n",
              "      <td>1</td>\n",
              "      <td>0.985014</td>\n",
              "      <td>1</td>\n",
              "      <td>4</td>\n",
              "      <td>7423</td>\n",
              "    </tr>\n",
              "    <tr>\n",
              "      <th>5914</th>\n",
              "      <td>1</td>\n",
              "      <td>1</td>\n",
              "      <td>2</td>\n",
              "      <td>0</td>\n",
              "      <td>2</td>\n",
              "      <td>4</td>\n",
              "      <td>11</td>\n",
              "      <td>1</td>\n",
              "      <td>0.985014</td>\n",
              "      <td>1</td>\n",
              "      <td>4</td>\n",
              "      <td>21343</td>\n",
              "    </tr>\n",
              "    <tr>\n",
              "      <th>94844</th>\n",
              "      <td>1</td>\n",
              "      <td>1</td>\n",
              "      <td>2</td>\n",
              "      <td>0</td>\n",
              "      <td>2</td>\n",
              "      <td>4</td>\n",
              "      <td>7</td>\n",
              "      <td>1</td>\n",
              "      <td>0.985014</td>\n",
              "      <td>1</td>\n",
              "      <td>4</td>\n",
              "      <td>7423</td>\n",
              "    </tr>\n",
              "    <tr>\n",
              "      <th>96663</th>\n",
              "      <td>1</td>\n",
              "      <td>1</td>\n",
              "      <td>4</td>\n",
              "      <td>0</td>\n",
              "      <td>2</td>\n",
              "      <td>4</td>\n",
              "      <td>14</td>\n",
              "      <td>1</td>\n",
              "      <td>0.985014</td>\n",
              "      <td>1</td>\n",
              "      <td>4</td>\n",
              "      <td>21343</td>\n",
              "    </tr>\n",
              "    <tr>\n",
              "      <th>...</th>\n",
              "      <td>...</td>\n",
              "      <td>...</td>\n",
              "      <td>...</td>\n",
              "      <td>...</td>\n",
              "      <td>...</td>\n",
              "      <td>...</td>\n",
              "      <td>...</td>\n",
              "      <td>...</td>\n",
              "      <td>...</td>\n",
              "      <td>...</td>\n",
              "      <td>...</td>\n",
              "      <td>...</td>\n",
              "    </tr>\n",
              "    <tr>\n",
              "      <th>132751</th>\n",
              "      <td>1</td>\n",
              "      <td>4</td>\n",
              "      <td>3</td>\n",
              "      <td>0</td>\n",
              "      <td>3</td>\n",
              "      <td>2</td>\n",
              "      <td>8</td>\n",
              "      <td>1</td>\n",
              "      <td>0.984105</td>\n",
              "      <td>3</td>\n",
              "      <td>6</td>\n",
              "      <td>5817</td>\n",
              "    </tr>\n",
              "    <tr>\n",
              "      <th>133933</th>\n",
              "      <td>2</td>\n",
              "      <td>4</td>\n",
              "      <td>3</td>\n",
              "      <td>0</td>\n",
              "      <td>3</td>\n",
              "      <td>2</td>\n",
              "      <td>8</td>\n",
              "      <td>1</td>\n",
              "      <td>0.676203</td>\n",
              "      <td>5</td>\n",
              "      <td>2</td>\n",
              "      <td>3401</td>\n",
              "    </tr>\n",
              "    <tr>\n",
              "      <th>154207</th>\n",
              "      <td>1</td>\n",
              "      <td>4</td>\n",
              "      <td>1</td>\n",
              "      <td>0</td>\n",
              "      <td>3</td>\n",
              "      <td>2</td>\n",
              "      <td>3</td>\n",
              "      <td>0</td>\n",
              "      <td>0.985014</td>\n",
              "      <td>4</td>\n",
              "      <td>1</td>\n",
              "      <td>4500</td>\n",
              "    </tr>\n",
              "    <tr>\n",
              "      <th>154583</th>\n",
              "      <td>1</td>\n",
              "      <td>4</td>\n",
              "      <td>1</td>\n",
              "      <td>0</td>\n",
              "      <td>3</td>\n",
              "      <td>2</td>\n",
              "      <td>2</td>\n",
              "      <td>0</td>\n",
              "      <td>0.653497</td>\n",
              "      <td>3</td>\n",
              "      <td>1</td>\n",
              "      <td>2339</td>\n",
              "    </tr>\n",
              "    <tr>\n",
              "      <th>183172</th>\n",
              "      <td>2</td>\n",
              "      <td>4</td>\n",
              "      <td>3</td>\n",
              "      <td>0</td>\n",
              "      <td>3</td>\n",
              "      <td>2</td>\n",
              "      <td>6</td>\n",
              "      <td>1</td>\n",
              "      <td>0.708447</td>\n",
              "      <td>5</td>\n",
              "      <td>4</td>\n",
              "      <td>3860</td>\n",
              "    </tr>\n",
              "  </tbody>\n",
              "</table>\n",
              "<p>240208 rows × 12 columns</p>\n",
              "</div>\n",
              "      <button class=\"colab-df-convert\" onclick=\"convertToInteractive('df-28db33b5-6237-4bcb-b998-b9bf373abf11')\"\n",
              "              title=\"Convert this dataframe to an interactive table.\"\n",
              "              style=\"display:none;\">\n",
              "        \n",
              "  <svg xmlns=\"http://www.w3.org/2000/svg\" height=\"24px\"viewBox=\"0 0 24 24\"\n",
              "       width=\"24px\">\n",
              "    <path d=\"M0 0h24v24H0V0z\" fill=\"none\"/>\n",
              "    <path d=\"M18.56 5.44l.94 2.06.94-2.06 2.06-.94-2.06-.94-.94-2.06-.94 2.06-2.06.94zm-11 1L8.5 8.5l.94-2.06 2.06-.94-2.06-.94L8.5 2.5l-.94 2.06-2.06.94zm10 10l.94 2.06.94-2.06 2.06-.94-2.06-.94-.94-2.06-.94 2.06-2.06.94z\"/><path d=\"M17.41 7.96l-1.37-1.37c-.4-.4-.92-.59-1.43-.59-.52 0-1.04.2-1.43.59L10.3 9.45l-7.72 7.72c-.78.78-.78 2.05 0 2.83L4 21.41c.39.39.9.59 1.41.59.51 0 1.02-.2 1.41-.59l7.78-7.78 2.81-2.81c.8-.78.8-2.07 0-2.86zM5.41 20L4 18.59l7.72-7.72 1.47 1.35L5.41 20z\"/>\n",
              "  </svg>\n",
              "      </button>\n",
              "      \n",
              "  <style>\n",
              "    .colab-df-container {\n",
              "      display:flex;\n",
              "      flex-wrap:wrap;\n",
              "      gap: 12px;\n",
              "    }\n",
              "\n",
              "    .colab-df-convert {\n",
              "      background-color: #E8F0FE;\n",
              "      border: none;\n",
              "      border-radius: 50%;\n",
              "      cursor: pointer;\n",
              "      display: none;\n",
              "      fill: #1967D2;\n",
              "      height: 32px;\n",
              "      padding: 0 0 0 0;\n",
              "      width: 32px;\n",
              "    }\n",
              "\n",
              "    .colab-df-convert:hover {\n",
              "      background-color: #E2EBFA;\n",
              "      box-shadow: 0px 1px 2px rgba(60, 64, 67, 0.3), 0px 1px 3px 1px rgba(60, 64, 67, 0.15);\n",
              "      fill: #174EA6;\n",
              "    }\n",
              "\n",
              "    [theme=dark] .colab-df-convert {\n",
              "      background-color: #3B4455;\n",
              "      fill: #D2E3FC;\n",
              "    }\n",
              "\n",
              "    [theme=dark] .colab-df-convert:hover {\n",
              "      background-color: #434B5C;\n",
              "      box-shadow: 0px 1px 3px 1px rgba(0, 0, 0, 0.15);\n",
              "      filter: drop-shadow(0px 1px 2px rgba(0, 0, 0, 0.3));\n",
              "      fill: #FFFFFF;\n",
              "    }\n",
              "  </style>\n",
              "\n",
              "      <script>\n",
              "        const buttonEl =\n",
              "          document.querySelector('#df-28db33b5-6237-4bcb-b998-b9bf373abf11 button.colab-df-convert');\n",
              "        buttonEl.style.display =\n",
              "          google.colab.kernel.accessAllowed ? 'block' : 'none';\n",
              "\n",
              "        async function convertToInteractive(key) {\n",
              "          const element = document.querySelector('#df-28db33b5-6237-4bcb-b998-b9bf373abf11');\n",
              "          const dataTable =\n",
              "            await google.colab.kernel.invokeFunction('convertToInteractive',\n",
              "                                                     [key], {});\n",
              "          if (!dataTable) return;\n",
              "\n",
              "          const docLinkHtml = 'Like what you see? Visit the ' +\n",
              "            '<a target=\"_blank\" href=https://colab.research.google.com/notebooks/data_table.ipynb>data table notebook</a>'\n",
              "            + ' to learn more about interactive tables.';\n",
              "          element.innerHTML = '';\n",
              "          dataTable['output_type'] = 'display_data';\n",
              "          await google.colab.output.renderOutput(dataTable, element);\n",
              "          const docLink = document.createElement('div');\n",
              "          docLink.innerHTML = docLinkHtml;\n",
              "          element.appendChild(docLink);\n",
              "        }\n",
              "      </script>\n",
              "    </div>\n",
              "  </div>\n",
              "  "
            ]
          },
          "metadata": {},
          "execution_count": 184
        }
      ]
    },
    {
      "cell_type": "code",
      "source": [
        "label = dataset['formatted_price']\n",
        "dataset.drop(columns=['formatted_price'],axis=1,inplace=True)\n",
        "features = dataset.copy ()"
      ],
      "metadata": {
        "id": "A5FjDAngc3eB"
      },
      "execution_count": 186,
      "outputs": []
    },
    {
      "cell_type": "code",
      "source": [
        ""
      ],
      "metadata": {
        "id": "E8qSNm82dEHV"
      },
      "execution_count": null,
      "outputs": []
    }
  ]
}