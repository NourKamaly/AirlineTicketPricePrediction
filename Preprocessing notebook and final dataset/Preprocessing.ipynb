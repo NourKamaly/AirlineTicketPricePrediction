{
  "nbformat": 4,
  "nbformat_minor": 0,
  "metadata": {
    "colab": {
      "name": "Preprocessing.ipynb",
      "provenance": [],
      "collapsed_sections": []
    },
    "kernelspec": {
      "name": "python3",
      "display_name": "Python 3"
    },
    "language_info": {
      "name": "python"
    },
    "accelerator": "GPU"
  },
  "cells": [
    {
      "cell_type": "markdown",
      "source": [
        "# **Time Series Forcasting**"
      ],
      "metadata": {
        "id": "wT0eQsd8rEkQ"
      }
    },
    {
      "cell_type": "code",
      "execution_count": 1,
      "metadata": {
        "id": "HLURwKam3p8A",
        "colab": {
          "base_uri": "https://localhost:8080/"
        },
        "outputId": "b6068493-f7ce-4856-8329-b0d824ec2199"
      },
      "outputs": [
        {
          "output_type": "stream",
          "name": "stdout",
          "text": [
            "Drive already mounted at /content/drive/; to attempt to forcibly remount, call drive.mount(\"/content/drive/\", force_remount=True).\n"
          ]
        }
      ],
      "source": [
        "from google.colab import drive\n",
        "drive.mount('/content/drive/')"
      ]
    },
    {
      "cell_type": "code",
      "source": [
        "import numpy as np\n",
        "import pandas as pd\n",
        "from scipy import stats\n",
        "import scipy \n",
        "import matplotlib.pyplot as plt\n",
        "from sklearn.preprocessing import MinMaxScaler\n",
        "import ast\n",
        "from scipy.interpolate import make_interp_spline\n",
        "from sklearn import metrics\n",
        "import seaborn as sns\n",
        "from scipy.fft import fft,ifft\n",
        "import warnings\n",
        "from xgboost import XGBRegressor\n",
        "warnings.filterwarnings(\"ignore\")"
      ],
      "metadata": {
        "id": "v9w8j_Bc6R3T"
      },
      "execution_count": 2,
      "outputs": []
    },
    {
      "cell_type": "code",
      "source": [
        "dataset = pd.read_csv('/content/drive/MyDrive/Deep_learning/airline-price-prediction.csv')\n",
        "dataset.head()"
      ],
      "metadata": {
        "colab": {
          "base_uri": "https://localhost:8080/",
          "height": 337
        },
        "id": "t_8-QaAi6gYQ",
        "outputId": "6746c1ef-017e-4e92-95f5-d5750f0e341a"
      },
      "execution_count": 3,
      "outputs": [
        {
          "output_type": "execute_result",
          "data": {
            "text/plain": [
              "         date   airline ch_code  num_code dep_time time_taken  \\\n",
              "0    5/3/2022   Vistara      UK       812     9:45    10h 10m   \n",
              "1  18-03-2022   Vistara      UK       975     5:45    06h 30m   \n",
              "2    9/3/2022  GO FIRST      G8      7537    14:30    08h 10m   \n",
              "3  15-03-2022  GO FIRST      G8       287    10:40    09h 40m   \n",
              "4  22-03-2022   Vistara      UK       826    12:30    07h 25m   \n",
              "\n",
              "                                                stop arr_time      type  \\\n",
              "0  1-stop\\n\\t\\t\\t\\t\\t\\t\\t\\t\\t\\t\\t\\t\\n\\t\\t\\t\\t\\t\\t...    19:55  business   \n",
              "1  1-stop\\n\\t\\t\\t\\t\\t\\t\\t\\t\\t\\t\\t\\t\\n\\t\\t\\t\\t\\t\\t...    12:15  business   \n",
              "2  1-stop\\n\\t\\t\\t\\t\\t\\t\\t\\t\\t\\t\\t\\t\\n\\t\\t\\t\\t\\t\\t...    22:40   economy   \n",
              "3  1-stop\\n\\t\\t\\t\\t\\t\\t\\t\\t\\t\\t\\t\\t\\n\\t\\t\\t\\t\\t\\t...    20:20   economy   \n",
              "4  1-stop\\n\\t\\t\\t\\t\\t\\t\\t\\t\\t\\t\\t\\t\\n\\t\\t\\t\\t\\t\\t...    19:55   economy   \n",
              "\n",
              "                                               route   price  \n",
              "0  {'source': 'Bangalore', 'destination': 'Hydera...  56,588  \n",
              "1    {'source': 'Delhi', 'destination': 'Hyderabad'}  59,649  \n",
              "2   {'source': 'Mumbai', 'destination': 'Hyderabad'}   3,916  \n",
              "3       {'source': 'Mumbai', 'destination': 'Delhi'}   6,031  \n",
              "4    {'source': 'Chennai', 'destination': 'Kolkata'}   7,081  "
            ],
            "text/html": [
              "\n",
              "  <div id=\"df-e859d3b9-0d07-422a-8246-4233e0dba45f\">\n",
              "    <div class=\"colab-df-container\">\n",
              "      <div>\n",
              "<style scoped>\n",
              "    .dataframe tbody tr th:only-of-type {\n",
              "        vertical-align: middle;\n",
              "    }\n",
              "\n",
              "    .dataframe tbody tr th {\n",
              "        vertical-align: top;\n",
              "    }\n",
              "\n",
              "    .dataframe thead th {\n",
              "        text-align: right;\n",
              "    }\n",
              "</style>\n",
              "<table border=\"1\" class=\"dataframe\">\n",
              "  <thead>\n",
              "    <tr style=\"text-align: right;\">\n",
              "      <th></th>\n",
              "      <th>date</th>\n",
              "      <th>airline</th>\n",
              "      <th>ch_code</th>\n",
              "      <th>num_code</th>\n",
              "      <th>dep_time</th>\n",
              "      <th>time_taken</th>\n",
              "      <th>stop</th>\n",
              "      <th>arr_time</th>\n",
              "      <th>type</th>\n",
              "      <th>route</th>\n",
              "      <th>price</th>\n",
              "    </tr>\n",
              "  </thead>\n",
              "  <tbody>\n",
              "    <tr>\n",
              "      <th>0</th>\n",
              "      <td>5/3/2022</td>\n",
              "      <td>Vistara</td>\n",
              "      <td>UK</td>\n",
              "      <td>812</td>\n",
              "      <td>9:45</td>\n",
              "      <td>10h 10m</td>\n",
              "      <td>1-stop\\n\\t\\t\\t\\t\\t\\t\\t\\t\\t\\t\\t\\t\\n\\t\\t\\t\\t\\t\\t...</td>\n",
              "      <td>19:55</td>\n",
              "      <td>business</td>\n",
              "      <td>{'source': 'Bangalore', 'destination': 'Hydera...</td>\n",
              "      <td>56,588</td>\n",
              "    </tr>\n",
              "    <tr>\n",
              "      <th>1</th>\n",
              "      <td>18-03-2022</td>\n",
              "      <td>Vistara</td>\n",
              "      <td>UK</td>\n",
              "      <td>975</td>\n",
              "      <td>5:45</td>\n",
              "      <td>06h 30m</td>\n",
              "      <td>1-stop\\n\\t\\t\\t\\t\\t\\t\\t\\t\\t\\t\\t\\t\\n\\t\\t\\t\\t\\t\\t...</td>\n",
              "      <td>12:15</td>\n",
              "      <td>business</td>\n",
              "      <td>{'source': 'Delhi', 'destination': 'Hyderabad'}</td>\n",
              "      <td>59,649</td>\n",
              "    </tr>\n",
              "    <tr>\n",
              "      <th>2</th>\n",
              "      <td>9/3/2022</td>\n",
              "      <td>GO FIRST</td>\n",
              "      <td>G8</td>\n",
              "      <td>7537</td>\n",
              "      <td>14:30</td>\n",
              "      <td>08h 10m</td>\n",
              "      <td>1-stop\\n\\t\\t\\t\\t\\t\\t\\t\\t\\t\\t\\t\\t\\n\\t\\t\\t\\t\\t\\t...</td>\n",
              "      <td>22:40</td>\n",
              "      <td>economy</td>\n",
              "      <td>{'source': 'Mumbai', 'destination': 'Hyderabad'}</td>\n",
              "      <td>3,916</td>\n",
              "    </tr>\n",
              "    <tr>\n",
              "      <th>3</th>\n",
              "      <td>15-03-2022</td>\n",
              "      <td>GO FIRST</td>\n",
              "      <td>G8</td>\n",
              "      <td>287</td>\n",
              "      <td>10:40</td>\n",
              "      <td>09h 40m</td>\n",
              "      <td>1-stop\\n\\t\\t\\t\\t\\t\\t\\t\\t\\t\\t\\t\\t\\n\\t\\t\\t\\t\\t\\t...</td>\n",
              "      <td>20:20</td>\n",
              "      <td>economy</td>\n",
              "      <td>{'source': 'Mumbai', 'destination': 'Delhi'}</td>\n",
              "      <td>6,031</td>\n",
              "    </tr>\n",
              "    <tr>\n",
              "      <th>4</th>\n",
              "      <td>22-03-2022</td>\n",
              "      <td>Vistara</td>\n",
              "      <td>UK</td>\n",
              "      <td>826</td>\n",
              "      <td>12:30</td>\n",
              "      <td>07h 25m</td>\n",
              "      <td>1-stop\\n\\t\\t\\t\\t\\t\\t\\t\\t\\t\\t\\t\\t\\n\\t\\t\\t\\t\\t\\t...</td>\n",
              "      <td>19:55</td>\n",
              "      <td>economy</td>\n",
              "      <td>{'source': 'Chennai', 'destination': 'Kolkata'}</td>\n",
              "      <td>7,081</td>\n",
              "    </tr>\n",
              "  </tbody>\n",
              "</table>\n",
              "</div>\n",
              "      <button class=\"colab-df-convert\" onclick=\"convertToInteractive('df-e859d3b9-0d07-422a-8246-4233e0dba45f')\"\n",
              "              title=\"Convert this dataframe to an interactive table.\"\n",
              "              style=\"display:none;\">\n",
              "        \n",
              "  <svg xmlns=\"http://www.w3.org/2000/svg\" height=\"24px\"viewBox=\"0 0 24 24\"\n",
              "       width=\"24px\">\n",
              "    <path d=\"M0 0h24v24H0V0z\" fill=\"none\"/>\n",
              "    <path d=\"M18.56 5.44l.94 2.06.94-2.06 2.06-.94-2.06-.94-.94-2.06-.94 2.06-2.06.94zm-11 1L8.5 8.5l.94-2.06 2.06-.94-2.06-.94L8.5 2.5l-.94 2.06-2.06.94zm10 10l.94 2.06.94-2.06 2.06-.94-2.06-.94-.94-2.06-.94 2.06-2.06.94z\"/><path d=\"M17.41 7.96l-1.37-1.37c-.4-.4-.92-.59-1.43-.59-.52 0-1.04.2-1.43.59L10.3 9.45l-7.72 7.72c-.78.78-.78 2.05 0 2.83L4 21.41c.39.39.9.59 1.41.59.51 0 1.02-.2 1.41-.59l7.78-7.78 2.81-2.81c.8-.78.8-2.07 0-2.86zM5.41 20L4 18.59l7.72-7.72 1.47 1.35L5.41 20z\"/>\n",
              "  </svg>\n",
              "      </button>\n",
              "      \n",
              "  <style>\n",
              "    .colab-df-container {\n",
              "      display:flex;\n",
              "      flex-wrap:wrap;\n",
              "      gap: 12px;\n",
              "    }\n",
              "\n",
              "    .colab-df-convert {\n",
              "      background-color: #E8F0FE;\n",
              "      border: none;\n",
              "      border-radius: 50%;\n",
              "      cursor: pointer;\n",
              "      display: none;\n",
              "      fill: #1967D2;\n",
              "      height: 32px;\n",
              "      padding: 0 0 0 0;\n",
              "      width: 32px;\n",
              "    }\n",
              "\n",
              "    .colab-df-convert:hover {\n",
              "      background-color: #E2EBFA;\n",
              "      box-shadow: 0px 1px 2px rgba(60, 64, 67, 0.3), 0px 1px 3px 1px rgba(60, 64, 67, 0.15);\n",
              "      fill: #174EA6;\n",
              "    }\n",
              "\n",
              "    [theme=dark] .colab-df-convert {\n",
              "      background-color: #3B4455;\n",
              "      fill: #D2E3FC;\n",
              "    }\n",
              "\n",
              "    [theme=dark] .colab-df-convert:hover {\n",
              "      background-color: #434B5C;\n",
              "      box-shadow: 0px 1px 3px 1px rgba(0, 0, 0, 0.15);\n",
              "      filter: drop-shadow(0px 1px 2px rgba(0, 0, 0, 0.3));\n",
              "      fill: #FFFFFF;\n",
              "    }\n",
              "  </style>\n",
              "\n",
              "      <script>\n",
              "        const buttonEl =\n",
              "          document.querySelector('#df-e859d3b9-0d07-422a-8246-4233e0dba45f button.colab-df-convert');\n",
              "        buttonEl.style.display =\n",
              "          google.colab.kernel.accessAllowed ? 'block' : 'none';\n",
              "\n",
              "        async function convertToInteractive(key) {\n",
              "          const element = document.querySelector('#df-e859d3b9-0d07-422a-8246-4233e0dba45f');\n",
              "          const dataTable =\n",
              "            await google.colab.kernel.invokeFunction('convertToInteractive',\n",
              "                                                     [key], {});\n",
              "          if (!dataTable) return;\n",
              "\n",
              "          const docLinkHtml = 'Like what you see? Visit the ' +\n",
              "            '<a target=\"_blank\" href=https://colab.research.google.com/notebooks/data_table.ipynb>data table notebook</a>'\n",
              "            + ' to learn more about interactive tables.';\n",
              "          element.innerHTML = '';\n",
              "          dataTable['output_type'] = 'display_data';\n",
              "          await google.colab.output.renderOutput(dataTable, element);\n",
              "          const docLink = document.createElement('div');\n",
              "          docLink.innerHTML = docLinkHtml;\n",
              "          element.appendChild(docLink);\n",
              "        }\n",
              "      </script>\n",
              "    </div>\n",
              "  </div>\n",
              "  "
            ]
          },
          "metadata": {},
          "execution_count": 3
        }
      ]
    },
    {
      "cell_type": "code",
      "source": [
        "np.sum(dataset.duplicated())"
      ],
      "metadata": {
        "id": "v-nYTbyBVHIQ",
        "colab": {
          "base_uri": "https://localhost:8080/"
        },
        "outputId": "90621d67-476e-4f7f-a6fc-e84667623931"
      },
      "execution_count": 4,
      "outputs": [
        {
          "output_type": "execute_result",
          "data": {
            "text/plain": [
              "0"
            ]
          },
          "metadata": {},
          "execution_count": 4
        }
      ]
    },
    {
      "cell_type": "markdown",
      "source": [
        "Exploring the data types of the features"
      ],
      "metadata": {
        "id": "_LiaccFh_KAV"
      }
    },
    {
      "cell_type": "code",
      "source": [
        "dataset.dtypes"
      ],
      "metadata": {
        "id": "ThMelbkdWlLp",
        "colab": {
          "base_uri": "https://localhost:8080/"
        },
        "outputId": "33e42f9a-bdc1-48dd-b702-ba6476e7e13f"
      },
      "execution_count": 5,
      "outputs": [
        {
          "output_type": "execute_result",
          "data": {
            "text/plain": [
              "date          object\n",
              "airline       object\n",
              "ch_code       object\n",
              "num_code       int64\n",
              "dep_time      object\n",
              "time_taken    object\n",
              "stop          object\n",
              "arr_time      object\n",
              "type          object\n",
              "route         object\n",
              "price         object\n",
              "dtype: object"
            ]
          },
          "metadata": {},
          "execution_count": 5
        }
      ]
    },
    {
      "cell_type": "code",
      "source": [
        "np.sum(dataset.isna())"
      ],
      "metadata": {
        "id": "b7479dxATJMD",
        "colab": {
          "base_uri": "https://localhost:8080/"
        },
        "outputId": "fd879d02-ad13-4cff-face-9da021d6e9e7"
      },
      "execution_count": 6,
      "outputs": [
        {
          "output_type": "execute_result",
          "data": {
            "text/plain": [
              "date          0\n",
              "airline       0\n",
              "ch_code       0\n",
              "num_code      0\n",
              "dep_time      0\n",
              "time_taken    0\n",
              "stop          0\n",
              "arr_time      0\n",
              "type          0\n",
              "route         0\n",
              "price         0\n",
              "dtype: int64"
            ]
          },
          "metadata": {},
          "execution_count": 6
        }
      ]
    },
    {
      "cell_type": "markdown",
      "source": [
        "#These columns are one of 2 things :\n",
        "1. Either a format fix of an original feature\n",
        "2. A new feature I am going to extract from the data"
      ],
      "metadata": {
        "id": "KjGHy86-qbwz"
      }
    },
    {
      "cell_type": "code",
      "source": [
        "dataset['formatted_date'] = 0\n",
        "dataset['source'] = 0\n",
        "dataset['destination'] = 0\n",
        "dataset['flight_day'] = 0\n",
        "dataset['flight_month'] = 0\n",
        "dataset['num_of_stops'] = 0\n",
        "dataset['formatted_price'] =0\n",
        "dataset['num_of_hours_taken'] =0\n",
        "dataset['week_day_of_flight'] = 0\n",
        "dataset['distance_bet_2_countries'] = 0\n",
        "dataset['one_stop_in'] = 'Not Found'"
      ],
      "metadata": {
        "id": "U1mIcmkfEN7f"
      },
      "execution_count": 7,
      "outputs": []
    },
    {
      "cell_type": "markdown",
      "source": [
        "# There were 2 ways to explain to python that date feature was of type datetime, one way was to convert it using pandas to datetime but unfortunately the month and the day were swapped in the new format, so the other approach was to do it manually"
      ],
      "metadata": {
        "id": "TAvRMcKC_XW9"
      }
    },
    {
      "cell_type": "code",
      "source": [
        "def format_dates():\n",
        "  observation = 0\n",
        "  for date in dataset['date']:\n",
        "      dataset['formatted_date'][observation] = date.replace('/','-')\n",
        "      observation += 1"
      ],
      "metadata": {
        "id": "R2N6lRQ1OiWY"
      },
      "execution_count": 8,
      "outputs": []
    },
    {
      "cell_type": "markdown",
      "source": [
        "# Extracting the day of the month and the month, and choosing a datetime format where the month is explicitly mentioned and there is no way for error in swapping the day with the month"
      ],
      "metadata": {
        "id": "wF0ROhHa_6Uf"
      }
    },
    {
      "cell_type": "code",
      "source": [
        "def extract_day_month():\n",
        "  observation = 0\n",
        "  for date in dataset['formatted_date']:\n",
        "       format = date.split('-')\n",
        "       dataset['flight_day'][observation] = int(format[0])\n",
        "       dataset['flight_month'][observation] =int(format[1])\n",
        "       if format[1]== '2' or format[1]== '02':\n",
        "         dataset['formatted_date'][observation] = 'February ' + format[0] + ', '+ format[2]\n",
        "       else :\n",
        "         dataset['formatted_date'][observation] = 'March ' + format[0] + ', '+ format[2]\n",
        "       observation+=1"
      ],
      "metadata": {
        "id": "bsvv2_0Aet8f"
      },
      "execution_count": 9,
      "outputs": []
    },
    {
      "cell_type": "markdown",
      "source": [
        "# Pandas datetime has a lot of features that can be extracted easily from the date, like the day of the week which I believe is an important feature"
      ],
      "metadata": {
        "id": "4smu8sc4ATQd"
      }
    },
    {
      "cell_type": "code",
      "source": [
        "def extract_weekday():\n",
        "  observation =0\n",
        "  dataset['formatted_date'] = pd.to_datetime(dataset['formatted_date'])\n",
        "  for day in dataset['formatted_date']:\n",
        "      dataset['week_day_of_flight'][observation]= day.day_name()\n",
        "      observation +=1"
      ],
      "metadata": {
        "id": "PNjw9Skne62l"
      },
      "execution_count": 10,
      "outputs": []
    },
    {
      "cell_type": "code",
      "source": [
        "format_dates()"
      ],
      "metadata": {
        "id": "SEAt4JySRKwS"
      },
      "execution_count": 11,
      "outputs": []
    },
    {
      "cell_type": "code",
      "source": [
        "extract_day_month()"
      ],
      "metadata": {
        "id": "5Cxi4ZzbfOhR"
      },
      "execution_count": 12,
      "outputs": []
    },
    {
      "cell_type": "code",
      "source": [
        "extract_weekday()"
      ],
      "metadata": {
        "id": "rwTZaBSWfQZP"
      },
      "execution_count": 13,
      "outputs": []
    },
    {
      "cell_type": "code",
      "source": [
        "dataset.head()"
      ],
      "metadata": {
        "id": "rAt3r-L4Bilf",
        "colab": {
          "base_uri": "https://localhost:8080/",
          "height": 560
        },
        "outputId": "f9da4669-b70e-4314-c7ef-ad82834e9a5a"
      },
      "execution_count": 14,
      "outputs": [
        {
          "output_type": "execute_result",
          "data": {
            "text/plain": [
              "         date   airline ch_code  num_code dep_time time_taken  \\\n",
              "0    5/3/2022   Vistara      UK       812     9:45    10h 10m   \n",
              "1  18-03-2022   Vistara      UK       975     5:45    06h 30m   \n",
              "2    9/3/2022  GO FIRST      G8      7537    14:30    08h 10m   \n",
              "3  15-03-2022  GO FIRST      G8       287    10:40    09h 40m   \n",
              "4  22-03-2022   Vistara      UK       826    12:30    07h 25m   \n",
              "\n",
              "                                                stop arr_time      type  \\\n",
              "0  1-stop\\n\\t\\t\\t\\t\\t\\t\\t\\t\\t\\t\\t\\t\\n\\t\\t\\t\\t\\t\\t...    19:55  business   \n",
              "1  1-stop\\n\\t\\t\\t\\t\\t\\t\\t\\t\\t\\t\\t\\t\\n\\t\\t\\t\\t\\t\\t...    12:15  business   \n",
              "2  1-stop\\n\\t\\t\\t\\t\\t\\t\\t\\t\\t\\t\\t\\t\\n\\t\\t\\t\\t\\t\\t...    22:40   economy   \n",
              "3  1-stop\\n\\t\\t\\t\\t\\t\\t\\t\\t\\t\\t\\t\\t\\n\\t\\t\\t\\t\\t\\t...    20:20   economy   \n",
              "4  1-stop\\n\\t\\t\\t\\t\\t\\t\\t\\t\\t\\t\\t\\t\\n\\t\\t\\t\\t\\t\\t...    19:55   economy   \n",
              "\n",
              "                                               route  ... source destination  \\\n",
              "0  {'source': 'Bangalore', 'destination': 'Hydera...  ...      0           0   \n",
              "1    {'source': 'Delhi', 'destination': 'Hyderabad'}  ...      0           0   \n",
              "2   {'source': 'Mumbai', 'destination': 'Hyderabad'}  ...      0           0   \n",
              "3       {'source': 'Mumbai', 'destination': 'Delhi'}  ...      0           0   \n",
              "4    {'source': 'Chennai', 'destination': 'Kolkata'}  ...      0           0   \n",
              "\n",
              "   flight_day  flight_month  num_of_stops  formatted_price  \\\n",
              "0           5             3             0                0   \n",
              "1          18             3             0                0   \n",
              "2           9             3             0                0   \n",
              "3          15             3             0                0   \n",
              "4          22             3             0                0   \n",
              "\n",
              "   num_of_hours_taken  week_day_of_flight  distance_bet_2_countries  \\\n",
              "0                   0            Saturday                         0   \n",
              "1                   0              Friday                         0   \n",
              "2                   0           Wednesday                         0   \n",
              "3                   0             Tuesday                         0   \n",
              "4                   0             Tuesday                         0   \n",
              "\n",
              "  one_stop_in  \n",
              "0   Not Found  \n",
              "1   Not Found  \n",
              "2   Not Found  \n",
              "3   Not Found  \n",
              "4   Not Found  \n",
              "\n",
              "[5 rows x 22 columns]"
            ],
            "text/html": [
              "\n",
              "  <div id=\"df-515b6361-166f-498a-9d01-d0de92f63564\">\n",
              "    <div class=\"colab-df-container\">\n",
              "      <div>\n",
              "<style scoped>\n",
              "    .dataframe tbody tr th:only-of-type {\n",
              "        vertical-align: middle;\n",
              "    }\n",
              "\n",
              "    .dataframe tbody tr th {\n",
              "        vertical-align: top;\n",
              "    }\n",
              "\n",
              "    .dataframe thead th {\n",
              "        text-align: right;\n",
              "    }\n",
              "</style>\n",
              "<table border=\"1\" class=\"dataframe\">\n",
              "  <thead>\n",
              "    <tr style=\"text-align: right;\">\n",
              "      <th></th>\n",
              "      <th>date</th>\n",
              "      <th>airline</th>\n",
              "      <th>ch_code</th>\n",
              "      <th>num_code</th>\n",
              "      <th>dep_time</th>\n",
              "      <th>time_taken</th>\n",
              "      <th>stop</th>\n",
              "      <th>arr_time</th>\n",
              "      <th>type</th>\n",
              "      <th>route</th>\n",
              "      <th>...</th>\n",
              "      <th>source</th>\n",
              "      <th>destination</th>\n",
              "      <th>flight_day</th>\n",
              "      <th>flight_month</th>\n",
              "      <th>num_of_stops</th>\n",
              "      <th>formatted_price</th>\n",
              "      <th>num_of_hours_taken</th>\n",
              "      <th>week_day_of_flight</th>\n",
              "      <th>distance_bet_2_countries</th>\n",
              "      <th>one_stop_in</th>\n",
              "    </tr>\n",
              "  </thead>\n",
              "  <tbody>\n",
              "    <tr>\n",
              "      <th>0</th>\n",
              "      <td>5/3/2022</td>\n",
              "      <td>Vistara</td>\n",
              "      <td>UK</td>\n",
              "      <td>812</td>\n",
              "      <td>9:45</td>\n",
              "      <td>10h 10m</td>\n",
              "      <td>1-stop\\n\\t\\t\\t\\t\\t\\t\\t\\t\\t\\t\\t\\t\\n\\t\\t\\t\\t\\t\\t...</td>\n",
              "      <td>19:55</td>\n",
              "      <td>business</td>\n",
              "      <td>{'source': 'Bangalore', 'destination': 'Hydera...</td>\n",
              "      <td>...</td>\n",
              "      <td>0</td>\n",
              "      <td>0</td>\n",
              "      <td>5</td>\n",
              "      <td>3</td>\n",
              "      <td>0</td>\n",
              "      <td>0</td>\n",
              "      <td>0</td>\n",
              "      <td>Saturday</td>\n",
              "      <td>0</td>\n",
              "      <td>Not Found</td>\n",
              "    </tr>\n",
              "    <tr>\n",
              "      <th>1</th>\n",
              "      <td>18-03-2022</td>\n",
              "      <td>Vistara</td>\n",
              "      <td>UK</td>\n",
              "      <td>975</td>\n",
              "      <td>5:45</td>\n",
              "      <td>06h 30m</td>\n",
              "      <td>1-stop\\n\\t\\t\\t\\t\\t\\t\\t\\t\\t\\t\\t\\t\\n\\t\\t\\t\\t\\t\\t...</td>\n",
              "      <td>12:15</td>\n",
              "      <td>business</td>\n",
              "      <td>{'source': 'Delhi', 'destination': 'Hyderabad'}</td>\n",
              "      <td>...</td>\n",
              "      <td>0</td>\n",
              "      <td>0</td>\n",
              "      <td>18</td>\n",
              "      <td>3</td>\n",
              "      <td>0</td>\n",
              "      <td>0</td>\n",
              "      <td>0</td>\n",
              "      <td>Friday</td>\n",
              "      <td>0</td>\n",
              "      <td>Not Found</td>\n",
              "    </tr>\n",
              "    <tr>\n",
              "      <th>2</th>\n",
              "      <td>9/3/2022</td>\n",
              "      <td>GO FIRST</td>\n",
              "      <td>G8</td>\n",
              "      <td>7537</td>\n",
              "      <td>14:30</td>\n",
              "      <td>08h 10m</td>\n",
              "      <td>1-stop\\n\\t\\t\\t\\t\\t\\t\\t\\t\\t\\t\\t\\t\\n\\t\\t\\t\\t\\t\\t...</td>\n",
              "      <td>22:40</td>\n",
              "      <td>economy</td>\n",
              "      <td>{'source': 'Mumbai', 'destination': 'Hyderabad'}</td>\n",
              "      <td>...</td>\n",
              "      <td>0</td>\n",
              "      <td>0</td>\n",
              "      <td>9</td>\n",
              "      <td>3</td>\n",
              "      <td>0</td>\n",
              "      <td>0</td>\n",
              "      <td>0</td>\n",
              "      <td>Wednesday</td>\n",
              "      <td>0</td>\n",
              "      <td>Not Found</td>\n",
              "    </tr>\n",
              "    <tr>\n",
              "      <th>3</th>\n",
              "      <td>15-03-2022</td>\n",
              "      <td>GO FIRST</td>\n",
              "      <td>G8</td>\n",
              "      <td>287</td>\n",
              "      <td>10:40</td>\n",
              "      <td>09h 40m</td>\n",
              "      <td>1-stop\\n\\t\\t\\t\\t\\t\\t\\t\\t\\t\\t\\t\\t\\n\\t\\t\\t\\t\\t\\t...</td>\n",
              "      <td>20:20</td>\n",
              "      <td>economy</td>\n",
              "      <td>{'source': 'Mumbai', 'destination': 'Delhi'}</td>\n",
              "      <td>...</td>\n",
              "      <td>0</td>\n",
              "      <td>0</td>\n",
              "      <td>15</td>\n",
              "      <td>3</td>\n",
              "      <td>0</td>\n",
              "      <td>0</td>\n",
              "      <td>0</td>\n",
              "      <td>Tuesday</td>\n",
              "      <td>0</td>\n",
              "      <td>Not Found</td>\n",
              "    </tr>\n",
              "    <tr>\n",
              "      <th>4</th>\n",
              "      <td>22-03-2022</td>\n",
              "      <td>Vistara</td>\n",
              "      <td>UK</td>\n",
              "      <td>826</td>\n",
              "      <td>12:30</td>\n",
              "      <td>07h 25m</td>\n",
              "      <td>1-stop\\n\\t\\t\\t\\t\\t\\t\\t\\t\\t\\t\\t\\t\\n\\t\\t\\t\\t\\t\\t...</td>\n",
              "      <td>19:55</td>\n",
              "      <td>economy</td>\n",
              "      <td>{'source': 'Chennai', 'destination': 'Kolkata'}</td>\n",
              "      <td>...</td>\n",
              "      <td>0</td>\n",
              "      <td>0</td>\n",
              "      <td>22</td>\n",
              "      <td>3</td>\n",
              "      <td>0</td>\n",
              "      <td>0</td>\n",
              "      <td>0</td>\n",
              "      <td>Tuesday</td>\n",
              "      <td>0</td>\n",
              "      <td>Not Found</td>\n",
              "    </tr>\n",
              "  </tbody>\n",
              "</table>\n",
              "<p>5 rows × 22 columns</p>\n",
              "</div>\n",
              "      <button class=\"colab-df-convert\" onclick=\"convertToInteractive('df-515b6361-166f-498a-9d01-d0de92f63564')\"\n",
              "              title=\"Convert this dataframe to an interactive table.\"\n",
              "              style=\"display:none;\">\n",
              "        \n",
              "  <svg xmlns=\"http://www.w3.org/2000/svg\" height=\"24px\"viewBox=\"0 0 24 24\"\n",
              "       width=\"24px\">\n",
              "    <path d=\"M0 0h24v24H0V0z\" fill=\"none\"/>\n",
              "    <path d=\"M18.56 5.44l.94 2.06.94-2.06 2.06-.94-2.06-.94-.94-2.06-.94 2.06-2.06.94zm-11 1L8.5 8.5l.94-2.06 2.06-.94-2.06-.94L8.5 2.5l-.94 2.06-2.06.94zm10 10l.94 2.06.94-2.06 2.06-.94-2.06-.94-.94-2.06-.94 2.06-2.06.94z\"/><path d=\"M17.41 7.96l-1.37-1.37c-.4-.4-.92-.59-1.43-.59-.52 0-1.04.2-1.43.59L10.3 9.45l-7.72 7.72c-.78.78-.78 2.05 0 2.83L4 21.41c.39.39.9.59 1.41.59.51 0 1.02-.2 1.41-.59l7.78-7.78 2.81-2.81c.8-.78.8-2.07 0-2.86zM5.41 20L4 18.59l7.72-7.72 1.47 1.35L5.41 20z\"/>\n",
              "  </svg>\n",
              "      </button>\n",
              "      \n",
              "  <style>\n",
              "    .colab-df-container {\n",
              "      display:flex;\n",
              "      flex-wrap:wrap;\n",
              "      gap: 12px;\n",
              "    }\n",
              "\n",
              "    .colab-df-convert {\n",
              "      background-color: #E8F0FE;\n",
              "      border: none;\n",
              "      border-radius: 50%;\n",
              "      cursor: pointer;\n",
              "      display: none;\n",
              "      fill: #1967D2;\n",
              "      height: 32px;\n",
              "      padding: 0 0 0 0;\n",
              "      width: 32px;\n",
              "    }\n",
              "\n",
              "    .colab-df-convert:hover {\n",
              "      background-color: #E2EBFA;\n",
              "      box-shadow: 0px 1px 2px rgba(60, 64, 67, 0.3), 0px 1px 3px 1px rgba(60, 64, 67, 0.15);\n",
              "      fill: #174EA6;\n",
              "    }\n",
              "\n",
              "    [theme=dark] .colab-df-convert {\n",
              "      background-color: #3B4455;\n",
              "      fill: #D2E3FC;\n",
              "    }\n",
              "\n",
              "    [theme=dark] .colab-df-convert:hover {\n",
              "      background-color: #434B5C;\n",
              "      box-shadow: 0px 1px 3px 1px rgba(0, 0, 0, 0.15);\n",
              "      filter: drop-shadow(0px 1px 2px rgba(0, 0, 0, 0.3));\n",
              "      fill: #FFFFFF;\n",
              "    }\n",
              "  </style>\n",
              "\n",
              "      <script>\n",
              "        const buttonEl =\n",
              "          document.querySelector('#df-515b6361-166f-498a-9d01-d0de92f63564 button.colab-df-convert');\n",
              "        buttonEl.style.display =\n",
              "          google.colab.kernel.accessAllowed ? 'block' : 'none';\n",
              "\n",
              "        async function convertToInteractive(key) {\n",
              "          const element = document.querySelector('#df-515b6361-166f-498a-9d01-d0de92f63564');\n",
              "          const dataTable =\n",
              "            await google.colab.kernel.invokeFunction('convertToInteractive',\n",
              "                                                     [key], {});\n",
              "          if (!dataTable) return;\n",
              "\n",
              "          const docLinkHtml = 'Like what you see? Visit the ' +\n",
              "            '<a target=\"_blank\" href=https://colab.research.google.com/notebooks/data_table.ipynb>data table notebook</a>'\n",
              "            + ' to learn more about interactive tables.';\n",
              "          element.innerHTML = '';\n",
              "          dataTable['output_type'] = 'display_data';\n",
              "          await google.colab.output.renderOutput(dataTable, element);\n",
              "          const docLink = document.createElement('div');\n",
              "          docLink.innerHTML = docLinkHtml;\n",
              "          element.appendChild(docLink);\n",
              "        }\n",
              "      </script>\n",
              "    </div>\n",
              "  </div>\n",
              "  "
            ]
          },
          "metadata": {},
          "execution_count": 14
        }
      ]
    },
    {
      "cell_type": "markdown",
      "source": [
        "# Here I am using the abstract syntax tree library to change the strings in route feature to a dictionary so that accessing the source and destination would be easy"
      ],
      "metadata": {
        "id": "opeA3AXSBRJ8"
      }
    },
    {
      "cell_type": "code",
      "source": [
        "def split_route():\n",
        "  observation = 0\n",
        "  for route in dataset['route']:\n",
        "      flight = ast.literal_eval(route)\n",
        "      dataset['source'][observation] = flight['source']\n",
        "      dataset['destination'][observation] = flight['destination']\n",
        "      observation +=1"
      ],
      "metadata": {
        "id": "5KSBaDNmL8bw"
      },
      "execution_count": 15,
      "outputs": []
    },
    {
      "cell_type": "code",
      "source": [
        "split_route()"
      ],
      "metadata": {
        "id": "xRKq_ugeNZVI"
      },
      "execution_count": 16,
      "outputs": []
    },
    {
      "cell_type": "markdown",
      "source": [
        "# The distance between the 2 countries might be and important feature\n",
        "(yes I searched for the distance between all of them :) , also the distance is in kilometers)"
      ],
      "metadata": {
        "id": "LbuJw5YN6tzf"
      }
    },
    {
      "cell_type": "code",
      "source": [
        "def calculate_distance():\n",
        "  distances = dict()\n",
        "  distances['Mumbai','Kolkata'] = 2167\n",
        "  distances['Mumbai','Hyderabad'] = 721\n",
        "  distances['Mumbai','Chennai'] = 1344\n",
        "  distances['Mumbai','Bangalore'] = 995\n",
        "  distances['Mumbai','Delhi'] = 1439\n",
        "  distances['Delhi','Bangalore'] = 2169\n",
        "  distances['Delhi','Kolkata'] = 1554\n",
        "  distances['Delhi','Hyderabad'] = 1579\n",
        "  distances['Delhi','Chennai'] = 2202\n",
        "  distances['Bangalore','Kolkata']= 1560\n",
        "  distances['Bangalore','Hyderabad'] = 569\n",
        "  distances['Bangalore','Chennai'] = 348\n",
        "  distances['Kolkata','Hyderabad'] = 1489\n",
        "  distances['Kolkata','Chennai'] = 1663\n",
        "  distances['Hyderabad','Chennai'] = 628\n",
        "  for observation in range(len(dataset['source'])):\n",
        "     try :\n",
        "       dist = distances[dataset['destination'][observation],dataset['source'][observation]]\n",
        "     except :\n",
        "       dist = distances[dataset['source'][observation],dataset['destination'][observation]]\n",
        "     dataset['distance_bet_2_countries'][observation]= dist\n",
        "  dataset['distance_bet_2_countries'] =  dataset['distance_bet_2_countries']/ dataset['distance_bet_2_countries'].max()"
      ],
      "metadata": {
        "id": "8AZCeoYE6oZn"
      },
      "execution_count": 17,
      "outputs": []
    },
    {
      "cell_type": "code",
      "source": [
        "calculate_distance()"
      ],
      "metadata": {
        "id": "F6pd3-Wn7j0e"
      },
      "execution_count": 18,
      "outputs": []
    },
    {
      "cell_type": "code",
      "source": [
        "dataset.head()"
      ],
      "metadata": {
        "id": "Aq4CjsDFBloy",
        "colab": {
          "base_uri": "https://localhost:8080/",
          "height": 560
        },
        "outputId": "0e5e6c39-c520-48e7-be9a-b2fc5130e1c2"
      },
      "execution_count": 19,
      "outputs": [
        {
          "output_type": "execute_result",
          "data": {
            "text/plain": [
              "         date   airline ch_code  num_code dep_time time_taken  \\\n",
              "0    5/3/2022   Vistara      UK       812     9:45    10h 10m   \n",
              "1  18-03-2022   Vistara      UK       975     5:45    06h 30m   \n",
              "2    9/3/2022  GO FIRST      G8      7537    14:30    08h 10m   \n",
              "3  15-03-2022  GO FIRST      G8       287    10:40    09h 40m   \n",
              "4  22-03-2022   Vistara      UK       826    12:30    07h 25m   \n",
              "\n",
              "                                                stop arr_time      type  \\\n",
              "0  1-stop\\n\\t\\t\\t\\t\\t\\t\\t\\t\\t\\t\\t\\t\\n\\t\\t\\t\\t\\t\\t...    19:55  business   \n",
              "1  1-stop\\n\\t\\t\\t\\t\\t\\t\\t\\t\\t\\t\\t\\t\\n\\t\\t\\t\\t\\t\\t...    12:15  business   \n",
              "2  1-stop\\n\\t\\t\\t\\t\\t\\t\\t\\t\\t\\t\\t\\t\\n\\t\\t\\t\\t\\t\\t...    22:40   economy   \n",
              "3  1-stop\\n\\t\\t\\t\\t\\t\\t\\t\\t\\t\\t\\t\\t\\n\\t\\t\\t\\t\\t\\t...    20:20   economy   \n",
              "4  1-stop\\n\\t\\t\\t\\t\\t\\t\\t\\t\\t\\t\\t\\t\\n\\t\\t\\t\\t\\t\\t...    19:55   economy   \n",
              "\n",
              "                                               route  ...     source  \\\n",
              "0  {'source': 'Bangalore', 'destination': 'Hydera...  ...  Bangalore   \n",
              "1    {'source': 'Delhi', 'destination': 'Hyderabad'}  ...      Delhi   \n",
              "2   {'source': 'Mumbai', 'destination': 'Hyderabad'}  ...     Mumbai   \n",
              "3       {'source': 'Mumbai', 'destination': 'Delhi'}  ...     Mumbai   \n",
              "4    {'source': 'Chennai', 'destination': 'Kolkata'}  ...    Chennai   \n",
              "\n",
              "  destination flight_day flight_month  num_of_stops  formatted_price  \\\n",
              "0   Hyderabad          5            3             0                0   \n",
              "1   Hyderabad         18            3             0                0   \n",
              "2   Hyderabad          9            3             0                0   \n",
              "3       Delhi         15            3             0                0   \n",
              "4     Kolkata         22            3             0                0   \n",
              "\n",
              "   num_of_hours_taken  week_day_of_flight  distance_bet_2_countries  \\\n",
              "0                   0            Saturday                  0.258401   \n",
              "1                   0              Friday                  0.717075   \n",
              "2                   0           Wednesday                  0.327430   \n",
              "3                   0             Tuesday                  0.653497   \n",
              "4                   0             Tuesday                  0.755223   \n",
              "\n",
              "  one_stop_in  \n",
              "0   Not Found  \n",
              "1   Not Found  \n",
              "2   Not Found  \n",
              "3   Not Found  \n",
              "4   Not Found  \n",
              "\n",
              "[5 rows x 22 columns]"
            ],
            "text/html": [
              "\n",
              "  <div id=\"df-30d4c2af-0f71-4f46-b4d3-c4cdcb9e3aee\">\n",
              "    <div class=\"colab-df-container\">\n",
              "      <div>\n",
              "<style scoped>\n",
              "    .dataframe tbody tr th:only-of-type {\n",
              "        vertical-align: middle;\n",
              "    }\n",
              "\n",
              "    .dataframe tbody tr th {\n",
              "        vertical-align: top;\n",
              "    }\n",
              "\n",
              "    .dataframe thead th {\n",
              "        text-align: right;\n",
              "    }\n",
              "</style>\n",
              "<table border=\"1\" class=\"dataframe\">\n",
              "  <thead>\n",
              "    <tr style=\"text-align: right;\">\n",
              "      <th></th>\n",
              "      <th>date</th>\n",
              "      <th>airline</th>\n",
              "      <th>ch_code</th>\n",
              "      <th>num_code</th>\n",
              "      <th>dep_time</th>\n",
              "      <th>time_taken</th>\n",
              "      <th>stop</th>\n",
              "      <th>arr_time</th>\n",
              "      <th>type</th>\n",
              "      <th>route</th>\n",
              "      <th>...</th>\n",
              "      <th>source</th>\n",
              "      <th>destination</th>\n",
              "      <th>flight_day</th>\n",
              "      <th>flight_month</th>\n",
              "      <th>num_of_stops</th>\n",
              "      <th>formatted_price</th>\n",
              "      <th>num_of_hours_taken</th>\n",
              "      <th>week_day_of_flight</th>\n",
              "      <th>distance_bet_2_countries</th>\n",
              "      <th>one_stop_in</th>\n",
              "    </tr>\n",
              "  </thead>\n",
              "  <tbody>\n",
              "    <tr>\n",
              "      <th>0</th>\n",
              "      <td>5/3/2022</td>\n",
              "      <td>Vistara</td>\n",
              "      <td>UK</td>\n",
              "      <td>812</td>\n",
              "      <td>9:45</td>\n",
              "      <td>10h 10m</td>\n",
              "      <td>1-stop\\n\\t\\t\\t\\t\\t\\t\\t\\t\\t\\t\\t\\t\\n\\t\\t\\t\\t\\t\\t...</td>\n",
              "      <td>19:55</td>\n",
              "      <td>business</td>\n",
              "      <td>{'source': 'Bangalore', 'destination': 'Hydera...</td>\n",
              "      <td>...</td>\n",
              "      <td>Bangalore</td>\n",
              "      <td>Hyderabad</td>\n",
              "      <td>5</td>\n",
              "      <td>3</td>\n",
              "      <td>0</td>\n",
              "      <td>0</td>\n",
              "      <td>0</td>\n",
              "      <td>Saturday</td>\n",
              "      <td>0.258401</td>\n",
              "      <td>Not Found</td>\n",
              "    </tr>\n",
              "    <tr>\n",
              "      <th>1</th>\n",
              "      <td>18-03-2022</td>\n",
              "      <td>Vistara</td>\n",
              "      <td>UK</td>\n",
              "      <td>975</td>\n",
              "      <td>5:45</td>\n",
              "      <td>06h 30m</td>\n",
              "      <td>1-stop\\n\\t\\t\\t\\t\\t\\t\\t\\t\\t\\t\\t\\t\\n\\t\\t\\t\\t\\t\\t...</td>\n",
              "      <td>12:15</td>\n",
              "      <td>business</td>\n",
              "      <td>{'source': 'Delhi', 'destination': 'Hyderabad'}</td>\n",
              "      <td>...</td>\n",
              "      <td>Delhi</td>\n",
              "      <td>Hyderabad</td>\n",
              "      <td>18</td>\n",
              "      <td>3</td>\n",
              "      <td>0</td>\n",
              "      <td>0</td>\n",
              "      <td>0</td>\n",
              "      <td>Friday</td>\n",
              "      <td>0.717075</td>\n",
              "      <td>Not Found</td>\n",
              "    </tr>\n",
              "    <tr>\n",
              "      <th>2</th>\n",
              "      <td>9/3/2022</td>\n",
              "      <td>GO FIRST</td>\n",
              "      <td>G8</td>\n",
              "      <td>7537</td>\n",
              "      <td>14:30</td>\n",
              "      <td>08h 10m</td>\n",
              "      <td>1-stop\\n\\t\\t\\t\\t\\t\\t\\t\\t\\t\\t\\t\\t\\n\\t\\t\\t\\t\\t\\t...</td>\n",
              "      <td>22:40</td>\n",
              "      <td>economy</td>\n",
              "      <td>{'source': 'Mumbai', 'destination': 'Hyderabad'}</td>\n",
              "      <td>...</td>\n",
              "      <td>Mumbai</td>\n",
              "      <td>Hyderabad</td>\n",
              "      <td>9</td>\n",
              "      <td>3</td>\n",
              "      <td>0</td>\n",
              "      <td>0</td>\n",
              "      <td>0</td>\n",
              "      <td>Wednesday</td>\n",
              "      <td>0.327430</td>\n",
              "      <td>Not Found</td>\n",
              "    </tr>\n",
              "    <tr>\n",
              "      <th>3</th>\n",
              "      <td>15-03-2022</td>\n",
              "      <td>GO FIRST</td>\n",
              "      <td>G8</td>\n",
              "      <td>287</td>\n",
              "      <td>10:40</td>\n",
              "      <td>09h 40m</td>\n",
              "      <td>1-stop\\n\\t\\t\\t\\t\\t\\t\\t\\t\\t\\t\\t\\t\\n\\t\\t\\t\\t\\t\\t...</td>\n",
              "      <td>20:20</td>\n",
              "      <td>economy</td>\n",
              "      <td>{'source': 'Mumbai', 'destination': 'Delhi'}</td>\n",
              "      <td>...</td>\n",
              "      <td>Mumbai</td>\n",
              "      <td>Delhi</td>\n",
              "      <td>15</td>\n",
              "      <td>3</td>\n",
              "      <td>0</td>\n",
              "      <td>0</td>\n",
              "      <td>0</td>\n",
              "      <td>Tuesday</td>\n",
              "      <td>0.653497</td>\n",
              "      <td>Not Found</td>\n",
              "    </tr>\n",
              "    <tr>\n",
              "      <th>4</th>\n",
              "      <td>22-03-2022</td>\n",
              "      <td>Vistara</td>\n",
              "      <td>UK</td>\n",
              "      <td>826</td>\n",
              "      <td>12:30</td>\n",
              "      <td>07h 25m</td>\n",
              "      <td>1-stop\\n\\t\\t\\t\\t\\t\\t\\t\\t\\t\\t\\t\\t\\n\\t\\t\\t\\t\\t\\t...</td>\n",
              "      <td>19:55</td>\n",
              "      <td>economy</td>\n",
              "      <td>{'source': 'Chennai', 'destination': 'Kolkata'}</td>\n",
              "      <td>...</td>\n",
              "      <td>Chennai</td>\n",
              "      <td>Kolkata</td>\n",
              "      <td>22</td>\n",
              "      <td>3</td>\n",
              "      <td>0</td>\n",
              "      <td>0</td>\n",
              "      <td>0</td>\n",
              "      <td>Tuesday</td>\n",
              "      <td>0.755223</td>\n",
              "      <td>Not Found</td>\n",
              "    </tr>\n",
              "  </tbody>\n",
              "</table>\n",
              "<p>5 rows × 22 columns</p>\n",
              "</div>\n",
              "      <button class=\"colab-df-convert\" onclick=\"convertToInteractive('df-30d4c2af-0f71-4f46-b4d3-c4cdcb9e3aee')\"\n",
              "              title=\"Convert this dataframe to an interactive table.\"\n",
              "              style=\"display:none;\">\n",
              "        \n",
              "  <svg xmlns=\"http://www.w3.org/2000/svg\" height=\"24px\"viewBox=\"0 0 24 24\"\n",
              "       width=\"24px\">\n",
              "    <path d=\"M0 0h24v24H0V0z\" fill=\"none\"/>\n",
              "    <path d=\"M18.56 5.44l.94 2.06.94-2.06 2.06-.94-2.06-.94-.94-2.06-.94 2.06-2.06.94zm-11 1L8.5 8.5l.94-2.06 2.06-.94-2.06-.94L8.5 2.5l-.94 2.06-2.06.94zm10 10l.94 2.06.94-2.06 2.06-.94-2.06-.94-.94-2.06-.94 2.06-2.06.94z\"/><path d=\"M17.41 7.96l-1.37-1.37c-.4-.4-.92-.59-1.43-.59-.52 0-1.04.2-1.43.59L10.3 9.45l-7.72 7.72c-.78.78-.78 2.05 0 2.83L4 21.41c.39.39.9.59 1.41.59.51 0 1.02-.2 1.41-.59l7.78-7.78 2.81-2.81c.8-.78.8-2.07 0-2.86zM5.41 20L4 18.59l7.72-7.72 1.47 1.35L5.41 20z\"/>\n",
              "  </svg>\n",
              "      </button>\n",
              "      \n",
              "  <style>\n",
              "    .colab-df-container {\n",
              "      display:flex;\n",
              "      flex-wrap:wrap;\n",
              "      gap: 12px;\n",
              "    }\n",
              "\n",
              "    .colab-df-convert {\n",
              "      background-color: #E8F0FE;\n",
              "      border: none;\n",
              "      border-radius: 50%;\n",
              "      cursor: pointer;\n",
              "      display: none;\n",
              "      fill: #1967D2;\n",
              "      height: 32px;\n",
              "      padding: 0 0 0 0;\n",
              "      width: 32px;\n",
              "    }\n",
              "\n",
              "    .colab-df-convert:hover {\n",
              "      background-color: #E2EBFA;\n",
              "      box-shadow: 0px 1px 2px rgba(60, 64, 67, 0.3), 0px 1px 3px 1px rgba(60, 64, 67, 0.15);\n",
              "      fill: #174EA6;\n",
              "    }\n",
              "\n",
              "    [theme=dark] .colab-df-convert {\n",
              "      background-color: #3B4455;\n",
              "      fill: #D2E3FC;\n",
              "    }\n",
              "\n",
              "    [theme=dark] .colab-df-convert:hover {\n",
              "      background-color: #434B5C;\n",
              "      box-shadow: 0px 1px 3px 1px rgba(0, 0, 0, 0.15);\n",
              "      filter: drop-shadow(0px 1px 2px rgba(0, 0, 0, 0.3));\n",
              "      fill: #FFFFFF;\n",
              "    }\n",
              "  </style>\n",
              "\n",
              "      <script>\n",
              "        const buttonEl =\n",
              "          document.querySelector('#df-30d4c2af-0f71-4f46-b4d3-c4cdcb9e3aee button.colab-df-convert');\n",
              "        buttonEl.style.display =\n",
              "          google.colab.kernel.accessAllowed ? 'block' : 'none';\n",
              "\n",
              "        async function convertToInteractive(key) {\n",
              "          const element = document.querySelector('#df-30d4c2af-0f71-4f46-b4d3-c4cdcb9e3aee');\n",
              "          const dataTable =\n",
              "            await google.colab.kernel.invokeFunction('convertToInteractive',\n",
              "                                                     [key], {});\n",
              "          if (!dataTable) return;\n",
              "\n",
              "          const docLinkHtml = 'Like what you see? Visit the ' +\n",
              "            '<a target=\"_blank\" href=https://colab.research.google.com/notebooks/data_table.ipynb>data table notebook</a>'\n",
              "            + ' to learn more about interactive tables.';\n",
              "          element.innerHTML = '';\n",
              "          dataTable['output_type'] = 'display_data';\n",
              "          await google.colab.output.renderOutput(dataTable, element);\n",
              "          const docLink = document.createElement('div');\n",
              "          docLink.innerHTML = docLinkHtml;\n",
              "          element.appendChild(docLink);\n",
              "        }\n",
              "      </script>\n",
              "    </div>\n",
              "  </div>\n",
              "  "
            ]
          },
          "metadata": {},
          "execution_count": 19
        }
      ]
    },
    {
      "cell_type": "code",
      "source": [
        "dataset.stop.value_counts()"
      ],
      "metadata": {
        "id": "dDwtnKNTInpu",
        "colab": {
          "base_uri": "https://localhost:8080/"
        },
        "outputId": "c25040c9-84d9-4660-9d12-d11a0ea3f253"
      },
      "execution_count": 20,
      "outputs": [
        {
          "output_type": "execute_result",
          "data": {
            "text/plain": [
              "1-stop\\n\\t\\t\\t\\t\\t\\t\\t\\t\\t\\t\\t\\t\\n\\t\\t\\t\\t\\t\\t\\t\\t\\t\\t\\t\\t                      194814\n",
              "non-stop                                                                         28944\n",
              "2+-stop                                                                          10612\n",
              "1-stop\\n\\t\\t\\t\\t\\t\\t\\t\\t\\t\\t\\t\\tVia IXU\\n\\t\\t\\t\\t\\t\\t\\t\\t\\t\\t\\t\\t                 1487\n",
              "1-stop\\n\\t\\t\\t\\t\\t\\t\\t\\t\\t\\t\\t\\tVia IDR\\n\\t\\t\\t\\t\\t\\t\\t\\t\\t\\t\\t\\t                 1099\n",
              "1-stop\\n\\t\\t\\t\\t\\t\\t\\t\\t\\t\\t\\t\\tVia Patna\\n\\t\\t\\t\\t\\t\\t\\t\\t\\t\\t\\t\\t                559\n",
              "1-stop\\n\\t\\t\\t\\t\\t\\t\\t\\t\\t\\t\\t\\tVia Indore\\n\\t\\t\\t\\t\\t\\t\\t\\t\\t\\t\\t\\t               299\n",
              "1-stop\\n\\t\\t\\t\\t\\t\\t\\t\\t\\t\\t\\t\\tVia PAT\\n\\t\\t\\t\\t\\t\\t\\t\\t\\t\\t\\t\\t                  273\n",
              "1-stop\\n\\t\\t\\t\\t\\t\\t\\t\\t\\t\\t\\t\\tVia MYQ\\n\\t\\t\\t\\t\\t\\t\\t\\t\\t\\t\\t\\t                  267\n",
              "1-stop\\n\\t\\t\\t\\t\\t\\t\\t\\t\\t\\t\\t\\tVia Bhubaneswar\\n\\t\\t\\t\\t\\t\\t\\t\\t\\t\\t\\t\\t          248\n",
              "1-stop\\n\\t\\t\\t\\t\\t\\t\\t\\t\\t\\t\\t\\tVia KLH\\n\\t\\t\\t\\t\\t\\t\\t\\t\\t\\t\\t\\t                  231\n",
              "1-stop\\n\\t\\t\\t\\t\\t\\t\\t\\t\\t\\t\\t\\tVia JGB\\n\\t\\t\\t\\t\\t\\t\\t\\t\\t\\t\\t\\t                  149\n",
              "1-stop\\n\\t\\t\\t\\t\\t\\t\\t\\t\\t\\t\\t\\tVia JRG\\n\\t\\t\\t\\t\\t\\t\\t\\t\\t\\t\\t\\t                  135\n",
              "1-stop\\n\\t\\t\\t\\t\\t\\t\\t\\t\\t\\t\\t\\tVia STV\\n\\t\\t\\t\\t\\t\\t\\t\\t\\t\\t\\t\\t                  129\n",
              "1-stop\\n\\t\\t\\t\\t\\t\\t\\t\\t\\t\\t\\t\\tVia Delhi\\n\\t\\t\\t\\t\\t\\t\\t\\t\\t\\t\\t\\t                123\n",
              "1-stop\\n\\t\\t\\t\\t\\t\\t\\t\\t\\t\\t\\t\\tVia BBI\\n\\t\\t\\t\\t\\t\\t\\t\\t\\t\\t\\t\\t                  119\n",
              "1-stop\\n\\t\\t\\t\\t\\t\\t\\t\\t\\t\\t\\t\\tVia Hyderabad\\n\\t\\t\\t\\t\\t\\t\\t\\t\\t\\t\\t\\t            107\n",
              "1-stop\\n\\t\\t\\t\\t\\t\\t\\t\\t\\t\\t\\t\\tVia IXE\\n\\t\\t\\t\\t\\t\\t\\t\\t\\t\\t\\t\\t                   91\n",
              "1-stop\\n\\t\\t\\t\\t\\t\\t\\t\\t\\t\\t\\t\\tVia Ranchi\\n\\t\\t\\t\\t\\t\\t\\t\\t\\t\\t\\t\\t                86\n",
              "1-stop\\n\\t\\t\\t\\t\\t\\t\\t\\t\\t\\t\\t\\tVia Raipur\\n\\t\\t\\t\\t\\t\\t\\t\\t\\t\\t\\t\\t                78\n",
              "1-stop\\n\\t\\t\\t\\t\\t\\t\\t\\t\\t\\t\\t\\tVia Chennai\\n\\t\\t\\t\\t\\t\\t\\t\\t\\t\\t\\t\\t               64\n",
              "1-stop\\n\\t\\t\\t\\t\\t\\t\\t\\t\\t\\t\\t\\tVia Guwahati\\n\\t\\t\\t\\t\\t\\t\\t\\t\\t\\t\\t\\t              46\n",
              "1-stop\\n\\t\\t\\t\\t\\t\\t\\t\\t\\t\\t\\t\\tVia Mangalore\\n\\t\\t\\t\\t\\t\\t\\t\\t\\t\\t\\t\\t             35\n",
              "1-stop\\n\\t\\t\\t\\t\\t\\t\\t\\t\\t\\t\\t\\tVia Mysore\\n\\t\\t\\t\\t\\t\\t\\t\\t\\t\\t\\t\\t                33\n",
              "1-stop\\n\\t\\t\\t\\t\\t\\t\\t\\t\\t\\t\\t\\tVia Mumbai\\n\\t\\t\\t\\t\\t\\t\\t\\t\\t\\t\\t\\t                27\n",
              "1-stop\\n\\t\\t\\t\\t\\t\\t\\t\\t\\t\\t\\t\\tVia VTZ\\n\\t\\t\\t\\t\\t\\t\\t\\t\\t\\t\\t\\t                   22\n",
              "1-stop\\n\\t\\t\\t\\t\\t\\t\\t\\t\\t\\t\\t\\tVia Nagpur\\n\\t\\t\\t\\t\\t\\t\\t\\t\\t\\t\\t\\t                21\n",
              "1-stop\\n\\t\\t\\t\\t\\t\\t\\t\\t\\t\\t\\t\\tVia Kolkata\\n\\t\\t\\t\\t\\t\\t\\t\\t\\t\\t\\t\\t               18\n",
              "1-stop\\n\\t\\t\\t\\t\\t\\t\\t\\t\\t\\t\\t\\tVia NDC\\n\\t\\t\\t\\t\\t\\t\\t\\t\\t\\t\\t\\t                   17\n",
              "1-stop\\n\\t\\t\\t\\t\\t\\t\\t\\t\\t\\t\\t\\tVia RPR\\n\\t\\t\\t\\t\\t\\t\\t\\t\\t\\t\\t\\t                   16\n",
              "1-stop\\n\\t\\t\\t\\t\\t\\t\\t\\t\\t\\t\\t\\tVia Lucknow\\n\\t\\t\\t\\t\\t\\t\\t\\t\\t\\t\\t\\t               11\n",
              "1-stop\\n\\t\\t\\t\\t\\t\\t\\t\\t\\t\\t\\t\\tVia Surat\\n\\t\\t\\t\\t\\t\\t\\t\\t\\t\\t\\t\\t                 11\n",
              "1-stop\\n\\t\\t\\t\\t\\t\\t\\t\\t\\t\\t\\t\\tVia GOP\\n\\t\\t\\t\\t\\t\\t\\t\\t\\t\\t\\t\\t                   10\n",
              "1-stop\\n\\t\\t\\t\\t\\t\\t\\t\\t\\t\\t\\t\\tVia Vishakhapatnam\\n\\t\\t\\t\\t\\t\\t\\t\\t\\t\\t\\t\\t         7\n",
              "1-stop\\n\\t\\t\\t\\t\\t\\t\\t\\t\\t\\t\\t\\tVia NAG\\n\\t\\t\\t\\t\\t\\t\\t\\t\\t\\t\\t\\t                    7\n",
              "1-stop\\n\\t\\t\\t\\t\\t\\t\\t\\t\\t\\t\\t\\tVia Kolhapur\\n\\t\\t\\t\\t\\t\\t\\t\\t\\t\\t\\t\\t               4\n",
              "1-stop\\n\\t\\t\\t\\t\\t\\t\\t\\t\\t\\t\\t\\tVia GAU\\n\\t\\t\\t\\t\\t\\t\\t\\t\\t\\t\\t\\t                    3\n",
              "1-stop\\n\\t\\t\\t\\t\\t\\t\\t\\t\\t\\t\\t\\tVia IXR\\n\\t\\t\\t\\t\\t\\t\\t\\t\\t\\t\\t\\t                    3\n",
              "1-stop\\n\\t\\t\\t\\t\\t\\t\\t\\t\\t\\t\\t\\tVia GAY\\n\\t\\t\\t\\t\\t\\t\\t\\t\\t\\t\\t\\t                    2\n",
              "1-stop\\n\\t\\t\\t\\t\\t\\t\\t\\t\\t\\t\\t\\tVia HYD\\n\\t\\t\\t\\t\\t\\t\\t\\t\\t\\t\\t\\t                    1\n",
              "Name: stop, dtype: int64"
            ]
          },
          "metadata": {},
          "execution_count": 20
        }
      ]
    },
    {
      "cell_type": "code",
      "source": [
        "def split_num_of_stops():\n",
        "  observation= 0\n",
        "  for stop in dataset['stop']:\n",
        "    if stop[:8] == 'non-stop':\n",
        "      dataset['num_of_stops'][observation] = 0\n",
        "    elif stop[:6] == '1-stop':\n",
        "      dataset['num_of_stops'][observation] = 1\n",
        "    else:\n",
        "      dataset['num_of_stops'][observation] = 2\n",
        "    observation+=1"
      ],
      "metadata": {
        "id": "eCIq_tmfQVw8"
      },
      "execution_count": 21,
      "outputs": []
    },
    {
      "cell_type": "code",
      "source": [
        "split_num_of_stops()"
      ],
      "metadata": {
        "id": "7gMymbLCUMi0"
      },
      "execution_count": 22,
      "outputs": []
    },
    {
      "cell_type": "code",
      "source": [
        "def find_where_is_the_stop():\n",
        "  observation = 0\n",
        "  for stop in dataset['stop']:\n",
        "     if stop[:6] == '1-stop':\n",
        "        splitted = stop.split(' ')\n",
        "        if len(splitted)>1:\n",
        "           fine_splitting = splitted[1].split('\\n')\n",
        "           dataset['one_stop_in'][observation] = fine_splitting[0]\n",
        "     observation+=1\n"
      ],
      "metadata": {
        "id": "LjAAAnHyaU0K"
      },
      "execution_count": 23,
      "outputs": []
    },
    {
      "cell_type": "code",
      "source": [
        "find_where_is_the_stop()"
      ],
      "metadata": {
        "id": "g7Ifp56_ZIFh"
      },
      "execution_count": 24,
      "outputs": []
    },
    {
      "cell_type": "markdown",
      "source": [
        "# Most of the observations either the stop is not mentioned, or there wasn't a stop, the highest frequency is the 'Not Found', so it is safe to put all other stops in a class which represents that the stop is 'Found'"
      ],
      "metadata": {
        "id": "fyrsIPjLByG1"
      }
    },
    {
      "cell_type": "code",
      "source": [
        "dataset.one_stop_in.value_counts()"
      ],
      "metadata": {
        "colab": {
          "base_uri": "https://localhost:8080/"
        },
        "id": "OIKXZxo_wph2",
        "outputId": "840def2b-c001-49b8-b98c-49846ba7ca06"
      },
      "execution_count": 25,
      "outputs": [
        {
          "output_type": "execute_result",
          "data": {
            "text/plain": [
              "Not Found         234370\n",
              "IXU                 1487\n",
              "IDR                 1099\n",
              "Patna                559\n",
              "Indore               299\n",
              "PAT                  273\n",
              "MYQ                  267\n",
              "Bhubaneswar          248\n",
              "KLH                  231\n",
              "JGB                  149\n",
              "JRG                  135\n",
              "STV                  129\n",
              "Delhi                123\n",
              "BBI                  119\n",
              "Hyderabad            107\n",
              "IXE                   91\n",
              "Ranchi                86\n",
              "Raipur                78\n",
              "Chennai               64\n",
              "Guwahati              46\n",
              "Mangalore             35\n",
              "Mysore                33\n",
              "Mumbai                27\n",
              "VTZ                   22\n",
              "Nagpur                21\n",
              "Kolkata               18\n",
              "NDC                   17\n",
              "RPR                   16\n",
              "Surat                 11\n",
              "Lucknow               11\n",
              "GOP                   10\n",
              "Vishakhapatnam         7\n",
              "NAG                    7\n",
              "Kolhapur               4\n",
              "GAU                    3\n",
              "IXR                    3\n",
              "GAY                    2\n",
              "HYD                    1\n",
              "Name: one_stop_in, dtype: int64"
            ]
          },
          "metadata": {},
          "execution_count": 25
        }
      ]
    },
    {
      "cell_type": "code",
      "source": [
        "dataset['one_stop_in'] = [0 if stop == 'Not found' else 1 for stop in dataset ['one_stop_in']]"
      ],
      "metadata": {
        "id": "iWc8x7CAtxcE"
      },
      "execution_count": 26,
      "outputs": []
    },
    {
      "cell_type": "markdown",
      "source": [
        "The price is an object due to the presence of a comma, and this needs to be fixed"
      ],
      "metadata": {
        "id": "oxvrm0nDCNSY"
      }
    },
    {
      "cell_type": "code",
      "source": [
        "def fix_price_format(price):\n",
        "    number = price.split(',')\n",
        "    cost = number[0] + number[1]\n",
        "    cost=int(cost)\n",
        "    return cost"
      ],
      "metadata": {
        "id": "TBhdRY5FoKlZ"
      },
      "execution_count": 27,
      "outputs": []
    },
    {
      "cell_type": "code",
      "source": [
        "dataset['formatted_price'] = dataset.price.apply(lambda price:fix_price_format(price))"
      ],
      "metadata": {
        "id": "-4UzTD-TopP5"
      },
      "execution_count": 28,
      "outputs": []
    },
    {
      "cell_type": "markdown",
      "source": [
        "# After getting the price in the right format, it is always a good idea to search for the outliers as the outliers in some problems are noise to the data and they skew the predictions "
      ],
      "metadata": {
        "id": "wQ0qBd1U1hN5"
      }
    },
    {
      "cell_type": "code",
      "source": [
        "dataset.shape"
      ],
      "metadata": {
        "colab": {
          "base_uri": "https://localhost:8080/"
        },
        "id": "MLbrcaBj0c8A",
        "outputId": "063016cd-b508-4892-d474-29e0f4010945"
      },
      "execution_count": 29,
      "outputs": [
        {
          "output_type": "execute_result",
          "data": {
            "text/plain": [
              "(240208, 22)"
            ]
          },
          "metadata": {},
          "execution_count": 29
        }
      ]
    },
    {
      "cell_type": "code",
      "source": [
        "def get_outliers_boundaries():\n",
        "    first_quartile = np.percentile(dataset['formatted_price'],25)\n",
        "    third_quartile = np.percentile(dataset['formatted_price'],75)\n",
        "    interquartile_range = third_quartile - first_quartile\n",
        "    floor = first_quartile - 1.5 * interquartile_range\n",
        "    cieling = third_quartile + 1.5 * interquartile_range\n",
        "    #it doesnt make sense to have a negative price\n",
        "    if floor < 0:\n",
        "        floor = 0\n",
        "    outliers = []\n",
        "    for observation in range(len(dataset['formatted_price'])):\n",
        "      if dataset['formatted_price'][observation] < floor or dataset['formatted_price'][observation] > cieling:\n",
        "        outliers.append(dataset['formatted_price'][observation])\n",
        "        dataset.drop(observation,axis=0,inplace=True)\n",
        "    print(\"The outliers are '{values}'\".format(values=outliers))"
      ],
      "metadata": {
        "id": "5QQmUtlBwdkb"
      },
      "execution_count": 30,
      "outputs": []
    },
    {
      "cell_type": "code",
      "source": [
        "get_outliers_boundaries()"
      ],
      "metadata": {
        "colab": {
          "base_uri": "https://localhost:8080/"
        },
        "id": "m-9xBVYRxXU4",
        "outputId": "ea7082f7-77aa-43a2-8312-82c77e615e39"
      },
      "execution_count": 31,
      "outputs": [
        {
          "output_type": "stream",
          "name": "stdout",
          "text": [
            "The outliers are '[99204, 99327, 99584, 99204, 99403, 98972, 99584, 99327, 99551, 99129, 99677]'\n"
          ]
        }
      ]
    },
    {
      "cell_type": "code",
      "source": [
        "dataset.shape"
      ],
      "metadata": {
        "colab": {
          "base_uri": "https://localhost:8080/"
        },
        "id": "AqYKc7NX0hj1",
        "outputId": "29032e61-b7c8-4e4d-bb61-75a5f3b7a031"
      },
      "execution_count": 32,
      "outputs": [
        {
          "output_type": "execute_result",
          "data": {
            "text/plain": [
              "(240197, 22)"
            ]
          },
          "metadata": {},
          "execution_count": 32
        }
      ]
    },
    {
      "cell_type": "markdown",
      "source": [
        "#There is a 100% dependancy between ch_code and the airline, as the ch_code is a code for the airline, so we using both would cause redundancy while training"
      ],
      "metadata": {
        "id": "zv9KwTevC4YV"
      }
    },
    {
      "cell_type": "markdown",
      "source": [
        "![Machine Learning project.jpg](data:image/jpeg;base64,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)"
      ],
      "metadata": {
        "id": "6aXaE4wwxC8m"
      }
    },
    {
      "cell_type": "code",
      "source": [
        "dataset.airline.value_counts()"
      ],
      "metadata": {
        "colab": {
          "base_uri": "https://localhost:8080/"
        },
        "id": "lpgbb5ccw39I",
        "outputId": "903973f9-5bd4-462b-c9fe-b79fc7758df3"
      },
      "execution_count": 33,
      "outputs": [
        {
          "output_type": "execute_result",
          "data": {
            "text/plain": [
              "Vistara      102166\n",
              "Air India     64754\n",
              "Indigo        34571\n",
              "GO FIRST      18621\n",
              "AirAsia       12785\n",
              "SpiceJet       7216\n",
              "StarAir          48\n",
              "Trujet           36\n",
              "Name: airline, dtype: int64"
            ]
          },
          "metadata": {},
          "execution_count": 33
        }
      ]
    },
    {
      "cell_type": "code",
      "source": [
        "dataset.ch_code.value_counts()"
      ],
      "metadata": {
        "colab": {
          "base_uri": "https://localhost:8080/"
        },
        "id": "UAS4pPyjw9zC",
        "outputId": "4c823543-8f8a-4cde-879c-c9bbdc00feca"
      },
      "execution_count": 34,
      "outputs": [
        {
          "output_type": "execute_result",
          "data": {
            "text/plain": [
              "UK    102166\n",
              "AI     64754\n",
              "6E     34571\n",
              "G8     18621\n",
              "I5     12785\n",
              "SG      7216\n",
              "S5        48\n",
              "2T        36\n",
              "Name: ch_code, dtype: int64"
            ]
          },
          "metadata": {},
          "execution_count": 34
        }
      ]
    },
    {
      "cell_type": "markdown",
      "source": [
        "# The time taken is specified by the number of hours and the number of miutes, since we are using the hours only, to make use of the minutes, if the number of minutes exceeded 40 (our chosen threshold) we add 1 to the hours\n",
        "Some corner cases might be that there are no minutes (ex : 7 h) and another corner case is that the hour and minutes are represented in the hours (ex : 1.4 h )"
      ],
      "metadata": {
        "id": "M_xg5iYzDOUV"
      }
    },
    {
      "cell_type": "code",
      "source": [
        "def calculate_time_taken():\n",
        "  observation = 0\n",
        "  for time_taken in dataset['time_taken']:\n",
        "     time = time_taken.split(' ')\n",
        "     float_hour = time[0].split('.')\n",
        "     if(len(float_hour)>1):\n",
        "        time[0] = float_hour[0] + 'h'\n",
        "        time[1]= float_hour[1][:-1] + time[1]\n",
        "     if time[1][:-1] != '' : \n",
        "        if int(time[1][:-1]) >= 40 :\n",
        "           dataset['num_of_hours_taken'][observation] = int(time[0][:-1]) + 1\n",
        "        else :\n",
        "           dataset['num_of_hours_taken'][observation] = int(time[0][:-1]) \n",
        "     else :\n",
        "           dataset['num_of_hours_taken'][observation] = int(time[0][:-1])\n",
        "     observation+=1"
      ],
      "metadata": {
        "id": "BBcFlL34bFv-"
      },
      "execution_count": 35,
      "outputs": []
    },
    {
      "cell_type": "code",
      "source": [
        "calculate_time_taken()"
      ],
      "metadata": {
        "id": "Nrok2zqSQF2n"
      },
      "execution_count": 36,
      "outputs": []
    },
    {
      "cell_type": "markdown",
      "source": [
        "# We chose 1 to represent business class as it will always be more exprensive that the economy class, so the model could train a large weight for it only used in business"
      ],
      "metadata": {
        "id": "L721n2XcDqQX"
      }
    },
    {
      "cell_type": "code",
      "source": [
        "dataset['type'] = [1 if kind_of_trip == 'business' else 0 for kind_of_trip in dataset['type']]"
      ],
      "metadata": {
        "id": "iTQzZ94JfNo-"
      },
      "execution_count": 37,
      "outputs": []
    },
    {
      "cell_type": "markdown",
      "source": [
        "#There are two types of a class imbalace\n",
        "1. Label imbalance -> where one label is dominating \n",
        "2. Feature imbalance -> where a class in a specific feature is the one that appears the most\n",
        "\n",
        "To avoid feature imbalance we can calculate the percentage of the classes in each feature and those features of low frequencies in the observations can all be put in an \"Others\" class"
      ],
      "metadata": {
        "id": "y3Y9pPyurRJ3"
      }
    },
    {
      "cell_type": "code",
      "source": [
        "def get_feature_percentage():\n",
        "   size = dataset.shape[0]\n",
        "   ctr = 0\n",
        "   for index in dataset.airline.value_counts().index:\n",
        "      percentage = (int(dataset.airline.value_counts()[ctr])/size)*100\n",
        "      print(\"Airline '{index}' represents '{percentage}' of the data\".format(index = index,percentage =percentage))\n",
        "      ctr += 1"
      ],
      "metadata": {
        "id": "OwQriKM0zi2f"
      },
      "execution_count": 38,
      "outputs": []
    },
    {
      "cell_type": "code",
      "source": [
        "get_feature_percentage()"
      ],
      "metadata": {
        "colab": {
          "base_uri": "https://localhost:8080/"
        },
        "id": "W4JxyXhphdT5",
        "outputId": "f386456c-7e4a-46a2-ff1e-082dfd95565e"
      },
      "execution_count": 39,
      "outputs": [
        {
          "output_type": "stream",
          "name": "stdout",
          "text": [
            "Airline 'Vistara' represents '42.53425313388593' of the data\n",
            "Airline 'Air India' represents '26.958704729867566' of the data\n",
            "Airline 'Indigo' represents '14.392769268558725' of the data\n",
            "Airline 'GO FIRST' represents '7.75238658268005' of the data\n",
            "Airline 'AirAsia' represents '5.322714272035038' of the data\n",
            "Airline 'SpiceJet' represents '3.004200718576835' of the data\n",
            "Airline 'StarAir' represents '0.019983596797628615' of the data\n",
            "Airline 'Trujet' represents '0.01498769759822146' of the data\n"
          ]
        }
      ]
    },
    {
      "cell_type": "markdown",
      "source": [
        "#Airlines Vistara, Air India, and Indigo form 82% of the feature, so we can safely put all other airlines in the other class"
      ],
      "metadata": {
        "id": "ZqNP-Nz5r7pU"
      }
    },
    {
      "cell_type": "code",
      "source": [
        "def remove_low_frequency_airlines():\n",
        "   high_frequency_airlines =['Vistara','Air India','Indigo']\n",
        "   dataset ['airline'] = [airline if airline in high_frequency_airlines else 'Other_airline' for airline in dataset['airline']]\n",
        "   "
      ],
      "metadata": {
        "id": "GG8buB7HzQ7X"
      },
      "execution_count": 40,
      "outputs": []
    },
    {
      "cell_type": "code",
      "source": [
        "remove_low_frequency_airlines()"
      ],
      "metadata": {
        "id": "F58Px55Z28FJ"
      },
      "execution_count": 41,
      "outputs": []
    },
    {
      "cell_type": "code",
      "source": [
        "get_feature_percentage()"
      ],
      "metadata": {
        "colab": {
          "base_uri": "https://localhost:8080/"
        },
        "id": "JO44gSBnheYz",
        "outputId": "e585ce49-0402-491a-b556-e42f3b4735e3"
      },
      "execution_count": 42,
      "outputs": [
        {
          "output_type": "stream",
          "name": "stdout",
          "text": [
            "Airline 'Vistara' represents '42.53425313388593' of the data\n",
            "Airline 'Air India' represents '26.958704729867566' of the data\n",
            "Airline 'Other_airline' represents '16.114272867687774' of the data\n",
            "Airline 'Indigo' represents '14.392769268558725' of the data\n"
          ]
        }
      ]
    },
    {
      "cell_type": "markdown",
      "source": [
        "There is a 100% dependency between arrival time, departure time and time taken, and this dependency can be expressed by : time taken = arrival time - departure time.\n",
        "\n",
        "Since using the hours themselves in arrival time and departure time will cause redundancy during training, we can extract the time of the day the flight departed and arrived as some times maybe cheaper or more expensive"
      ],
      "metadata": {
        "id": "KrK2yxc3xdR5"
      }
    },
    {
      "cell_type": "code",
      "source": [
        "def categorize_time(time):\n",
        "  hours = time.split(':')\n",
        "  hours[0] = int(hours[0])\n",
        "  if hours[0] <6:\n",
        "    return 'Early morning'\n",
        "  elif 6<= hours[0] < 12 :\n",
        "    return 'Morning'\n",
        "  elif 12<= hours[0] < 18:\n",
        "    return 'Afternoon'\n",
        "  else:\n",
        "    return 'Evening'"
      ],
      "metadata": {
        "id": "ATLAMvTuqwD8"
      },
      "execution_count": 43,
      "outputs": []
    },
    {
      "cell_type": "code",
      "source": [
        "dataset['dep_time'] = dataset.dep_time.apply(lambda time: categorize_time(time))"
      ],
      "metadata": {
        "id": "IKVx6zS7r-gL"
      },
      "execution_count": 44,
      "outputs": []
    },
    {
      "cell_type": "code",
      "source": [
        "dataset['arr_time'] = dataset.arr_time.apply(lambda time: categorize_time(time))"
      ],
      "metadata": {
        "id": "YJm59-GhsfCs"
      },
      "execution_count": 45,
      "outputs": []
    },
    {
      "cell_type": "code",
      "source": [
        "dataset.drop(columns=['date','ch_code','time_taken','stop','route','price','formatted_date','num_code'],axis = 1,inplace=True)"
      ],
      "metadata": {
        "id": "YS7S44DqonKX"
      },
      "execution_count": 46,
      "outputs": []
    },
    {
      "cell_type": "code",
      "source": [
        "dataset.head()"
      ],
      "metadata": {
        "colab": {
          "base_uri": "https://localhost:8080/",
          "height": 287
        },
        "id": "3YVEaqC7HDcO",
        "outputId": "829d3cb0-8a67-40c2-8c9e-f3d195cf6e9a"
      },
      "execution_count": 47,
      "outputs": [
        {
          "output_type": "execute_result",
          "data": {
            "text/plain": [
              "         airline       dep_time   arr_time  type     source destination  \\\n",
              "0        Vistara        Morning    Evening     1  Bangalore   Hyderabad   \n",
              "1        Vistara  Early morning  Afternoon     1      Delhi   Hyderabad   \n",
              "2  Other_airline      Afternoon    Evening     0     Mumbai   Hyderabad   \n",
              "3  Other_airline        Morning    Evening     0     Mumbai       Delhi   \n",
              "4        Vistara      Afternoon    Evening     0    Chennai     Kolkata   \n",
              "\n",
              "   flight_day  flight_month  num_of_stops  formatted_price  \\\n",
              "0           5             3             1            56588   \n",
              "1          18             3             1            59649   \n",
              "2           9             3             1             3916   \n",
              "3          15             3             1             6031   \n",
              "4          22             3             1             7081   \n",
              "\n",
              "   num_of_hours_taken week_day_of_flight  distance_bet_2_countries  \\\n",
              "0                  10           Saturday                  0.258401   \n",
              "1                   6             Friday                  0.717075   \n",
              "2                   8          Wednesday                  0.327430   \n",
              "3                  10            Tuesday                  0.653497   \n",
              "4                   7            Tuesday                  0.755223   \n",
              "\n",
              "   one_stop_in  \n",
              "0            1  \n",
              "1            1  \n",
              "2            1  \n",
              "3            1  \n",
              "4            1  "
            ],
            "text/html": [
              "\n",
              "  <div id=\"df-5cdda36c-1698-42bd-bd3c-4caf4aa736ff\">\n",
              "    <div class=\"colab-df-container\">\n",
              "      <div>\n",
              "<style scoped>\n",
              "    .dataframe tbody tr th:only-of-type {\n",
              "        vertical-align: middle;\n",
              "    }\n",
              "\n",
              "    .dataframe tbody tr th {\n",
              "        vertical-align: top;\n",
              "    }\n",
              "\n",
              "    .dataframe thead th {\n",
              "        text-align: right;\n",
              "    }\n",
              "</style>\n",
              "<table border=\"1\" class=\"dataframe\">\n",
              "  <thead>\n",
              "    <tr style=\"text-align: right;\">\n",
              "      <th></th>\n",
              "      <th>airline</th>\n",
              "      <th>dep_time</th>\n",
              "      <th>arr_time</th>\n",
              "      <th>type</th>\n",
              "      <th>source</th>\n",
              "      <th>destination</th>\n",
              "      <th>flight_day</th>\n",
              "      <th>flight_month</th>\n",
              "      <th>num_of_stops</th>\n",
              "      <th>formatted_price</th>\n",
              "      <th>num_of_hours_taken</th>\n",
              "      <th>week_day_of_flight</th>\n",
              "      <th>distance_bet_2_countries</th>\n",
              "      <th>one_stop_in</th>\n",
              "    </tr>\n",
              "  </thead>\n",
              "  <tbody>\n",
              "    <tr>\n",
              "      <th>0</th>\n",
              "      <td>Vistara</td>\n",
              "      <td>Morning</td>\n",
              "      <td>Evening</td>\n",
              "      <td>1</td>\n",
              "      <td>Bangalore</td>\n",
              "      <td>Hyderabad</td>\n",
              "      <td>5</td>\n",
              "      <td>3</td>\n",
              "      <td>1</td>\n",
              "      <td>56588</td>\n",
              "      <td>10</td>\n",
              "      <td>Saturday</td>\n",
              "      <td>0.258401</td>\n",
              "      <td>1</td>\n",
              "    </tr>\n",
              "    <tr>\n",
              "      <th>1</th>\n",
              "      <td>Vistara</td>\n",
              "      <td>Early morning</td>\n",
              "      <td>Afternoon</td>\n",
              "      <td>1</td>\n",
              "      <td>Delhi</td>\n",
              "      <td>Hyderabad</td>\n",
              "      <td>18</td>\n",
              "      <td>3</td>\n",
              "      <td>1</td>\n",
              "      <td>59649</td>\n",
              "      <td>6</td>\n",
              "      <td>Friday</td>\n",
              "      <td>0.717075</td>\n",
              "      <td>1</td>\n",
              "    </tr>\n",
              "    <tr>\n",
              "      <th>2</th>\n",
              "      <td>Other_airline</td>\n",
              "      <td>Afternoon</td>\n",
              "      <td>Evening</td>\n",
              "      <td>0</td>\n",
              "      <td>Mumbai</td>\n",
              "      <td>Hyderabad</td>\n",
              "      <td>9</td>\n",
              "      <td>3</td>\n",
              "      <td>1</td>\n",
              "      <td>3916</td>\n",
              "      <td>8</td>\n",
              "      <td>Wednesday</td>\n",
              "      <td>0.327430</td>\n",
              "      <td>1</td>\n",
              "    </tr>\n",
              "    <tr>\n",
              "      <th>3</th>\n",
              "      <td>Other_airline</td>\n",
              "      <td>Morning</td>\n",
              "      <td>Evening</td>\n",
              "      <td>0</td>\n",
              "      <td>Mumbai</td>\n",
              "      <td>Delhi</td>\n",
              "      <td>15</td>\n",
              "      <td>3</td>\n",
              "      <td>1</td>\n",
              "      <td>6031</td>\n",
              "      <td>10</td>\n",
              "      <td>Tuesday</td>\n",
              "      <td>0.653497</td>\n",
              "      <td>1</td>\n",
              "    </tr>\n",
              "    <tr>\n",
              "      <th>4</th>\n",
              "      <td>Vistara</td>\n",
              "      <td>Afternoon</td>\n",
              "      <td>Evening</td>\n",
              "      <td>0</td>\n",
              "      <td>Chennai</td>\n",
              "      <td>Kolkata</td>\n",
              "      <td>22</td>\n",
              "      <td>3</td>\n",
              "      <td>1</td>\n",
              "      <td>7081</td>\n",
              "      <td>7</td>\n",
              "      <td>Tuesday</td>\n",
              "      <td>0.755223</td>\n",
              "      <td>1</td>\n",
              "    </tr>\n",
              "  </tbody>\n",
              "</table>\n",
              "</div>\n",
              "      <button class=\"colab-df-convert\" onclick=\"convertToInteractive('df-5cdda36c-1698-42bd-bd3c-4caf4aa736ff')\"\n",
              "              title=\"Convert this dataframe to an interactive table.\"\n",
              "              style=\"display:none;\">\n",
              "        \n",
              "  <svg xmlns=\"http://www.w3.org/2000/svg\" height=\"24px\"viewBox=\"0 0 24 24\"\n",
              "       width=\"24px\">\n",
              "    <path d=\"M0 0h24v24H0V0z\" fill=\"none\"/>\n",
              "    <path d=\"M18.56 5.44l.94 2.06.94-2.06 2.06-.94-2.06-.94-.94-2.06-.94 2.06-2.06.94zm-11 1L8.5 8.5l.94-2.06 2.06-.94-2.06-.94L8.5 2.5l-.94 2.06-2.06.94zm10 10l.94 2.06.94-2.06 2.06-.94-2.06-.94-.94-2.06-.94 2.06-2.06.94z\"/><path d=\"M17.41 7.96l-1.37-1.37c-.4-.4-.92-.59-1.43-.59-.52 0-1.04.2-1.43.59L10.3 9.45l-7.72 7.72c-.78.78-.78 2.05 0 2.83L4 21.41c.39.39.9.59 1.41.59.51 0 1.02-.2 1.41-.59l7.78-7.78 2.81-2.81c.8-.78.8-2.07 0-2.86zM5.41 20L4 18.59l7.72-7.72 1.47 1.35L5.41 20z\"/>\n",
              "  </svg>\n",
              "      </button>\n",
              "      \n",
              "  <style>\n",
              "    .colab-df-container {\n",
              "      display:flex;\n",
              "      flex-wrap:wrap;\n",
              "      gap: 12px;\n",
              "    }\n",
              "\n",
              "    .colab-df-convert {\n",
              "      background-color: #E8F0FE;\n",
              "      border: none;\n",
              "      border-radius: 50%;\n",
              "      cursor: pointer;\n",
              "      display: none;\n",
              "      fill: #1967D2;\n",
              "      height: 32px;\n",
              "      padding: 0 0 0 0;\n",
              "      width: 32px;\n",
              "    }\n",
              "\n",
              "    .colab-df-convert:hover {\n",
              "      background-color: #E2EBFA;\n",
              "      box-shadow: 0px 1px 2px rgba(60, 64, 67, 0.3), 0px 1px 3px 1px rgba(60, 64, 67, 0.15);\n",
              "      fill: #174EA6;\n",
              "    }\n",
              "\n",
              "    [theme=dark] .colab-df-convert {\n",
              "      background-color: #3B4455;\n",
              "      fill: #D2E3FC;\n",
              "    }\n",
              "\n",
              "    [theme=dark] .colab-df-convert:hover {\n",
              "      background-color: #434B5C;\n",
              "      box-shadow: 0px 1px 3px 1px rgba(0, 0, 0, 0.15);\n",
              "      filter: drop-shadow(0px 1px 2px rgba(0, 0, 0, 0.3));\n",
              "      fill: #FFFFFF;\n",
              "    }\n",
              "  </style>\n",
              "\n",
              "      <script>\n",
              "        const buttonEl =\n",
              "          document.querySelector('#df-5cdda36c-1698-42bd-bd3c-4caf4aa736ff button.colab-df-convert');\n",
              "        buttonEl.style.display =\n",
              "          google.colab.kernel.accessAllowed ? 'block' : 'none';\n",
              "\n",
              "        async function convertToInteractive(key) {\n",
              "          const element = document.querySelector('#df-5cdda36c-1698-42bd-bd3c-4caf4aa736ff');\n",
              "          const dataTable =\n",
              "            await google.colab.kernel.invokeFunction('convertToInteractive',\n",
              "                                                     [key], {});\n",
              "          if (!dataTable) return;\n",
              "\n",
              "          const docLinkHtml = 'Like what you see? Visit the ' +\n",
              "            '<a target=\"_blank\" href=https://colab.research.google.com/notebooks/data_table.ipynb>data table notebook</a>'\n",
              "            + ' to learn more about interactive tables.';\n",
              "          element.innerHTML = '';\n",
              "          dataTable['output_type'] = 'display_data';\n",
              "          await google.colab.output.renderOutput(dataTable, element);\n",
              "          const docLink = document.createElement('div');\n",
              "          docLink.innerHTML = docLinkHtml;\n",
              "          element.appendChild(docLink);\n",
              "        }\n",
              "      </script>\n",
              "    </div>\n",
              "  </div>\n",
              "  "
            ]
          },
          "metadata": {},
          "execution_count": 47
        }
      ]
    },
    {
      "cell_type": "markdown",
      "source": [
        "# As the data is full of categories, there are many approaches to change categorical data to numerical ones, like the one hot encoding and target encoding, so I copied the data into another variable and both were done:\n",
        "1.  Applied to one the target encoding, and I encoded the categories based on the average of their prices (as it is my label and what I want to reach)\n",
        "2. Applied to the other the one hot encoding"
      ],
      "metadata": {
        "id": "wBMfa18_Pd43"
      }
    },
    {
      "cell_type": "code",
      "source": [
        "dataset.groupby('dep_time')[['formatted_price']].mean()"
      ],
      "metadata": {
        "colab": {
          "base_uri": "https://localhost:8080/",
          "height": 206
        },
        "id": "bYgUq9IbHZXt",
        "outputId": "a78ffe49-ed3a-4cd6-9513-811866e150b5"
      },
      "execution_count": 48,
      "outputs": [
        {
          "output_type": "execute_result",
          "data": {
            "text/plain": [
              "               formatted_price\n",
              "dep_time                      \n",
              "Afternoon         19367.829652\n",
              "Early morning     11522.921204\n",
              "Evening           22113.862170\n",
              "Morning           21762.739775"
            ],
            "text/html": [
              "\n",
              "  <div id=\"df-8c17945b-c580-4976-80d1-4a5e5ec047ec\">\n",
              "    <div class=\"colab-df-container\">\n",
              "      <div>\n",
              "<style scoped>\n",
              "    .dataframe tbody tr th:only-of-type {\n",
              "        vertical-align: middle;\n",
              "    }\n",
              "\n",
              "    .dataframe tbody tr th {\n",
              "        vertical-align: top;\n",
              "    }\n",
              "\n",
              "    .dataframe thead th {\n",
              "        text-align: right;\n",
              "    }\n",
              "</style>\n",
              "<table border=\"1\" class=\"dataframe\">\n",
              "  <thead>\n",
              "    <tr style=\"text-align: right;\">\n",
              "      <th></th>\n",
              "      <th>formatted_price</th>\n",
              "    </tr>\n",
              "    <tr>\n",
              "      <th>dep_time</th>\n",
              "      <th></th>\n",
              "    </tr>\n",
              "  </thead>\n",
              "  <tbody>\n",
              "    <tr>\n",
              "      <th>Afternoon</th>\n",
              "      <td>19367.829652</td>\n",
              "    </tr>\n",
              "    <tr>\n",
              "      <th>Early morning</th>\n",
              "      <td>11522.921204</td>\n",
              "    </tr>\n",
              "    <tr>\n",
              "      <th>Evening</th>\n",
              "      <td>22113.862170</td>\n",
              "    </tr>\n",
              "    <tr>\n",
              "      <th>Morning</th>\n",
              "      <td>21762.739775</td>\n",
              "    </tr>\n",
              "  </tbody>\n",
              "</table>\n",
              "</div>\n",
              "      <button class=\"colab-df-convert\" onclick=\"convertToInteractive('df-8c17945b-c580-4976-80d1-4a5e5ec047ec')\"\n",
              "              title=\"Convert this dataframe to an interactive table.\"\n",
              "              style=\"display:none;\">\n",
              "        \n",
              "  <svg xmlns=\"http://www.w3.org/2000/svg\" height=\"24px\"viewBox=\"0 0 24 24\"\n",
              "       width=\"24px\">\n",
              "    <path d=\"M0 0h24v24H0V0z\" fill=\"none\"/>\n",
              "    <path d=\"M18.56 5.44l.94 2.06.94-2.06 2.06-.94-2.06-.94-.94-2.06-.94 2.06-2.06.94zm-11 1L8.5 8.5l.94-2.06 2.06-.94-2.06-.94L8.5 2.5l-.94 2.06-2.06.94zm10 10l.94 2.06.94-2.06 2.06-.94-2.06-.94-.94-2.06-.94 2.06-2.06.94z\"/><path d=\"M17.41 7.96l-1.37-1.37c-.4-.4-.92-.59-1.43-.59-.52 0-1.04.2-1.43.59L10.3 9.45l-7.72 7.72c-.78.78-.78 2.05 0 2.83L4 21.41c.39.39.9.59 1.41.59.51 0 1.02-.2 1.41-.59l7.78-7.78 2.81-2.81c.8-.78.8-2.07 0-2.86zM5.41 20L4 18.59l7.72-7.72 1.47 1.35L5.41 20z\"/>\n",
              "  </svg>\n",
              "      </button>\n",
              "      \n",
              "  <style>\n",
              "    .colab-df-container {\n",
              "      display:flex;\n",
              "      flex-wrap:wrap;\n",
              "      gap: 12px;\n",
              "    }\n",
              "\n",
              "    .colab-df-convert {\n",
              "      background-color: #E8F0FE;\n",
              "      border: none;\n",
              "      border-radius: 50%;\n",
              "      cursor: pointer;\n",
              "      display: none;\n",
              "      fill: #1967D2;\n",
              "      height: 32px;\n",
              "      padding: 0 0 0 0;\n",
              "      width: 32px;\n",
              "    }\n",
              "\n",
              "    .colab-df-convert:hover {\n",
              "      background-color: #E2EBFA;\n",
              "      box-shadow: 0px 1px 2px rgba(60, 64, 67, 0.3), 0px 1px 3px 1px rgba(60, 64, 67, 0.15);\n",
              "      fill: #174EA6;\n",
              "    }\n",
              "\n",
              "    [theme=dark] .colab-df-convert {\n",
              "      background-color: #3B4455;\n",
              "      fill: #D2E3FC;\n",
              "    }\n",
              "\n",
              "    [theme=dark] .colab-df-convert:hover {\n",
              "      background-color: #434B5C;\n",
              "      box-shadow: 0px 1px 3px 1px rgba(0, 0, 0, 0.15);\n",
              "      filter: drop-shadow(0px 1px 2px rgba(0, 0, 0, 0.3));\n",
              "      fill: #FFFFFF;\n",
              "    }\n",
              "  </style>\n",
              "\n",
              "      <script>\n",
              "        const buttonEl =\n",
              "          document.querySelector('#df-8c17945b-c580-4976-80d1-4a5e5ec047ec button.colab-df-convert');\n",
              "        buttonEl.style.display =\n",
              "          google.colab.kernel.accessAllowed ? 'block' : 'none';\n",
              "\n",
              "        async function convertToInteractive(key) {\n",
              "          const element = document.querySelector('#df-8c17945b-c580-4976-80d1-4a5e5ec047ec');\n",
              "          const dataTable =\n",
              "            await google.colab.kernel.invokeFunction('convertToInteractive',\n",
              "                                                     [key], {});\n",
              "          if (!dataTable) return;\n",
              "\n",
              "          const docLinkHtml = 'Like what you see? Visit the ' +\n",
              "            '<a target=\"_blank\" href=https://colab.research.google.com/notebooks/data_table.ipynb>data table notebook</a>'\n",
              "            + ' to learn more about interactive tables.';\n",
              "          element.innerHTML = '';\n",
              "          dataTable['output_type'] = 'display_data';\n",
              "          await google.colab.output.renderOutput(dataTable, element);\n",
              "          const docLink = document.createElement('div');\n",
              "          docLink.innerHTML = docLinkHtml;\n",
              "          element.appendChild(docLink);\n",
              "        }\n",
              "      </script>\n",
              "    </div>\n",
              "  </div>\n",
              "  "
            ]
          },
          "metadata": {},
          "execution_count": 48
        }
      ]
    },
    {
      "cell_type": "code",
      "source": [
        "target_encoded_dataset = dataset.copy()"
      ],
      "metadata": {
        "id": "7jB4E6DCIV_r"
      },
      "execution_count": 49,
      "outputs": []
    },
    {
      "cell_type": "code",
      "source": [
        "def arranging_dep_time_by_price(time):\n",
        "   if time =='Early morning':\n",
        "     return 1\n",
        "   elif time == 'Afternoon':\n",
        "     return 2\n",
        "   elif time == 'Morning':\n",
        "     return 3\n",
        "   else :\n",
        "     return 4"
      ],
      "metadata": {
        "id": "DEO690DfHZbH"
      },
      "execution_count": 50,
      "outputs": []
    },
    {
      "cell_type": "code",
      "source": [
        "target_encoded_dataset['dep_time'] = target_encoded_dataset.dep_time.apply(lambda time: arranging_dep_time_by_price(time))"
      ],
      "metadata": {
        "id": "TcQUhpg0Ih3R"
      },
      "execution_count": 51,
      "outputs": []
    },
    {
      "cell_type": "markdown",
      "source": [
        "Arrival time ordered by price is the same as departure time so we can use the same function"
      ],
      "metadata": {
        "id": "df4gz1bRJS4c"
      }
    },
    {
      "cell_type": "code",
      "source": [
        "dataset.groupby('arr_time')[['formatted_price']].mean()"
      ],
      "metadata": {
        "colab": {
          "base_uri": "https://localhost:8080/",
          "height": 206
        },
        "id": "ErQHbWENIyOo",
        "outputId": "ceccafb1-ca53-4e8f-85d3-75be5fab2cd9"
      },
      "execution_count": 52,
      "outputs": [
        {
          "output_type": "execute_result",
          "data": {
            "text/plain": [
              "               formatted_price\n",
              "arr_time                      \n",
              "Afternoon         19817.742884\n",
              "Early morning     11210.585402\n",
              "Evening           22267.583780\n",
              "Morning           20994.180518"
            ],
            "text/html": [
              "\n",
              "  <div id=\"df-0989df25-9150-4202-9eb7-6b18a7e44d72\">\n",
              "    <div class=\"colab-df-container\">\n",
              "      <div>\n",
              "<style scoped>\n",
              "    .dataframe tbody tr th:only-of-type {\n",
              "        vertical-align: middle;\n",
              "    }\n",
              "\n",
              "    .dataframe tbody tr th {\n",
              "        vertical-align: top;\n",
              "    }\n",
              "\n",
              "    .dataframe thead th {\n",
              "        text-align: right;\n",
              "    }\n",
              "</style>\n",
              "<table border=\"1\" class=\"dataframe\">\n",
              "  <thead>\n",
              "    <tr style=\"text-align: right;\">\n",
              "      <th></th>\n",
              "      <th>formatted_price</th>\n",
              "    </tr>\n",
              "    <tr>\n",
              "      <th>arr_time</th>\n",
              "      <th></th>\n",
              "    </tr>\n",
              "  </thead>\n",
              "  <tbody>\n",
              "    <tr>\n",
              "      <th>Afternoon</th>\n",
              "      <td>19817.742884</td>\n",
              "    </tr>\n",
              "    <tr>\n",
              "      <th>Early morning</th>\n",
              "      <td>11210.585402</td>\n",
              "    </tr>\n",
              "    <tr>\n",
              "      <th>Evening</th>\n",
              "      <td>22267.583780</td>\n",
              "    </tr>\n",
              "    <tr>\n",
              "      <th>Morning</th>\n",
              "      <td>20994.180518</td>\n",
              "    </tr>\n",
              "  </tbody>\n",
              "</table>\n",
              "</div>\n",
              "      <button class=\"colab-df-convert\" onclick=\"convertToInteractive('df-0989df25-9150-4202-9eb7-6b18a7e44d72')\"\n",
              "              title=\"Convert this dataframe to an interactive table.\"\n",
              "              style=\"display:none;\">\n",
              "        \n",
              "  <svg xmlns=\"http://www.w3.org/2000/svg\" height=\"24px\"viewBox=\"0 0 24 24\"\n",
              "       width=\"24px\">\n",
              "    <path d=\"M0 0h24v24H0V0z\" fill=\"none\"/>\n",
              "    <path d=\"M18.56 5.44l.94 2.06.94-2.06 2.06-.94-2.06-.94-.94-2.06-.94 2.06-2.06.94zm-11 1L8.5 8.5l.94-2.06 2.06-.94-2.06-.94L8.5 2.5l-.94 2.06-2.06.94zm10 10l.94 2.06.94-2.06 2.06-.94-2.06-.94-.94-2.06-.94 2.06-2.06.94z\"/><path d=\"M17.41 7.96l-1.37-1.37c-.4-.4-.92-.59-1.43-.59-.52 0-1.04.2-1.43.59L10.3 9.45l-7.72 7.72c-.78.78-.78 2.05 0 2.83L4 21.41c.39.39.9.59 1.41.59.51 0 1.02-.2 1.41-.59l7.78-7.78 2.81-2.81c.8-.78.8-2.07 0-2.86zM5.41 20L4 18.59l7.72-7.72 1.47 1.35L5.41 20z\"/>\n",
              "  </svg>\n",
              "      </button>\n",
              "      \n",
              "  <style>\n",
              "    .colab-df-container {\n",
              "      display:flex;\n",
              "      flex-wrap:wrap;\n",
              "      gap: 12px;\n",
              "    }\n",
              "\n",
              "    .colab-df-convert {\n",
              "      background-color: #E8F0FE;\n",
              "      border: none;\n",
              "      border-radius: 50%;\n",
              "      cursor: pointer;\n",
              "      display: none;\n",
              "      fill: #1967D2;\n",
              "      height: 32px;\n",
              "      padding: 0 0 0 0;\n",
              "      width: 32px;\n",
              "    }\n",
              "\n",
              "    .colab-df-convert:hover {\n",
              "      background-color: #E2EBFA;\n",
              "      box-shadow: 0px 1px 2px rgba(60, 64, 67, 0.3), 0px 1px 3px 1px rgba(60, 64, 67, 0.15);\n",
              "      fill: #174EA6;\n",
              "    }\n",
              "\n",
              "    [theme=dark] .colab-df-convert {\n",
              "      background-color: #3B4455;\n",
              "      fill: #D2E3FC;\n",
              "    }\n",
              "\n",
              "    [theme=dark] .colab-df-convert:hover {\n",
              "      background-color: #434B5C;\n",
              "      box-shadow: 0px 1px 3px 1px rgba(0, 0, 0, 0.15);\n",
              "      filter: drop-shadow(0px 1px 2px rgba(0, 0, 0, 0.3));\n",
              "      fill: #FFFFFF;\n",
              "    }\n",
              "  </style>\n",
              "\n",
              "      <script>\n",
              "        const buttonEl =\n",
              "          document.querySelector('#df-0989df25-9150-4202-9eb7-6b18a7e44d72 button.colab-df-convert');\n",
              "        buttonEl.style.display =\n",
              "          google.colab.kernel.accessAllowed ? 'block' : 'none';\n",
              "\n",
              "        async function convertToInteractive(key) {\n",
              "          const element = document.querySelector('#df-0989df25-9150-4202-9eb7-6b18a7e44d72');\n",
              "          const dataTable =\n",
              "            await google.colab.kernel.invokeFunction('convertToInteractive',\n",
              "                                                     [key], {});\n",
              "          if (!dataTable) return;\n",
              "\n",
              "          const docLinkHtml = 'Like what you see? Visit the ' +\n",
              "            '<a target=\"_blank\" href=https://colab.research.google.com/notebooks/data_table.ipynb>data table notebook</a>'\n",
              "            + ' to learn more about interactive tables.';\n",
              "          element.innerHTML = '';\n",
              "          dataTable['output_type'] = 'display_data';\n",
              "          await google.colab.output.renderOutput(dataTable, element);\n",
              "          const docLink = document.createElement('div');\n",
              "          docLink.innerHTML = docLinkHtml;\n",
              "          element.appendChild(docLink);\n",
              "        }\n",
              "      </script>\n",
              "    </div>\n",
              "  </div>\n",
              "  "
            ]
          },
          "metadata": {},
          "execution_count": 52
        }
      ]
    },
    {
      "cell_type": "code",
      "source": [
        "target_encoded_dataset['arr_time'] = target_encoded_dataset.arr_time.apply(lambda time: arranging_dep_time_by_price(time))"
      ],
      "metadata": {
        "id": "u3Y9sUkxI2Ze"
      },
      "execution_count": 53,
      "outputs": []
    },
    {
      "cell_type": "code",
      "source": [
        "dataset.groupby('week_day_of_flight')[['formatted_price']].mean()"
      ],
      "metadata": {
        "colab": {
          "base_uri": "https://localhost:8080/",
          "height": 300
        },
        "id": "Ed2AOcueJeFC",
        "outputId": "86f3fdab-cbf4-4e64-ea61-2ccdcb49d8e9"
      },
      "execution_count": 54,
      "outputs": [
        {
          "output_type": "execute_result",
          "data": {
            "text/plain": [
              "                    formatted_price\n",
              "week_day_of_flight                 \n",
              "Friday                 20639.748577\n",
              "Monday                 20787.233494\n",
              "Saturday               21356.527991\n",
              "Sunday                 21418.268188\n",
              "Thursday               20506.297795\n",
              "Tuesday                20455.409516\n",
              "Wednesday              20604.695975"
            ],
            "text/html": [
              "\n",
              "  <div id=\"df-24a70a12-2a1e-44d3-b7b6-36138fe819f7\">\n",
              "    <div class=\"colab-df-container\">\n",
              "      <div>\n",
              "<style scoped>\n",
              "    .dataframe tbody tr th:only-of-type {\n",
              "        vertical-align: middle;\n",
              "    }\n",
              "\n",
              "    .dataframe tbody tr th {\n",
              "        vertical-align: top;\n",
              "    }\n",
              "\n",
              "    .dataframe thead th {\n",
              "        text-align: right;\n",
              "    }\n",
              "</style>\n",
              "<table border=\"1\" class=\"dataframe\">\n",
              "  <thead>\n",
              "    <tr style=\"text-align: right;\">\n",
              "      <th></th>\n",
              "      <th>formatted_price</th>\n",
              "    </tr>\n",
              "    <tr>\n",
              "      <th>week_day_of_flight</th>\n",
              "      <th></th>\n",
              "    </tr>\n",
              "  </thead>\n",
              "  <tbody>\n",
              "    <tr>\n",
              "      <th>Friday</th>\n",
              "      <td>20639.748577</td>\n",
              "    </tr>\n",
              "    <tr>\n",
              "      <th>Monday</th>\n",
              "      <td>20787.233494</td>\n",
              "    </tr>\n",
              "    <tr>\n",
              "      <th>Saturday</th>\n",
              "      <td>21356.527991</td>\n",
              "    </tr>\n",
              "    <tr>\n",
              "      <th>Sunday</th>\n",
              "      <td>21418.268188</td>\n",
              "    </tr>\n",
              "    <tr>\n",
              "      <th>Thursday</th>\n",
              "      <td>20506.297795</td>\n",
              "    </tr>\n",
              "    <tr>\n",
              "      <th>Tuesday</th>\n",
              "      <td>20455.409516</td>\n",
              "    </tr>\n",
              "    <tr>\n",
              "      <th>Wednesday</th>\n",
              "      <td>20604.695975</td>\n",
              "    </tr>\n",
              "  </tbody>\n",
              "</table>\n",
              "</div>\n",
              "      <button class=\"colab-df-convert\" onclick=\"convertToInteractive('df-24a70a12-2a1e-44d3-b7b6-36138fe819f7')\"\n",
              "              title=\"Convert this dataframe to an interactive table.\"\n",
              "              style=\"display:none;\">\n",
              "        \n",
              "  <svg xmlns=\"http://www.w3.org/2000/svg\" height=\"24px\"viewBox=\"0 0 24 24\"\n",
              "       width=\"24px\">\n",
              "    <path d=\"M0 0h24v24H0V0z\" fill=\"none\"/>\n",
              "    <path d=\"M18.56 5.44l.94 2.06.94-2.06 2.06-.94-2.06-.94-.94-2.06-.94 2.06-2.06.94zm-11 1L8.5 8.5l.94-2.06 2.06-.94-2.06-.94L8.5 2.5l-.94 2.06-2.06.94zm10 10l.94 2.06.94-2.06 2.06-.94-2.06-.94-.94-2.06-.94 2.06-2.06.94z\"/><path d=\"M17.41 7.96l-1.37-1.37c-.4-.4-.92-.59-1.43-.59-.52 0-1.04.2-1.43.59L10.3 9.45l-7.72 7.72c-.78.78-.78 2.05 0 2.83L4 21.41c.39.39.9.59 1.41.59.51 0 1.02-.2 1.41-.59l7.78-7.78 2.81-2.81c.8-.78.8-2.07 0-2.86zM5.41 20L4 18.59l7.72-7.72 1.47 1.35L5.41 20z\"/>\n",
              "  </svg>\n",
              "      </button>\n",
              "      \n",
              "  <style>\n",
              "    .colab-df-container {\n",
              "      display:flex;\n",
              "      flex-wrap:wrap;\n",
              "      gap: 12px;\n",
              "    }\n",
              "\n",
              "    .colab-df-convert {\n",
              "      background-color: #E8F0FE;\n",
              "      border: none;\n",
              "      border-radius: 50%;\n",
              "      cursor: pointer;\n",
              "      display: none;\n",
              "      fill: #1967D2;\n",
              "      height: 32px;\n",
              "      padding: 0 0 0 0;\n",
              "      width: 32px;\n",
              "    }\n",
              "\n",
              "    .colab-df-convert:hover {\n",
              "      background-color: #E2EBFA;\n",
              "      box-shadow: 0px 1px 2px rgba(60, 64, 67, 0.3), 0px 1px 3px 1px rgba(60, 64, 67, 0.15);\n",
              "      fill: #174EA6;\n",
              "    }\n",
              "\n",
              "    [theme=dark] .colab-df-convert {\n",
              "      background-color: #3B4455;\n",
              "      fill: #D2E3FC;\n",
              "    }\n",
              "\n",
              "    [theme=dark] .colab-df-convert:hover {\n",
              "      background-color: #434B5C;\n",
              "      box-shadow: 0px 1px 3px 1px rgba(0, 0, 0, 0.15);\n",
              "      filter: drop-shadow(0px 1px 2px rgba(0, 0, 0, 0.3));\n",
              "      fill: #FFFFFF;\n",
              "    }\n",
              "  </style>\n",
              "\n",
              "      <script>\n",
              "        const buttonEl =\n",
              "          document.querySelector('#df-24a70a12-2a1e-44d3-b7b6-36138fe819f7 button.colab-df-convert');\n",
              "        buttonEl.style.display =\n",
              "          google.colab.kernel.accessAllowed ? 'block' : 'none';\n",
              "\n",
              "        async function convertToInteractive(key) {\n",
              "          const element = document.querySelector('#df-24a70a12-2a1e-44d3-b7b6-36138fe819f7');\n",
              "          const dataTable =\n",
              "            await google.colab.kernel.invokeFunction('convertToInteractive',\n",
              "                                                     [key], {});\n",
              "          if (!dataTable) return;\n",
              "\n",
              "          const docLinkHtml = 'Like what you see? Visit the ' +\n",
              "            '<a target=\"_blank\" href=https://colab.research.google.com/notebooks/data_table.ipynb>data table notebook</a>'\n",
              "            + ' to learn more about interactive tables.';\n",
              "          element.innerHTML = '';\n",
              "          dataTable['output_type'] = 'display_data';\n",
              "          await google.colab.output.renderOutput(dataTable, element);\n",
              "          const docLink = document.createElement('div');\n",
              "          docLink.innerHTML = docLinkHtml;\n",
              "          element.appendChild(docLink);\n",
              "        }\n",
              "      </script>\n",
              "    </div>\n",
              "  </div>\n",
              "  "
            ]
          },
          "metadata": {},
          "execution_count": 54
        }
      ]
    },
    {
      "cell_type": "code",
      "source": [
        "def arranging_day_by_price(day):\n",
        "   if day =='Tuesday' :\n",
        "     return 1\n",
        "   elif day =='Thursday' :\n",
        "     return 2\n",
        "   elif day =='Wednesday' :\n",
        "     return 3\n",
        "   elif day =='Friday' :\n",
        "     return 4\n",
        "   elif day =='Monday' :\n",
        "     return 5\n",
        "   elif day =='Saturday' :\n",
        "     return 6\n",
        "   else :\n",
        "     return 7"
      ],
      "metadata": {
        "id": "w-o0lxWxJu4B"
      },
      "execution_count": 55,
      "outputs": []
    },
    {
      "cell_type": "code",
      "source": [
        "target_encoded_dataset['week_day_of_flight'] = target_encoded_dataset.week_day_of_flight.apply(lambda day: arranging_day_by_price(day))"
      ],
      "metadata": {
        "id": "GTGV7eNMLpwI"
      },
      "execution_count": 56,
      "outputs": []
    },
    {
      "cell_type": "code",
      "source": [
        "dataset.groupby('airline')[['formatted_price']].mean()"
      ],
      "metadata": {
        "colab": {
          "base_uri": "https://localhost:8080/",
          "height": 206
        },
        "id": "poFEiwsdKAMf",
        "outputId": "f4ed198b-3422-4c22-869b-5df284307801"
      },
      "execution_count": 57,
      "outputs": [
        {
          "output_type": "execute_result",
          "data": {
            "text/plain": [
              "               formatted_price\n",
              "airline                       \n",
              "Air India         23441.239985\n",
              "Indigo             5322.844060\n",
              "Other_airline      5226.251331\n",
              "Vistara           30307.632167"
            ],
            "text/html": [
              "\n",
              "  <div id=\"df-f2498b65-3ca3-496f-a712-d2612370278b\">\n",
              "    <div class=\"colab-df-container\">\n",
              "      <div>\n",
              "<style scoped>\n",
              "    .dataframe tbody tr th:only-of-type {\n",
              "        vertical-align: middle;\n",
              "    }\n",
              "\n",
              "    .dataframe tbody tr th {\n",
              "        vertical-align: top;\n",
              "    }\n",
              "\n",
              "    .dataframe thead th {\n",
              "        text-align: right;\n",
              "    }\n",
              "</style>\n",
              "<table border=\"1\" class=\"dataframe\">\n",
              "  <thead>\n",
              "    <tr style=\"text-align: right;\">\n",
              "      <th></th>\n",
              "      <th>formatted_price</th>\n",
              "    </tr>\n",
              "    <tr>\n",
              "      <th>airline</th>\n",
              "      <th></th>\n",
              "    </tr>\n",
              "  </thead>\n",
              "  <tbody>\n",
              "    <tr>\n",
              "      <th>Air India</th>\n",
              "      <td>23441.239985</td>\n",
              "    </tr>\n",
              "    <tr>\n",
              "      <th>Indigo</th>\n",
              "      <td>5322.844060</td>\n",
              "    </tr>\n",
              "    <tr>\n",
              "      <th>Other_airline</th>\n",
              "      <td>5226.251331</td>\n",
              "    </tr>\n",
              "    <tr>\n",
              "      <th>Vistara</th>\n",
              "      <td>30307.632167</td>\n",
              "    </tr>\n",
              "  </tbody>\n",
              "</table>\n",
              "</div>\n",
              "      <button class=\"colab-df-convert\" onclick=\"convertToInteractive('df-f2498b65-3ca3-496f-a712-d2612370278b')\"\n",
              "              title=\"Convert this dataframe to an interactive table.\"\n",
              "              style=\"display:none;\">\n",
              "        \n",
              "  <svg xmlns=\"http://www.w3.org/2000/svg\" height=\"24px\"viewBox=\"0 0 24 24\"\n",
              "       width=\"24px\">\n",
              "    <path d=\"M0 0h24v24H0V0z\" fill=\"none\"/>\n",
              "    <path d=\"M18.56 5.44l.94 2.06.94-2.06 2.06-.94-2.06-.94-.94-2.06-.94 2.06-2.06.94zm-11 1L8.5 8.5l.94-2.06 2.06-.94-2.06-.94L8.5 2.5l-.94 2.06-2.06.94zm10 10l.94 2.06.94-2.06 2.06-.94-2.06-.94-.94-2.06-.94 2.06-2.06.94z\"/><path d=\"M17.41 7.96l-1.37-1.37c-.4-.4-.92-.59-1.43-.59-.52 0-1.04.2-1.43.59L10.3 9.45l-7.72 7.72c-.78.78-.78 2.05 0 2.83L4 21.41c.39.39.9.59 1.41.59.51 0 1.02-.2 1.41-.59l7.78-7.78 2.81-2.81c.8-.78.8-2.07 0-2.86zM5.41 20L4 18.59l7.72-7.72 1.47 1.35L5.41 20z\"/>\n",
              "  </svg>\n",
              "      </button>\n",
              "      \n",
              "  <style>\n",
              "    .colab-df-container {\n",
              "      display:flex;\n",
              "      flex-wrap:wrap;\n",
              "      gap: 12px;\n",
              "    }\n",
              "\n",
              "    .colab-df-convert {\n",
              "      background-color: #E8F0FE;\n",
              "      border: none;\n",
              "      border-radius: 50%;\n",
              "      cursor: pointer;\n",
              "      display: none;\n",
              "      fill: #1967D2;\n",
              "      height: 32px;\n",
              "      padding: 0 0 0 0;\n",
              "      width: 32px;\n",
              "    }\n",
              "\n",
              "    .colab-df-convert:hover {\n",
              "      background-color: #E2EBFA;\n",
              "      box-shadow: 0px 1px 2px rgba(60, 64, 67, 0.3), 0px 1px 3px 1px rgba(60, 64, 67, 0.15);\n",
              "      fill: #174EA6;\n",
              "    }\n",
              "\n",
              "    [theme=dark] .colab-df-convert {\n",
              "      background-color: #3B4455;\n",
              "      fill: #D2E3FC;\n",
              "    }\n",
              "\n",
              "    [theme=dark] .colab-df-convert:hover {\n",
              "      background-color: #434B5C;\n",
              "      box-shadow: 0px 1px 3px 1px rgba(0, 0, 0, 0.15);\n",
              "      filter: drop-shadow(0px 1px 2px rgba(0, 0, 0, 0.3));\n",
              "      fill: #FFFFFF;\n",
              "    }\n",
              "  </style>\n",
              "\n",
              "      <script>\n",
              "        const buttonEl =\n",
              "          document.querySelector('#df-f2498b65-3ca3-496f-a712-d2612370278b button.colab-df-convert');\n",
              "        buttonEl.style.display =\n",
              "          google.colab.kernel.accessAllowed ? 'block' : 'none';\n",
              "\n",
              "        async function convertToInteractive(key) {\n",
              "          const element = document.querySelector('#df-f2498b65-3ca3-496f-a712-d2612370278b');\n",
              "          const dataTable =\n",
              "            await google.colab.kernel.invokeFunction('convertToInteractive',\n",
              "                                                     [key], {});\n",
              "          if (!dataTable) return;\n",
              "\n",
              "          const docLinkHtml = 'Like what you see? Visit the ' +\n",
              "            '<a target=\"_blank\" href=https://colab.research.google.com/notebooks/data_table.ipynb>data table notebook</a>'\n",
              "            + ' to learn more about interactive tables.';\n",
              "          element.innerHTML = '';\n",
              "          dataTable['output_type'] = 'display_data';\n",
              "          await google.colab.output.renderOutput(dataTable, element);\n",
              "          const docLink = document.createElement('div');\n",
              "          docLink.innerHTML = docLinkHtml;\n",
              "          element.appendChild(docLink);\n",
              "        }\n",
              "      </script>\n",
              "    </div>\n",
              "  </div>\n",
              "  "
            ]
          },
          "metadata": {},
          "execution_count": 57
        }
      ]
    },
    {
      "cell_type": "code",
      "source": [
        "def arranging_airline_by_price(airline):\n",
        "  if airline == 'Other_airline' :\n",
        "    return 1\n",
        "  elif airline == 'Indigo' :\n",
        "    return 2\n",
        "  elif airline == 'Air India' :\n",
        "    return 3\n",
        "  else :\n",
        "    return 4"
      ],
      "metadata": {
        "id": "JHdBuLG2KFnN"
      },
      "execution_count": 58,
      "outputs": []
    },
    {
      "cell_type": "code",
      "source": [
        "target_encoded_dataset['airline'] = target_encoded_dataset.airline.apply(lambda airline: arranging_airline_by_price(airline))"
      ],
      "metadata": {
        "id": "QYFUSW3mKgcv"
      },
      "execution_count": 59,
      "outputs": []
    },
    {
      "cell_type": "code",
      "source": [
        "dataset.groupby('source')[['formatted_price']].mean()"
      ],
      "metadata": {
        "colab": {
          "base_uri": "https://localhost:8080/",
          "height": 269
        },
        "id": "82xRGroTMPlB",
        "outputId": "ffe87a4f-178c-4d2f-b404-5e98f719c56e"
      },
      "execution_count": 60,
      "outputs": [
        {
          "output_type": "execute_result",
          "data": {
            "text/plain": [
              "           formatted_price\n",
              "source                    \n",
              "Bangalore     21499.373150\n",
              "Chennai       21909.798122\n",
              "Delhi         18868.462971\n",
              "Hyderabad     20012.072367\n",
              "Kolkata       21649.666550\n",
              "Mumbai        21412.577749"
            ],
            "text/html": [
              "\n",
              "  <div id=\"df-af148f36-8d47-489c-996d-31ded6fd522b\">\n",
              "    <div class=\"colab-df-container\">\n",
              "      <div>\n",
              "<style scoped>\n",
              "    .dataframe tbody tr th:only-of-type {\n",
              "        vertical-align: middle;\n",
              "    }\n",
              "\n",
              "    .dataframe tbody tr th {\n",
              "        vertical-align: top;\n",
              "    }\n",
              "\n",
              "    .dataframe thead th {\n",
              "        text-align: right;\n",
              "    }\n",
              "</style>\n",
              "<table border=\"1\" class=\"dataframe\">\n",
              "  <thead>\n",
              "    <tr style=\"text-align: right;\">\n",
              "      <th></th>\n",
              "      <th>formatted_price</th>\n",
              "    </tr>\n",
              "    <tr>\n",
              "      <th>source</th>\n",
              "      <th></th>\n",
              "    </tr>\n",
              "  </thead>\n",
              "  <tbody>\n",
              "    <tr>\n",
              "      <th>Bangalore</th>\n",
              "      <td>21499.373150</td>\n",
              "    </tr>\n",
              "    <tr>\n",
              "      <th>Chennai</th>\n",
              "      <td>21909.798122</td>\n",
              "    </tr>\n",
              "    <tr>\n",
              "      <th>Delhi</th>\n",
              "      <td>18868.462971</td>\n",
              "    </tr>\n",
              "    <tr>\n",
              "      <th>Hyderabad</th>\n",
              "      <td>20012.072367</td>\n",
              "    </tr>\n",
              "    <tr>\n",
              "      <th>Kolkata</th>\n",
              "      <td>21649.666550</td>\n",
              "    </tr>\n",
              "    <tr>\n",
              "      <th>Mumbai</th>\n",
              "      <td>21412.577749</td>\n",
              "    </tr>\n",
              "  </tbody>\n",
              "</table>\n",
              "</div>\n",
              "      <button class=\"colab-df-convert\" onclick=\"convertToInteractive('df-af148f36-8d47-489c-996d-31ded6fd522b')\"\n",
              "              title=\"Convert this dataframe to an interactive table.\"\n",
              "              style=\"display:none;\">\n",
              "        \n",
              "  <svg xmlns=\"http://www.w3.org/2000/svg\" height=\"24px\"viewBox=\"0 0 24 24\"\n",
              "       width=\"24px\">\n",
              "    <path d=\"M0 0h24v24H0V0z\" fill=\"none\"/>\n",
              "    <path d=\"M18.56 5.44l.94 2.06.94-2.06 2.06-.94-2.06-.94-.94-2.06-.94 2.06-2.06.94zm-11 1L8.5 8.5l.94-2.06 2.06-.94-2.06-.94L8.5 2.5l-.94 2.06-2.06.94zm10 10l.94 2.06.94-2.06 2.06-.94-2.06-.94-.94-2.06-.94 2.06-2.06.94z\"/><path d=\"M17.41 7.96l-1.37-1.37c-.4-.4-.92-.59-1.43-.59-.52 0-1.04.2-1.43.59L10.3 9.45l-7.72 7.72c-.78.78-.78 2.05 0 2.83L4 21.41c.39.39.9.59 1.41.59.51 0 1.02-.2 1.41-.59l7.78-7.78 2.81-2.81c.8-.78.8-2.07 0-2.86zM5.41 20L4 18.59l7.72-7.72 1.47 1.35L5.41 20z\"/>\n",
              "  </svg>\n",
              "      </button>\n",
              "      \n",
              "  <style>\n",
              "    .colab-df-container {\n",
              "      display:flex;\n",
              "      flex-wrap:wrap;\n",
              "      gap: 12px;\n",
              "    }\n",
              "\n",
              "    .colab-df-convert {\n",
              "      background-color: #E8F0FE;\n",
              "      border: none;\n",
              "      border-radius: 50%;\n",
              "      cursor: pointer;\n",
              "      display: none;\n",
              "      fill: #1967D2;\n",
              "      height: 32px;\n",
              "      padding: 0 0 0 0;\n",
              "      width: 32px;\n",
              "    }\n",
              "\n",
              "    .colab-df-convert:hover {\n",
              "      background-color: #E2EBFA;\n",
              "      box-shadow: 0px 1px 2px rgba(60, 64, 67, 0.3), 0px 1px 3px 1px rgba(60, 64, 67, 0.15);\n",
              "      fill: #174EA6;\n",
              "    }\n",
              "\n",
              "    [theme=dark] .colab-df-convert {\n",
              "      background-color: #3B4455;\n",
              "      fill: #D2E3FC;\n",
              "    }\n",
              "\n",
              "    [theme=dark] .colab-df-convert:hover {\n",
              "      background-color: #434B5C;\n",
              "      box-shadow: 0px 1px 3px 1px rgba(0, 0, 0, 0.15);\n",
              "      filter: drop-shadow(0px 1px 2px rgba(0, 0, 0, 0.3));\n",
              "      fill: #FFFFFF;\n",
              "    }\n",
              "  </style>\n",
              "\n",
              "      <script>\n",
              "        const buttonEl =\n",
              "          document.querySelector('#df-af148f36-8d47-489c-996d-31ded6fd522b button.colab-df-convert');\n",
              "        buttonEl.style.display =\n",
              "          google.colab.kernel.accessAllowed ? 'block' : 'none';\n",
              "\n",
              "        async function convertToInteractive(key) {\n",
              "          const element = document.querySelector('#df-af148f36-8d47-489c-996d-31ded6fd522b');\n",
              "          const dataTable =\n",
              "            await google.colab.kernel.invokeFunction('convertToInteractive',\n",
              "                                                     [key], {});\n",
              "          if (!dataTable) return;\n",
              "\n",
              "          const docLinkHtml = 'Like what you see? Visit the ' +\n",
              "            '<a target=\"_blank\" href=https://colab.research.google.com/notebooks/data_table.ipynb>data table notebook</a>'\n",
              "            + ' to learn more about interactive tables.';\n",
              "          element.innerHTML = '';\n",
              "          dataTable['output_type'] = 'display_data';\n",
              "          await google.colab.output.renderOutput(dataTable, element);\n",
              "          const docLink = document.createElement('div');\n",
              "          docLink.innerHTML = docLinkHtml;\n",
              "          element.appendChild(docLink);\n",
              "        }\n",
              "      </script>\n",
              "    </div>\n",
              "  </div>\n",
              "  "
            ]
          },
          "metadata": {},
          "execution_count": 60
        }
      ]
    },
    {
      "cell_type": "code",
      "source": [
        "def arranging_source_by_price(source):\n",
        "  if source == 'Delhi' :\n",
        "    return 1\n",
        "  elif source == 'Hyderabad' :\n",
        "    return 2\n",
        "  elif source == 'Mumbai' :\n",
        "    return 3\n",
        "  elif source == 'Bangalore' :\n",
        "    return 4\n",
        "  elif source == 'Kolkata' :\n",
        "    return 5\n",
        "  else :\n",
        "    return 6"
      ],
      "metadata": {
        "id": "jH8plHdZMusB"
      },
      "execution_count": 61,
      "outputs": []
    },
    {
      "cell_type": "code",
      "source": [
        "target_encoded_dataset['source'] = target_encoded_dataset.source.apply(lambda source: arranging_source_by_price(source))"
      ],
      "metadata": {
        "id": "PGW3g5N4NQbD"
      },
      "execution_count": 62,
      "outputs": []
    },
    {
      "cell_type": "code",
      "source": [
        "dataset.groupby('destination')[['formatted_price']].mean()"
      ],
      "metadata": {
        "colab": {
          "base_uri": "https://localhost:8080/",
          "height": 269
        },
        "id": "w5gkGyvINaP6",
        "outputId": "910dbd71-07e6-4583-8f16-a800887c5ea9"
      },
      "execution_count": 63,
      "outputs": [
        {
          "output_type": "execute_result",
          "data": {
            "text/plain": [
              "             formatted_price\n",
              "destination                 \n",
              "Bangalore       21520.162803\n",
              "Chennai         21845.924328\n",
              "Delhi           18338.150235\n",
              "Hyderabad       20457.298224\n",
              "Kolkata         21915.423038\n",
              "Mumbai          21259.062462"
            ],
            "text/html": [
              "\n",
              "  <div id=\"df-08bfab53-5c06-4792-a657-59db45c27f0b\">\n",
              "    <div class=\"colab-df-container\">\n",
              "      <div>\n",
              "<style scoped>\n",
              "    .dataframe tbody tr th:only-of-type {\n",
              "        vertical-align: middle;\n",
              "    }\n",
              "\n",
              "    .dataframe tbody tr th {\n",
              "        vertical-align: top;\n",
              "    }\n",
              "\n",
              "    .dataframe thead th {\n",
              "        text-align: right;\n",
              "    }\n",
              "</style>\n",
              "<table border=\"1\" class=\"dataframe\">\n",
              "  <thead>\n",
              "    <tr style=\"text-align: right;\">\n",
              "      <th></th>\n",
              "      <th>formatted_price</th>\n",
              "    </tr>\n",
              "    <tr>\n",
              "      <th>destination</th>\n",
              "      <th></th>\n",
              "    </tr>\n",
              "  </thead>\n",
              "  <tbody>\n",
              "    <tr>\n",
              "      <th>Bangalore</th>\n",
              "      <td>21520.162803</td>\n",
              "    </tr>\n",
              "    <tr>\n",
              "      <th>Chennai</th>\n",
              "      <td>21845.924328</td>\n",
              "    </tr>\n",
              "    <tr>\n",
              "      <th>Delhi</th>\n",
              "      <td>18338.150235</td>\n",
              "    </tr>\n",
              "    <tr>\n",
              "      <th>Hyderabad</th>\n",
              "      <td>20457.298224</td>\n",
              "    </tr>\n",
              "    <tr>\n",
              "      <th>Kolkata</th>\n",
              "      <td>21915.423038</td>\n",
              "    </tr>\n",
              "    <tr>\n",
              "      <th>Mumbai</th>\n",
              "      <td>21259.062462</td>\n",
              "    </tr>\n",
              "  </tbody>\n",
              "</table>\n",
              "</div>\n",
              "      <button class=\"colab-df-convert\" onclick=\"convertToInteractive('df-08bfab53-5c06-4792-a657-59db45c27f0b')\"\n",
              "              title=\"Convert this dataframe to an interactive table.\"\n",
              "              style=\"display:none;\">\n",
              "        \n",
              "  <svg xmlns=\"http://www.w3.org/2000/svg\" height=\"24px\"viewBox=\"0 0 24 24\"\n",
              "       width=\"24px\">\n",
              "    <path d=\"M0 0h24v24H0V0z\" fill=\"none\"/>\n",
              "    <path d=\"M18.56 5.44l.94 2.06.94-2.06 2.06-.94-2.06-.94-.94-2.06-.94 2.06-2.06.94zm-11 1L8.5 8.5l.94-2.06 2.06-.94-2.06-.94L8.5 2.5l-.94 2.06-2.06.94zm10 10l.94 2.06.94-2.06 2.06-.94-2.06-.94-.94-2.06-.94 2.06-2.06.94z\"/><path d=\"M17.41 7.96l-1.37-1.37c-.4-.4-.92-.59-1.43-.59-.52 0-1.04.2-1.43.59L10.3 9.45l-7.72 7.72c-.78.78-.78 2.05 0 2.83L4 21.41c.39.39.9.59 1.41.59.51 0 1.02-.2 1.41-.59l7.78-7.78 2.81-2.81c.8-.78.8-2.07 0-2.86zM5.41 20L4 18.59l7.72-7.72 1.47 1.35L5.41 20z\"/>\n",
              "  </svg>\n",
              "      </button>\n",
              "      \n",
              "  <style>\n",
              "    .colab-df-container {\n",
              "      display:flex;\n",
              "      flex-wrap:wrap;\n",
              "      gap: 12px;\n",
              "    }\n",
              "\n",
              "    .colab-df-convert {\n",
              "      background-color: #E8F0FE;\n",
              "      border: none;\n",
              "      border-radius: 50%;\n",
              "      cursor: pointer;\n",
              "      display: none;\n",
              "      fill: #1967D2;\n",
              "      height: 32px;\n",
              "      padding: 0 0 0 0;\n",
              "      width: 32px;\n",
              "    }\n",
              "\n",
              "    .colab-df-convert:hover {\n",
              "      background-color: #E2EBFA;\n",
              "      box-shadow: 0px 1px 2px rgba(60, 64, 67, 0.3), 0px 1px 3px 1px rgba(60, 64, 67, 0.15);\n",
              "      fill: #174EA6;\n",
              "    }\n",
              "\n",
              "    [theme=dark] .colab-df-convert {\n",
              "      background-color: #3B4455;\n",
              "      fill: #D2E3FC;\n",
              "    }\n",
              "\n",
              "    [theme=dark] .colab-df-convert:hover {\n",
              "      background-color: #434B5C;\n",
              "      box-shadow: 0px 1px 3px 1px rgba(0, 0, 0, 0.15);\n",
              "      filter: drop-shadow(0px 1px 2px rgba(0, 0, 0, 0.3));\n",
              "      fill: #FFFFFF;\n",
              "    }\n",
              "  </style>\n",
              "\n",
              "      <script>\n",
              "        const buttonEl =\n",
              "          document.querySelector('#df-08bfab53-5c06-4792-a657-59db45c27f0b button.colab-df-convert');\n",
              "        buttonEl.style.display =\n",
              "          google.colab.kernel.accessAllowed ? 'block' : 'none';\n",
              "\n",
              "        async function convertToInteractive(key) {\n",
              "          const element = document.querySelector('#df-08bfab53-5c06-4792-a657-59db45c27f0b');\n",
              "          const dataTable =\n",
              "            await google.colab.kernel.invokeFunction('convertToInteractive',\n",
              "                                                     [key], {});\n",
              "          if (!dataTable) return;\n",
              "\n",
              "          const docLinkHtml = 'Like what you see? Visit the ' +\n",
              "            '<a target=\"_blank\" href=https://colab.research.google.com/notebooks/data_table.ipynb>data table notebook</a>'\n",
              "            + ' to learn more about interactive tables.';\n",
              "          element.innerHTML = '';\n",
              "          dataTable['output_type'] = 'display_data';\n",
              "          await google.colab.output.renderOutput(dataTable, element);\n",
              "          const docLink = document.createElement('div');\n",
              "          docLink.innerHTML = docLinkHtml;\n",
              "          element.appendChild(docLink);\n",
              "        }\n",
              "      </script>\n",
              "    </div>\n",
              "  </div>\n",
              "  "
            ]
          },
          "metadata": {},
          "execution_count": 63
        }
      ]
    },
    {
      "cell_type": "code",
      "source": [
        "def arranging_destination_by_price(source):\n",
        "  if source == 'Delhi' :\n",
        "    return 1\n",
        "  elif source == 'Hyderabad' :\n",
        "    return 2\n",
        "  elif source == 'Mumbai' :\n",
        "    return 3\n",
        "  elif source == 'Bangalore' :\n",
        "    return 4\n",
        "  elif source == 'Chennai' :\n",
        "    return 5\n",
        "  else :\n",
        "    return 6"
      ],
      "metadata": {
        "id": "RSVWceProvCu"
      },
      "execution_count": 64,
      "outputs": []
    },
    {
      "cell_type": "code",
      "source": [
        "target_encoded_dataset['destination'] = target_encoded_dataset.destination.apply(lambda destination: arranging_destination_by_price(destination))"
      ],
      "metadata": {
        "id": "KguyMBp2Nij_"
      },
      "execution_count": 65,
      "outputs": []
    },
    {
      "cell_type": "code",
      "source": [
        "target_encoded_dataset.head()"
      ],
      "metadata": {
        "colab": {
          "base_uri": "https://localhost:8080/",
          "height": 270
        },
        "id": "Wjs1KWuhMAvS",
        "outputId": "ab695f56-2c60-4a3f-d7bd-2037019327f9"
      },
      "execution_count": 66,
      "outputs": [
        {
          "output_type": "execute_result",
          "data": {
            "text/plain": [
              "   airline  dep_time  arr_time  type  source  destination  flight_day  \\\n",
              "0        4         3         4     1       4            2           5   \n",
              "1        4         1         2     1       1            2          18   \n",
              "2        1         2         4     0       3            2           9   \n",
              "3        1         3         4     0       3            1          15   \n",
              "4        4         2         4     0       6            6          22   \n",
              "\n",
              "   flight_month  num_of_stops  formatted_price  num_of_hours_taken  \\\n",
              "0             3             1            56588                  10   \n",
              "1             3             1            59649                   6   \n",
              "2             3             1             3916                   8   \n",
              "3             3             1             6031                  10   \n",
              "4             3             1             7081                   7   \n",
              "\n",
              "   week_day_of_flight  distance_bet_2_countries  one_stop_in  \n",
              "0                   6                  0.258401            1  \n",
              "1                   4                  0.717075            1  \n",
              "2                   3                  0.327430            1  \n",
              "3                   1                  0.653497            1  \n",
              "4                   1                  0.755223            1  "
            ],
            "text/html": [
              "\n",
              "  <div id=\"df-c06afbb8-0aac-4675-9078-111dfa27808b\">\n",
              "    <div class=\"colab-df-container\">\n",
              "      <div>\n",
              "<style scoped>\n",
              "    .dataframe tbody tr th:only-of-type {\n",
              "        vertical-align: middle;\n",
              "    }\n",
              "\n",
              "    .dataframe tbody tr th {\n",
              "        vertical-align: top;\n",
              "    }\n",
              "\n",
              "    .dataframe thead th {\n",
              "        text-align: right;\n",
              "    }\n",
              "</style>\n",
              "<table border=\"1\" class=\"dataframe\">\n",
              "  <thead>\n",
              "    <tr style=\"text-align: right;\">\n",
              "      <th></th>\n",
              "      <th>airline</th>\n",
              "      <th>dep_time</th>\n",
              "      <th>arr_time</th>\n",
              "      <th>type</th>\n",
              "      <th>source</th>\n",
              "      <th>destination</th>\n",
              "      <th>flight_day</th>\n",
              "      <th>flight_month</th>\n",
              "      <th>num_of_stops</th>\n",
              "      <th>formatted_price</th>\n",
              "      <th>num_of_hours_taken</th>\n",
              "      <th>week_day_of_flight</th>\n",
              "      <th>distance_bet_2_countries</th>\n",
              "      <th>one_stop_in</th>\n",
              "    </tr>\n",
              "  </thead>\n",
              "  <tbody>\n",
              "    <tr>\n",
              "      <th>0</th>\n",
              "      <td>4</td>\n",
              "      <td>3</td>\n",
              "      <td>4</td>\n",
              "      <td>1</td>\n",
              "      <td>4</td>\n",
              "      <td>2</td>\n",
              "      <td>5</td>\n",
              "      <td>3</td>\n",
              "      <td>1</td>\n",
              "      <td>56588</td>\n",
              "      <td>10</td>\n",
              "      <td>6</td>\n",
              "      <td>0.258401</td>\n",
              "      <td>1</td>\n",
              "    </tr>\n",
              "    <tr>\n",
              "      <th>1</th>\n",
              "      <td>4</td>\n",
              "      <td>1</td>\n",
              "      <td>2</td>\n",
              "      <td>1</td>\n",
              "      <td>1</td>\n",
              "      <td>2</td>\n",
              "      <td>18</td>\n",
              "      <td>3</td>\n",
              "      <td>1</td>\n",
              "      <td>59649</td>\n",
              "      <td>6</td>\n",
              "      <td>4</td>\n",
              "      <td>0.717075</td>\n",
              "      <td>1</td>\n",
              "    </tr>\n",
              "    <tr>\n",
              "      <th>2</th>\n",
              "      <td>1</td>\n",
              "      <td>2</td>\n",
              "      <td>4</td>\n",
              "      <td>0</td>\n",
              "      <td>3</td>\n",
              "      <td>2</td>\n",
              "      <td>9</td>\n",
              "      <td>3</td>\n",
              "      <td>1</td>\n",
              "      <td>3916</td>\n",
              "      <td>8</td>\n",
              "      <td>3</td>\n",
              "      <td>0.327430</td>\n",
              "      <td>1</td>\n",
              "    </tr>\n",
              "    <tr>\n",
              "      <th>3</th>\n",
              "      <td>1</td>\n",
              "      <td>3</td>\n",
              "      <td>4</td>\n",
              "      <td>0</td>\n",
              "      <td>3</td>\n",
              "      <td>1</td>\n",
              "      <td>15</td>\n",
              "      <td>3</td>\n",
              "      <td>1</td>\n",
              "      <td>6031</td>\n",
              "      <td>10</td>\n",
              "      <td>1</td>\n",
              "      <td>0.653497</td>\n",
              "      <td>1</td>\n",
              "    </tr>\n",
              "    <tr>\n",
              "      <th>4</th>\n",
              "      <td>4</td>\n",
              "      <td>2</td>\n",
              "      <td>4</td>\n",
              "      <td>0</td>\n",
              "      <td>6</td>\n",
              "      <td>6</td>\n",
              "      <td>22</td>\n",
              "      <td>3</td>\n",
              "      <td>1</td>\n",
              "      <td>7081</td>\n",
              "      <td>7</td>\n",
              "      <td>1</td>\n",
              "      <td>0.755223</td>\n",
              "      <td>1</td>\n",
              "    </tr>\n",
              "  </tbody>\n",
              "</table>\n",
              "</div>\n",
              "      <button class=\"colab-df-convert\" onclick=\"convertToInteractive('df-c06afbb8-0aac-4675-9078-111dfa27808b')\"\n",
              "              title=\"Convert this dataframe to an interactive table.\"\n",
              "              style=\"display:none;\">\n",
              "        \n",
              "  <svg xmlns=\"http://www.w3.org/2000/svg\" height=\"24px\"viewBox=\"0 0 24 24\"\n",
              "       width=\"24px\">\n",
              "    <path d=\"M0 0h24v24H0V0z\" fill=\"none\"/>\n",
              "    <path d=\"M18.56 5.44l.94 2.06.94-2.06 2.06-.94-2.06-.94-.94-2.06-.94 2.06-2.06.94zm-11 1L8.5 8.5l.94-2.06 2.06-.94-2.06-.94L8.5 2.5l-.94 2.06-2.06.94zm10 10l.94 2.06.94-2.06 2.06-.94-2.06-.94-.94-2.06-.94 2.06-2.06.94z\"/><path d=\"M17.41 7.96l-1.37-1.37c-.4-.4-.92-.59-1.43-.59-.52 0-1.04.2-1.43.59L10.3 9.45l-7.72 7.72c-.78.78-.78 2.05 0 2.83L4 21.41c.39.39.9.59 1.41.59.51 0 1.02-.2 1.41-.59l7.78-7.78 2.81-2.81c.8-.78.8-2.07 0-2.86zM5.41 20L4 18.59l7.72-7.72 1.47 1.35L5.41 20z\"/>\n",
              "  </svg>\n",
              "      </button>\n",
              "      \n",
              "  <style>\n",
              "    .colab-df-container {\n",
              "      display:flex;\n",
              "      flex-wrap:wrap;\n",
              "      gap: 12px;\n",
              "    }\n",
              "\n",
              "    .colab-df-convert {\n",
              "      background-color: #E8F0FE;\n",
              "      border: none;\n",
              "      border-radius: 50%;\n",
              "      cursor: pointer;\n",
              "      display: none;\n",
              "      fill: #1967D2;\n",
              "      height: 32px;\n",
              "      padding: 0 0 0 0;\n",
              "      width: 32px;\n",
              "    }\n",
              "\n",
              "    .colab-df-convert:hover {\n",
              "      background-color: #E2EBFA;\n",
              "      box-shadow: 0px 1px 2px rgba(60, 64, 67, 0.3), 0px 1px 3px 1px rgba(60, 64, 67, 0.15);\n",
              "      fill: #174EA6;\n",
              "    }\n",
              "\n",
              "    [theme=dark] .colab-df-convert {\n",
              "      background-color: #3B4455;\n",
              "      fill: #D2E3FC;\n",
              "    }\n",
              "\n",
              "    [theme=dark] .colab-df-convert:hover {\n",
              "      background-color: #434B5C;\n",
              "      box-shadow: 0px 1px 3px 1px rgba(0, 0, 0, 0.15);\n",
              "      filter: drop-shadow(0px 1px 2px rgba(0, 0, 0, 0.3));\n",
              "      fill: #FFFFFF;\n",
              "    }\n",
              "  </style>\n",
              "\n",
              "      <script>\n",
              "        const buttonEl =\n",
              "          document.querySelector('#df-c06afbb8-0aac-4675-9078-111dfa27808b button.colab-df-convert');\n",
              "        buttonEl.style.display =\n",
              "          google.colab.kernel.accessAllowed ? 'block' : 'none';\n",
              "\n",
              "        async function convertToInteractive(key) {\n",
              "          const element = document.querySelector('#df-c06afbb8-0aac-4675-9078-111dfa27808b');\n",
              "          const dataTable =\n",
              "            await google.colab.kernel.invokeFunction('convertToInteractive',\n",
              "                                                     [key], {});\n",
              "          if (!dataTable) return;\n",
              "\n",
              "          const docLinkHtml = 'Like what you see? Visit the ' +\n",
              "            '<a target=\"_blank\" href=https://colab.research.google.com/notebooks/data_table.ipynb>data table notebook</a>'\n",
              "            + ' to learn more about interactive tables.';\n",
              "          element.innerHTML = '';\n",
              "          dataTable['output_type'] = 'display_data';\n",
              "          await google.colab.output.renderOutput(dataTable, element);\n",
              "          const docLink = document.createElement('div');\n",
              "          docLink.innerHTML = docLinkHtml;\n",
              "          element.appendChild(docLink);\n",
              "        }\n",
              "      </script>\n",
              "    </div>\n",
              "  </div>\n",
              "  "
            ]
          },
          "metadata": {},
          "execution_count": 66
        }
      ]
    },
    {
      "cell_type": "code",
      "source": [
        "target_encoded_dataset.drop(columns=['one_stop_in'],axis=1,inplace=True)"
      ],
      "metadata": {
        "id": "weT3xWCLORVb"
      },
      "execution_count": 67,
      "outputs": []
    },
    {
      "cell_type": "code",
      "source": [
        "dataset = pd.get_dummies(dataset,columns=['airline','source','destination','week_day_of_flight','dep_time','arr_time'])"
      ],
      "metadata": {
        "id": "HHxeswABoj8K"
      },
      "execution_count": 68,
      "outputs": []
    },
    {
      "cell_type": "markdown",
      "source": [
        "#Since this is a time series data, data must be sorted according to the date, from older to newer"
      ],
      "metadata": {
        "id": "pXzSI4p8q1OV"
      }
    },
    {
      "cell_type": "code",
      "source": [
        "dataset.sort_values(by = ['flight_month','flight_day',],inplace =True,kind = 'quicksort',ascending = True)"
      ],
      "metadata": {
        "id": "ro4hIobXYsB-"
      },
      "execution_count": 69,
      "outputs": []
    },
    {
      "cell_type": "code",
      "source": [
        "target_encoded_dataset.sort_values(by = ['flight_month','flight_day',],inplace =True,kind = 'quicksort',ascending = True)"
      ],
      "metadata": {
        "id": "pJmizBX_ONWN"
      },
      "execution_count": 70,
      "outputs": []
    },
    {
      "cell_type": "markdown",
      "source": [
        "#Here we are exploring the shape of the data based on the month, this will be used when transforming the data into the frequency domain"
      ],
      "metadata": {
        "id": "1zbHuUTusP16"
      }
    },
    {
      "cell_type": "code",
      "source": [
        "def draw_periodic_signal(dataFrame,condition,grouping_column,condition_column,label):\n",
        "    df = dataFrame[dataFrame[condition_column]==condition]\n",
        "    df = df.groupby(grouping_column)[[label]].mean()\n",
        "    x_values = np.array(df.index)\n",
        "    y_values = np.array(df[label])\n",
        "    X_Y_Spline = make_interp_spline(np.array(x_values), y_values)\n",
        "    X_ = np.linspace(x_values.min(), x_values.max(), 400)\n",
        "    Y_ = X_Y_Spline(X_)\n",
        "    plt.plot(X_,Y_)\n",
        "    plt.show()"
      ],
      "metadata": {
        "id": "6t5QY2DnN3Lr"
      },
      "execution_count": 71,
      "outputs": []
    },
    {
      "cell_type": "markdown",
      "source": [
        "#We cannot form an exact opinion based on the observations of Febrauary, as our observations start from 11/2, and the data of the beginning of the month is lost"
      ],
      "metadata": {
        "id": "YIj4Qc77sgML"
      }
    },
    {
      "cell_type": "code",
      "source": [
        "draw_periodic_signal(dataset,2,'flight_day','flight_month','formatted_price')"
      ],
      "metadata": {
        "colab": {
          "base_uri": "https://localhost:8080/",
          "height": 265
        },
        "outputId": "6293a516-f590-4257-bac7-edf2f9d2ab06",
        "id": "CqId_rMtE_Ve"
      },
      "execution_count": 72,
      "outputs": [
        {
          "output_type": "display_data",
          "data": {
            "text/plain": [
              "<Figure size 432x288 with 1 Axes>"
            ],
            "image/png": "[encoded data removed]"
          },
          "metadata": {
            "needs_background": "light"
          }
        }
      ]
    },
    {
      "cell_type": "markdown",
      "source": [
        "#But we have all the data belonging to March"
      ],
      "metadata": {
        "id": "fffU8MSLt1ow"
      }
    },
    {
      "cell_type": "code",
      "source": [
        "draw_periodic_signal(dataset,3,'flight_day','flight_month','formatted_price')"
      ],
      "metadata": {
        "colab": {
          "base_uri": "https://localhost:8080/",
          "height": 265
        },
        "outputId": "749ed4dd-567d-475c-d9c5-267adfc79e7a",
        "id": "slTh68uQE_Vg"
      },
      "execution_count": 73,
      "outputs": [
        {
          "output_type": "display_data",
          "data": {
            "text/plain": [
              "<Figure size 432x288 with 1 Axes>"
            ],
            "image/png": "[encoded data removed]"
          },
          "metadata": {
            "needs_background": "light"
          }
        }
      ]
    },
    {
      "cell_type": "markdown",
      "source": [
        "# The data looks like a signal in the time domain, and since this is a time series data, we can transform the data to the frequency domain to get the most effective frequency componenets "
      ],
      "metadata": {
        "id": "IQo5ZdIWEVZf"
      }
    },
    {
      "cell_type": "code",
      "source": [
        "dataset['formatted_price'][:500].plot(figsize=(24,5))"
      ],
      "metadata": {
        "id": "8PVLyzigtRjb",
        "colab": {
          "base_uri": "https://localhost:8080/",
          "height": 278
        },
        "outputId": "c58b2e6c-b2c2-4ede-a942-f5b9b910039a"
      },
      "execution_count": 74,
      "outputs": [
        {
          "output_type": "execute_result",
          "data": {
            "text/plain": [
              "<matplotlib.axes._subplots.AxesSubplot at 0x7f9d1181cf50>"
            ]
          },
          "metadata": {},
          "execution_count": 74
        },
        {
          "output_type": "display_data",
          "data": {
            "text/plain": [
              "<Figure size 1728x360 with 1 Axes>"
            ],
            "image/png": "[encoded data removed]"
          },
          "metadata": {
            "needs_background": "light"
          }
        }
      ]
    },
    {
      "cell_type": "markdown",
      "source": [
        "# Hypothesis testing using p value:\n",
        "Our null hypothesis is that the model will make use of the feature otherwise the label is independant on that feature. \n",
        "\n",
        "So a p value < 0.05 proves the null hypothesis is true and a p value larger than it proves otherwise "
      ],
      "metadata": {
        "id": "vjkS18A0vmxX"
      }
    },
    {
      "cell_type": "code",
      "source": [
        "for column in dataset.columns:\n",
        "  if column != 'formatted_price':\n",
        "    corr,pval = stats.pearsonr(dataset[column],dataset['formatted_price'])\n",
        "    print(\"'{column}' has correlation of '{corr}' and pvalue of '{pval}'\".format(column=column,corr=corr,pval=pval))"
      ],
      "metadata": {
        "id": "OkIvBOu3ukGo",
        "colab": {
          "base_uri": "https://localhost:8080/"
        },
        "outputId": "659e4343-e438-4d7f-aee8-50b349103852"
      },
      "execution_count": 75,
      "outputs": [
        {
          "output_type": "stream",
          "name": "stdout",
          "text": [
            "'type' has correlation of '0.9375717483806643' and pvalue of '0.0'\n",
            "'flight_day' has correlation of '-0.001599264011035632' and pvalue of '0.4331609562899671'\n",
            "'flight_month' has correlation of '-0.09066432182853956' and pvalue of '0.0'\n",
            "'num_of_stops' has correlation of '0.11833431279770786' and pvalue of '0.0'\n",
            "'num_of_hours_taken' has correlation of '0.000844009091766273' and pvalue of '0.679133447707023'\n",
            "'distance_bet_2_countries' has correlation of '-0.039354795043097496' and pvalue of '5.902940621588462e-83'\n",
            "'one_stop_in' has correlation of 'nan' and pvalue of 'nan'\n",
            "'airline_Air India' has correlation of '0.07037521868371098' and pvalue of '2.524705877623109e-261'\n",
            "'airline_Indigo' has correlation of '-0.28066950899698195' and pvalue of '0.0'\n",
            "'airline_Other_airline' has correlation of '-0.30188276775921036' and pvalue of '0.0'\n",
            "'airline_Vistara' has correlation of '0.36060634326521623' and pvalue of '0.0'\n",
            "'source_Bangalore' has correlation of '0.013804637464467197' and pvalue of '1.3245946820299139e-11'\n",
            "'source_Chennai' has correlation of '0.018545312095445077' and pvalue of '9.924633423563329e-20'\n",
            "'source_Delhi' has correlation of '-0.043654359351523314' and pvalue of '1.1989528864277468e-101'\n",
            "'source_Hyderabad' has correlation of '-0.014115060612156179' and pvalue of '4.577887574273359e-12'\n",
            "'source_Kolkata' has correlation of '0.015697382155085475' and pvalue of '1.4293466238575632e-14'\n",
            "'source_Mumbai' has correlation of '0.013207472458544568' and pvalue of '9.593784690783559e-11'\n",
            "'destination_Bangalore' has correlation of '0.014031793952186754' and pvalue of '6.101019457165617e-12'\n",
            "'destination_Chennai' has correlation of '0.017915686548929208' and pvalue of '1.618568890915608e-18'\n",
            "'destination_Delhi' has correlation of '-0.053237762092168614' and pvalue of '2.7958940600448714e-150'\n",
            "'destination_Hyderabad' has correlation of '-0.006504140285710732' and pvalue of '0.0014341441128187236'\n",
            "'destination_Kolkata' has correlation of '0.021497717025047672' and pvalue of '5.822359853117424e-26'\n",
            "'destination_Mumbai' has correlation of '0.009634210971540023' and pvalue of '2.337643517834645e-06'\n",
            "'week_day_of_flight_Friday' has correlation of '-0.0031005527247900434' and pvalue of '0.1286182175098576'\n",
            "'week_day_of_flight_Monday' has correlation of '-0.0005797115378214075' and pvalue of '0.7763225796940837'\n",
            "'week_day_of_flight_Saturday' has correlation of '0.009545671081411574' and pvalue of '2.891139493342683e-06'\n",
            "'week_day_of_flight_Sunday' has correlation of '0.010712364244242822' and pvalue of '1.5189953269123e-07'\n",
            "'week_day_of_flight_Thursday' has correlation of '-0.005728443794122252' and pvalue of '0.004992569216558753'\n",
            "'week_day_of_flight_Tuesday' has correlation of '-0.0066508066729479' and pvalue of '0.0011158022694354817'\n",
            "'week_day_of_flight_Wednesday' has correlation of '-0.003925305664696372' and pvalue of '0.05438145555543158'\n",
            "'dep_time_Afternoon' has correlation of '-0.038392644317888594' and pvalue of '4.88999095953554e-79'\n",
            "'dep_time_Early morning' has correlation of '-0.08364282227442045' and pvalue of '0.0'\n",
            "'dep_time_Evening' has correlation of '0.035195810009085234' and pvalue of '1.0318123058958935e-66'\n",
            "'dep_time_Morning' has correlation of '0.03559084588230366' and pvalue of '3.535545375716548e-68'\n",
            "'arr_time_Afternoon' has correlation of '-0.024054780569859276' and pvalue of '4.3503536399852526e-32'\n",
            "'arr_time_Early morning' has correlation of '-0.09855577112230496' and pvalue of '0.0'\n",
            "'arr_time_Evening' has correlation of '0.05982217394760741' and pvalue of '2.774586025238672e-189'\n",
            "'arr_time_Morning' has correlation of '0.00452112779815763' and pvalue of '0.026705211569474925'\n"
          ]
        }
      ]
    },
    {
      "cell_type": "code",
      "source": [
        "for column in dataset.columns:\n",
        "  if column != 'formatted_price':\n",
        "    corr,pval = stats.pearsonr(dataset[column],dataset['formatted_price'])\n",
        "    if pval > 0.05:\n",
        "      dataset.drop(columns=column,axis=1,inplace=True)"
      ],
      "metadata": {
        "id": "7k2MAfMk-EuZ"
      },
      "execution_count": 76,
      "outputs": []
    },
    {
      "cell_type": "code",
      "source": [
        "dataset.drop(columns=['one_stop_in'],axis=1,inplace=True)"
      ],
      "metadata": {
        "id": "-d9IMLLAyTt8"
      },
      "execution_count": 77,
      "outputs": []
    },
    {
      "cell_type": "code",
      "source": [
        "for column in target_encoded_dataset.columns:\n",
        "  if column != 'formatted_price':\n",
        "    corr,pval = stats.pearsonr(target_encoded_dataset[column],target_encoded_dataset['formatted_price'])\n",
        "    print(\"'{column}' has correlation of '{corr}' and pvalue of '{pval}'\".format(column=column,corr=corr,pval=pval))"
      ],
      "metadata": {
        "id": "ra-k3fz51lJN",
        "colab": {
          "base_uri": "https://localhost:8080/"
        },
        "outputId": "9d5fe68e-3e9a-41f3-86ff-b10d855c5c8a"
      },
      "execution_count": 78,
      "outputs": [
        {
          "output_type": "stream",
          "name": "stdout",
          "text": [
            "'airline' has correlation of '0.4530333517283446' and pvalue of '0.0'\n",
            "'dep_time' has correlation of '0.07848950830990947' and pvalue of '0.0'\n",
            "'arr_time' has correlation of '0.08882682309722437' and pvalue of '0.0'\n",
            "'type' has correlation of '0.9375717483806643' and pvalue of '0.0'\n",
            "'source' has correlation of '0.044981879699142996' and pvalue of '8.251996669602708e-108'\n",
            "'destination' has correlation of '0.04998549791951497' and pvalue of '1.0726152768563018e-132'\n",
            "'flight_day' has correlation of '-0.001599264011035632' and pvalue of '0.4331609562899671'\n",
            "'flight_month' has correlation of '-0.09066432182853956' and pvalue of '0.0'\n",
            "'num_of_stops' has correlation of '0.11833431279770786' and pvalue of '0.0'\n",
            "'num_of_hours_taken' has correlation of '0.000844009091766273' and pvalue of '0.679133447707023'\n",
            "'week_day_of_flight' has correlation of '0.014998095280157463' and pvalue of '1.9683808219355307e-13'\n",
            "'distance_bet_2_countries' has correlation of '-0.039354795043097496' and pvalue of '5.902940621588462e-83'\n"
          ]
        }
      ]
    },
    {
      "cell_type": "code",
      "source": [
        "for column in target_encoded_dataset.columns:\n",
        "  if column != 'formatted_price':\n",
        "    corr,pval = stats.pearsonr(target_encoded_dataset[column],target_encoded_dataset['formatted_price'])\n",
        "    if pval > 0.05:\n",
        "      target_encoded_dataset.drop(columns=column,axis=1,inplace=True)"
      ],
      "metadata": {
        "id": "Eo9j4gNK1sS_"
      },
      "execution_count": 79,
      "outputs": []
    },
    {
      "cell_type": "code",
      "source": [
        "dataset.head()"
      ],
      "metadata": {
        "id": "62mghYvc15kB",
        "colab": {
          "base_uri": "https://localhost:8080/",
          "height": 317
        },
        "outputId": "11353362-a8fe-464a-9e53-9ae215500088"
      },
      "execution_count": 80,
      "outputs": [
        {
          "output_type": "execute_result",
          "data": {
            "text/plain": [
              "     type  flight_month  num_of_stops  formatted_price  \\\n",
              "66      1             2             1            54306   \n",
              "102     0             2             1            17829   \n",
              "121     0             2             1            14150   \n",
              "167     0             2             1            13258   \n",
              "439     0             2             0             6363   \n",
              "\n",
              "     distance_bet_2_countries  airline_Air India  airline_Indigo  \\\n",
              "66                   0.984105                  1               0   \n",
              "102                  0.755223                  1               0   \n",
              "121                  0.451862                  0               0   \n",
              "167                  0.258401                  0               0   \n",
              "439                  0.653497                  0               0   \n",
              "\n",
              "     airline_Other_airline  airline_Vistara  source_Bangalore  ...  \\\n",
              "66                       0                0                 0  ...   \n",
              "102                      0                0                 0  ...   \n",
              "121                      0                1                 1  ...   \n",
              "167                      0                1                 1  ...   \n",
              "439                      0                1                 0  ...   \n",
              "\n",
              "     week_day_of_flight_Thursday  week_day_of_flight_Tuesday  \\\n",
              "66                             0                           0   \n",
              "102                            0                           0   \n",
              "121                            0                           0   \n",
              "167                            0                           0   \n",
              "439                            0                           0   \n",
              "\n",
              "     dep_time_Afternoon  dep_time_Early morning  dep_time_Evening  \\\n",
              "66                    0                       0                 1   \n",
              "102                   1                       0                 0   \n",
              "121                   0                       0                 0   \n",
              "167                   0                       0                 1   \n",
              "439                   1                       0                 0   \n",
              "\n",
              "     dep_time_Morning  arr_time_Afternoon  arr_time_Early morning  \\\n",
              "66                  0                   0                       0   \n",
              "102                 0                   0                       0   \n",
              "121                 1                   1                       0   \n",
              "167                 0                   0                       0   \n",
              "439                 0                   1                       0   \n",
              "\n",
              "     arr_time_Evening  arr_time_Morning  \n",
              "66                  0                 1  \n",
              "102                 0                 1  \n",
              "121                 0                 0  \n",
              "167                 0                 1  \n",
              "439                 0                 0  \n",
              "\n",
              "[5 rows x 33 columns]"
            ],
            "text/html": [
              "\n",
              "  <div id=\"df-7f24ec3d-7db0-4159-b76e-ff9e325675d4\">\n",
              "    <div class=\"colab-df-container\">\n",
              "      <div>\n",
              "<style scoped>\n",
              "    .dataframe tbody tr th:only-of-type {\n",
              "        vertical-align: middle;\n",
              "    }\n",
              "\n",
              "    .dataframe tbody tr th {\n",
              "        vertical-align: top;\n",
              "    }\n",
              "\n",
              "    .dataframe thead th {\n",
              "        text-align: right;\n",
              "    }\n",
              "</style>\n",
              "<table border=\"1\" class=\"dataframe\">\n",
              "  <thead>\n",
              "    <tr style=\"text-align: right;\">\n",
              "      <th></th>\n",
              "      <th>type</th>\n",
              "      <th>flight_month</th>\n",
              "      <th>num_of_stops</th>\n",
              "      <th>formatted_price</th>\n",
              "      <th>distance_bet_2_countries</th>\n",
              "      <th>airline_Air India</th>\n",
              "      <th>airline_Indigo</th>\n",
              "      <th>airline_Other_airline</th>\n",
              "      <th>airline_Vistara</th>\n",
              "      <th>source_Bangalore</th>\n",
              "      <th>...</th>\n",
              "      <th>week_day_of_flight_Thursday</th>\n",
              "      <th>week_day_of_flight_Tuesday</th>\n",
              "      <th>dep_time_Afternoon</th>\n",
              "      <th>dep_time_Early morning</th>\n",
              "      <th>dep_time_Evening</th>\n",
              "      <th>dep_time_Morning</th>\n",
              "      <th>arr_time_Afternoon</th>\n",
              "      <th>arr_time_Early morning</th>\n",
              "      <th>arr_time_Evening</th>\n",
              "      <th>arr_time_Morning</th>\n",
              "    </tr>\n",
              "  </thead>\n",
              "  <tbody>\n",
              "    <tr>\n",
              "      <th>66</th>\n",
              "      <td>1</td>\n",
              "      <td>2</td>\n",
              "      <td>1</td>\n",
              "      <td>54306</td>\n",
              "      <td>0.984105</td>\n",
              "      <td>1</td>\n",
              "      <td>0</td>\n",
              "      <td>0</td>\n",
              "      <td>0</td>\n",
              "      <td>0</td>\n",
              "      <td>...</td>\n",
              "      <td>0</td>\n",
              "      <td>0</td>\n",
              "      <td>0</td>\n",
              "      <td>0</td>\n",
              "      <td>1</td>\n",
              "      <td>0</td>\n",
              "      <td>0</td>\n",
              "      <td>0</td>\n",
              "      <td>0</td>\n",
              "      <td>1</td>\n",
              "    </tr>\n",
              "    <tr>\n",
              "      <th>102</th>\n",
              "      <td>0</td>\n",
              "      <td>2</td>\n",
              "      <td>1</td>\n",
              "      <td>17829</td>\n",
              "      <td>0.755223</td>\n",
              "      <td>1</td>\n",
              "      <td>0</td>\n",
              "      <td>0</td>\n",
              "      <td>0</td>\n",
              "      <td>0</td>\n",
              "      <td>...</td>\n",
              "      <td>0</td>\n",
              "      <td>0</td>\n",
              "      <td>1</td>\n",
              "      <td>0</td>\n",
              "      <td>0</td>\n",
              "      <td>0</td>\n",
              "      <td>0</td>\n",
              "      <td>0</td>\n",
              "      <td>0</td>\n",
              "      <td>1</td>\n",
              "    </tr>\n",
              "    <tr>\n",
              "      <th>121</th>\n",
              "      <td>0</td>\n",
              "      <td>2</td>\n",
              "      <td>1</td>\n",
              "      <td>14150</td>\n",
              "      <td>0.451862</td>\n",
              "      <td>0</td>\n",
              "      <td>0</td>\n",
              "      <td>0</td>\n",
              "      <td>1</td>\n",
              "      <td>1</td>\n",
              "      <td>...</td>\n",
              "      <td>0</td>\n",
              "      <td>0</td>\n",
              "      <td>0</td>\n",
              "      <td>0</td>\n",
              "      <td>0</td>\n",
              "      <td>1</td>\n",
              "      <td>1</td>\n",
              "      <td>0</td>\n",
              "      <td>0</td>\n",
              "      <td>0</td>\n",
              "    </tr>\n",
              "    <tr>\n",
              "      <th>167</th>\n",
              "      <td>0</td>\n",
              "      <td>2</td>\n",
              "      <td>1</td>\n",
              "      <td>13258</td>\n",
              "      <td>0.258401</td>\n",
              "      <td>0</td>\n",
              "      <td>0</td>\n",
              "      <td>0</td>\n",
              "      <td>1</td>\n",
              "      <td>1</td>\n",
              "      <td>...</td>\n",
              "      <td>0</td>\n",
              "      <td>0</td>\n",
              "      <td>0</td>\n",
              "      <td>0</td>\n",
              "      <td>1</td>\n",
              "      <td>0</td>\n",
              "      <td>0</td>\n",
              "      <td>0</td>\n",
              "      <td>0</td>\n",
              "      <td>1</td>\n",
              "    </tr>\n",
              "    <tr>\n",
              "      <th>439</th>\n",
              "      <td>0</td>\n",
              "      <td>2</td>\n",
              "      <td>0</td>\n",
              "      <td>6363</td>\n",
              "      <td>0.653497</td>\n",
              "      <td>0</td>\n",
              "      <td>0</td>\n",
              "      <td>0</td>\n",
              "      <td>1</td>\n",
              "      <td>0</td>\n",
              "      <td>...</td>\n",
              "      <td>0</td>\n",
              "      <td>0</td>\n",
              "      <td>1</td>\n",
              "      <td>0</td>\n",
              "      <td>0</td>\n",
              "      <td>0</td>\n",
              "      <td>1</td>\n",
              "      <td>0</td>\n",
              "      <td>0</td>\n",
              "      <td>0</td>\n",
              "    </tr>\n",
              "  </tbody>\n",
              "</table>\n",
              "<p>5 rows × 33 columns</p>\n",
              "</div>\n",
              "      <button class=\"colab-df-convert\" onclick=\"convertToInteractive('df-7f24ec3d-7db0-4159-b76e-ff9e325675d4')\"\n",
              "              title=\"Convert this dataframe to an interactive table.\"\n",
              "              style=\"display:none;\">\n",
              "        \n",
              "  <svg xmlns=\"http://www.w3.org/2000/svg\" height=\"24px\"viewBox=\"0 0 24 24\"\n",
              "       width=\"24px\">\n",
              "    <path d=\"M0 0h24v24H0V0z\" fill=\"none\"/>\n",
              "    <path d=\"M18.56 5.44l.94 2.06.94-2.06 2.06-.94-2.06-.94-.94-2.06-.94 2.06-2.06.94zm-11 1L8.5 8.5l.94-2.06 2.06-.94-2.06-.94L8.5 2.5l-.94 2.06-2.06.94zm10 10l.94 2.06.94-2.06 2.06-.94-2.06-.94-.94-2.06-.94 2.06-2.06.94z\"/><path d=\"M17.41 7.96l-1.37-1.37c-.4-.4-.92-.59-1.43-.59-.52 0-1.04.2-1.43.59L10.3 9.45l-7.72 7.72c-.78.78-.78 2.05 0 2.83L4 21.41c.39.39.9.59 1.41.59.51 0 1.02-.2 1.41-.59l7.78-7.78 2.81-2.81c.8-.78.8-2.07 0-2.86zM5.41 20L4 18.59l7.72-7.72 1.47 1.35L5.41 20z\"/>\n",
              "  </svg>\n",
              "      </button>\n",
              "      \n",
              "  <style>\n",
              "    .colab-df-container {\n",
              "      display:flex;\n",
              "      flex-wrap:wrap;\n",
              "      gap: 12px;\n",
              "    }\n",
              "\n",
              "    .colab-df-convert {\n",
              "      background-color: #E8F0FE;\n",
              "      border: none;\n",
              "      border-radius: 50%;\n",
              "      cursor: pointer;\n",
              "      display: none;\n",
              "      fill: #1967D2;\n",
              "      height: 32px;\n",
              "      padding: 0 0 0 0;\n",
              "      width: 32px;\n",
              "    }\n",
              "\n",
              "    .colab-df-convert:hover {\n",
              "      background-color: #E2EBFA;\n",
              "      box-shadow: 0px 1px 2px rgba(60, 64, 67, 0.3), 0px 1px 3px 1px rgba(60, 64, 67, 0.15);\n",
              "      fill: #174EA6;\n",
              "    }\n",
              "\n",
              "    [theme=dark] .colab-df-convert {\n",
              "      background-color: #3B4455;\n",
              "      fill: #D2E3FC;\n",
              "    }\n",
              "\n",
              "    [theme=dark] .colab-df-convert:hover {\n",
              "      background-color: #434B5C;\n",
              "      box-shadow: 0px 1px 3px 1px rgba(0, 0, 0, 0.15);\n",
              "      filter: drop-shadow(0px 1px 2px rgba(0, 0, 0, 0.3));\n",
              "      fill: #FFFFFF;\n",
              "    }\n",
              "  </style>\n",
              "\n",
              "      <script>\n",
              "        const buttonEl =\n",
              "          document.querySelector('#df-7f24ec3d-7db0-4159-b76e-ff9e325675d4 button.colab-df-convert');\n",
              "        buttonEl.style.display =\n",
              "          google.colab.kernel.accessAllowed ? 'block' : 'none';\n",
              "\n",
              "        async function convertToInteractive(key) {\n",
              "          const element = document.querySelector('#df-7f24ec3d-7db0-4159-b76e-ff9e325675d4');\n",
              "          const dataTable =\n",
              "            await google.colab.kernel.invokeFunction('convertToInteractive',\n",
              "                                                     [key], {});\n",
              "          if (!dataTable) return;\n",
              "\n",
              "          const docLinkHtml = 'Like what you see? Visit the ' +\n",
              "            '<a target=\"_blank\" href=https://colab.research.google.com/notebooks/data_table.ipynb>data table notebook</a>'\n",
              "            + ' to learn more about interactive tables.';\n",
              "          element.innerHTML = '';\n",
              "          dataTable['output_type'] = 'display_data';\n",
              "          await google.colab.output.renderOutput(dataTable, element);\n",
              "          const docLink = document.createElement('div');\n",
              "          docLink.innerHTML = docLinkHtml;\n",
              "          element.appendChild(docLink);\n",
              "        }\n",
              "      </script>\n",
              "    </div>\n",
              "  </div>\n",
              "  "
            ]
          },
          "metadata": {},
          "execution_count": 80
        }
      ]
    },
    {
      "cell_type": "code",
      "source": [
        "dataset.to_csv(\"one_hot_encoded_dataset.csv\",index=False)"
      ],
      "metadata": {
        "id": "iyhoDHCS-hee"
      },
      "execution_count": 81,
      "outputs": []
    },
    {
      "cell_type": "code",
      "source": [
        "target_encoded_dataset.head()"
      ],
      "metadata": {
        "id": "oomnflF217Wz",
        "colab": {
          "base_uri": "https://localhost:8080/",
          "height": 270
        },
        "outputId": "20d2f3bc-0758-4a40-8bf1-588cf289b12c"
      },
      "execution_count": 88,
      "outputs": [
        {
          "output_type": "execute_result",
          "data": {
            "text/plain": [
              "     airline  dep_time  arr_time  type  source  destination  flight_month  \\\n",
              "66         3         4         3     1       3            6             2   \n",
              "102        3         2         3     0       5            5             2   \n",
              "121        4         3         2     0       4            3             2   \n",
              "167        4         4         3     0       4            2             2   \n",
              "439        4         2         2     0       3            1             2   \n",
              "\n",
              "     num_of_stops  formatted_price  week_day_of_flight  \\\n",
              "66              1            54306                   4   \n",
              "102             1            17829                   4   \n",
              "121             1            14150                   4   \n",
              "167             1            13258                   4   \n",
              "439             0             6363                   4   \n",
              "\n",
              "     distance_bet_2_countries  \n",
              "66                   0.984105  \n",
              "102                  0.755223  \n",
              "121                  0.451862  \n",
              "167                  0.258401  \n",
              "439                  0.653497  "
            ],
            "text/html": [
              "\n",
              "  <div id=\"df-f9dd98c7-588c-4187-ace3-42fcfb66ef4d\">\n",
              "    <div class=\"colab-df-container\">\n",
              "      <div>\n",
              "<style scoped>\n",
              "    .dataframe tbody tr th:only-of-type {\n",
              "        vertical-align: middle;\n",
              "    }\n",
              "\n",
              "    .dataframe tbody tr th {\n",
              "        vertical-align: top;\n",
              "    }\n",
              "\n",
              "    .dataframe thead th {\n",
              "        text-align: right;\n",
              "    }\n",
              "</style>\n",
              "<table border=\"1\" class=\"dataframe\">\n",
              "  <thead>\n",
              "    <tr style=\"text-align: right;\">\n",
              "      <th></th>\n",
              "      <th>airline</th>\n",
              "      <th>dep_time</th>\n",
              "      <th>arr_time</th>\n",
              "      <th>type</th>\n",
              "      <th>source</th>\n",
              "      <th>destination</th>\n",
              "      <th>flight_month</th>\n",
              "      <th>num_of_stops</th>\n",
              "      <th>formatted_price</th>\n",
              "      <th>week_day_of_flight</th>\n",
              "      <th>distance_bet_2_countries</th>\n",
              "    </tr>\n",
              "  </thead>\n",
              "  <tbody>\n",
              "    <tr>\n",
              "      <th>66</th>\n",
              "      <td>3</td>\n",
              "      <td>4</td>\n",
              "      <td>3</td>\n",
              "      <td>1</td>\n",
              "      <td>3</td>\n",
              "      <td>6</td>\n",
              "      <td>2</td>\n",
              "      <td>1</td>\n",
              "      <td>54306</td>\n",
              "      <td>4</td>\n",
              "      <td>0.984105</td>\n",
              "    </tr>\n",
              "    <tr>\n",
              "      <th>102</th>\n",
              "      <td>3</td>\n",
              "      <td>2</td>\n",
              "      <td>3</td>\n",
              "      <td>0</td>\n",
              "      <td>5</td>\n",
              "      <td>5</td>\n",
              "      <td>2</td>\n",
              "      <td>1</td>\n",
              "      <td>17829</td>\n",
              "      <td>4</td>\n",
              "      <td>0.755223</td>\n",
              "    </tr>\n",
              "    <tr>\n",
              "      <th>121</th>\n",
              "      <td>4</td>\n",
              "      <td>3</td>\n",
              "      <td>2</td>\n",
              "      <td>0</td>\n",
              "      <td>4</td>\n",
              "      <td>3</td>\n",
              "      <td>2</td>\n",
              "      <td>1</td>\n",
              "      <td>14150</td>\n",
              "      <td>4</td>\n",
              "      <td>0.451862</td>\n",
              "    </tr>\n",
              "    <tr>\n",
              "      <th>167</th>\n",
              "      <td>4</td>\n",
              "      <td>4</td>\n",
              "      <td>3</td>\n",
              "      <td>0</td>\n",
              "      <td>4</td>\n",
              "      <td>2</td>\n",
              "      <td>2</td>\n",
              "      <td>1</td>\n",
              "      <td>13258</td>\n",
              "      <td>4</td>\n",
              "      <td>0.258401</td>\n",
              "    </tr>\n",
              "    <tr>\n",
              "      <th>439</th>\n",
              "      <td>4</td>\n",
              "      <td>2</td>\n",
              "      <td>2</td>\n",
              "      <td>0</td>\n",
              "      <td>3</td>\n",
              "      <td>1</td>\n",
              "      <td>2</td>\n",
              "      <td>0</td>\n",
              "      <td>6363</td>\n",
              "      <td>4</td>\n",
              "      <td>0.653497</td>\n",
              "    </tr>\n",
              "  </tbody>\n",
              "</table>\n",
              "</div>\n",
              "      <button class=\"colab-df-convert\" onclick=\"convertToInteractive('df-f9dd98c7-588c-4187-ace3-42fcfb66ef4d')\"\n",
              "              title=\"Convert this dataframe to an interactive table.\"\n",
              "              style=\"display:none;\">\n",
              "        \n",
              "  <svg xmlns=\"http://www.w3.org/2000/svg\" height=\"24px\"viewBox=\"0 0 24 24\"\n",
              "       width=\"24px\">\n",
              "    <path d=\"M0 0h24v24H0V0z\" fill=\"none\"/>\n",
              "    <path d=\"M18.56 5.44l.94 2.06.94-2.06 2.06-.94-2.06-.94-.94-2.06-.94 2.06-2.06.94zm-11 1L8.5 8.5l.94-2.06 2.06-.94-2.06-.94L8.5 2.5l-.94 2.06-2.06.94zm10 10l.94 2.06.94-2.06 2.06-.94-2.06-.94-.94-2.06-.94 2.06-2.06.94z\"/><path d=\"M17.41 7.96l-1.37-1.37c-.4-.4-.92-.59-1.43-.59-.52 0-1.04.2-1.43.59L10.3 9.45l-7.72 7.72c-.78.78-.78 2.05 0 2.83L4 21.41c.39.39.9.59 1.41.59.51 0 1.02-.2 1.41-.59l7.78-7.78 2.81-2.81c.8-.78.8-2.07 0-2.86zM5.41 20L4 18.59l7.72-7.72 1.47 1.35L5.41 20z\"/>\n",
              "  </svg>\n",
              "      </button>\n",
              "      \n",
              "  <style>\n",
              "    .colab-df-container {\n",
              "      display:flex;\n",
              "      flex-wrap:wrap;\n",
              "      gap: 12px;\n",
              "    }\n",
              "\n",
              "    .colab-df-convert {\n",
              "      background-color: #E8F0FE;\n",
              "      border: none;\n",
              "      border-radius: 50%;\n",
              "      cursor: pointer;\n",
              "      display: none;\n",
              "      fill: #1967D2;\n",
              "      height: 32px;\n",
              "      padding: 0 0 0 0;\n",
              "      width: 32px;\n",
              "    }\n",
              "\n",
              "    .colab-df-convert:hover {\n",
              "      background-color: #E2EBFA;\n",
              "      box-shadow: 0px 1px 2px rgba(60, 64, 67, 0.3), 0px 1px 3px 1px rgba(60, 64, 67, 0.15);\n",
              "      fill: #174EA6;\n",
              "    }\n",
              "\n",
              "    [theme=dark] .colab-df-convert {\n",
              "      background-color: #3B4455;\n",
              "      fill: #D2E3FC;\n",
              "    }\n",
              "\n",
              "    [theme=dark] .colab-df-convert:hover {\n",
              "      background-color: #434B5C;\n",
              "      box-shadow: 0px 1px 3px 1px rgba(0, 0, 0, 0.15);\n",
              "      filter: drop-shadow(0px 1px 2px rgba(0, 0, 0, 0.3));\n",
              "      fill: #FFFFFF;\n",
              "    }\n",
              "  </style>\n",
              "\n",
              "      <script>\n",
              "        const buttonEl =\n",
              "          document.querySelector('#df-f9dd98c7-588c-4187-ace3-42fcfb66ef4d button.colab-df-convert');\n",
              "        buttonEl.style.display =\n",
              "          google.colab.kernel.accessAllowed ? 'block' : 'none';\n",
              "\n",
              "        async function convertToInteractive(key) {\n",
              "          const element = document.querySelector('#df-f9dd98c7-588c-4187-ace3-42fcfb66ef4d');\n",
              "          const dataTable =\n",
              "            await google.colab.kernel.invokeFunction('convertToInteractive',\n",
              "                                                     [key], {});\n",
              "          if (!dataTable) return;\n",
              "\n",
              "          const docLinkHtml = 'Like what you see? Visit the ' +\n",
              "            '<a target=\"_blank\" href=https://colab.research.google.com/notebooks/data_table.ipynb>data table notebook</a>'\n",
              "            + ' to learn more about interactive tables.';\n",
              "          element.innerHTML = '';\n",
              "          dataTable['output_type'] = 'display_data';\n",
              "          await google.colab.output.renderOutput(dataTable, element);\n",
              "          const docLink = document.createElement('div');\n",
              "          docLink.innerHTML = docLinkHtml;\n",
              "          element.appendChild(docLink);\n",
              "        }\n",
              "      </script>\n",
              "    </div>\n",
              "  </div>\n",
              "  "
            ]
          },
          "metadata": {},
          "execution_count": 88
        }
      ]
    },
    {
      "cell_type": "code",
      "source": [
        "target_encoded_dataset.to_csv(\"target_encoded_dataset.csv\",index=False)"
      ],
      "metadata": {
        "id": "mZUl77uTNwvQ"
      },
      "execution_count": 83,
      "outputs": []
    },
    {
      "cell_type": "code",
      "source": [
        "frequency = dataset.copy()\n",
        "frequency.drop(columns=['formatted_price'],axis=1,inplace=True)\n",
        "freq_domain = scipy.fft.dct(frequency)"
      ],
      "metadata": {
        "id": "PhVAqI8PYbA2"
      },
      "execution_count": 84,
      "outputs": []
    },
    {
      "cell_type": "code",
      "source": [
        "freq_domain = pd.DataFrame(data=freq_domain,columns= frequency.columns)"
      ],
      "metadata": {
        "id": "ubvrDevlYyD2"
      },
      "execution_count": 85,
      "outputs": []
    },
    {
      "cell_type": "code",
      "source": [
        "freq_domain.head()"
      ],
      "metadata": {
        "id": "Ikbu-ptgZa46",
        "colab": {
          "base_uri": "https://localhost:8080/",
          "height": 317
        },
        "outputId": "64a5b3dc-60b7-4d6c-bbad-1400977036f5"
      },
      "execution_count": 86,
      "outputs": [
        {
          "output_type": "execute_result",
          "data": {
            "text/plain": [
              "        type  flight_month  num_of_stops  distance_bet_2_countries  \\\n",
              "0  19.968211      7.842447      9.777685                  6.693818   \n",
              "1  17.510445      6.419320      6.677994                  3.564471   \n",
              "2  16.903724      5.207838      7.558978                  2.965944   \n",
              "3  16.516803      5.201872      7.010380                  1.540628   \n",
              "4  15.306994      3.692035      3.021959                  2.210024   \n",
              "\n",
              "   airline_Air India  airline_Indigo  airline_Other_airline  airline_Vistara  \\\n",
              "0           9.465099        3.965368               1.487280        -0.086574   \n",
              "1           6.693263        4.464265               0.619970        -6.108903   \n",
              "2           1.080366        0.267824               0.543752         8.579035   \n",
              "3           3.128070       -0.657111               1.144713         5.481897   \n",
              "4           3.120611        4.462617              -2.292387         1.265322   \n",
              "\n",
              "   source_Bangalore  source_Chennai  ...  week_day_of_flight_Thursday  \\\n",
              "0         -1.501364       -3.821897  ...                    -3.160457   \n",
              "1          1.217657       -5.809043  ...                    -6.531786   \n",
              "2         -1.917324        4.677328  ...                    -4.363496   \n",
              "3          5.831180       -2.220292  ...                     1.917251   \n",
              "4          3.253380        2.415397  ...                    -8.760034   \n",
              "\n",
              "   week_day_of_flight_Tuesday  dep_time_Afternoon  dep_time_Early morning  \\\n",
              "0                   -5.830541            3.707683               -3.867594   \n",
              "1                   -7.816626           -1.660414               -1.485547   \n",
              "2                    2.468883           -2.958966               -1.343517   \n",
              "3                   -4.409183            0.250570               -1.683729   \n",
              "4                   -0.846744           -0.817190               -5.142069   \n",
              "\n",
              "   dep_time_Evening  dep_time_Morning  arr_time_Afternoon  \\\n",
              "0         -4.518252         -0.288530            1.915137   \n",
              "1          2.186751         -4.438519           -1.650583   \n",
              "2         -0.955892         -1.718943           -4.187633   \n",
              "3          0.765173         -3.114361           -4.230475   \n",
              "4         -4.751727         -0.734447           -4.192973   \n",
              "\n",
              "   arr_time_Early morning  arr_time_Evening  arr_time_Morning  \n",
              "0                1.882360         -3.178305          1.119284  \n",
              "1                2.540510         -0.352123          1.375775  \n",
              "2               -0.753669          0.754359         -2.331051  \n",
              "3                2.286713         -1.533440         -1.184566  \n",
              "4               -1.612260         -8.378640         -0.295927  \n",
              "\n",
              "[5 rows x 32 columns]"
            ],
            "text/html": [
              "\n",
              "  <div id=\"df-d5653bff-f079-4bbd-a7d0-27be4416cddd\">\n",
              "    <div class=\"colab-df-container\">\n",
              "      <div>\n",
              "<style scoped>\n",
              "    .dataframe tbody tr th:only-of-type {\n",
              "        vertical-align: middle;\n",
              "    }\n",
              "\n",
              "    .dataframe tbody tr th {\n",
              "        vertical-align: top;\n",
              "    }\n",
              "\n",
              "    .dataframe thead th {\n",
              "        text-align: right;\n",
              "    }\n",
              "</style>\n",
              "<table border=\"1\" class=\"dataframe\">\n",
              "  <thead>\n",
              "    <tr style=\"text-align: right;\">\n",
              "      <th></th>\n",
              "      <th>type</th>\n",
              "      <th>flight_month</th>\n",
              "      <th>num_of_stops</th>\n",
              "      <th>distance_bet_2_countries</th>\n",
              "      <th>airline_Air India</th>\n",
              "      <th>airline_Indigo</th>\n",
              "      <th>airline_Other_airline</th>\n",
              "      <th>airline_Vistara</th>\n",
              "      <th>source_Bangalore</th>\n",
              "      <th>source_Chennai</th>\n",
              "      <th>...</th>\n",
              "      <th>week_day_of_flight_Thursday</th>\n",
              "      <th>week_day_of_flight_Tuesday</th>\n",
              "      <th>dep_time_Afternoon</th>\n",
              "      <th>dep_time_Early morning</th>\n",
              "      <th>dep_time_Evening</th>\n",
              "      <th>dep_time_Morning</th>\n",
              "      <th>arr_time_Afternoon</th>\n",
              "      <th>arr_time_Early morning</th>\n",
              "      <th>arr_time_Evening</th>\n",
              "      <th>arr_time_Morning</th>\n",
              "    </tr>\n",
              "  </thead>\n",
              "  <tbody>\n",
              "    <tr>\n",
              "      <th>0</th>\n",
              "      <td>19.968211</td>\n",
              "      <td>7.842447</td>\n",
              "      <td>9.777685</td>\n",
              "      <td>6.693818</td>\n",
              "      <td>9.465099</td>\n",
              "      <td>3.965368</td>\n",
              "      <td>1.487280</td>\n",
              "      <td>-0.086574</td>\n",
              "      <td>-1.501364</td>\n",
              "      <td>-3.821897</td>\n",
              "      <td>...</td>\n",
              "      <td>-3.160457</td>\n",
              "      <td>-5.830541</td>\n",
              "      <td>3.707683</td>\n",
              "      <td>-3.867594</td>\n",
              "      <td>-4.518252</td>\n",
              "      <td>-0.288530</td>\n",
              "      <td>1.915137</td>\n",
              "      <td>1.882360</td>\n",
              "      <td>-3.178305</td>\n",
              "      <td>1.119284</td>\n",
              "    </tr>\n",
              "    <tr>\n",
              "      <th>1</th>\n",
              "      <td>17.510445</td>\n",
              "      <td>6.419320</td>\n",
              "      <td>6.677994</td>\n",
              "      <td>3.564471</td>\n",
              "      <td>6.693263</td>\n",
              "      <td>4.464265</td>\n",
              "      <td>0.619970</td>\n",
              "      <td>-6.108903</td>\n",
              "      <td>1.217657</td>\n",
              "      <td>-5.809043</td>\n",
              "      <td>...</td>\n",
              "      <td>-6.531786</td>\n",
              "      <td>-7.816626</td>\n",
              "      <td>-1.660414</td>\n",
              "      <td>-1.485547</td>\n",
              "      <td>2.186751</td>\n",
              "      <td>-4.438519</td>\n",
              "      <td>-1.650583</td>\n",
              "      <td>2.540510</td>\n",
              "      <td>-0.352123</td>\n",
              "      <td>1.375775</td>\n",
              "    </tr>\n",
              "    <tr>\n",
              "      <th>2</th>\n",
              "      <td>16.903724</td>\n",
              "      <td>5.207838</td>\n",
              "      <td>7.558978</td>\n",
              "      <td>2.965944</td>\n",
              "      <td>1.080366</td>\n",
              "      <td>0.267824</td>\n",
              "      <td>0.543752</td>\n",
              "      <td>8.579035</td>\n",
              "      <td>-1.917324</td>\n",
              "      <td>4.677328</td>\n",
              "      <td>...</td>\n",
              "      <td>-4.363496</td>\n",
              "      <td>2.468883</td>\n",
              "      <td>-2.958966</td>\n",
              "      <td>-1.343517</td>\n",
              "      <td>-0.955892</td>\n",
              "      <td>-1.718943</td>\n",
              "      <td>-4.187633</td>\n",
              "      <td>-0.753669</td>\n",
              "      <td>0.754359</td>\n",
              "      <td>-2.331051</td>\n",
              "    </tr>\n",
              "    <tr>\n",
              "      <th>3</th>\n",
              "      <td>16.516803</td>\n",
              "      <td>5.201872</td>\n",
              "      <td>7.010380</td>\n",
              "      <td>1.540628</td>\n",
              "      <td>3.128070</td>\n",
              "      <td>-0.657111</td>\n",
              "      <td>1.144713</td>\n",
              "      <td>5.481897</td>\n",
              "      <td>5.831180</td>\n",
              "      <td>-2.220292</td>\n",
              "      <td>...</td>\n",
              "      <td>1.917251</td>\n",
              "      <td>-4.409183</td>\n",
              "      <td>0.250570</td>\n",
              "      <td>-1.683729</td>\n",
              "      <td>0.765173</td>\n",
              "      <td>-3.114361</td>\n",
              "      <td>-4.230475</td>\n",
              "      <td>2.286713</td>\n",
              "      <td>-1.533440</td>\n",
              "      <td>-1.184566</td>\n",
              "    </tr>\n",
              "    <tr>\n",
              "      <th>4</th>\n",
              "      <td>15.306994</td>\n",
              "      <td>3.692035</td>\n",
              "      <td>3.021959</td>\n",
              "      <td>2.210024</td>\n",
              "      <td>3.120611</td>\n",
              "      <td>4.462617</td>\n",
              "      <td>-2.292387</td>\n",
              "      <td>1.265322</td>\n",
              "      <td>3.253380</td>\n",
              "      <td>2.415397</td>\n",
              "      <td>...</td>\n",
              "      <td>-8.760034</td>\n",
              "      <td>-0.846744</td>\n",
              "      <td>-0.817190</td>\n",
              "      <td>-5.142069</td>\n",
              "      <td>-4.751727</td>\n",
              "      <td>-0.734447</td>\n",
              "      <td>-4.192973</td>\n",
              "      <td>-1.612260</td>\n",
              "      <td>-8.378640</td>\n",
              "      <td>-0.295927</td>\n",
              "    </tr>\n",
              "  </tbody>\n",
              "</table>\n",
              "<p>5 rows × 32 columns</p>\n",
              "</div>\n",
              "      <button class=\"colab-df-convert\" onclick=\"convertToInteractive('df-d5653bff-f079-4bbd-a7d0-27be4416cddd')\"\n",
              "              title=\"Convert this dataframe to an interactive table.\"\n",
              "              style=\"display:none;\">\n",
              "        \n",
              "  <svg xmlns=\"http://www.w3.org/2000/svg\" height=\"24px\"viewBox=\"0 0 24 24\"\n",
              "       width=\"24px\">\n",
              "    <path d=\"M0 0h24v24H0V0z\" fill=\"none\"/>\n",
              "    <path d=\"M18.56 5.44l.94 2.06.94-2.06 2.06-.94-2.06-.94-.94-2.06-.94 2.06-2.06.94zm-11 1L8.5 8.5l.94-2.06 2.06-.94-2.06-.94L8.5 2.5l-.94 2.06-2.06.94zm10 10l.94 2.06.94-2.06 2.06-.94-2.06-.94-.94-2.06-.94 2.06-2.06.94z\"/><path d=\"M17.41 7.96l-1.37-1.37c-.4-.4-.92-.59-1.43-.59-.52 0-1.04.2-1.43.59L10.3 9.45l-7.72 7.72c-.78.78-.78 2.05 0 2.83L4 21.41c.39.39.9.59 1.41.59.51 0 1.02-.2 1.41-.59l7.78-7.78 2.81-2.81c.8-.78.8-2.07 0-2.86zM5.41 20L4 18.59l7.72-7.72 1.47 1.35L5.41 20z\"/>\n",
              "  </svg>\n",
              "      </button>\n",
              "      \n",
              "  <style>\n",
              "    .colab-df-container {\n",
              "      display:flex;\n",
              "      flex-wrap:wrap;\n",
              "      gap: 12px;\n",
              "    }\n",
              "\n",
              "    .colab-df-convert {\n",
              "      background-color: #E8F0FE;\n",
              "      border: none;\n",
              "      border-radius: 50%;\n",
              "      cursor: pointer;\n",
              "      display: none;\n",
              "      fill: #1967D2;\n",
              "      height: 32px;\n",
              "      padding: 0 0 0 0;\n",
              "      width: 32px;\n",
              "    }\n",
              "\n",
              "    .colab-df-convert:hover {\n",
              "      background-color: #E2EBFA;\n",
              "      box-shadow: 0px 1px 2px rgba(60, 64, 67, 0.3), 0px 1px 3px 1px rgba(60, 64, 67, 0.15);\n",
              "      fill: #174EA6;\n",
              "    }\n",
              "\n",
              "    [theme=dark] .colab-df-convert {\n",
              "      background-color: #3B4455;\n",
              "      fill: #D2E3FC;\n",
              "    }\n",
              "\n",
              "    [theme=dark] .colab-df-convert:hover {\n",
              "      background-color: #434B5C;\n",
              "      box-shadow: 0px 1px 3px 1px rgba(0, 0, 0, 0.15);\n",
              "      filter: drop-shadow(0px 1px 2px rgba(0, 0, 0, 0.3));\n",
              "      fill: #FFFFFF;\n",
              "    }\n",
              "  </style>\n",
              "\n",
              "      <script>\n",
              "        const buttonEl =\n",
              "          document.querySelector('#df-d5653bff-f079-4bbd-a7d0-27be4416cddd button.colab-df-convert');\n",
              "        buttonEl.style.display =\n",
              "          google.colab.kernel.accessAllowed ? 'block' : 'none';\n",
              "\n",
              "        async function convertToInteractive(key) {\n",
              "          const element = document.querySelector('#df-d5653bff-f079-4bbd-a7d0-27be4416cddd');\n",
              "          const dataTable =\n",
              "            await google.colab.kernel.invokeFunction('convertToInteractive',\n",
              "                                                     [key], {});\n",
              "          if (!dataTable) return;\n",
              "\n",
              "          const docLinkHtml = 'Like what you see? Visit the ' +\n",
              "            '<a target=\"_blank\" href=https://colab.research.google.com/notebooks/data_table.ipynb>data table notebook</a>'\n",
              "            + ' to learn more about interactive tables.';\n",
              "          element.innerHTML = '';\n",
              "          dataTable['output_type'] = 'display_data';\n",
              "          await google.colab.output.renderOutput(dataTable, element);\n",
              "          const docLink = document.createElement('div');\n",
              "          docLink.innerHTML = docLinkHtml;\n",
              "          element.appendChild(docLink);\n",
              "        }\n",
              "      </script>\n",
              "    </div>\n",
              "  </div>\n",
              "  "
            ]
          },
          "metadata": {},
          "execution_count": 86
        }
      ]
    },
    {
      "cell_type": "code",
      "source": [
        "freq_domain.to_csv(\"frequency_domain_dataset.csv\",index=False)"
      ],
      "metadata": {
        "id": "xlxGkfNeZZ9E"
      },
      "execution_count": 87,
      "outputs": []
    }
  ]
}