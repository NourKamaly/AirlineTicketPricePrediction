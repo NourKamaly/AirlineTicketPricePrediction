{
 "cells": [
  {
   "cell_type": "code",
   "execution_count": 1,
   "metadata": {
    "colab": {
     "base_uri": "https://localhost:8080/"
    },
    "id": "skLHbrVCjF_O",
    "outputId": "540cf5b2-1043-4a34-88bb-420dd35e5982"
   },
   "outputs": [],
   "source": [
    "#from google.colab import drive\n",
    "#drive.mount('/content/drive/')"
   ]
  },
  {
   "cell_type": "code",
   "execution_count": 2,
   "metadata": {
    "id": "z67GAVfAjfb3"
   },
   "outputs": [],
   "source": [
    "import numpy as np\n",
    "import pandas as pd\n",
    "from scipy import stats\n",
    "import seaborn as sns \n",
    "import matplotlib.pyplot as plt\n",
    "import ast\n",
    "import warnings\n",
    "import joblib\n",
    "warnings.filterwarnings(\"ignore\")"
   ]
  },
  {
   "cell_type": "code",
   "execution_count": 3,
   "metadata": {
    "colab": {
     "base_uri": "https://localhost:8080/",
     "height": 206
    },
    "id": "LP14tQ7Xj7Vu",
    "outputId": "6af0117f-48d3-4390-9831-9b61ab5b8478"
   },
   "outputs": [
    {
     "data": {
      "text/html": [
       "<div>\n",
       "<style scoped>\n",
       "    .dataframe tbody tr th:only-of-type {\n",
       "        vertical-align: middle;\n",
       "    }\n",
       "\n",
       "    .dataframe tbody tr th {\n",
       "        vertical-align: top;\n",
       "    }\n",
       "\n",
       "    .dataframe thead th {\n",
       "        text-align: right;\n",
       "    }\n",
       "</style>\n",
       "<table border=\"1\" class=\"dataframe\">\n",
       "  <thead>\n",
       "    <tr style=\"text-align: right;\">\n",
       "      <th></th>\n",
       "      <th>date</th>\n",
       "      <th>airline</th>\n",
       "      <th>ch_code</th>\n",
       "      <th>num_code</th>\n",
       "      <th>dep_time</th>\n",
       "      <th>time_taken</th>\n",
       "      <th>stop</th>\n",
       "      <th>arr_time</th>\n",
       "      <th>type</th>\n",
       "      <th>route</th>\n",
       "      <th>TicketCategory</th>\n",
       "    </tr>\n",
       "  </thead>\n",
       "  <tbody>\n",
       "    <tr>\n",
       "      <th>0</th>\n",
       "      <td>8/3/2022</td>\n",
       "      <td>Air India</td>\n",
       "      <td>AI</td>\n",
       "      <td>430</td>\n",
       "      <td>9:55</td>\n",
       "      <td>11h 20m</td>\n",
       "      <td>1-stop\\n\\t\\t\\t\\t\\t\\t\\t\\t\\t\\t\\t\\t\\n\\t\\t\\t\\t\\t\\t...</td>\n",
       "      <td>21:15</td>\n",
       "      <td>economy</td>\n",
       "      <td>{'source': 'Chennai', 'destination': 'Mumbai'}</td>\n",
       "      <td>cheap</td>\n",
       "    </tr>\n",
       "    <tr>\n",
       "      <th>1</th>\n",
       "      <td>7/3/2022</td>\n",
       "      <td>Indigo</td>\n",
       "      <td>6E</td>\n",
       "      <td>926</td>\n",
       "      <td>18:30</td>\n",
       "      <td>04h 55m</td>\n",
       "      <td>1-stop\\n\\t\\t\\t\\t\\t\\t\\t\\t\\t\\t\\t\\t\\n\\t\\t\\t\\t\\t\\t...</td>\n",
       "      <td>23:25</td>\n",
       "      <td>economy</td>\n",
       "      <td>{'source': 'Delhi', 'destination': 'Mumbai'}</td>\n",
       "      <td>cheap</td>\n",
       "    </tr>\n",
       "    <tr>\n",
       "      <th>2</th>\n",
       "      <td>24-03-2022</td>\n",
       "      <td>Indigo</td>\n",
       "      <td>6E</td>\n",
       "      <td>6491</td>\n",
       "      <td>13:05</td>\n",
       "      <td>07h 40m</td>\n",
       "      <td>1-stop\\n\\t\\t\\t\\t\\t\\t\\t\\t\\t\\t\\t\\t\\n\\t\\t\\t\\t\\t\\t...</td>\n",
       "      <td>20:45</td>\n",
       "      <td>economy</td>\n",
       "      <td>{'source': 'Bangalore', 'destination': 'Mumbai'}</td>\n",
       "      <td>cheap</td>\n",
       "    </tr>\n",
       "    <tr>\n",
       "      <th>3</th>\n",
       "      <td>27-03-2022</td>\n",
       "      <td>Air India</td>\n",
       "      <td>AI</td>\n",
       "      <td>473</td>\n",
       "      <td>18:40</td>\n",
       "      <td>22h 25m</td>\n",
       "      <td>1-stop\\n\\t\\t\\t\\t\\t\\t\\t\\t\\t\\t\\t\\t\\n\\t\\t\\t\\t\\t\\t...</td>\n",
       "      <td>17:05</td>\n",
       "      <td>economy</td>\n",
       "      <td>{'source': 'Delhi', 'destination': 'Bangalore'}</td>\n",
       "      <td>cheap</td>\n",
       "    </tr>\n",
       "    <tr>\n",
       "      <th>4</th>\n",
       "      <td>7/3/2022</td>\n",
       "      <td>Indigo</td>\n",
       "      <td>6E</td>\n",
       "      <td>684</td>\n",
       "      <td>21:55</td>\n",
       "      <td>01h 15m</td>\n",
       "      <td>non-stop</td>\n",
       "      <td>23:10</td>\n",
       "      <td>economy</td>\n",
       "      <td>{'source': 'Bangalore', 'destination': 'Hydera...</td>\n",
       "      <td>cheap</td>\n",
       "    </tr>\n",
       "  </tbody>\n",
       "</table>\n",
       "</div>"
      ],
      "text/plain": [
       "         date    airline ch_code  num_code dep_time time_taken  \\\n",
       "0    8/3/2022  Air India      AI       430     9:55    11h 20m   \n",
       "1    7/3/2022     Indigo      6E       926    18:30    04h 55m   \n",
       "2  24-03-2022     Indigo      6E      6491    13:05    07h 40m   \n",
       "3  27-03-2022  Air India      AI       473    18:40    22h 25m   \n",
       "4    7/3/2022     Indigo      6E       684    21:55    01h 15m   \n",
       "\n",
       "                                                stop arr_time     type  \\\n",
       "0  1-stop\\n\\t\\t\\t\\t\\t\\t\\t\\t\\t\\t\\t\\t\\n\\t\\t\\t\\t\\t\\t...    21:15  economy   \n",
       "1  1-stop\\n\\t\\t\\t\\t\\t\\t\\t\\t\\t\\t\\t\\t\\n\\t\\t\\t\\t\\t\\t...    23:25  economy   \n",
       "2  1-stop\\n\\t\\t\\t\\t\\t\\t\\t\\t\\t\\t\\t\\t\\n\\t\\t\\t\\t\\t\\t...    20:45  economy   \n",
       "3  1-stop\\n\\t\\t\\t\\t\\t\\t\\t\\t\\t\\t\\t\\t\\n\\t\\t\\t\\t\\t\\t...    17:05  economy   \n",
       "4                                          non-stop     23:10  economy   \n",
       "\n",
       "                                               route TicketCategory  \n",
       "0     {'source': 'Chennai', 'destination': 'Mumbai'}          cheap  \n",
       "1       {'source': 'Delhi', 'destination': 'Mumbai'}          cheap  \n",
       "2   {'source': 'Bangalore', 'destination': 'Mumbai'}          cheap  \n",
       "3    {'source': 'Delhi', 'destination': 'Bangalore'}          cheap  \n",
       "4  {'source': 'Bangalore', 'destination': 'Hydera...          cheap  "
      ]
     },
     "execution_count": 3,
     "metadata": {},
     "output_type": "execute_result"
    }
   ],
   "source": [
    "dataset = pd.read_csv('ClassificationTestSet.csv')\n",
    "dataset.head()"
   ]
  },
  {
   "cell_type": "code",
   "execution_count": 4,
   "metadata": {
    "id": "QBqo30BdWvvF"
   },
   "outputs": [],
   "source": [
    "dataset['full_information_timestamp'] = 0\n",
    "dataset['flight_day'] = 0\n",
    "dataset['flight_month'] = 0\n",
    "dataset['week_day_of_flight'] = 0\n",
    "dataset['departure_time_of_the_day']=0\n",
    "dataset['arrival_time_of_the_day']=0\n",
    "dataset['num_of_hours_taken'] =0\n",
    "dataset['num_of_minutes_taken'] = 0\n",
    "dataset['num_of_stops'] = 0\n",
    "dataset['source'] = 0\n",
    "dataset['destination'] = 0\n",
    "dataset['distance_between_2_cities'] = 0"
   ]
  },
  {
   "cell_type": "code",
   "execution_count": 5,
   "metadata": {
    "id": "R2N6lRQ1OiWY"
   },
   "outputs": [],
   "source": [
    "def format_date(date):\n",
    "    dashed_date = date.replace('/','-')\n",
    "    return dashed_date"
   ]
  },
  {
   "cell_type": "code",
   "execution_count": 6,
   "metadata": {
    "id": "H9NGiAqifb8Q"
   },
   "outputs": [],
   "source": [
    "dataset['full_information_timestamp'] = dataset.date.apply(lambda date:format_date(date))"
   ]
  },
  {
   "cell_type": "code",
   "execution_count": 7,
   "metadata": {
    "id": "lX47ozhcfb8S"
   },
   "outputs": [],
   "source": [
    "def extract_day_month(date):\n",
    "    splitted_date = date.split('-')\n",
    "    day = int(splitted_date[0])\n",
    "    month =int(splitted_date[1])\n",
    "    if splitted_date[1]== '2' or splitted_date[1]== '02':\n",
    "        new_date_format = 'February ' + splitted_date[0] + ', '+ splitted_date[2]\n",
    "    else :\n",
    "        new_date_format = 'March ' + splitted_date[0] + ', '+ splitted_date[2]\n",
    "    return day,month,new_date_format"
   ]
  },
  {
   "cell_type": "code",
   "execution_count": 8,
   "metadata": {
    "id": "TAN-vOgWecSM"
   },
   "outputs": [],
   "source": [
    "dataset[['flight_day', 'flight_month','full_information_timestamp']] = pd.DataFrame(dataset.full_information_timestamp.apply(lambda date: extract_day_month(date)).tolist(), index=dataset.index)"
   ]
  },
  {
   "cell_type": "code",
   "execution_count": 9,
   "metadata": {
    "id": "X8Eg-gi1fb8U"
   },
   "outputs": [],
   "source": [
    "dataset['full_information_timestamp'] = pd.to_datetime(dataset['full_information_timestamp'])"
   ]
  },
  {
   "cell_type": "code",
   "execution_count": 10,
   "metadata": {
    "id": "32LMFLy5fb8V"
   },
   "outputs": [],
   "source": [
    "def extract_weekday(day):\n",
    "    return day.day_name()"
   ]
  },
  {
   "cell_type": "code",
   "execution_count": 11,
   "metadata": {
    "id": "sEMHSxhtfb8V"
   },
   "outputs": [],
   "source": [
    "dataset['week_day_of_flight'] = dataset.full_information_timestamp.apply(lambda date:extract_weekday(date))"
   ]
  },
  {
   "cell_type": "code",
   "execution_count": 12,
   "metadata": {
    "id": "V6NlAOg5krSU"
   },
   "outputs": [],
   "source": [
    "high_frequency_airlines =['Vistara','Air India']\n",
    "def remove_low_frequency_airlines():\n",
    "    dataset ['airline'] = [airline if airline in high_frequency_airlines else 'Other_airline' for airline in dataset['airline']]\n",
    "   "
   ]
  },
  {
   "cell_type": "code",
   "execution_count": 13,
   "metadata": {
    "id": "weijQhavkrSU"
   },
   "outputs": [],
   "source": [
    "remove_low_frequency_airlines()"
   ]
  },
  {
   "cell_type": "code",
   "execution_count": 14,
   "metadata": {
    "id": "ZBDQMxNyrd4S"
   },
   "outputs": [],
   "source": [
    "def calculate_time_taken(time_taken):\n",
    "    time = time_taken.split(' ')\n",
    "    float_hour = time[0].split('.')\n",
    "    hours = 0\n",
    "    minutes = 0\n",
    "    if(len(float_hour)>1):\n",
    "        time[0] = float_hour[0] + 'h'\n",
    "        time[1]= float_hour[1][:-1] + time[1]\n",
    "    hours = int(time[0][:-1])\n",
    "    if time[1][:-1] != '' : \n",
    "        minutes = ((int(time[1][:-1]))/100)*60\n",
    "    else :\n",
    "        minutes = 0\n",
    "    return hours, minutes"
   ]
  },
  {
   "cell_type": "code",
   "execution_count": 15,
   "metadata": {
    "id": "x97dc14Yrd4T"
   },
   "outputs": [],
   "source": [
    "dataset[['num_of_hours_taken', 'num_of_minutes_taken']] = pd.DataFrame(dataset.time_taken.apply(lambda time_taken: calculate_time_taken(time_taken)).tolist(), index=dataset.index)"
   ]
  },
  {
   "cell_type": "code",
   "execution_count": 16,
   "metadata": {
    "id": "1umHdLELqLio"
   },
   "outputs": [],
   "source": [
    "def extract_hour(time):\n",
    "    hour_minute = time.split(':')\n",
    "    return int(hour_minute[0])"
   ]
  },
  {
   "cell_type": "code",
   "execution_count": 17,
   "metadata": {
    "id": "hmLJXEZKq8vE"
   },
   "outputs": [],
   "source": [
    "dataset['dep_time']= dataset.dep_time.apply(lambda time: extract_hour(time))"
   ]
  },
  {
   "cell_type": "code",
   "execution_count": 18,
   "metadata": {
    "id": "-vc8y9McrMzN"
   },
   "outputs": [],
   "source": [
    "dataset['arr_time']= dataset.arr_time.apply(lambda time: extract_hour(time))"
   ]
  },
  {
   "cell_type": "code",
   "execution_count": 19,
   "metadata": {
    "id": "ATLAMvTuqwD8"
   },
   "outputs": [],
   "source": [
    "def categorize_time(hour):\n",
    "    if hour <6:\n",
    "        return 'Early morning'\n",
    "    elif 6<= hour < 12 :\n",
    "        return 'Morning'\n",
    "    elif 12<= hour < 18:\n",
    "        return 'Afternoon'\n",
    "    else:\n",
    "        return 'Evening'"
   ]
  },
  {
   "cell_type": "code",
   "execution_count": 20,
   "metadata": {
    "id": "IKVx6zS7r-gL"
   },
   "outputs": [],
   "source": [
    "dataset['departure_time_of_the_day'] = dataset.dep_time.apply(lambda hour: categorize_time(hour))"
   ]
  },
  {
   "cell_type": "code",
   "execution_count": 21,
   "metadata": {
    "id": "YJm59-GhsfCs"
   },
   "outputs": [],
   "source": [
    "dataset['arrival_time_of_the_day'] = dataset.arr_time.apply(lambda hour: categorize_time(hour))"
   ]
  },
  {
   "cell_type": "code",
   "execution_count": 22,
   "metadata": {
    "id": "8NBTiTgCfb8b"
   },
   "outputs": [],
   "source": [
    "def split_num_of_stops(stop):\n",
    "    if stop[:8] == 'non-stop':\n",
    "        stop_count = 0\n",
    "    elif stop[:6] == '1-stop':\n",
    "        stop_count = 1\n",
    "    else:\n",
    "        stop_count = 2\n",
    "    return stop_count"
   ]
  },
  {
   "cell_type": "code",
   "execution_count": 23,
   "metadata": {
    "id": "7gMymbLCUMi0"
   },
   "outputs": [],
   "source": [
    "dataset['num_of_stops']= dataset.stop.apply(lambda stop:split_num_of_stops(stop))"
   ]
  },
  {
   "cell_type": "code",
   "execution_count": 24,
   "metadata": {
    "id": "ZJTkqXWjIAcV"
   },
   "outputs": [],
   "source": [
    "dataset['type'] = [1 if kind_of_trip == 'business' else 0 for kind_of_trip in dataset['type']]"
   ]
  },
  {
   "cell_type": "code",
   "execution_count": 25,
   "metadata": {
    "id": "lRZ7CJuPlNTK"
   },
   "outputs": [],
   "source": [
    "def split_route(route):\n",
    "    path = ast.literal_eval(route)\n",
    "    source = path['source']\n",
    "    destination = path['destination']\n",
    "    return source,destination"
   ]
  },
  {
   "cell_type": "code",
   "execution_count": 26,
   "metadata": {
    "id": "YgZW24AtlNTK"
   },
   "outputs": [],
   "source": [
    "dataset[['source', 'destination']] = pd.DataFrame(dataset.route.apply(lambda route: split_route(route)).tolist(), index=dataset.index)"
   ]
  },
  {
   "cell_type": "code",
   "execution_count": 27,
   "metadata": {
    "id": "JGYWIWZjlNTL"
   },
   "outputs": [],
   "source": [
    "distances = dict()\n",
    "distances['Mumbai','Kolkata'] = 2167\n",
    "distances['Mumbai','Hyderabad'] = 721\n",
    "distances['Mumbai','Chennai'] = 1344\n",
    "distances['Mumbai','Bangalore'] = 995\n",
    "distances['Mumbai','Delhi'] = 1439\n",
    "distances['Delhi','Bangalore'] = 2169\n",
    "distances['Delhi','Kolkata'] = 1554\n",
    "distances['Delhi','Hyderabad'] = 1579\n",
    "distances['Delhi','Chennai'] = 2202\n",
    "distances['Bangalore','Kolkata']= 1560\n",
    "distances['Bangalore','Hyderabad'] = 569\n",
    "distances['Bangalore','Chennai'] = 348\n",
    "distances['Kolkata','Hyderabad'] = 1489\n",
    "distances['Kolkata','Chennai'] = 1663\n",
    "distances['Hyderabad','Chennai'] = 628"
   ]
  },
  {
   "cell_type": "code",
   "execution_count": 28,
   "metadata": {
    "id": "1VbJhtjQlNTM"
   },
   "outputs": [],
   "source": [
    "def calculate_distance(source,destination):\n",
    "    try :\n",
    "        dist = distances[source,destination]\n",
    "    except :\n",
    "        dist = distances[destination,source]\n",
    "    return dist"
   ]
  },
  {
   "cell_type": "code",
   "execution_count": 29,
   "metadata": {
    "id": "oSvmO26glNTM"
   },
   "outputs": [],
   "source": [
    "dataset['distance_between_2_cities'] = dataset.apply(lambda dataFrame: calculate_distance(dataFrame['source'], dataFrame['destination']), axis=1)\n",
    "dataset['distance_between_2_cities'] = dataset['distance_between_2_cities']/2202"
   ]
  },
  {
   "cell_type": "code",
   "execution_count": 30,
   "metadata": {
    "id": "8HAtBQnaSU3X"
   },
   "outputs": [],
   "source": [
    "def encode_ticket_category(category):\n",
    "    if category == 'cheap':\n",
    "        return 0\n",
    "    elif category == 'moderate':\n",
    "        return 1\n",
    "    elif category == 'expensive':\n",
    "        return 2\n",
    "    else :\n",
    "        return 3"
   ]
  },
  {
   "cell_type": "code",
   "execution_count": 31,
   "metadata": {
    "id": "_TPbgYHYTWvN"
   },
   "outputs": [],
   "source": [
    "dataset['TicketCategory'] = dataset.TicketCategory.apply(lambda category: encode_ticket_category(category))"
   ]
  },
  {
   "cell_type": "code",
   "execution_count": 32,
   "metadata": {
    "id": "iBOyPdkyiZkd"
   },
   "outputs": [],
   "source": [
    "def one_hot_encode_airline(airline):\n",
    "    vistara = 0\n",
    "    air_india = 0\n",
    "    other = 0\n",
    "    if airline == 'Vistara':\n",
    "        vistara = 1\n",
    "    elif airline =='Air India':\n",
    "        air_india = 1\n",
    "    elif airline == 'Other_airline':\n",
    "        other =1\n",
    "    return vistara, air_india,other"
   ]
  },
  {
   "cell_type": "code",
   "execution_count": 33,
   "metadata": {
    "id": "YFGzTiWZjLrW"
   },
   "outputs": [],
   "source": [
    "dataset[['airline_Vistara', 'airline_Air India','airline_Other_airline']] = pd.DataFrame(dataset.airline.apply(lambda airline: one_hot_encode_airline(airline)).tolist(), index=dataset.index)"
   ]
  },
  {
   "cell_type": "code",
   "execution_count": 34,
   "metadata": {
    "id": "tlddGrB5j7lg"
   },
   "outputs": [],
   "source": [
    "def one_hot_encode_source(source):\n",
    "    bangalore = 0\n",
    "    delhi =0\n",
    "    hyderabad = 0\n",
    "    kolkata =0\n",
    "    if source =='Bangalore':\n",
    "        bangalore =1\n",
    "    elif source =='Delhi':\n",
    "        delhi =1\n",
    "    elif source =='Hyderabad':\n",
    "        hyderabad = 1\n",
    "    elif source =='Kolkata':\n",
    "        kolkata =1\n",
    "    return bangalore,delhi,hyderabad,kolkata"
   ]
  },
  {
   "cell_type": "code",
   "execution_count": 35,
   "metadata": {
    "id": "5lRhOrfakfmW"
   },
   "outputs": [],
   "source": [
    "dataset[['source_Bangalore', 'source_Delhi','source_Hyderabad','source_Kolkata']] = pd.DataFrame(dataset.source.apply(lambda source: one_hot_encode_source(source)).tolist(), index=dataset.index)"
   ]
  },
  {
   "cell_type": "code",
   "execution_count": 36,
   "metadata": {
    "id": "KPnOmWZxlAmk"
   },
   "outputs": [],
   "source": [
    "def one_hot_encode_destination(destination):\n",
    "    bangalore = 0\n",
    "    delhi =0\n",
    "    mumbai = 0\n",
    "    kolkata =0\n",
    "    chennai =0\n",
    "    if destination =='Bangalore':\n",
    "        bangalore =1\n",
    "    elif destination =='Delhi':\n",
    "        delhi =1\n",
    "    elif destination =='Mumbai':\n",
    "        mumbai = 1\n",
    "    elif destination =='Kolkata':\n",
    "        kolkata =1\n",
    "    elif destination =='Chennai':\n",
    "        chennai =1\n",
    "    return bangalore,delhi,mumbai,kolkata,chennai"
   ]
  },
  {
   "cell_type": "code",
   "execution_count": 37,
   "metadata": {
    "id": "r5u7CcUclb86"
   },
   "outputs": [],
   "source": [
    "dataset[['destination_Bangalore', 'destination_Delhi','destination_Mumbai','destination_Kolkata','destination_Chennai']] = pd.DataFrame(dataset.destination.apply(lambda destination: one_hot_encode_destination(destination)).tolist(), index=dataset.index)"
   ]
  },
  {
   "cell_type": "code",
   "execution_count": 38,
   "metadata": {
    "id": "w-o0lxWxJu4B"
   },
   "outputs": [],
   "source": [
    "def one_hot_encode_day(day):\n",
    "    tuesday=0\n",
    "    wednesday=0\n",
    "    saturday = 0\n",
    "    sunday = 0\n",
    "    if day =='Tuesday' :\n",
    "        tuesday = 1\n",
    "    elif day =='Wednesday' :\n",
    "        wednesday = 1\n",
    "    elif day =='Saturday' :\n",
    "        saturday =1\n",
    "    elif day =='Sunday':\n",
    "        sunday = 1\n",
    "    return tuesday,wednesday,saturday,sunday"
   ]
  },
  {
   "cell_type": "code",
   "execution_count": 39,
   "metadata": {
    "id": "8JA0w3UNmQOt"
   },
   "outputs": [],
   "source": [
    "dataset[['week_day_of_flight_Tuesday', 'week_day_of_flight_Wednesday','week_day_of_flight_Saturday','week_day_of_flight_Sunday']] = pd.DataFrame(dataset.week_day_of_flight.apply(lambda day: one_hot_encode_day(day)).tolist(), index=dataset.index)"
   ]
  },
  {
   "cell_type": "code",
   "execution_count": 40,
   "metadata": {},
   "outputs": [],
   "source": [
    "def one_hot_encode_dep_time(time):\n",
    "    afternoon =0\n",
    "    morning = 0\n",
    "    early = 0\n",
    "    evening = 0\n",
    "    if time =='Early morning':\n",
    "        early =1\n",
    "    elif time == 'Afternoon':\n",
    "        afternoon = 1\n",
    "    elif time == 'Morning':\n",
    "        morning =1\n",
    "    elif time=='Evening':\n",
    "        evening = 1\n",
    "    return early,morning,afternoon,evening"
   ]
  },
  {
   "cell_type": "code",
   "execution_count": 41,
   "metadata": {},
   "outputs": [],
   "source": [
    "dataset[['departure_time_of_the_day_Early morning', 'departure_time_of_the_day_Morning','departure_time_of_the_day_Afternoon','departure_time_of_the_day_Evening']] = pd.DataFrame(dataset.departure_time_of_the_day.apply(lambda time: one_hot_encode_dep_time(time)).tolist(), index=dataset.index)"
   ]
  },
  {
   "cell_type": "code",
   "execution_count": 42,
   "metadata": {},
   "outputs": [],
   "source": [
    "def one_hot_encode_arr_time(time):\n",
    "    afternoon =0\n",
    "    early = 0\n",
    "    evening = 0\n",
    "    if time =='Early morning':\n",
    "        early =1\n",
    "    elif time == 'Afternoon':\n",
    "        afternoon = 1\n",
    "    elif time=='Evening':\n",
    "        evening = 1\n",
    "    return early,afternoon,evening"
   ]
  },
  {
   "cell_type": "code",
   "execution_count": 43,
   "metadata": {},
   "outputs": [],
   "source": [
    "dataset[['arrival_time_of_the_day_Early morning', 'arrival_time_of_the_day_Afternoon','arrival_time_of_the_day_Evening']] = pd.DataFrame(dataset.arrival_time_of_the_day.apply(lambda time: one_hot_encode_arr_time(time)).tolist(), index=dataset.index)"
   ]
  },
  {
   "cell_type": "code",
   "execution_count": 44,
   "metadata": {},
   "outputs": [],
   "source": [
    "features = ['num_code', 'dep_time', 'arr_time', 'type', 'TicketCategory',\n",
    "       'flight_month', 'num_of_hours_taken', 'num_of_minutes_taken',\n",
    "       'num_of_stops', 'distance_between_2_cities', 'airline_Air India',\n",
    "       'airline_Other_airline', 'airline_Vistara', 'source_Bangalore',\n",
    "       'source_Delhi', 'source_Hyderabad', 'source_Kolkata',\n",
    "       'destination_Bangalore', 'destination_Chennai', 'destination_Delhi',\n",
    "       'destination_Kolkata', 'destination_Mumbai',\n",
    "       'week_day_of_flight_Saturday', 'week_day_of_flight_Sunday',\n",
    "       'week_day_of_flight_Tuesday', 'week_day_of_flight_Wednesday',\n",
    "       'departure_time_of_the_day_Afternoon',\n",
    "       'departure_time_of_the_day_Early morning',\n",
    "       'departure_time_of_the_day_Evening',\n",
    "       'departure_time_of_the_day_Morning',\n",
    "       'arrival_time_of_the_day_Afternoon',\n",
    "       'arrival_time_of_the_day_Early morning',\n",
    "       'arrival_time_of_the_day_Evening']"
   ]
  },
  {
   "cell_type": "code",
   "execution_count": 45,
   "metadata": {},
   "outputs": [],
   "source": [
    "for column in dataset.columns:\n",
    "    if column not in features:\n",
    "        dataset.drop(columns=column,axis=1,inplace=True)"
   ]
  },
  {
   "cell_type": "code",
   "execution_count": 46,
   "metadata": {
    "id": "YFfLhO9ce58D"
   },
   "outputs": [],
   "source": [
    "dataset = dataset[['num_code', 'dep_time', 'arr_time', 'type', 'TicketCategory',\n",
    "       'flight_month', 'num_of_hours_taken', 'num_of_minutes_taken',\n",
    "       'num_of_stops', 'distance_between_2_cities', 'airline_Air India',\n",
    "       'airline_Other_airline', 'airline_Vistara', 'source_Bangalore',\n",
    "       'source_Delhi', 'source_Hyderabad', 'source_Kolkata',\n",
    "       'destination_Bangalore', 'destination_Chennai', 'destination_Delhi',\n",
    "       'destination_Kolkata', 'destination_Mumbai',\n",
    "       'week_day_of_flight_Saturday', 'week_day_of_flight_Sunday',\n",
    "       'week_day_of_flight_Tuesday', 'week_day_of_flight_Wednesday',\n",
    "       'departure_time_of_the_day_Afternoon',\n",
    "       'departure_time_of_the_day_Early morning',\n",
    "       'departure_time_of_the_day_Evening',\n",
    "       'departure_time_of_the_day_Morning',\n",
    "       'arrival_time_of_the_day_Afternoon',\n",
    "       'arrival_time_of_the_day_Early morning',\n",
    "       'arrival_time_of_the_day_Evening']]"
   ]
  },
  {
   "cell_type": "code",
   "execution_count": 47,
   "metadata": {},
   "outputs": [
    {
     "data": {
      "text/html": [
       "<div>\n",
       "<style scoped>\n",
       "    .dataframe tbody tr th:only-of-type {\n",
       "        vertical-align: middle;\n",
       "    }\n",
       "\n",
       "    .dataframe tbody tr th {\n",
       "        vertical-align: top;\n",
       "    }\n",
       "\n",
       "    .dataframe thead th {\n",
       "        text-align: right;\n",
       "    }\n",
       "</style>\n",
       "<table border=\"1\" class=\"dataframe\">\n",
       "  <thead>\n",
       "    <tr style=\"text-align: right;\">\n",
       "      <th></th>\n",
       "      <th>num_code</th>\n",
       "      <th>dep_time</th>\n",
       "      <th>arr_time</th>\n",
       "      <th>type</th>\n",
       "      <th>TicketCategory</th>\n",
       "      <th>flight_month</th>\n",
       "      <th>num_of_hours_taken</th>\n",
       "      <th>num_of_minutes_taken</th>\n",
       "      <th>num_of_stops</th>\n",
       "      <th>distance_between_2_cities</th>\n",
       "      <th>...</th>\n",
       "      <th>week_day_of_flight_Sunday</th>\n",
       "      <th>week_day_of_flight_Tuesday</th>\n",
       "      <th>week_day_of_flight_Wednesday</th>\n",
       "      <th>departure_time_of_the_day_Afternoon</th>\n",
       "      <th>departure_time_of_the_day_Early morning</th>\n",
       "      <th>departure_time_of_the_day_Evening</th>\n",
       "      <th>departure_time_of_the_day_Morning</th>\n",
       "      <th>arrival_time_of_the_day_Afternoon</th>\n",
       "      <th>arrival_time_of_the_day_Early morning</th>\n",
       "      <th>arrival_time_of_the_day_Evening</th>\n",
       "    </tr>\n",
       "  </thead>\n",
       "  <tbody>\n",
       "    <tr>\n",
       "      <th>0</th>\n",
       "      <td>430</td>\n",
       "      <td>9</td>\n",
       "      <td>21</td>\n",
       "      <td>0</td>\n",
       "      <td>0</td>\n",
       "      <td>3</td>\n",
       "      <td>11</td>\n",
       "      <td>12.0</td>\n",
       "      <td>1</td>\n",
       "      <td>0.610354</td>\n",
       "      <td>...</td>\n",
       "      <td>0</td>\n",
       "      <td>1</td>\n",
       "      <td>0</td>\n",
       "      <td>0</td>\n",
       "      <td>0</td>\n",
       "      <td>0</td>\n",
       "      <td>1</td>\n",
       "      <td>0</td>\n",
       "      <td>0</td>\n",
       "      <td>1</td>\n",
       "    </tr>\n",
       "    <tr>\n",
       "      <th>1</th>\n",
       "      <td>926</td>\n",
       "      <td>18</td>\n",
       "      <td>23</td>\n",
       "      <td>0</td>\n",
       "      <td>0</td>\n",
       "      <td>3</td>\n",
       "      <td>4</td>\n",
       "      <td>33.0</td>\n",
       "      <td>1</td>\n",
       "      <td>0.653497</td>\n",
       "      <td>...</td>\n",
       "      <td>0</td>\n",
       "      <td>0</td>\n",
       "      <td>0</td>\n",
       "      <td>0</td>\n",
       "      <td>0</td>\n",
       "      <td>1</td>\n",
       "      <td>0</td>\n",
       "      <td>0</td>\n",
       "      <td>0</td>\n",
       "      <td>1</td>\n",
       "    </tr>\n",
       "    <tr>\n",
       "      <th>2</th>\n",
       "      <td>6491</td>\n",
       "      <td>13</td>\n",
       "      <td>20</td>\n",
       "      <td>0</td>\n",
       "      <td>0</td>\n",
       "      <td>3</td>\n",
       "      <td>7</td>\n",
       "      <td>24.0</td>\n",
       "      <td>1</td>\n",
       "      <td>0.451862</td>\n",
       "      <td>...</td>\n",
       "      <td>0</td>\n",
       "      <td>0</td>\n",
       "      <td>0</td>\n",
       "      <td>1</td>\n",
       "      <td>0</td>\n",
       "      <td>0</td>\n",
       "      <td>0</td>\n",
       "      <td>0</td>\n",
       "      <td>0</td>\n",
       "      <td>1</td>\n",
       "    </tr>\n",
       "    <tr>\n",
       "      <th>3</th>\n",
       "      <td>473</td>\n",
       "      <td>18</td>\n",
       "      <td>17</td>\n",
       "      <td>0</td>\n",
       "      <td>0</td>\n",
       "      <td>3</td>\n",
       "      <td>22</td>\n",
       "      <td>15.0</td>\n",
       "      <td>1</td>\n",
       "      <td>0.985014</td>\n",
       "      <td>...</td>\n",
       "      <td>1</td>\n",
       "      <td>0</td>\n",
       "      <td>0</td>\n",
       "      <td>0</td>\n",
       "      <td>0</td>\n",
       "      <td>1</td>\n",
       "      <td>0</td>\n",
       "      <td>1</td>\n",
       "      <td>0</td>\n",
       "      <td>0</td>\n",
       "    </tr>\n",
       "    <tr>\n",
       "      <th>4</th>\n",
       "      <td>684</td>\n",
       "      <td>21</td>\n",
       "      <td>23</td>\n",
       "      <td>0</td>\n",
       "      <td>0</td>\n",
       "      <td>3</td>\n",
       "      <td>1</td>\n",
       "      <td>9.0</td>\n",
       "      <td>0</td>\n",
       "      <td>0.258401</td>\n",
       "      <td>...</td>\n",
       "      <td>0</td>\n",
       "      <td>0</td>\n",
       "      <td>0</td>\n",
       "      <td>0</td>\n",
       "      <td>0</td>\n",
       "      <td>1</td>\n",
       "      <td>0</td>\n",
       "      <td>0</td>\n",
       "      <td>0</td>\n",
       "      <td>1</td>\n",
       "    </tr>\n",
       "    <tr>\n",
       "      <th>...</th>\n",
       "      <td>...</td>\n",
       "      <td>...</td>\n",
       "      <td>...</td>\n",
       "      <td>...</td>\n",
       "      <td>...</td>\n",
       "      <td>...</td>\n",
       "      <td>...</td>\n",
       "      <td>...</td>\n",
       "      <td>...</td>\n",
       "      <td>...</td>\n",
       "      <td>...</td>\n",
       "      <td>...</td>\n",
       "      <td>...</td>\n",
       "      <td>...</td>\n",
       "      <td>...</td>\n",
       "      <td>...</td>\n",
       "      <td>...</td>\n",
       "      <td>...</td>\n",
       "      <td>...</td>\n",
       "      <td>...</td>\n",
       "      <td>...</td>\n",
       "    </tr>\n",
       "    <tr>\n",
       "      <th>19995</th>\n",
       "      <td>9894</td>\n",
       "      <td>8</td>\n",
       "      <td>10</td>\n",
       "      <td>0</td>\n",
       "      <td>1</td>\n",
       "      <td>2</td>\n",
       "      <td>25</td>\n",
       "      <td>24.0</td>\n",
       "      <td>1</td>\n",
       "      <td>0.610354</td>\n",
       "      <td>...</td>\n",
       "      <td>0</td>\n",
       "      <td>1</td>\n",
       "      <td>0</td>\n",
       "      <td>0</td>\n",
       "      <td>0</td>\n",
       "      <td>0</td>\n",
       "      <td>1</td>\n",
       "      <td>0</td>\n",
       "      <td>0</td>\n",
       "      <td>0</td>\n",
       "    </tr>\n",
       "    <tr>\n",
       "      <th>19996</th>\n",
       "      <td>402</td>\n",
       "      <td>10</td>\n",
       "      <td>8</td>\n",
       "      <td>0</td>\n",
       "      <td>1</td>\n",
       "      <td>3</td>\n",
       "      <td>22</td>\n",
       "      <td>18.0</td>\n",
       "      <td>1</td>\n",
       "      <td>0.755223</td>\n",
       "      <td>...</td>\n",
       "      <td>0</td>\n",
       "      <td>0</td>\n",
       "      <td>0</td>\n",
       "      <td>0</td>\n",
       "      <td>0</td>\n",
       "      <td>0</td>\n",
       "      <td>1</td>\n",
       "      <td>0</td>\n",
       "      <td>0</td>\n",
       "      <td>0</td>\n",
       "    </tr>\n",
       "    <tr>\n",
       "      <th>19997</th>\n",
       "      <td>930</td>\n",
       "      <td>7</td>\n",
       "      <td>22</td>\n",
       "      <td>0</td>\n",
       "      <td>1</td>\n",
       "      <td>2</td>\n",
       "      <td>15</td>\n",
       "      <td>6.0</td>\n",
       "      <td>1</td>\n",
       "      <td>0.451862</td>\n",
       "      <td>...</td>\n",
       "      <td>0</td>\n",
       "      <td>0</td>\n",
       "      <td>0</td>\n",
       "      <td>0</td>\n",
       "      <td>0</td>\n",
       "      <td>0</td>\n",
       "      <td>1</td>\n",
       "      <td>0</td>\n",
       "      <td>0</td>\n",
       "      <td>1</td>\n",
       "    </tr>\n",
       "    <tr>\n",
       "      <th>19998</th>\n",
       "      <td>537</td>\n",
       "      <td>16</td>\n",
       "      <td>9</td>\n",
       "      <td>1</td>\n",
       "      <td>2</td>\n",
       "      <td>3</td>\n",
       "      <td>17</td>\n",
       "      <td>12.0</td>\n",
       "      <td>1</td>\n",
       "      <td>0.705722</td>\n",
       "      <td>...</td>\n",
       "      <td>0</td>\n",
       "      <td>0</td>\n",
       "      <td>0</td>\n",
       "      <td>1</td>\n",
       "      <td>0</td>\n",
       "      <td>0</td>\n",
       "      <td>0</td>\n",
       "      <td>0</td>\n",
       "      <td>0</td>\n",
       "      <td>0</td>\n",
       "    </tr>\n",
       "    <tr>\n",
       "      <th>19999</th>\n",
       "      <td>816</td>\n",
       "      <td>11</td>\n",
       "      <td>22</td>\n",
       "      <td>1</td>\n",
       "      <td>3</td>\n",
       "      <td>3</td>\n",
       "      <td>10</td>\n",
       "      <td>18.0</td>\n",
       "      <td>1</td>\n",
       "      <td>0.451862</td>\n",
       "      <td>...</td>\n",
       "      <td>0</td>\n",
       "      <td>0</td>\n",
       "      <td>0</td>\n",
       "      <td>0</td>\n",
       "      <td>0</td>\n",
       "      <td>0</td>\n",
       "      <td>1</td>\n",
       "      <td>0</td>\n",
       "      <td>0</td>\n",
       "      <td>1</td>\n",
       "    </tr>\n",
       "  </tbody>\n",
       "</table>\n",
       "<p>20000 rows × 33 columns</p>\n",
       "</div>"
      ],
      "text/plain": [
       "       num_code  dep_time  arr_time  type  TicketCategory  flight_month  \\\n",
       "0           430         9        21     0               0             3   \n",
       "1           926        18        23     0               0             3   \n",
       "2          6491        13        20     0               0             3   \n",
       "3           473        18        17     0               0             3   \n",
       "4           684        21        23     0               0             3   \n",
       "...         ...       ...       ...   ...             ...           ...   \n",
       "19995      9894         8        10     0               1             2   \n",
       "19996       402        10         8     0               1             3   \n",
       "19997       930         7        22     0               1             2   \n",
       "19998       537        16         9     1               2             3   \n",
       "19999       816        11        22     1               3             3   \n",
       "\n",
       "       num_of_hours_taken  num_of_minutes_taken  num_of_stops  \\\n",
       "0                      11                  12.0             1   \n",
       "1                       4                  33.0             1   \n",
       "2                       7                  24.0             1   \n",
       "3                      22                  15.0             1   \n",
       "4                       1                   9.0             0   \n",
       "...                   ...                   ...           ...   \n",
       "19995                  25                  24.0             1   \n",
       "19996                  22                  18.0             1   \n",
       "19997                  15                   6.0             1   \n",
       "19998                  17                  12.0             1   \n",
       "19999                  10                  18.0             1   \n",
       "\n",
       "       distance_between_2_cities  ...  week_day_of_flight_Sunday  \\\n",
       "0                       0.610354  ...                          0   \n",
       "1                       0.653497  ...                          0   \n",
       "2                       0.451862  ...                          0   \n",
       "3                       0.985014  ...                          1   \n",
       "4                       0.258401  ...                          0   \n",
       "...                          ...  ...                        ...   \n",
       "19995                   0.610354  ...                          0   \n",
       "19996                   0.755223  ...                          0   \n",
       "19997                   0.451862  ...                          0   \n",
       "19998                   0.705722  ...                          0   \n",
       "19999                   0.451862  ...                          0   \n",
       "\n",
       "       week_day_of_flight_Tuesday  week_day_of_flight_Wednesday  \\\n",
       "0                               1                             0   \n",
       "1                               0                             0   \n",
       "2                               0                             0   \n",
       "3                               0                             0   \n",
       "4                               0                             0   \n",
       "...                           ...                           ...   \n",
       "19995                           1                             0   \n",
       "19996                           0                             0   \n",
       "19997                           0                             0   \n",
       "19998                           0                             0   \n",
       "19999                           0                             0   \n",
       "\n",
       "       departure_time_of_the_day_Afternoon  \\\n",
       "0                                        0   \n",
       "1                                        0   \n",
       "2                                        1   \n",
       "3                                        0   \n",
       "4                                        0   \n",
       "...                                    ...   \n",
       "19995                                    0   \n",
       "19996                                    0   \n",
       "19997                                    0   \n",
       "19998                                    1   \n",
       "19999                                    0   \n",
       "\n",
       "       departure_time_of_the_day_Early morning  \\\n",
       "0                                            0   \n",
       "1                                            0   \n",
       "2                                            0   \n",
       "3                                            0   \n",
       "4                                            0   \n",
       "...                                        ...   \n",
       "19995                                        0   \n",
       "19996                                        0   \n",
       "19997                                        0   \n",
       "19998                                        0   \n",
       "19999                                        0   \n",
       "\n",
       "       departure_time_of_the_day_Evening  departure_time_of_the_day_Morning  \\\n",
       "0                                      0                                  1   \n",
       "1                                      1                                  0   \n",
       "2                                      0                                  0   \n",
       "3                                      1                                  0   \n",
       "4                                      1                                  0   \n",
       "...                                  ...                                ...   \n",
       "19995                                  0                                  1   \n",
       "19996                                  0                                  1   \n",
       "19997                                  0                                  1   \n",
       "19998                                  0                                  0   \n",
       "19999                                  0                                  1   \n",
       "\n",
       "       arrival_time_of_the_day_Afternoon  \\\n",
       "0                                      0   \n",
       "1                                      0   \n",
       "2                                      0   \n",
       "3                                      1   \n",
       "4                                      0   \n",
       "...                                  ...   \n",
       "19995                                  0   \n",
       "19996                                  0   \n",
       "19997                                  0   \n",
       "19998                                  0   \n",
       "19999                                  0   \n",
       "\n",
       "       arrival_time_of_the_day_Early morning  arrival_time_of_the_day_Evening  \n",
       "0                                          0                                1  \n",
       "1                                          0                                1  \n",
       "2                                          0                                1  \n",
       "3                                          0                                0  \n",
       "4                                          0                                1  \n",
       "...                                      ...                              ...  \n",
       "19995                                      0                                0  \n",
       "19996                                      0                                0  \n",
       "19997                                      0                                1  \n",
       "19998                                      0                                0  \n",
       "19999                                      0                                1  \n",
       "\n",
       "[20000 rows x 33 columns]"
      ]
     },
     "execution_count": 47,
     "metadata": {},
     "output_type": "execute_result"
    }
   ],
   "source": [
    "dataset"
   ]
  },
  {
   "cell_type": "code",
   "execution_count": 48,
   "metadata": {},
   "outputs": [],
   "source": [
    "label = dataset['TicketCategory']\n",
    "dataset.drop(columns='TicketCategory',axis=1,inplace=True)\n",
    "features = dataset.copy()"
   ]
  },
  {
   "cell_type": "code",
   "execution_count": 49,
   "metadata": {},
   "outputs": [
    {
     "data": {
      "text/plain": [
       "0.91015"
      ]
     },
     "execution_count": 49,
     "metadata": {},
     "output_type": "execute_result"
    }
   ],
   "source": [
    "loaded_model = joblib.load('Ada-Boost-Classifier - Copy.h5')\n",
    "loaded_model.score(features,label)"
   ]
  },
  {
   "cell_type": "code",
   "execution_count": 50,
   "metadata": {},
   "outputs": [
    {
     "data": {
      "text/plain": [
       "0.9123"
      ]
     },
     "execution_count": 50,
     "metadata": {},
     "output_type": "execute_result"
    }
   ],
   "source": [
    "loaded_model = joblib.load('Random-Forest-Classifier.h5')\n",
    "loaded_model.score(features,label)"
   ]
  },
  {
   "cell_type": "code",
   "execution_count": 51,
   "metadata": {},
   "outputs": [
    {
     "data": {
      "text/plain": [
       "0.9045"
      ]
     },
     "execution_count": 51,
     "metadata": {},
     "output_type": "execute_result"
    }
   ],
   "source": [
    "loaded_model = joblib.load('Decision-Tree-Classifier - Copy.h5')\n",
    "loaded_model.score(features,label)"
   ]
  },
  {
   "cell_type": "code",
   "execution_count": 52,
   "metadata": {},
   "outputs": [
    {
     "data": {
      "text/plain": [
       "0.90535"
      ]
     },
     "execution_count": 52,
     "metadata": {},
     "output_type": "execute_result"
    }
   ],
   "source": [
    "loaded_model = joblib.load('Extra-Trees-Classifier - Copy.h5')\n",
    "loaded_model.score(features,label)"
   ]
  }
 ],
 "metadata": {
  "colab": {
   "collapsed_sections": [],
   "name": "Testing Script (classification).ipynb",
   "provenance": []
  },
  "interpreter": {
   "hash": "d9e597d76f347eda077f9ef8a5f38826a3a73c3d203b240e52eb93432ecfcf48"
  },
  "kernelspec": {
   "display_name": "Python 3 (ipykernel)",
   "language": "python",
   "name": "python3"
  },
  "language_info": {
   "codemirror_mode": {
    "name": "ipython",
    "version": 3
   },
   "file_extension": ".py",
   "mimetype": "text/x-python",
   "name": "python",
   "nbconvert_exporter": "python",
   "pygments_lexer": "ipython3",
   "version": "3.9.7"
  }
 },
 "nbformat": 4,
 "nbformat_minor": 1
}
