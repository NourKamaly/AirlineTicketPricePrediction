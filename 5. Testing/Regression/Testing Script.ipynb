{
  "cells": [
    {
      "cell_type": "code",
      "execution_count": 53,
      "metadata": {
        "colab": {
          "base_uri": "https://localhost:8080/"
        },
        "id": "HLURwKam3p8A",
        "outputId": "5f689bf1-8d04-48de-f6cf-7352ab4d90bd"
      },
      "outputs": [],
      "source": [
        "#from google.colab import drive\n",
        "#drive.mount('/content/drive/')"
      ]
    },
    {
      "cell_type": "code",
      "execution_count": 54,
      "metadata": {
        "id": "v9w8j_Bc6R3T"
      },
      "outputs": [],
      "source": [
        "import numpy as np\n",
        "import pandas as pd\n",
        "import ast\n",
        "import warnings\n",
        "import joblib\n",
        "import os\n",
        "warnings.filterwarnings(\"ignore\")"
      ]
    },
    {
      "cell_type": "code",
      "execution_count": 55,
      "metadata": {
        "colab": {
          "base_uri": "https://localhost:8080/",
          "height": 206
        },
        "id": "t_8-QaAi6gYQ",
        "outputId": "52ba9308-1355-4af4-aa57-7757011ecdd7"
      },
      "outputs": [
        {
          "data": {
            "text/html": [
              "<div>\n",
              "<style scoped>\n",
              "    .dataframe tbody tr th:only-of-type {\n",
              "        vertical-align: middle;\n",
              "    }\n",
              "\n",
              "    .dataframe tbody tr th {\n",
              "        vertical-align: top;\n",
              "    }\n",
              "\n",
              "    .dataframe thead th {\n",
              "        text-align: right;\n",
              "    }\n",
              "</style>\n",
              "<table border=\"1\" class=\"dataframe\">\n",
              "  <thead>\n",
              "    <tr style=\"text-align: right;\">\n",
              "      <th></th>\n",
              "      <th>date</th>\n",
              "      <th>airline</th>\n",
              "      <th>ch_code</th>\n",
              "      <th>num_code</th>\n",
              "      <th>dep_time</th>\n",
              "      <th>time_taken</th>\n",
              "      <th>stop</th>\n",
              "      <th>arr_time</th>\n",
              "      <th>type</th>\n",
              "      <th>route</th>\n",
              "      <th>price</th>\n",
              "    </tr>\n",
              "  </thead>\n",
              "  <tbody>\n",
              "    <tr>\n",
              "      <th>0</th>\n",
              "      <td>8/3/2022</td>\n",
              "      <td>Air India</td>\n",
              "      <td>AI</td>\n",
              "      <td>430</td>\n",
              "      <td>9:55</td>\n",
              "      <td>11h 20m</td>\n",
              "      <td>1-stop\\n\\t\\t\\t\\t\\t\\t\\t\\t\\t\\t\\t\\t\\n\\t\\t\\t\\t\\t\\t...</td>\n",
              "      <td>21:15</td>\n",
              "      <td>economy</td>\n",
              "      <td>{'source': 'Chennai', 'destination': 'Mumbai'}</td>\n",
              "      <td>4,357</td>\n",
              "    </tr>\n",
              "    <tr>\n",
              "      <th>1</th>\n",
              "      <td>7/3/2022</td>\n",
              "      <td>Indigo</td>\n",
              "      <td>6E</td>\n",
              "      <td>926</td>\n",
              "      <td>18:30</td>\n",
              "      <td>04h 55m</td>\n",
              "      <td>1-stop\\n\\t\\t\\t\\t\\t\\t\\t\\t\\t\\t\\t\\t\\n\\t\\t\\t\\t\\t\\t...</td>\n",
              "      <td>23:25</td>\n",
              "      <td>economy</td>\n",
              "      <td>{'source': 'Delhi', 'destination': 'Mumbai'}</td>\n",
              "      <td>4,270</td>\n",
              "    </tr>\n",
              "    <tr>\n",
              "      <th>2</th>\n",
              "      <td>24-03-2022</td>\n",
              "      <td>Indigo</td>\n",
              "      <td>6E</td>\n",
              "      <td>6491</td>\n",
              "      <td>13:05</td>\n",
              "      <td>07h 40m</td>\n",
              "      <td>1-stop\\n\\t\\t\\t\\t\\t\\t\\t\\t\\t\\t\\t\\t\\n\\t\\t\\t\\t\\t\\t...</td>\n",
              "      <td>20:45</td>\n",
              "      <td>economy</td>\n",
              "      <td>{'source': 'Bangalore', 'destination': 'Mumbai'}</td>\n",
              "      <td>3,153</td>\n",
              "    </tr>\n",
              "    <tr>\n",
              "      <th>3</th>\n",
              "      <td>27-03-2022</td>\n",
              "      <td>Air India</td>\n",
              "      <td>AI</td>\n",
              "      <td>473</td>\n",
              "      <td>18:40</td>\n",
              "      <td>22h 25m</td>\n",
              "      <td>1-stop\\n\\t\\t\\t\\t\\t\\t\\t\\t\\t\\t\\t\\t\\n\\t\\t\\t\\t\\t\\t...</td>\n",
              "      <td>17:05</td>\n",
              "      <td>economy</td>\n",
              "      <td>{'source': 'Delhi', 'destination': 'Bangalore'}</td>\n",
              "      <td>4,728</td>\n",
              "    </tr>\n",
              "    <tr>\n",
              "      <th>4</th>\n",
              "      <td>7/3/2022</td>\n",
              "      <td>Indigo</td>\n",
              "      <td>6E</td>\n",
              "      <td>684</td>\n",
              "      <td>21:55</td>\n",
              "      <td>01h 15m</td>\n",
              "      <td>non-stop</td>\n",
              "      <td>23:10</td>\n",
              "      <td>economy</td>\n",
              "      <td>{'source': 'Bangalore', 'destination': 'Hydera...</td>\n",
              "      <td>1,714</td>\n",
              "    </tr>\n",
              "  </tbody>\n",
              "</table>\n",
              "</div>"
            ],
            "text/plain": [
              "         date    airline ch_code  num_code dep_time time_taken  \\\n",
              "0    8/3/2022  Air India      AI       430     9:55    11h 20m   \n",
              "1    7/3/2022     Indigo      6E       926    18:30    04h 55m   \n",
              "2  24-03-2022     Indigo      6E      6491    13:05    07h 40m   \n",
              "3  27-03-2022  Air India      AI       473    18:40    22h 25m   \n",
              "4    7/3/2022     Indigo      6E       684    21:55    01h 15m   \n",
              "\n",
              "                                                stop arr_time     type  \\\n",
              "0  1-stop\\n\\t\\t\\t\\t\\t\\t\\t\\t\\t\\t\\t\\t\\n\\t\\t\\t\\t\\t\\t...    21:15  economy   \n",
              "1  1-stop\\n\\t\\t\\t\\t\\t\\t\\t\\t\\t\\t\\t\\t\\n\\t\\t\\t\\t\\t\\t...    23:25  economy   \n",
              "2  1-stop\\n\\t\\t\\t\\t\\t\\t\\t\\t\\t\\t\\t\\t\\n\\t\\t\\t\\t\\t\\t...    20:45  economy   \n",
              "3  1-stop\\n\\t\\t\\t\\t\\t\\t\\t\\t\\t\\t\\t\\t\\n\\t\\t\\t\\t\\t\\t...    17:05  economy   \n",
              "4                                          non-stop     23:10  economy   \n",
              "\n",
              "                                               route  price  \n",
              "0     {'source': 'Chennai', 'destination': 'Mumbai'}  4,357  \n",
              "1       {'source': 'Delhi', 'destination': 'Mumbai'}  4,270  \n",
              "2   {'source': 'Bangalore', 'destination': 'Mumbai'}  3,153  \n",
              "3    {'source': 'Delhi', 'destination': 'Bangalore'}  4,728  \n",
              "4  {'source': 'Bangalore', 'destination': 'Hydera...  1,714  "
            ]
          },
          "execution_count": 55,
          "metadata": {},
          "output_type": "execute_result"
        }
      ],
      "source": [
        "dataset = pd.read_csv('RegressionTestSet.csv')\n",
        "dataset.head()"
      ]
    },
    {
      "cell_type": "code",
      "execution_count": 56,
      "metadata": {
        "id": "U1mIcmkfEN7f"
      },
      "outputs": [],
      "source": [
        "dataset['full_information_timestamp'] = 0\n",
        "dataset['flight_day'] = 0\n",
        "dataset['flight_month'] = 0\n",
        "dataset['week_day_of_flight'] = 0\n",
        "dataset['departure_time_of_the_day']=0\n",
        "dataset['arrival_time_of_the_day']=0\n",
        "dataset['num_of_hours_taken'] =0\n",
        "dataset['num_of_stops'] = 0\n",
        "dataset['source'] = 0\n",
        "dataset['destination'] = 0\n",
        "dataset['distance_between_2_cities'] = 0\n",
        "dataset['formatted_price'] =0"
      ]
    },
    {
      "cell_type": "code",
      "execution_count": 57,
      "metadata": {
        "id": "Uy9qGwpguHsv"
      },
      "outputs": [],
      "source": [
        "def format_date(date):\n",
        "    dashed_date = date.replace('/','-')\n",
        "    return dashed_date"
      ]
    },
    {
      "cell_type": "code",
      "execution_count": 58,
      "metadata": {
        "id": "H9NGiAqifb8Q"
      },
      "outputs": [],
      "source": [
        "dataset['full_information_timestamp'] = dataset.date.apply(lambda date:format_date(date))"
      ]
    },
    {
      "cell_type": "code",
      "execution_count": 59,
      "metadata": {
        "id": "lX47ozhcfb8S"
      },
      "outputs": [],
      "source": [
        "def extract_day_month(date):\n",
        "  splitted_date = date.split('-')\n",
        "  day = int(splitted_date[0])\n",
        "  month =int(splitted_date[1])\n",
        "  if splitted_date[1]== '2' or splitted_date[1]== '02':\n",
        "      new_date_format = 'February ' + splitted_date[0] + ', '+ splitted_date[2]\n",
        "  else :\n",
        "      new_date_format = 'March ' + splitted_date[0] + ', '+ splitted_date[2]\n",
        "  return day,month,new_date_format"
      ]
    },
    {
      "cell_type": "code",
      "execution_count": 60,
      "metadata": {
        "id": "TAN-vOgWecSM"
      },
      "outputs": [],
      "source": [
        "dataset[['flight_day', 'flight_month','full_information_timestamp']] = pd.DataFrame(dataset.full_information_timestamp.apply(lambda date: extract_day_month(date)).tolist(), index=dataset.index)"
      ]
    },
    {
      "cell_type": "code",
      "execution_count": 61,
      "metadata": {
        "id": "X8Eg-gi1fb8U"
      },
      "outputs": [],
      "source": [
        "dataset['full_information_timestamp'] = pd.to_datetime(dataset['full_information_timestamp'])"
      ]
    },
    {
      "cell_type": "code",
      "execution_count": 62,
      "metadata": {
        "id": "-8d_0pD-ZtaL"
      },
      "outputs": [],
      "source": [
        "def extract_weekday(day):\n",
        "    return day.day_name()"
      ]
    },
    {
      "cell_type": "code",
      "execution_count": 63,
      "metadata": {
        "id": "RtblEu8XZtaM"
      },
      "outputs": [],
      "source": [
        "dataset['week_day_of_flight'] = dataset.full_information_timestamp.apply(lambda date:extract_weekday(date))"
      ]
    },
    {
      "cell_type": "code",
      "execution_count": 64,
      "metadata": {
        "id": "GG8buB7HzQ7X"
      },
      "outputs": [],
      "source": [
        "def remove_low_frequency_airlines():\n",
        "    high_frequency_airlines =['Vistara','Air India','Indigo']\n",
        "    dataset ['airline'] = [airline if airline in high_frequency_airlines else 'Other_airline' for airline in dataset['airline']]\n",
        "   "
      ]
    },
    {
      "cell_type": "code",
      "execution_count": 65,
      "metadata": {
        "id": "F58Px55Z28FJ"
      },
      "outputs": [],
      "source": [
        "remove_low_frequency_airlines()"
      ]
    },
    {
      "cell_type": "code",
      "execution_count": 66,
      "metadata": {
        "id": "BBcFlL34bFv-"
      },
      "outputs": [],
      "source": [
        "def calculate_time_taken(time_taken):\n",
        "      time = time_taken.split(' ')\n",
        "      float_hour = time[0].split('.')\n",
        "      hours = 0\n",
        "      if(len(float_hour)>1):\n",
        "          time[0] = float_hour[0] + 'h'\n",
        "          time[1]= float_hour[1][:-1] + time[1]\n",
        "      if time[1][:-1] != '' : \n",
        "          if int(time[1][:-1]) >= 40 :\n",
        "              hours = int(time[0][:-1]) + 1\n",
        "          else :\n",
        "              hours = int(time[0][:-1]) \n",
        "      else :\n",
        "          hours = int(time[0][:-1])\n",
        "      return hours"
      ]
    },
    {
      "cell_type": "code",
      "execution_count": 67,
      "metadata": {
        "id": "x97dc14Yrd4T"
      },
      "outputs": [],
      "source": [
        "dataset['num_of_hours_taken'] = dataset.time_taken.apply(lambda time_taken: calculate_time_taken(time_taken))"
      ]
    },
    {
      "cell_type": "code",
      "execution_count": 68,
      "metadata": {
        "id": "ATLAMvTuqwD8"
      },
      "outputs": [],
      "source": [
        "def categorize_time(time):\n",
        "    hours = time.split(':')\n",
        "    hours[0] = int(hours[0])\n",
        "    if hours[0] <6:\n",
        "        return 'Early morning'\n",
        "    elif 6<= hours[0] < 12 :\n",
        "        return 'Morning'\n",
        "    elif 12<= hours[0] < 18:\n",
        "        return 'Afternoon'\n",
        "    else:\n",
        "        return 'Evening'"
      ]
    },
    {
      "cell_type": "code",
      "execution_count": 69,
      "metadata": {
        "id": "IKVx6zS7r-gL"
      },
      "outputs": [],
      "source": [
        "dataset['dep_time'] = dataset.dep_time.apply(lambda time: categorize_time(time))"
      ]
    },
    {
      "cell_type": "code",
      "execution_count": 70,
      "metadata": {
        "id": "YJm59-GhsfCs"
      },
      "outputs": [],
      "source": [
        "dataset['arr_time'] = dataset.arr_time.apply(lambda time: categorize_time(time))"
      ]
    },
    {
      "cell_type": "code",
      "execution_count": 71,
      "metadata": {
        "id": "8NBTiTgCfb8b"
      },
      "outputs": [],
      "source": [
        "def split_num_of_stops(stop):\n",
        "    if stop[:8] == 'non-stop':\n",
        "        stop_count = 0\n",
        "    elif stop[:6] == '1-stop':\n",
        "        stop_count = 1\n",
        "    else:\n",
        "        stop_count = 2\n",
        "    return stop_count"
      ]
    },
    {
      "cell_type": "code",
      "execution_count": 72,
      "metadata": {
        "id": "OdIkh5alv-_j"
      },
      "outputs": [],
      "source": [
        "dataset['num_of_stops']= dataset.stop.apply(lambda stop:split_num_of_stops(stop))"
      ]
    },
    {
      "cell_type": "code",
      "execution_count": 73,
      "metadata": {
        "id": "ZJTkqXWjIAcV"
      },
      "outputs": [],
      "source": [
        "dataset['type'] = [1 if kind_of_trip == 'business' else 0 for kind_of_trip in dataset['type']]"
      ]
    },
    {
      "cell_type": "code",
      "execution_count": 74,
      "metadata": {
        "id": "lRZ7CJuPlNTK"
      },
      "outputs": [],
      "source": [
        "def split_route(route):\n",
        "    path = ast.literal_eval(route)\n",
        "    source = path['source']\n",
        "    destination = path['destination']\n",
        "    return source,destination"
      ]
    },
    {
      "cell_type": "code",
      "execution_count": 75,
      "metadata": {
        "id": "YgZW24AtlNTK"
      },
      "outputs": [],
      "source": [
        "dataset[['source', 'destination']] = pd.DataFrame(dataset.route.apply(lambda route: split_route(route)).tolist(), index=dataset.index)"
      ]
    },
    {
      "cell_type": "code",
      "execution_count": 76,
      "metadata": {
        "id": "JGYWIWZjlNTL"
      },
      "outputs": [],
      "source": [
        "distances = dict()\n",
        "distances['Mumbai','Kolkata'] = 2167\n",
        "distances['Mumbai','Hyderabad'] = 721\n",
        "distances['Mumbai','Chennai'] = 1344\n",
        "distances['Mumbai','Bangalore'] = 995\n",
        "distances['Mumbai','Delhi'] = 1439\n",
        "distances['Delhi','Bangalore'] = 2169\n",
        "distances['Delhi','Kolkata'] = 1554\n",
        "distances['Delhi','Hyderabad'] = 1579\n",
        "distances['Delhi','Chennai'] = 2202\n",
        "distances['Bangalore','Kolkata']= 1560\n",
        "distances['Bangalore','Hyderabad'] = 569\n",
        "distances['Bangalore','Chennai'] = 348\n",
        "distances['Kolkata','Hyderabad'] = 1489\n",
        "distances['Kolkata','Chennai'] = 1663\n",
        "distances['Hyderabad','Chennai'] = 628"
      ]
    },
    {
      "cell_type": "code",
      "execution_count": 77,
      "metadata": {
        "id": "1VbJhtjQlNTM"
      },
      "outputs": [],
      "source": [
        "def calculate_distance(source,destination):\n",
        "    try :\n",
        "        dist = distances[source,destination]\n",
        "    except :\n",
        "        dist = distances[destination,source]\n",
        "    return dist"
      ]
    },
    {
      "cell_type": "code",
      "execution_count": 78,
      "metadata": {
        "id": "oSvmO26glNTM"
      },
      "outputs": [],
      "source": [
        "dataset['distance_between_2_cities'] = dataset.apply(lambda dataFrame: calculate_distance(dataFrame['source'], dataFrame['destination']), axis=1)\n",
        "dataset['distance_between_2_cities'] = dataset['distance_between_2_cities']/2202"
      ]
    },
    {
      "cell_type": "code",
      "execution_count": 79,
      "metadata": {
        "id": "TBhdRY5FoKlZ"
      },
      "outputs": [],
      "source": [
        "def fix_price_format(price):\n",
        "    number = price.split(',')\n",
        "    cost = number[0] + number[1]\n",
        "    cost=int(cost)\n",
        "    return cost"
      ]
    },
    {
      "cell_type": "code",
      "execution_count": 80,
      "metadata": {
        "id": "-4UzTD-TopP5"
      },
      "outputs": [],
      "source": [
        "dataset['formatted_price'] = dataset.price.apply(lambda price:fix_price_format(price))"
      ]
    },
    {
      "cell_type": "code",
      "execution_count": 81,
      "metadata": {
        "id": "DEO690DfHZbH"
      },
      "outputs": [],
      "source": [
        "def one_hot_encode_time(time):\n",
        "    morning =0\n",
        "    afternoon =0\n",
        "    evening = 0\n",
        "    early_morning = 0\n",
        "    if time =='Early morning':\n",
        "        early_morning = 1\n",
        "    elif time == 'Afternoon':\n",
        "        afternoon =1\n",
        "    elif time == 'Morning':\n",
        "        morning = 1\n",
        "    elif time == 'Evening' :\n",
        "        evening = 1\n",
        "    return early_morning,morning,afternoon,evening"
      ]
    },
    {
      "cell_type": "code",
      "execution_count": 82,
      "metadata": {
        "id": "TcQUhpg0Ih3R"
      },
      "outputs": [],
      "source": [
        "dataset[['dep_time_Early morning', 'dep_time_Morning','dep_time_Afternoon','dep_time_Evening']] = pd.DataFrame(dataset.dep_time.apply(lambda time: one_hot_encode_time(time)).tolist(), index=dataset.index)"
      ]
    },
    {
      "cell_type": "code",
      "execution_count": 83,
      "metadata": {
        "id": "u3Y9sUkxI2Ze"
      },
      "outputs": [],
      "source": [
        "dataset[['arr_time_Early morning', 'arr_time_Morning','arr_time_Afternoon','arr_time_Evening']] = pd.DataFrame(dataset.arr_time.apply(lambda time: one_hot_encode_time(time)).tolist(), index=dataset.index)"
      ]
    },
    {
      "cell_type": "code",
      "execution_count": 84,
      "metadata": {
        "id": "w-o0lxWxJu4B"
      },
      "outputs": [],
      "source": [
        "def one_hot_encode_week_day(day):\n",
        "    sunday = 0\n",
        "    saturday = 0\n",
        "    thursday = 0\n",
        "    tuesday = 0\n",
        "    if day =='Tuesday' :\n",
        "        tuesday = 1\n",
        "    elif day =='Thursday' :\n",
        "        thursday = 1\n",
        "    elif day =='Saturday' :\n",
        "        saturday = 1\n",
        "    elif day == 'Sunday' :\n",
        "        sunday = 1\n",
        "    return saturday,sunday,tuesday,thursday"
      ]
    },
    {
      "cell_type": "code",
      "execution_count": 85,
      "metadata": {
        "id": "GTGV7eNMLpwI"
      },
      "outputs": [],
      "source": [
        "dataset[['week_day_of_flight_Saturday', 'week_day_of_flight_Sunday','week_day_of_flight_Tuesday','week_day_of_flight_Thursday']] = pd.DataFrame(dataset.week_day_of_flight.apply(lambda day: one_hot_encode_week_day(day)).tolist(), index=dataset.index)"
      ]
    },
    {
      "cell_type": "code",
      "execution_count": 86,
      "metadata": {
        "id": "JHdBuLG2KFnN"
      },
      "outputs": [],
      "source": [
        "def one_hot_encode_airline(airline):\n",
        "    vistara = 0\n",
        "    indigo = 0\n",
        "    air_india = 0\n",
        "    other = 0\n",
        "    if airline == 'Vistara' :\n",
        "        vistara = 1\n",
        "    elif airline == 'Indigo' :\n",
        "        indigo = 1\n",
        "    elif airline == 'Air India' :\n",
        "        air_india = 1\n",
        "    elif airline =='Other_airline' :\n",
        "        other = 1\n",
        "    return vistara,air_india,indigo,other"
      ]
    },
    {
      "cell_type": "code",
      "execution_count": 87,
      "metadata": {
        "id": "QYFUSW3mKgcv"
      },
      "outputs": [],
      "source": [
        "dataset[['airline_Vistara', 'airline_Air India','airline_Indigo','airline_Other_airline']] = pd.DataFrame(dataset.airline.apply(lambda airline: one_hot_encode_airline(airline)).tolist(), index=dataset.index)\n"
      ]
    },
    {
      "cell_type": "code",
      "execution_count": 88,
      "metadata": {
        "id": "jH8plHdZMusB"
      },
      "outputs": [],
      "source": [
        "def one_hot_encode_city(city):\n",
        "    delhi = 0\n",
        "    hyderabad = 0\n",
        "    mumbai = 0\n",
        "    bangalore = 0\n",
        "    kolkata = 0\n",
        "    chennai =0\n",
        "    if city == 'Delhi' :\n",
        "        delhi = 1\n",
        "    elif city == 'Hyderabad' :\n",
        "        hyderabad =1\n",
        "    elif city == 'Mumbai' :\n",
        "        mumbai = 1\n",
        "    elif city == 'Bangalore' :\n",
        "        bangalore = 1\n",
        "    elif city == 'Kolkata' :\n",
        "        kolkata = 1\n",
        "    elif city == 'Chennai' :\n",
        "        chennai = 1\n",
        "    return delhi,hyderabad,mumbai,bangalore,kolkata,chennai"
      ]
    },
    {
      "cell_type": "code",
      "execution_count": 89,
      "metadata": {
        "id": "PGW3g5N4NQbD"
      },
      "outputs": [],
      "source": [
        "dataset[['source_Delhi','source_Hyderabad', 'source_Mumbai','source_Bangalore','source_Kolkata','source_Chennai']] = pd.DataFrame(dataset.source.apply(lambda city: one_hot_encode_city(city)).tolist(), index=dataset.index)"
      ]
    },
    {
      "cell_type": "code",
      "execution_count": 90,
      "metadata": {},
      "outputs": [],
      "source": [
        "dataset[['destination_Delhi','destination_Hyderabad', 'destination_Mumbai','destination_Bangalore','destination_Kolkata','destination_Chennai']] = pd.DataFrame(dataset.destination.apply(lambda city: one_hot_encode_city(city)).tolist(), index=dataset.index)\n"
      ]
    },
    {
      "cell_type": "code",
      "execution_count": 91,
      "metadata": {
        "colab": {
          "base_uri": "https://localhost:8080/",
          "height": 424
        },
        "id": "A3qlUhCgbC-0",
        "outputId": "efbec5a8-5b20-4637-a178-112f2c62ab93"
      },
      "outputs": [
        {
          "data": {
            "text/html": [
              "<div>\n",
              "<style scoped>\n",
              "    .dataframe tbody tr th:only-of-type {\n",
              "        vertical-align: middle;\n",
              "    }\n",
              "\n",
              "    .dataframe tbody tr th {\n",
              "        vertical-align: top;\n",
              "    }\n",
              "\n",
              "    .dataframe thead th {\n",
              "        text-align: right;\n",
              "    }\n",
              "</style>\n",
              "<table border=\"1\" class=\"dataframe\">\n",
              "  <thead>\n",
              "    <tr style=\"text-align: right;\">\n",
              "      <th></th>\n",
              "      <th>date</th>\n",
              "      <th>airline</th>\n",
              "      <th>ch_code</th>\n",
              "      <th>num_code</th>\n",
              "      <th>dep_time</th>\n",
              "      <th>time_taken</th>\n",
              "      <th>stop</th>\n",
              "      <th>arr_time</th>\n",
              "      <th>type</th>\n",
              "      <th>route</th>\n",
              "      <th>...</th>\n",
              "      <th>source_Mumbai</th>\n",
              "      <th>source_Bangalore</th>\n",
              "      <th>source_Kolkata</th>\n",
              "      <th>source_Chennai</th>\n",
              "      <th>destination_Delhi</th>\n",
              "      <th>destination_Hyderabad</th>\n",
              "      <th>destination_Mumbai</th>\n",
              "      <th>destination_Bangalore</th>\n",
              "      <th>destination_Kolkata</th>\n",
              "      <th>destination_Chennai</th>\n",
              "    </tr>\n",
              "  </thead>\n",
              "  <tbody>\n",
              "    <tr>\n",
              "      <th>0</th>\n",
              "      <td>8/3/2022</td>\n",
              "      <td>Air India</td>\n",
              "      <td>AI</td>\n",
              "      <td>430</td>\n",
              "      <td>Morning</td>\n",
              "      <td>11h 20m</td>\n",
              "      <td>1-stop\\n\\t\\t\\t\\t\\t\\t\\t\\t\\t\\t\\t\\t\\n\\t\\t\\t\\t\\t\\t...</td>\n",
              "      <td>Evening</td>\n",
              "      <td>0</td>\n",
              "      <td>{'source': 'Chennai', 'destination': 'Mumbai'}</td>\n",
              "      <td>...</td>\n",
              "      <td>0</td>\n",
              "      <td>0</td>\n",
              "      <td>0</td>\n",
              "      <td>1</td>\n",
              "      <td>0</td>\n",
              "      <td>0</td>\n",
              "      <td>1</td>\n",
              "      <td>0</td>\n",
              "      <td>0</td>\n",
              "      <td>0</td>\n",
              "    </tr>\n",
              "    <tr>\n",
              "      <th>1</th>\n",
              "      <td>7/3/2022</td>\n",
              "      <td>Indigo</td>\n",
              "      <td>6E</td>\n",
              "      <td>926</td>\n",
              "      <td>Evening</td>\n",
              "      <td>04h 55m</td>\n",
              "      <td>1-stop\\n\\t\\t\\t\\t\\t\\t\\t\\t\\t\\t\\t\\t\\n\\t\\t\\t\\t\\t\\t...</td>\n",
              "      <td>Evening</td>\n",
              "      <td>0</td>\n",
              "      <td>{'source': 'Delhi', 'destination': 'Mumbai'}</td>\n",
              "      <td>...</td>\n",
              "      <td>0</td>\n",
              "      <td>0</td>\n",
              "      <td>0</td>\n",
              "      <td>0</td>\n",
              "      <td>0</td>\n",
              "      <td>0</td>\n",
              "      <td>1</td>\n",
              "      <td>0</td>\n",
              "      <td>0</td>\n",
              "      <td>0</td>\n",
              "    </tr>\n",
              "    <tr>\n",
              "      <th>2</th>\n",
              "      <td>24-03-2022</td>\n",
              "      <td>Indigo</td>\n",
              "      <td>6E</td>\n",
              "      <td>6491</td>\n",
              "      <td>Afternoon</td>\n",
              "      <td>07h 40m</td>\n",
              "      <td>1-stop\\n\\t\\t\\t\\t\\t\\t\\t\\t\\t\\t\\t\\t\\n\\t\\t\\t\\t\\t\\t...</td>\n",
              "      <td>Evening</td>\n",
              "      <td>0</td>\n",
              "      <td>{'source': 'Bangalore', 'destination': 'Mumbai'}</td>\n",
              "      <td>...</td>\n",
              "      <td>0</td>\n",
              "      <td>1</td>\n",
              "      <td>0</td>\n",
              "      <td>0</td>\n",
              "      <td>0</td>\n",
              "      <td>0</td>\n",
              "      <td>1</td>\n",
              "      <td>0</td>\n",
              "      <td>0</td>\n",
              "      <td>0</td>\n",
              "    </tr>\n",
              "    <tr>\n",
              "      <th>3</th>\n",
              "      <td>27-03-2022</td>\n",
              "      <td>Air India</td>\n",
              "      <td>AI</td>\n",
              "      <td>473</td>\n",
              "      <td>Evening</td>\n",
              "      <td>22h 25m</td>\n",
              "      <td>1-stop\\n\\t\\t\\t\\t\\t\\t\\t\\t\\t\\t\\t\\t\\n\\t\\t\\t\\t\\t\\t...</td>\n",
              "      <td>Afternoon</td>\n",
              "      <td>0</td>\n",
              "      <td>{'source': 'Delhi', 'destination': 'Bangalore'}</td>\n",
              "      <td>...</td>\n",
              "      <td>0</td>\n",
              "      <td>0</td>\n",
              "      <td>0</td>\n",
              "      <td>0</td>\n",
              "      <td>0</td>\n",
              "      <td>0</td>\n",
              "      <td>0</td>\n",
              "      <td>1</td>\n",
              "      <td>0</td>\n",
              "      <td>0</td>\n",
              "    </tr>\n",
              "    <tr>\n",
              "      <th>4</th>\n",
              "      <td>7/3/2022</td>\n",
              "      <td>Indigo</td>\n",
              "      <td>6E</td>\n",
              "      <td>684</td>\n",
              "      <td>Evening</td>\n",
              "      <td>01h 15m</td>\n",
              "      <td>non-stop</td>\n",
              "      <td>Evening</td>\n",
              "      <td>0</td>\n",
              "      <td>{'source': 'Bangalore', 'destination': 'Hydera...</td>\n",
              "      <td>...</td>\n",
              "      <td>0</td>\n",
              "      <td>1</td>\n",
              "      <td>0</td>\n",
              "      <td>0</td>\n",
              "      <td>0</td>\n",
              "      <td>1</td>\n",
              "      <td>0</td>\n",
              "      <td>0</td>\n",
              "      <td>0</td>\n",
              "      <td>0</td>\n",
              "    </tr>\n",
              "    <tr>\n",
              "      <th>...</th>\n",
              "      <td>...</td>\n",
              "      <td>...</td>\n",
              "      <td>...</td>\n",
              "      <td>...</td>\n",
              "      <td>...</td>\n",
              "      <td>...</td>\n",
              "      <td>...</td>\n",
              "      <td>...</td>\n",
              "      <td>...</td>\n",
              "      <td>...</td>\n",
              "      <td>...</td>\n",
              "      <td>...</td>\n",
              "      <td>...</td>\n",
              "      <td>...</td>\n",
              "      <td>...</td>\n",
              "      <td>...</td>\n",
              "      <td>...</td>\n",
              "      <td>...</td>\n",
              "      <td>...</td>\n",
              "      <td>...</td>\n",
              "      <td>...</td>\n",
              "    </tr>\n",
              "    <tr>\n",
              "      <th>19995</th>\n",
              "      <td>15-02-2022</td>\n",
              "      <td>Air India</td>\n",
              "      <td>AI</td>\n",
              "      <td>9894</td>\n",
              "      <td>Morning</td>\n",
              "      <td>25h 40m</td>\n",
              "      <td>1-stop\\n\\t\\t\\t\\t\\t\\t\\t\\t\\t\\t\\t\\t\\n\\t\\t\\t\\t\\t\\t...</td>\n",
              "      <td>Morning</td>\n",
              "      <td>0</td>\n",
              "      <td>{'source': 'Chennai', 'destination': 'Mumbai'}</td>\n",
              "      <td>...</td>\n",
              "      <td>0</td>\n",
              "      <td>0</td>\n",
              "      <td>0</td>\n",
              "      <td>1</td>\n",
              "      <td>0</td>\n",
              "      <td>0</td>\n",
              "      <td>1</td>\n",
              "      <td>0</td>\n",
              "      <td>0</td>\n",
              "      <td>0</td>\n",
              "    </tr>\n",
              "    <tr>\n",
              "      <th>19996</th>\n",
              "      <td>19-03-2022</td>\n",
              "      <td>Air India</td>\n",
              "      <td>AI</td>\n",
              "      <td>402</td>\n",
              "      <td>Morning</td>\n",
              "      <td>22h 30m</td>\n",
              "      <td>1-stop\\n\\t\\t\\t\\t\\t\\t\\t\\t\\t\\t\\t\\t\\n\\t\\t\\t\\t\\t\\t...</td>\n",
              "      <td>Morning</td>\n",
              "      <td>0</td>\n",
              "      <td>{'source': 'Kolkata', 'destination': 'Chennai'}</td>\n",
              "      <td>...</td>\n",
              "      <td>0</td>\n",
              "      <td>0</td>\n",
              "      <td>1</td>\n",
              "      <td>0</td>\n",
              "      <td>0</td>\n",
              "      <td>0</td>\n",
              "      <td>0</td>\n",
              "      <td>0</td>\n",
              "      <td>0</td>\n",
              "      <td>1</td>\n",
              "    </tr>\n",
              "    <tr>\n",
              "      <th>19997</th>\n",
              "      <td>21-02-2022</td>\n",
              "      <td>Vistara</td>\n",
              "      <td>UK</td>\n",
              "      <td>930</td>\n",
              "      <td>Morning</td>\n",
              "      <td>15h 10m</td>\n",
              "      <td>1-stop\\n\\t\\t\\t\\t\\t\\t\\t\\t\\t\\t\\t\\t\\n\\t\\t\\t\\t\\t\\t...</td>\n",
              "      <td>Evening</td>\n",
              "      <td>0</td>\n",
              "      <td>{'source': 'Mumbai', 'destination': 'Bangalore'}</td>\n",
              "      <td>...</td>\n",
              "      <td>1</td>\n",
              "      <td>0</td>\n",
              "      <td>0</td>\n",
              "      <td>0</td>\n",
              "      <td>0</td>\n",
              "      <td>0</td>\n",
              "      <td>0</td>\n",
              "      <td>1</td>\n",
              "      <td>0</td>\n",
              "      <td>0</td>\n",
              "    </tr>\n",
              "    <tr>\n",
              "      <th>19998</th>\n",
              "      <td>17-03-2022</td>\n",
              "      <td>Air India</td>\n",
              "      <td>AI</td>\n",
              "      <td>537</td>\n",
              "      <td>Afternoon</td>\n",
              "      <td>17h 20m</td>\n",
              "      <td>1-stop\\n\\t\\t\\t\\t\\t\\t\\t\\t\\t\\t\\t\\t\\n\\t\\t\\t\\t\\t\\t...</td>\n",
              "      <td>Morning</td>\n",
              "      <td>1</td>\n",
              "      <td>{'source': 'Delhi', 'destination': 'Kolkata'}</td>\n",
              "      <td>...</td>\n",
              "      <td>0</td>\n",
              "      <td>0</td>\n",
              "      <td>0</td>\n",
              "      <td>0</td>\n",
              "      <td>0</td>\n",
              "      <td>0</td>\n",
              "      <td>0</td>\n",
              "      <td>0</td>\n",
              "      <td>1</td>\n",
              "      <td>0</td>\n",
              "    </tr>\n",
              "    <tr>\n",
              "      <th>19999</th>\n",
              "      <td>18-03-2022</td>\n",
              "      <td>Vistara</td>\n",
              "      <td>UK</td>\n",
              "      <td>816</td>\n",
              "      <td>Morning</td>\n",
              "      <td>10h 30m</td>\n",
              "      <td>1-stop\\n\\t\\t\\t\\t\\t\\t\\t\\t\\t\\t\\t\\t\\n\\t\\t\\t\\t\\t\\t...</td>\n",
              "      <td>Evening</td>\n",
              "      <td>1</td>\n",
              "      <td>{'source': 'Bangalore', 'destination': 'Mumbai'}</td>\n",
              "      <td>...</td>\n",
              "      <td>0</td>\n",
              "      <td>1</td>\n",
              "      <td>0</td>\n",
              "      <td>0</td>\n",
              "      <td>0</td>\n",
              "      <td>0</td>\n",
              "      <td>1</td>\n",
              "      <td>0</td>\n",
              "      <td>0</td>\n",
              "      <td>0</td>\n",
              "    </tr>\n",
              "  </tbody>\n",
              "</table>\n",
              "<p>20000 rows × 51 columns</p>\n",
              "</div>"
            ],
            "text/plain": [
              "             date    airline ch_code  num_code   dep_time time_taken  \\\n",
              "0        8/3/2022  Air India      AI       430    Morning    11h 20m   \n",
              "1        7/3/2022     Indigo      6E       926    Evening    04h 55m   \n",
              "2      24-03-2022     Indigo      6E      6491  Afternoon    07h 40m   \n",
              "3      27-03-2022  Air India      AI       473    Evening    22h 25m   \n",
              "4        7/3/2022     Indigo      6E       684    Evening    01h 15m   \n",
              "...           ...        ...     ...       ...        ...        ...   \n",
              "19995  15-02-2022  Air India      AI      9894    Morning    25h 40m   \n",
              "19996  19-03-2022  Air India      AI       402    Morning    22h 30m   \n",
              "19997  21-02-2022    Vistara      UK       930    Morning    15h 10m   \n",
              "19998  17-03-2022  Air India      AI       537  Afternoon    17h 20m   \n",
              "19999  18-03-2022    Vistara      UK       816    Morning    10h 30m   \n",
              "\n",
              "                                                    stop   arr_time  type  \\\n",
              "0      1-stop\\n\\t\\t\\t\\t\\t\\t\\t\\t\\t\\t\\t\\t\\n\\t\\t\\t\\t\\t\\t...    Evening     0   \n",
              "1      1-stop\\n\\t\\t\\t\\t\\t\\t\\t\\t\\t\\t\\t\\t\\n\\t\\t\\t\\t\\t\\t...    Evening     0   \n",
              "2      1-stop\\n\\t\\t\\t\\t\\t\\t\\t\\t\\t\\t\\t\\t\\n\\t\\t\\t\\t\\t\\t...    Evening     0   \n",
              "3      1-stop\\n\\t\\t\\t\\t\\t\\t\\t\\t\\t\\t\\t\\t\\n\\t\\t\\t\\t\\t\\t...  Afternoon     0   \n",
              "4                                              non-stop     Evening     0   \n",
              "...                                                  ...        ...   ...   \n",
              "19995  1-stop\\n\\t\\t\\t\\t\\t\\t\\t\\t\\t\\t\\t\\t\\n\\t\\t\\t\\t\\t\\t...    Morning     0   \n",
              "19996  1-stop\\n\\t\\t\\t\\t\\t\\t\\t\\t\\t\\t\\t\\t\\n\\t\\t\\t\\t\\t\\t...    Morning     0   \n",
              "19997  1-stop\\n\\t\\t\\t\\t\\t\\t\\t\\t\\t\\t\\t\\t\\n\\t\\t\\t\\t\\t\\t...    Evening     0   \n",
              "19998  1-stop\\n\\t\\t\\t\\t\\t\\t\\t\\t\\t\\t\\t\\t\\n\\t\\t\\t\\t\\t\\t...    Morning     1   \n",
              "19999  1-stop\\n\\t\\t\\t\\t\\t\\t\\t\\t\\t\\t\\t\\t\\n\\t\\t\\t\\t\\t\\t...    Evening     1   \n",
              "\n",
              "                                                   route  ... source_Mumbai  \\\n",
              "0         {'source': 'Chennai', 'destination': 'Mumbai'}  ...             0   \n",
              "1           {'source': 'Delhi', 'destination': 'Mumbai'}  ...             0   \n",
              "2       {'source': 'Bangalore', 'destination': 'Mumbai'}  ...             0   \n",
              "3        {'source': 'Delhi', 'destination': 'Bangalore'}  ...             0   \n",
              "4      {'source': 'Bangalore', 'destination': 'Hydera...  ...             0   \n",
              "...                                                  ...  ...           ...   \n",
              "19995     {'source': 'Chennai', 'destination': 'Mumbai'}  ...             0   \n",
              "19996    {'source': 'Kolkata', 'destination': 'Chennai'}  ...             0   \n",
              "19997   {'source': 'Mumbai', 'destination': 'Bangalore'}  ...             1   \n",
              "19998      {'source': 'Delhi', 'destination': 'Kolkata'}  ...             0   \n",
              "19999   {'source': 'Bangalore', 'destination': 'Mumbai'}  ...             0   \n",
              "\n",
              "      source_Bangalore  source_Kolkata  source_Chennai destination_Delhi  \\\n",
              "0                    0               0               1                 0   \n",
              "1                    0               0               0                 0   \n",
              "2                    1               0               0                 0   \n",
              "3                    0               0               0                 0   \n",
              "4                    1               0               0                 0   \n",
              "...                ...             ...             ...               ...   \n",
              "19995                0               0               1                 0   \n",
              "19996                0               1               0                 0   \n",
              "19997                0               0               0                 0   \n",
              "19998                0               0               0                 0   \n",
              "19999                1               0               0                 0   \n",
              "\n",
              "       destination_Hyderabad  destination_Mumbai  destination_Bangalore  \\\n",
              "0                          0                   1                      0   \n",
              "1                          0                   1                      0   \n",
              "2                          0                   1                      0   \n",
              "3                          0                   0                      1   \n",
              "4                          1                   0                      0   \n",
              "...                      ...                 ...                    ...   \n",
              "19995                      0                   1                      0   \n",
              "19996                      0                   0                      0   \n",
              "19997                      0                   0                      1   \n",
              "19998                      0                   0                      0   \n",
              "19999                      0                   1                      0   \n",
              "\n",
              "       destination_Kolkata destination_Chennai  \n",
              "0                        0                   0  \n",
              "1                        0                   0  \n",
              "2                        0                   0  \n",
              "3                        0                   0  \n",
              "4                        0                   0  \n",
              "...                    ...                 ...  \n",
              "19995                    0                   0  \n",
              "19996                    0                   1  \n",
              "19997                    0                   0  \n",
              "19998                    1                   0  \n",
              "19999                    0                   0  \n",
              "\n",
              "[20000 rows x 51 columns]"
            ]
          },
          "execution_count": 91,
          "metadata": {},
          "output_type": "execute_result"
        }
      ],
      "source": [
        "dataset"
      ]
    },
    {
      "cell_type": "code",
      "execution_count": 92,
      "metadata": {},
      "outputs": [],
      "source": [
        "features = ['type', 'flight_month', 'num_of_hours_taken', 'num_of_stops',\n",
        "       'distance_between_2_cities', 'airline_Air India', 'airline_Indigo',\n",
        "       'airline_Other_airline', 'airline_Vistara', 'source_Bangalore',\n",
        "       'source_Chennai', 'source_Delhi', 'source_Hyderabad', 'source_Kolkata',\n",
        "       'source_Mumbai', 'destination_Bangalore', 'destination_Chennai',\n",
        "       'destination_Delhi', 'destination_Hyderabad', 'destination_Kolkata',\n",
        "       'destination_Mumbai', 'week_day_of_flight_Saturday',\n",
        "       'week_day_of_flight_Sunday', 'week_day_of_flight_Thursday',\n",
        "       'week_day_of_flight_Tuesday', 'dep_time_Afternoon',\n",
        "       'dep_time_Early morning', 'dep_time_Evening', 'dep_time_Morning',\n",
        "       'arr_time_Afternoon', 'arr_time_Early morning', 'arr_time_Evening',\n",
        "       'arr_time_Morning','formatted_price']"
      ]
    },
    {
      "cell_type": "code",
      "execution_count": 93,
      "metadata": {},
      "outputs": [],
      "source": [
        "for column in dataset.columns:\n",
        "    if column not in features:\n",
        "        dataset.drop(columns=column,axis=1,inplace=True)"
      ]
    },
    {
      "cell_type": "code",
      "execution_count": 94,
      "metadata": {},
      "outputs": [],
      "source": [
        "dataset = dataset[['type', 'flight_month', 'num_of_hours_taken', 'num_of_stops',\n",
        "       'distance_between_2_cities', 'airline_Air India', 'airline_Indigo',\n",
        "       'airline_Other_airline', 'airline_Vistara', 'source_Bangalore',\n",
        "       'source_Chennai', 'source_Delhi', 'source_Hyderabad', 'source_Kolkata',\n",
        "       'source_Mumbai', 'destination_Bangalore', 'destination_Chennai',\n",
        "       'destination_Delhi', 'destination_Hyderabad', 'destination_Kolkata',\n",
        "       'destination_Mumbai', 'week_day_of_flight_Saturday',\n",
        "       'week_day_of_flight_Sunday', 'week_day_of_flight_Thursday',\n",
        "       'week_day_of_flight_Tuesday', 'dep_time_Afternoon',\n",
        "       'dep_time_Early morning', 'dep_time_Evening', 'dep_time_Morning',\n",
        "       'arr_time_Afternoon', 'arr_time_Early morning', 'arr_time_Evening',\n",
        "       'arr_time_Morning','formatted_price']]"
      ]
    },
    {
      "cell_type": "code",
      "execution_count": 95,
      "metadata": {
        "id": "A5FjDAngc3eB"
      },
      "outputs": [],
      "source": [
        "label = dataset['formatted_price']\n",
        "dataset.drop(columns=['formatted_price'],axis=1,inplace=True)\n",
        "features = dataset.copy()"
      ]
    },
    {
      "cell_type": "code",
      "execution_count": 96,
      "metadata": {},
      "outputs": [
        {
          "name": "stdout",
          "output_type": "stream",
          "text": [
            "Using model:  BaggingRegressor\n",
            "Testing Score:  0.9638653151099412\n",
            "--------------------------\n",
            "Using model:  DesicionTreeRegressor\n",
            "Testing Score:  0.9606501828866634\n",
            "--------------------------\n",
            "Using model:  EnsembleRegressor\n",
            "Testing Score:  0.9660718248098504\n",
            "--------------------------\n",
            "Using model:  ExtraTreeRegressor\n",
            "Testing Score:  0.9616495808044131\n",
            "--------------------------\n",
            "Using model:  HistGradientBoostingRegressor\n",
            "Testing Score:  0.959755858506913\n",
            "--------------------------\n",
            "Using model:  LightGradientBoostingMachineRegressor\n",
            "Testing Score:  0.9598600115490242\n",
            "--------------------------\n",
            "Using model:  LinearRegressor\n",
            "Testing Score:  0.9082052307634532\n",
            "--------------------------\n",
            "Using model:  PoissonRegressor\n",
            "Testing Score:  0.9328286897698369\n",
            "--------------------------\n",
            "Using model:  RandomForestRegressor\n",
            "Testing Score:  0.9652625029469881\n",
            "--------------------------\n"
          ]
        }
      ],
      "source": [
        "saved_models_path = 'SavedModels'\n",
        "for model in os.listdir(saved_models_path):\n",
        "    model_name = model[:-3]\n",
        "    print(\"Using model: \", model_name)\n",
        "    regressor_path = os.path.join(saved_models_path,model)\n",
        "    regressor = joblib.load(regressor_path)\n",
        "    score = regressor.score(features,label)\n",
        "    print(\"Testing Score: \", score)\n",
        "    print(\"-\"*26)"
      ]
    }
  ],
  "metadata": {
    "colab": {
      "name": "Testing Script (regression).ipynb",
      "provenance": []
    },
    "interpreter": {
      "hash": "d9e597d76f347eda077f9ef8a5f38826a3a73c3d203b240e52eb93432ecfcf48"
    },
    "kernelspec": {
      "display_name": "Python 3.9.7 ('base')",
      "language": "python",
      "name": "python3"
    },
    "language_info": {
      "codemirror_mode": {
        "name": "ipython",
        "version": 3
      },
      "file_extension": ".py",
      "mimetype": "text/x-python",
      "name": "python",
      "nbconvert_exporter": "python",
      "pygments_lexer": "ipython3",
      "version": "3.9.7"
    }
  },
  "nbformat": 4,
  "nbformat_minor": 0
}
