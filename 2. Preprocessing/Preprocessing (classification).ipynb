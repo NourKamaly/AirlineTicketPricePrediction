{
 "cells": [
  {
   "cell_type": "code",
   "execution_count": null,
   "id": "189c1d2a",
   "metadata": {},
   "outputs": [],
   "source": [
    "from google.colab import drive\n",
    "drive.mount('/content/drive/')"
   ]
  },
  {
   "cell_type": "code",
   "execution_count": null,
   "id": "bbd8228e",
   "metadata": {},
   "outputs": [],
   "source": [
    "import numpy as np\n",
    "import pandas as pd\n",
    "from scipy import stats\n",
    "import scipy \n",
    "import matplotlib.pyplot as plt\n",
    "from sklearn.preprocessing import MinMaxScaler\n",
    "import ast\n",
    "from scipy.interpolate import make_interp_spline\n",
    "from sklearn import metrics\n",
    "import seaborn as sns\n",
    "from scipy.fft import fft,ifft\n",
    "import warnings\n",
    "warnings.filterwarnings(\"ignore\")"
   ]
  },
  {
   "cell_type": "code",
   "execution_count": null,
   "id": "1d5a2488",
   "metadata": {},
   "outputs": [],
   "source": [
    "dataset = pd.read_csv('/content/drive/MyDrive/Deep_learning/airline-price-prediction(raw_classification).csv')\n",
    "#dataset = pd.read_csv('airline-price-prediction.csv')\n",
    "dataset.head()"
   ]
  },
  {
   "cell_type": "code",
   "execution_count": null,
   "id": "cf09f0ff",
   "metadata": {},
   "outputs": [],
   "source": [
    "np.sum(dataset.duplicated())"
   ]
  },
  {
   "cell_type": "code",
   "execution_count": null,
   "id": "d8d6037e",
   "metadata": {},
   "outputs": [],
   "source": [
    "dataset.dtypes"
   ]
  },
  {
   "cell_type": "code",
   "execution_count": null,
   "id": "252bdbaa",
   "metadata": {},
   "outputs": [],
   "source": [
    "np.sum(dataset.isna())"
   ]
  }
 ],
 "metadata": {
  "kernelspec": {
   "display_name": "Python 3 (ipykernel)",
   "language": "python",
   "name": "python3"
  },
  "language_info": {
   "codemirror_mode": {
    "name": "ipython",
    "version": 3
   },
   "file_extension": ".py",
   "mimetype": "text/x-python",
   "name": "python",
   "nbconvert_exporter": "python",
   "pygments_lexer": "ipython3",
   "version": "3.9.7"
  }
 },
 "nbformat": 4,
 "nbformat_minor": 5
}
