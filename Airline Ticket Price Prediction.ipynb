{
 "cells": [
  {
   "cell_type": "code",
   "execution_count": 4,
   "id": "b4c43a55",
   "metadata": {},
   "outputs": [],
   "source": [
    "import pandas as pd\n",
    "import matplotlib.pyplot as plt\n",
    "import seaborn as sns"
   ]
  },
  {
   "cell_type": "code",
   "execution_count": 2,
   "id": "ec0ec362",
   "metadata": {},
   "outputs": [
    {
     "data": {
      "text/html": [
       "<div>\n",
       "<style scoped>\n",
       "    .dataframe tbody tr th:only-of-type {\n",
       "        vertical-align: middle;\n",
       "    }\n",
       "\n",
       "    .dataframe tbody tr th {\n",
       "        vertical-align: top;\n",
       "    }\n",
       "\n",
       "    .dataframe thead th {\n",
       "        text-align: right;\n",
       "    }\n",
       "</style>\n",
       "<table border=\"1\" class=\"dataframe\">\n",
       "  <thead>\n",
       "    <tr style=\"text-align: right;\">\n",
       "      <th></th>\n",
       "      <th>date</th>\n",
       "      <th>airline</th>\n",
       "      <th>ch_code</th>\n",
       "      <th>num_code</th>\n",
       "      <th>dep_time</th>\n",
       "      <th>time_taken</th>\n",
       "      <th>stop</th>\n",
       "      <th>arr_time</th>\n",
       "      <th>type</th>\n",
       "      <th>route</th>\n",
       "      <th>price</th>\n",
       "    </tr>\n",
       "  </thead>\n",
       "  <tbody>\n",
       "    <tr>\n",
       "      <th>0</th>\n",
       "      <td>5/3/2022</td>\n",
       "      <td>Vistara</td>\n",
       "      <td>UK</td>\n",
       "      <td>812</td>\n",
       "      <td>9:45</td>\n",
       "      <td>10h 10m</td>\n",
       "      <td>1-stop\\n\\t\\t\\t\\t\\t\\t\\t\\t\\t\\t\\t\\t\\n\\t\\t\\t\\t\\t\\t...</td>\n",
       "      <td>19:55</td>\n",
       "      <td>business</td>\n",
       "      <td>{'source': 'Bangalore', 'destination': 'Hydera...</td>\n",
       "      <td>56,588</td>\n",
       "    </tr>\n",
       "    <tr>\n",
       "      <th>1</th>\n",
       "      <td>18-03-2022</td>\n",
       "      <td>Vistara</td>\n",
       "      <td>UK</td>\n",
       "      <td>975</td>\n",
       "      <td>5:45</td>\n",
       "      <td>06h 30m</td>\n",
       "      <td>1-stop\\n\\t\\t\\t\\t\\t\\t\\t\\t\\t\\t\\t\\t\\n\\t\\t\\t\\t\\t\\t...</td>\n",
       "      <td>12:15</td>\n",
       "      <td>business</td>\n",
       "      <td>{'source': 'Delhi', 'destination': 'Hyderabad'}</td>\n",
       "      <td>59,649</td>\n",
       "    </tr>\n",
       "    <tr>\n",
       "      <th>2</th>\n",
       "      <td>9/3/2022</td>\n",
       "      <td>GO FIRST</td>\n",
       "      <td>G8</td>\n",
       "      <td>7537</td>\n",
       "      <td>14:30</td>\n",
       "      <td>08h 10m</td>\n",
       "      <td>1-stop\\n\\t\\t\\t\\t\\t\\t\\t\\t\\t\\t\\t\\t\\n\\t\\t\\t\\t\\t\\t...</td>\n",
       "      <td>22:40</td>\n",
       "      <td>economy</td>\n",
       "      <td>{'source': 'Mumbai', 'destination': 'Hyderabad'}</td>\n",
       "      <td>3,916</td>\n",
       "    </tr>\n",
       "    <tr>\n",
       "      <th>3</th>\n",
       "      <td>15-03-2022</td>\n",
       "      <td>GO FIRST</td>\n",
       "      <td>G8</td>\n",
       "      <td>287</td>\n",
       "      <td>10:40</td>\n",
       "      <td>09h 40m</td>\n",
       "      <td>1-stop\\n\\t\\t\\t\\t\\t\\t\\t\\t\\t\\t\\t\\t\\n\\t\\t\\t\\t\\t\\t...</td>\n",
       "      <td>20:20</td>\n",
       "      <td>economy</td>\n",
       "      <td>{'source': 'Mumbai', 'destination': 'Delhi'}</td>\n",
       "      <td>6,031</td>\n",
       "    </tr>\n",
       "    <tr>\n",
       "      <th>4</th>\n",
       "      <td>22-03-2022</td>\n",
       "      <td>Vistara</td>\n",
       "      <td>UK</td>\n",
       "      <td>826</td>\n",
       "      <td>12:30</td>\n",
       "      <td>07h 25m</td>\n",
       "      <td>1-stop\\n\\t\\t\\t\\t\\t\\t\\t\\t\\t\\t\\t\\t\\n\\t\\t\\t\\t\\t\\t...</td>\n",
       "      <td>19:55</td>\n",
       "      <td>economy</td>\n",
       "      <td>{'source': 'Chennai', 'destination': 'Kolkata'}</td>\n",
       "      <td>7,081</td>\n",
       "    </tr>\n",
       "    <tr>\n",
       "      <th>...</th>\n",
       "      <td>...</td>\n",
       "      <td>...</td>\n",
       "      <td>...</td>\n",
       "      <td>...</td>\n",
       "      <td>...</td>\n",
       "      <td>...</td>\n",
       "      <td>...</td>\n",
       "      <td>...</td>\n",
       "      <td>...</td>\n",
       "      <td>...</td>\n",
       "      <td>...</td>\n",
       "    </tr>\n",
       "    <tr>\n",
       "      <th>240203</th>\n",
       "      <td>25-03-2022</td>\n",
       "      <td>Air India</td>\n",
       "      <td>AI</td>\n",
       "      <td>430</td>\n",
       "      <td>9:55</td>\n",
       "      <td>09h 25m</td>\n",
       "      <td>1-stop\\n\\t\\t\\t\\t\\t\\t\\t\\t\\t\\t\\t\\t\\n\\t\\t\\t\\t\\t\\t...</td>\n",
       "      <td>19:20</td>\n",
       "      <td>economy</td>\n",
       "      <td>{'source': 'Chennai', 'destination': 'Hyderabad'}</td>\n",
       "      <td>3,979</td>\n",
       "    </tr>\n",
       "    <tr>\n",
       "      <th>240204</th>\n",
       "      <td>15-02-2022</td>\n",
       "      <td>Air India</td>\n",
       "      <td>AI</td>\n",
       "      <td>489</td>\n",
       "      <td>19:10</td>\n",
       "      <td>17h 20m</td>\n",
       "      <td>1-stop\\n\\t\\t\\t\\t\\t\\t\\t\\t\\t\\t\\t\\t\\n\\t\\t\\t\\t\\t\\t...</td>\n",
       "      <td>12:30</td>\n",
       "      <td>business</td>\n",
       "      <td>{'source': 'Delhi', 'destination': 'Kolkata'}</td>\n",
       "      <td>42,771</td>\n",
       "    </tr>\n",
       "    <tr>\n",
       "      <th>240205</th>\n",
       "      <td>23-02-2022</td>\n",
       "      <td>Indigo</td>\n",
       "      <td>6E</td>\n",
       "      <td>2036</td>\n",
       "      <td>22:50</td>\n",
       "      <td>02h 55m</td>\n",
       "      <td>non-stop</td>\n",
       "      <td>1:45</td>\n",
       "      <td>economy</td>\n",
       "      <td>{'source': 'Delhi', 'destination': 'Bangalore'}</td>\n",
       "      <td>7,425</td>\n",
       "    </tr>\n",
       "    <tr>\n",
       "      <th>240206</th>\n",
       "      <td>11/2/2022</td>\n",
       "      <td>Vistara</td>\n",
       "      <td>UK</td>\n",
       "      <td>813</td>\n",
       "      <td>17:35</td>\n",
       "      <td>28h 15m</td>\n",
       "      <td>1-stop\\n\\t\\t\\t\\t\\t\\t\\t\\t\\t\\t\\t\\t\\n\\t\\t\\t\\t\\t\\t...</td>\n",
       "      <td>21:50</td>\n",
       "      <td>economy</td>\n",
       "      <td>{'source': 'Delhi', 'destination': 'Mumbai'}</td>\n",
       "      <td>14,093</td>\n",
       "    </tr>\n",
       "    <tr>\n",
       "      <th>240207</th>\n",
       "      <td>18-02-2022</td>\n",
       "      <td>SpiceJet</td>\n",
       "      <td>SG</td>\n",
       "      <td>3835</td>\n",
       "      <td>20:10</td>\n",
       "      <td>19h 30m</td>\n",
       "      <td>1-stop\\n\\t\\t\\t\\t\\t\\t\\t\\t\\t\\t\\t\\t\\n\\t\\t\\t\\t\\t\\t...</td>\n",
       "      <td>15:40</td>\n",
       "      <td>economy</td>\n",
       "      <td>{'source': 'Kolkata', 'destination': 'Hyderabad'}</td>\n",
       "      <td>6,488</td>\n",
       "    </tr>\n",
       "  </tbody>\n",
       "</table>\n",
       "<p>240208 rows × 11 columns</p>\n",
       "</div>"
      ],
      "text/plain": [
       "              date    airline ch_code  num_code dep_time time_taken  \\\n",
       "0         5/3/2022    Vistara      UK       812     9:45    10h 10m   \n",
       "1       18-03-2022    Vistara      UK       975     5:45    06h 30m   \n",
       "2         9/3/2022   GO FIRST      G8      7537    14:30    08h 10m   \n",
       "3       15-03-2022   GO FIRST      G8       287    10:40    09h 40m   \n",
       "4       22-03-2022    Vistara      UK       826    12:30    07h 25m   \n",
       "...            ...        ...     ...       ...      ...        ...   \n",
       "240203  25-03-2022  Air India      AI       430     9:55    09h 25m   \n",
       "240204  15-02-2022  Air India      AI       489    19:10    17h 20m   \n",
       "240205  23-02-2022     Indigo      6E      2036    22:50    02h 55m   \n",
       "240206   11/2/2022    Vistara      UK       813    17:35    28h 15m   \n",
       "240207  18-02-2022   SpiceJet      SG      3835    20:10    19h 30m   \n",
       "\n",
       "                                                     stop arr_time      type  \\\n",
       "0       1-stop\\n\\t\\t\\t\\t\\t\\t\\t\\t\\t\\t\\t\\t\\n\\t\\t\\t\\t\\t\\t...    19:55  business   \n",
       "1       1-stop\\n\\t\\t\\t\\t\\t\\t\\t\\t\\t\\t\\t\\t\\n\\t\\t\\t\\t\\t\\t...    12:15  business   \n",
       "2       1-stop\\n\\t\\t\\t\\t\\t\\t\\t\\t\\t\\t\\t\\t\\n\\t\\t\\t\\t\\t\\t...    22:40   economy   \n",
       "3       1-stop\\n\\t\\t\\t\\t\\t\\t\\t\\t\\t\\t\\t\\t\\n\\t\\t\\t\\t\\t\\t...    20:20   economy   \n",
       "4       1-stop\\n\\t\\t\\t\\t\\t\\t\\t\\t\\t\\t\\t\\t\\n\\t\\t\\t\\t\\t\\t...    19:55   economy   \n",
       "...                                                   ...      ...       ...   \n",
       "240203  1-stop\\n\\t\\t\\t\\t\\t\\t\\t\\t\\t\\t\\t\\t\\n\\t\\t\\t\\t\\t\\t...    19:20   economy   \n",
       "240204  1-stop\\n\\t\\t\\t\\t\\t\\t\\t\\t\\t\\t\\t\\t\\n\\t\\t\\t\\t\\t\\t...    12:30  business   \n",
       "240205                                          non-stop      1:45   economy   \n",
       "240206  1-stop\\n\\t\\t\\t\\t\\t\\t\\t\\t\\t\\t\\t\\t\\n\\t\\t\\t\\t\\t\\t...    21:50   economy   \n",
       "240207  1-stop\\n\\t\\t\\t\\t\\t\\t\\t\\t\\t\\t\\t\\t\\n\\t\\t\\t\\t\\t\\t...    15:40   economy   \n",
       "\n",
       "                                                    route   price  \n",
       "0       {'source': 'Bangalore', 'destination': 'Hydera...  56,588  \n",
       "1         {'source': 'Delhi', 'destination': 'Hyderabad'}  59,649  \n",
       "2        {'source': 'Mumbai', 'destination': 'Hyderabad'}   3,916  \n",
       "3            {'source': 'Mumbai', 'destination': 'Delhi'}   6,031  \n",
       "4         {'source': 'Chennai', 'destination': 'Kolkata'}   7,081  \n",
       "...                                                   ...     ...  \n",
       "240203  {'source': 'Chennai', 'destination': 'Hyderabad'}   3,979  \n",
       "240204      {'source': 'Delhi', 'destination': 'Kolkata'}  42,771  \n",
       "240205    {'source': 'Delhi', 'destination': 'Bangalore'}   7,425  \n",
       "240206       {'source': 'Delhi', 'destination': 'Mumbai'}  14,093  \n",
       "240207  {'source': 'Kolkata', 'destination': 'Hyderabad'}   6,488  \n",
       "\n",
       "[240208 rows x 11 columns]"
      ]
     },
     "execution_count": 2,
     "metadata": {},
     "output_type": "execute_result"
    }
   ],
   "source": [
    "dataset = pd.read_csv(\"airline-price-prediction.csv\")\n",
    "dataset"
   ]
  },
  {
   "cell_type": "code",
   "execution_count": 6,
   "id": "f4c91787",
   "metadata": {},
   "outputs": [
    {
     "data": {
      "text/plain": [
       "<seaborn.axisgrid.FacetGrid at 0x140af751fd0>"
      ]
     },
     "execution_count": 6,
     "metadata": {},
     "output_type": "execute_result"
    },
    {
     "data": {
      "image/png": "[encoded data removed]",
      "text/plain": [
       "<Figure size 441.5x360 with 1 Axes>"
      ]
     },
     "metadata": {
      "needs_background": "light"
     },
     "output_type": "display_data"
    }
   ],
   "source": [
    "sns.catplot(x = 'airline', hue = 'type',data = dataset, kind = 'count')"
   ]
  },
  {
   "cell_type": "code",
   "execution_count": 7,
   "id": "598641fb",
   "metadata": {},
   "outputs": [
    {
     "data": {
      "text/plain": [
       "<seaborn.axisgrid.FacetGrid at 0x140a71048e0>"
      ]
     },
     "execution_count": 7,
     "metadata": {},
     "output_type": "execute_result"
    },
    {
     "data": {
      "image/png": "[encoded data removed]",
      "text/plain": [
       "<Figure size 441.5x360 with 1 Axes>"
      ]
     },
     "metadata": {
      "needs_background": "light"
     },
     "output_type": "display_data"
    }
   ],
   "source": [
    "sns.catplot(x = 'ch_code', hue = 'type',data = dataset, kind = 'count')"
   ]
  },
  {
   "cell_type": "code",
   "execution_count": null,
   "id": "63106e5a",
   "metadata": {},
   "outputs": [],
   "source": []
  },
  {
   "cell_type": "markdown",
   "id": "63e45b5c",
   "metadata": {},
   "source": [
    "Class imbalance "
   ]
  },
  {
   "cell_type": "code",
   "execution_count": 10,
   "id": "09f64e05",
   "metadata": {},
   "outputs": [
    {
     "name": "stdout",
     "output_type": "stream",
     "text": [
      "economy     165562\n",
      "business     74646\n",
      "Name: type, dtype: int64\n"
     ]
    }
   ],
   "source": [
    "print(dataset.type.value_counts())"
   ]
  },
  {
   "cell_type": "markdown",
   "id": "3a6a1abe",
   "metadata": {},
   "source": [
    "print(dataset.stop.value_counts())"
   ]
  },
  {
   "cell_type": "code",
   "execution_count": 11,
   "id": "71b26aa1",
   "metadata": {},
   "outputs": [
    {
     "name": "stdout",
     "output_type": "stream",
     "text": [
      "1-stop\\n\\t\\t\\t\\t\\t\\t\\t\\t\\t\\t\\t\\t\\n\\t\\t\\t\\t\\t\\t\\t\\t\\t\\t\\t\\t                      194814\n",
      "non-stop                                                                         28944\n",
      "2+-stop                                                                          10612\n",
      "1-stop\\n\\t\\t\\t\\t\\t\\t\\t\\t\\t\\t\\t\\tVia IXU\\n\\t\\t\\t\\t\\t\\t\\t\\t\\t\\t\\t\\t                 1487\n",
      "1-stop\\n\\t\\t\\t\\t\\t\\t\\t\\t\\t\\t\\t\\tVia IDR\\n\\t\\t\\t\\t\\t\\t\\t\\t\\t\\t\\t\\t                 1099\n",
      "1-stop\\n\\t\\t\\t\\t\\t\\t\\t\\t\\t\\t\\t\\tVia Patna\\n\\t\\t\\t\\t\\t\\t\\t\\t\\t\\t\\t\\t                559\n",
      "1-stop\\n\\t\\t\\t\\t\\t\\t\\t\\t\\t\\t\\t\\tVia Indore\\n\\t\\t\\t\\t\\t\\t\\t\\t\\t\\t\\t\\t               299\n",
      "1-stop\\n\\t\\t\\t\\t\\t\\t\\t\\t\\t\\t\\t\\tVia PAT\\n\\t\\t\\t\\t\\t\\t\\t\\t\\t\\t\\t\\t                  273\n",
      "1-stop\\n\\t\\t\\t\\t\\t\\t\\t\\t\\t\\t\\t\\tVia MYQ\\n\\t\\t\\t\\t\\t\\t\\t\\t\\t\\t\\t\\t                  267\n",
      "1-stop\\n\\t\\t\\t\\t\\t\\t\\t\\t\\t\\t\\t\\tVia Bhubaneswar\\n\\t\\t\\t\\t\\t\\t\\t\\t\\t\\t\\t\\t          248\n",
      "1-stop\\n\\t\\t\\t\\t\\t\\t\\t\\t\\t\\t\\t\\tVia KLH\\n\\t\\t\\t\\t\\t\\t\\t\\t\\t\\t\\t\\t                  231\n",
      "1-stop\\n\\t\\t\\t\\t\\t\\t\\t\\t\\t\\t\\t\\tVia JGB\\n\\t\\t\\t\\t\\t\\t\\t\\t\\t\\t\\t\\t                  149\n",
      "1-stop\\n\\t\\t\\t\\t\\t\\t\\t\\t\\t\\t\\t\\tVia JRG\\n\\t\\t\\t\\t\\t\\t\\t\\t\\t\\t\\t\\t                  135\n",
      "1-stop\\n\\t\\t\\t\\t\\t\\t\\t\\t\\t\\t\\t\\tVia STV\\n\\t\\t\\t\\t\\t\\t\\t\\t\\t\\t\\t\\t                  129\n",
      "1-stop\\n\\t\\t\\t\\t\\t\\t\\t\\t\\t\\t\\t\\tVia Delhi\\n\\t\\t\\t\\t\\t\\t\\t\\t\\t\\t\\t\\t                123\n",
      "1-stop\\n\\t\\t\\t\\t\\t\\t\\t\\t\\t\\t\\t\\tVia BBI\\n\\t\\t\\t\\t\\t\\t\\t\\t\\t\\t\\t\\t                  119\n",
      "1-stop\\n\\t\\t\\t\\t\\t\\t\\t\\t\\t\\t\\t\\tVia Hyderabad\\n\\t\\t\\t\\t\\t\\t\\t\\t\\t\\t\\t\\t            107\n",
      "1-stop\\n\\t\\t\\t\\t\\t\\t\\t\\t\\t\\t\\t\\tVia IXE\\n\\t\\t\\t\\t\\t\\t\\t\\t\\t\\t\\t\\t                   91\n",
      "1-stop\\n\\t\\t\\t\\t\\t\\t\\t\\t\\t\\t\\t\\tVia Ranchi\\n\\t\\t\\t\\t\\t\\t\\t\\t\\t\\t\\t\\t                86\n",
      "1-stop\\n\\t\\t\\t\\t\\t\\t\\t\\t\\t\\t\\t\\tVia Raipur\\n\\t\\t\\t\\t\\t\\t\\t\\t\\t\\t\\t\\t                78\n",
      "1-stop\\n\\t\\t\\t\\t\\t\\t\\t\\t\\t\\t\\t\\tVia Chennai\\n\\t\\t\\t\\t\\t\\t\\t\\t\\t\\t\\t\\t               64\n",
      "1-stop\\n\\t\\t\\t\\t\\t\\t\\t\\t\\t\\t\\t\\tVia Guwahati\\n\\t\\t\\t\\t\\t\\t\\t\\t\\t\\t\\t\\t              46\n",
      "1-stop\\n\\t\\t\\t\\t\\t\\t\\t\\t\\t\\t\\t\\tVia Mangalore\\n\\t\\t\\t\\t\\t\\t\\t\\t\\t\\t\\t\\t             35\n",
      "1-stop\\n\\t\\t\\t\\t\\t\\t\\t\\t\\t\\t\\t\\tVia Mysore\\n\\t\\t\\t\\t\\t\\t\\t\\t\\t\\t\\t\\t                33\n",
      "1-stop\\n\\t\\t\\t\\t\\t\\t\\t\\t\\t\\t\\t\\tVia Mumbai\\n\\t\\t\\t\\t\\t\\t\\t\\t\\t\\t\\t\\t                27\n",
      "1-stop\\n\\t\\t\\t\\t\\t\\t\\t\\t\\t\\t\\t\\tVia VTZ\\n\\t\\t\\t\\t\\t\\t\\t\\t\\t\\t\\t\\t                   22\n",
      "1-stop\\n\\t\\t\\t\\t\\t\\t\\t\\t\\t\\t\\t\\tVia Nagpur\\n\\t\\t\\t\\t\\t\\t\\t\\t\\t\\t\\t\\t                21\n",
      "1-stop\\n\\t\\t\\t\\t\\t\\t\\t\\t\\t\\t\\t\\tVia Kolkata\\n\\t\\t\\t\\t\\t\\t\\t\\t\\t\\t\\t\\t               18\n",
      "1-stop\\n\\t\\t\\t\\t\\t\\t\\t\\t\\t\\t\\t\\tVia NDC\\n\\t\\t\\t\\t\\t\\t\\t\\t\\t\\t\\t\\t                   17\n",
      "1-stop\\n\\t\\t\\t\\t\\t\\t\\t\\t\\t\\t\\t\\tVia RPR\\n\\t\\t\\t\\t\\t\\t\\t\\t\\t\\t\\t\\t                   16\n",
      "1-stop\\n\\t\\t\\t\\t\\t\\t\\t\\t\\t\\t\\t\\tVia Lucknow\\n\\t\\t\\t\\t\\t\\t\\t\\t\\t\\t\\t\\t               11\n",
      "1-stop\\n\\t\\t\\t\\t\\t\\t\\t\\t\\t\\t\\t\\tVia Surat\\n\\t\\t\\t\\t\\t\\t\\t\\t\\t\\t\\t\\t                 11\n",
      "1-stop\\n\\t\\t\\t\\t\\t\\t\\t\\t\\t\\t\\t\\tVia GOP\\n\\t\\t\\t\\t\\t\\t\\t\\t\\t\\t\\t\\t                   10\n",
      "1-stop\\n\\t\\t\\t\\t\\t\\t\\t\\t\\t\\t\\t\\tVia Vishakhapatnam\\n\\t\\t\\t\\t\\t\\t\\t\\t\\t\\t\\t\\t         7\n",
      "1-stop\\n\\t\\t\\t\\t\\t\\t\\t\\t\\t\\t\\t\\tVia NAG\\n\\t\\t\\t\\t\\t\\t\\t\\t\\t\\t\\t\\t                    7\n",
      "1-stop\\n\\t\\t\\t\\t\\t\\t\\t\\t\\t\\t\\t\\tVia Kolhapur\\n\\t\\t\\t\\t\\t\\t\\t\\t\\t\\t\\t\\t               4\n",
      "1-stop\\n\\t\\t\\t\\t\\t\\t\\t\\t\\t\\t\\t\\tVia GAU\\n\\t\\t\\t\\t\\t\\t\\t\\t\\t\\t\\t\\t                    3\n",
      "1-stop\\n\\t\\t\\t\\t\\t\\t\\t\\t\\t\\t\\t\\tVia IXR\\n\\t\\t\\t\\t\\t\\t\\t\\t\\t\\t\\t\\t                    3\n",
      "1-stop\\n\\t\\t\\t\\t\\t\\t\\t\\t\\t\\t\\t\\tVia GAY\\n\\t\\t\\t\\t\\t\\t\\t\\t\\t\\t\\t\\t                    2\n",
      "1-stop\\n\\t\\t\\t\\t\\t\\t\\t\\t\\t\\t\\t\\tVia HYD\\n\\t\\t\\t\\t\\t\\t\\t\\t\\t\\t\\t\\t                    1\n",
      "Name: stop, dtype: int64\n"
     ]
    }
   ],
   "source": [
    "print(dataset.stop.value_counts())"
   ]
  },
  {
   "cell_type": "code",
   "execution_count": 12,
   "id": "4fc35258",
   "metadata": {},
   "outputs": [
    {
     "name": "stdout",
     "output_type": "stream",
     "text": [
      "Vistara      102177\n",
      "Air India     64754\n",
      "Indigo        34571\n",
      "GO FIRST      18621\n",
      "AirAsia       12785\n",
      "SpiceJet       7216\n",
      "StarAir          48\n",
      "Trujet           36\n",
      "Name: airline, dtype: int64\n"
     ]
    }
   ],
   "source": [
    "print(dataset.airline.value_counts())"
   ]
  },
  {
   "cell_type": "code",
   "execution_count": null,
   "id": "fbf4babb",
   "metadata": {},
   "outputs": [],
   "source": []
  }
 ],
 "metadata": {
  "kernelspec": {
   "display_name": "Python 3 (ipykernel)",
   "language": "python",
   "name": "python3"
  },
  "language_info": {
   "codemirror_mode": {
    "name": "ipython",
    "version": 3
   },
   "file_extension": ".py",
   "mimetype": "text/x-python",
   "name": "python",
   "nbconvert_exporter": "python",
   "pygments_lexer": "ipython3",
   "version": "3.9.7"
  }
 },
 "nbformat": 4,
 "nbformat_minor": 5
}
